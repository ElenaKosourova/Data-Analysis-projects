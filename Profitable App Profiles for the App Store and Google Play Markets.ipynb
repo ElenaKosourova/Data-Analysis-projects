{
 "cells": [
  {
   "cell_type": "markdown",
   "metadata": {
    "collapsed": true
   },
   "source": [
    "# Profitable App Profiles for the App Store and Google Play Markets\n",
    "## Introduction\n",
    "The aim of this project is to identify profitable Android (Google Play) and iOS (the App Store) mobile apps.\n",
    "\n",
    "The apps in consideration are free to download and install, and the main source of the company's revenue consists of in-app ads. This means the revenue for any given app is mostly influenced by the number of its users - the more users that see and engage with the ads, the better. Hence it is necessary to analyze available data to understand what type of apps are likely to attract more users both on Google Play and the App Store.\n",
    "## 1. Data Collection and Exploration\n",
    "As of [September 2018](https://www.statista.com/statistics/276623/number-of-apps-available-in-leading-app-stores/), there were approximately 2 million iOS apps available on the App Store, and 2.1 million Android apps on Google Play.\n",
    "\n",
    "Collecting data for over 4 million apps requires a significant amount of time and money, so we'll try first to analyze a sample of the data instead, to see if we can find any relevant existing data at no cost. For this purpose, there are 2 data sets available in the form of CSV files:\n",
    "\n",
    "- [Android apps data set](https://www.kaggle.com/lava18/google-play-store-apps) contains data about approximately 10,000 Android apps from Google Play; the data was collected in August 2018.\n",
    "- [IOS apps data set](https://www.kaggle.com/ramamet4/app-store-apple-data-set-10k-apps) contains data about approximately 7,000 iOS apps from the App Store; the data was collected in July 2017. \n",
    "\n",
    "To open and explore these two data sets, a function `explore_data()` was created:"
   ]
  },
  {
   "cell_type": "code",
   "execution_count": 204,
   "metadata": {
    "collapsed": true
   },
   "outputs": [],
   "source": [
    "def explore_data(dataset, start, end, rows_and_columns=False):\n",
    "    dataset_slice = dataset[start:end]    \n",
    "    for row in dataset_slice:\n",
    "        print(row)\n",
    "        print('\\n') # adds a new (empty) line after each row\n",
    "\n",
    "    if rows_and_columns:\n",
    "        print('Number of rows:', len(dataset))\n",
    "        print('Number of columns:', len(dataset[0]))"
   ]
  },
  {
   "cell_type": "code",
   "execution_count": 205,
   "metadata": {
    "collapsed": false
   },
   "outputs": [],
   "source": [
    "from csv import reader\n",
    "\n",
    "# Creating a function for opening data sets and saving them as lists of lists\n",
    "def csv_to_list(file):\n",
    "    opened_file = open(file)\n",
    "    read_file = reader(opened_file)\n",
    "    rows = list(read_file)\n",
    "    rows_header = rows[0]\n",
    "    rows = rows[1:]\n",
    "    return rows, rows_header\n",
    "\n",
    "# Opening Android and iOS apps data sets\n",
    "android, android_header = csv_to_list('googleplaystore.csv')\n",
    "ios, ios_header = csv_to_list('AppleStore.csv')"
   ]
  },
  {
   "cell_type": "code",
   "execution_count": 206,
   "metadata": {
    "collapsed": false
   },
   "outputs": [
    {
     "name": "stdout",
     "output_type": "stream",
     "text": [
      "['Photo Editor & Candy Camera & Grid & ScrapBook', 'ART_AND_DESIGN', '4.1', '159', '19M', '10,000+', 'Free', '0', 'Everyone', 'Art & Design', 'January 7, 2018', '1.0.0', '4.0.3 and up']\n",
      "\n",
      "\n",
      "['Coloring book moana', 'ART_AND_DESIGN', '3.9', '967', '14M', '500,000+', 'Free', '0', 'Everyone', 'Art & Design;Pretend Play', 'January 15, 2018', '2.0.0', '4.0.3 and up']\n",
      "\n",
      "\n",
      "['U Launcher Lite – FREE Live Cool Themes, Hide Apps', 'ART_AND_DESIGN', '4.7', '87510', '8.7M', '5,000,000+', 'Free', '0', 'Everyone', 'Art & Design', 'August 1, 2018', '1.2.4', '4.0.3 and up']\n",
      "\n",
      "\n",
      "Number of rows: 10841\n",
      "Number of columns: 13\n"
     ]
    }
   ],
   "source": [
    "explore_data(dataset = android, start = 0, end = 3, rows_and_columns = True)"
   ]
  },
  {
   "cell_type": "code",
   "execution_count": 207,
   "metadata": {
    "collapsed": false
   },
   "outputs": [
    {
     "name": "stdout",
     "output_type": "stream",
     "text": [
      "['284882215', 'Facebook', '389879808', 'USD', '0.0', '2974676', '212', '3.5', '3.5', '95.0', '4+', 'Social Networking', '37', '1', '29', '1']\n",
      "\n",
      "\n",
      "['389801252', 'Instagram', '113954816', 'USD', '0.0', '2161558', '1289', '4.5', '4.0', '10.23', '12+', 'Photo & Video', '37', '0', '29', '1']\n",
      "\n",
      "\n",
      "['529479190', 'Clash of Clans', '116476928', 'USD', '0.0', '2130805', '579', '4.5', '4.5', '9.24.12', '9+', 'Games', '38', '5', '18', '1']\n",
      "\n",
      "\n",
      "Number of rows: 7197\n",
      "Number of columns: 16\n"
     ]
    }
   ],
   "source": [
    "explore_data(dataset = ios, start = 0, end = 3, rows_and_columns = True)"
   ]
  },
  {
   "cell_type": "code",
   "execution_count": 208,
   "metadata": {
    "collapsed": false
   },
   "outputs": [
    {
     "name": "stdout",
     "output_type": "stream",
     "text": [
      "['App', 'Category', 'Rating', 'Reviews', 'Size', 'Installs', 'Type', 'Price', 'Content Rating', 'Genres', 'Last Updated', 'Current Ver', 'Android Ver']\n",
      "\n",
      "\n",
      "['id', 'track_name', 'size_bytes', 'currency', 'price', 'rating_count_tot', 'rating_count_ver', 'user_rating', 'user_rating_ver', 'ver', 'cont_rating', 'prime_genre', 'sup_devices.num', 'ipadSc_urls.num', 'lang.num', 'vpp_lic']\n"
     ]
    }
   ],
   "source": [
    "# Android data set columns\n",
    "print(android_header)\n",
    "\n",
    "print('\\n')\n",
    "\n",
    "# iOS data set columns\n",
    "print(ios_header)"
   ]
  },
  {
   "cell_type": "markdown",
   "metadata": {},
   "source": [
    "The Google Play  data set (Android apps) contains 10,841 apps and 13 columns. The most informative columns for us seem to be the following: `'App'`, `'Category'`, `'Rating'`, `'Reviews'`, `'Installs'`, `'Type'`, `'Price'`, `'Content Rating'` and `'Genres'`.\n",
    "\n",
    "The App Store data set (iOS apps) contains 7,197 apps and 16 columns. The columns potentially useful for our data analysis might be the following: `'track_name'`, `'currency'`, `'price'`, `'rating_count_tot'`, `'rating_count_ver'`, `'user_rating'`, `'user_rating_ver'`, `'cont_rating'` and `'prime_genre'`.\n",
    "\n",
    "For further details about both data sets and the meaning of each column, the corresponding data set documentation can be addressed: \n",
    "[Android apps data set](https://www.kaggle.com/lava18/google-play-store-apps) and [iOS apps data set](https://www.kaggle.com/ramamet4/app-store-apple-data-set-10k-apps).\n",
    "## 2. Data Cleaning\n",
    "### 2.1. Deleting Wrong Data\n",
    "For both data sets discussion sections are available here: [for Google Play](https://www.kaggle.com/lava18/google-play-store-apps/discussion) and [for the App Store](https://www.kaggle.com/ramamet4/app-store-apple-data-set-10k-apps/discussion). In the discussion section dedicated to **Google Play data set** in [one of the topics](https://www.kaggle.com/lava18/google-play-store-apps/discussion/66015) it was reported a wrong value for the row 10,472 (missing `'Rating'` and a column shift for next columns)."
   ]
  },
  {
   "cell_type": "code",
   "execution_count": 209,
   "metadata": {
    "collapsed": false
   },
   "outputs": [
    {
     "name": "stdout",
     "output_type": "stream",
     "text": [
      "['App', 'Category', 'Rating', 'Reviews', 'Size', 'Installs', 'Type', 'Price', 'Content Rating', 'Genres', 'Last Updated', 'Current Ver', 'Android Ver']\n",
      "\n",
      "\n",
      "['Life Made WI-Fi Touchscreen Photo Frame', '1.9', '19', '3.0M', '1,000+', 'Free', '0', 'Everyone', '', 'February 11, 2018', '1.0.19', '4.0 and up']\n"
     ]
    }
   ],
   "source": [
    "print(android_header)\n",
    "print('\\n')\n",
    "print(android[10472])"
   ]
  },
  {
   "cell_type": "markdown",
   "metadata": {},
   "source": [
    "Inspecting the reported row, we can see that the missing value is actually not `'Rating'` but `'Category'`, and also for `'Genres'` there is no value. For comparison, let's check some other row of this data set:"
   ]
  },
  {
   "cell_type": "code",
   "execution_count": 210,
   "metadata": {
    "collapsed": false
   },
   "outputs": [
    {
     "name": "stdout",
     "output_type": "stream",
     "text": [
      "['App', 'Category', 'Rating', 'Reviews', 'Size', 'Installs', 'Type', 'Price', 'Content Rating', 'Genres', 'Last Updated', 'Current Ver', 'Android Ver']\n",
      "\n",
      "\n",
      "['Paper flowers instructions', 'ART_AND_DESIGN', '4.4', '167', '5.6M', '50,000+', 'Free', '0', 'Everyone', 'Art & Design', 'March 26, 2017', '1.0', '2.3 and up']\n"
     ]
    }
   ],
   "source": [
    "print(android_header)\n",
    "print('\\n')\n",
    "print(android[5])"
   ]
  },
  {
   "cell_type": "markdown",
   "metadata": {},
   "source": [
    "Hence the row 10,472 indeed has a missing value for `'Category'`, empty cell  for `'Genres'`, and all the values in between are shifted to the left. This row has to be removed from the data set:"
   ]
  },
  {
   "cell_type": "code",
   "execution_count": 211,
   "metadata": {
    "collapsed": true
   },
   "outputs": [],
   "source": [
    "del android[10472]"
   ]
  },
  {
   "cell_type": "markdown",
   "metadata": {},
   "source": [
    "### 2.2. Deleting Duplicates\n",
    "Exploring the **Google Play data set**, it was discovered that some apps have duplicate entries. For instance, Instagram has 4 entries:"
   ]
  },
  {
   "cell_type": "code",
   "execution_count": 212,
   "metadata": {
    "collapsed": false
   },
   "outputs": [
    {
     "name": "stdout",
     "output_type": "stream",
     "text": [
      "['Instagram', 'SOCIAL', '4.5', '66577313', 'Varies with device', '1,000,000,000+', 'Free', '0', 'Teen', 'Social', 'July 31, 2018', 'Varies with device', 'Varies with device']\n",
      "['Instagram', 'SOCIAL', '4.5', '66577446', 'Varies with device', '1,000,000,000+', 'Free', '0', 'Teen', 'Social', 'July 31, 2018', 'Varies with device', 'Varies with device']\n",
      "['Instagram', 'SOCIAL', '4.5', '66577313', 'Varies with device', '1,000,000,000+', 'Free', '0', 'Teen', 'Social', 'July 31, 2018', 'Varies with device', 'Varies with device']\n",
      "['Instagram', 'SOCIAL', '4.5', '66509917', 'Varies with device', '1,000,000,000+', 'Free', '0', 'Teen', 'Social', 'July 31, 2018', 'Varies with device', 'Varies with device']\n"
     ]
    }
   ],
   "source": [
    "for app in android:\n",
    "    name = app[0]\n",
    "    if  name == 'Instagram':\n",
    "        print(app)"
   ]
  },
  {
   "cell_type": "markdown",
   "metadata": {
    "collapsed": true
   },
   "source": [
    "In total, there are 1,181 cases where an app occurs more than once:"
   ]
  },
  {
   "cell_type": "code",
   "execution_count": 213,
   "metadata": {
    "collapsed": false
   },
   "outputs": [
    {
     "name": "stdout",
     "output_type": "stream",
     "text": [
      "Number of duplicate apps: 1181\n",
      "\n",
      "\n",
      "Examples of duplicate apps: ['Quick PDF Scanner + OCR FREE', 'Box', 'Google My Business', 'ZOOM Cloud Meetings', 'join.me - Simple Meetings', 'Box', 'Zenefits', 'Google Ads', 'Google My Business', 'Slack', 'FreshBooks Classic', 'Insightly CRM', 'QuickBooks Accounting: Invoicing & Expenses', 'HipChat - Chat Built for Teams', 'Xero Accounting Software']\n"
     ]
    }
   ],
   "source": [
    "# Creating the lists of duplicate apps and unique apps\n",
    "duplicate_apps = []\n",
    "unique_apps = []\n",
    "\n",
    "for app in android:\n",
    "    name = app[0]\n",
    "    if name in unique_apps:\n",
    "        duplicate_apps.append(name)\n",
    "    else:\n",
    "        unique_apps.append(name)\n",
    "        \n",
    "print('Number of duplicate apps:', len(duplicate_apps))\n",
    "print('\\n')\n",
    "print('Examples of duplicate apps:', duplicate_apps[:15])"
   ]
  },
  {
   "cell_type": "markdown",
   "metadata": {},
   "source": [
    "We need to remove the duplicate entries and keep only one entry per app. One thing we could do is remove the duplicate rows randomly, but we could probably find a better way.\n",
    "\n",
    "Returning to the rows we printed for the Instagram app, the main difference happens on the 4th position of each row, which corresponds to the number of reviews. The different numbers show the data was collected at different times:"
   ]
  },
  {
   "cell_type": "code",
   "execution_count": 214,
   "metadata": {
    "collapsed": false
   },
   "outputs": [
    {
     "name": "stdout",
     "output_type": "stream",
     "text": [
      "['Instagram', 'SOCIAL', '4.5', '66577313', 'Varies with device', '1,000,000,000+', 'Free', '0', 'Teen', 'Social', 'July 31, 2018', 'Varies with device', 'Varies with device']\n",
      "['Instagram', 'SOCIAL', '4.5', '66577446', 'Varies with device', '1,000,000,000+', 'Free', '0', 'Teen', 'Social', 'July 31, 2018', 'Varies with device', 'Varies with device']\n",
      "['Instagram', 'SOCIAL', '4.5', '66577313', 'Varies with device', '1,000,000,000+', 'Free', '0', 'Teen', 'Social', 'July 31, 2018', 'Varies with device', 'Varies with device']\n",
      "['Instagram', 'SOCIAL', '4.5', '66509917', 'Varies with device', '1,000,000,000+', 'Free', '0', 'Teen', 'Social', 'July 31, 2018', 'Varies with device', 'Varies with device']\n"
     ]
    }
   ],
   "source": [
    "for app in android:\n",
    "    name = app[0]\n",
    "    if  name == 'Instagram':\n",
    "        print(app)"
   ]
  },
  {
   "cell_type": "markdown",
   "metadata": {},
   "source": [
    "We can use this information to build a criterion for removing the duplicates. The higher the number of reviews, the more recent the data should be. Rather than removing duplicates randomly, we'll only keep the row with the highest number of reviews and remove the other entries for any given app."
   ]
  },
  {
   "cell_type": "code",
   "execution_count": 215,
   "metadata": {
    "collapsed": false
   },
   "outputs": [],
   "source": [
    "# Creating a dictionary with the highest number of reviews for each app\n",
    "reviews_max = {}\n",
    "for app in android:\n",
    "    name = app[0]\n",
    "    number_reviews = float(app[3])\n",
    "    if (name in reviews_max and reviews_max[name] < number_reviews) or name not in reviews_max:\n",
    "        reviews_max[name] = number_reviews     "
   ]
  },
  {
   "cell_type": "markdown",
   "metadata": {},
   "source": [
    "Given that in the Google Play data set 1,181 duplicates were detected, after we remove the duplicates, we should be left with 9,659 rows. We expect also the length of the dictionary to be equal to 9,659:"
   ]
  },
  {
   "cell_type": "code",
   "execution_count": 216,
   "metadata": {
    "collapsed": false
   },
   "outputs": [
    {
     "name": "stdout",
     "output_type": "stream",
     "text": [
      "Expected length: 9659\n",
      "Actual length: 9659\n"
     ]
    }
   ],
   "source": [
    "print('Expected length:', len(android) - 1181)\n",
    "print('Actual length:', len(reviews_max))"
   ]
  },
  {
   "cell_type": "code",
   "execution_count": 217,
   "metadata": {
    "collapsed": true
   },
   "outputs": [],
   "source": [
    "#  Creating a new data set without duplicates (one entry per app)\n",
    "android_clean = []\n",
    "already_added = []\n",
    "for app in android:\n",
    "    name = app[0]\n",
    "    number_reviews = float(app[3])\n",
    "    if (number_reviews == reviews_max[name]) and (name not in already_added):\n",
    "        android_clean.append(app)\n",
    "        already_added.append(name)"
   ]
  },
  {
   "cell_type": "markdown",
   "metadata": {},
   "source": [
    "Checking the length of the resulting data set (again, expected value is 9,659):"
   ]
  },
  {
   "cell_type": "code",
   "execution_count": 218,
   "metadata": {
    "collapsed": false
   },
   "outputs": [
    {
     "name": "stdout",
     "output_type": "stream",
     "text": [
      "9659\n"
     ]
    }
   ],
   "source": [
    "print(len(android_clean))"
   ]
  },
  {
   "cell_type": "code",
   "execution_count": 219,
   "metadata": {
    "collapsed": false
   },
   "outputs": [
    {
     "name": "stdout",
     "output_type": "stream",
     "text": [
      "[['Photo Editor & Candy Camera & Grid & ScrapBook', 'ART_AND_DESIGN', '4.1', '159', '19M', '10,000+', 'Free', '0', 'Everyone', 'Art & Design', 'January 7, 2018', '1.0.0', '4.0.3 and up'], ['U Launcher Lite – FREE Live Cool Themes, Hide Apps', 'ART_AND_DESIGN', '4.7', '87510', '8.7M', '5,000,000+', 'Free', '0', 'Everyone', 'Art & Design', 'August 1, 2018', '1.2.4', '4.0.3 and up'], ['Sketch - Draw & Paint', 'ART_AND_DESIGN', '4.5', '215644', '25M', '50,000,000+', 'Free', '0', 'Teen', 'Art & Design', 'June 8, 2018', 'Varies with device', '4.2 and up'], ['Pixel Draw - Number Art Coloring Book', 'ART_AND_DESIGN', '4.3', '967', '2.8M', '100,000+', 'Free', '0', 'Everyone', 'Art & Design;Creativity', 'June 20, 2018', '1.1', '4.4 and up'], ['Paper flowers instructions', 'ART_AND_DESIGN', '4.4', '167', '5.6M', '50,000+', 'Free', '0', 'Everyone', 'Art & Design', 'March 26, 2017', '1.0', '2.3 and up']]\n"
     ]
    }
   ],
   "source": [
    "print(android_clean[:5])"
   ]
  },
  {
   "cell_type": "markdown",
   "metadata": {
    "collapsed": true
   },
   "source": [
    "### 2.3. Deleting Non-English Apps\n",
    "Since our company uses only English to develop its apps,\n",
    "we'd like to analyze only the apps that are directed toward an English-speaking audience.\n",
    "\n",
    "Inspecting both data sets, it was detected that both have also apps with non-English names, that is containing symbols unusual for English texts (i.e. not English letters, digits 0-9, punctuation marks, and special symbols). These apps have to be removed."
   ]
  },
  {
   "cell_type": "code",
   "execution_count": 220,
   "metadata": {
    "collapsed": false
   },
   "outputs": [
    {
     "name": "stdout",
     "output_type": "stream",
     "text": [
      "爱奇艺PPS -《欢乐颂2》电视剧热播\n",
      "【脱出ゲーム】絶対に最後までプレイしないで 〜謎解き＆ブロックパズル〜\n",
      "\n",
      "\n",
      "How To Draw Food\n",
      "لعبة تقدر تربح DZ\n"
     ]
    }
   ],
   "source": [
    "print(ios[813][1])\n",
    "print(ios[6731][1])\n",
    "print('\\n')\n",
    "print(android_clean[44][0])\n",
    "print(android_clean[7940][0])"
   ]
  },
  {
   "cell_type": "markdown",
   "metadata": {},
   "source": [
    "According to the ASCII system, the numbers corresponding to the set of common English characters are all in the range 0-127. Hence we have to create a function to identify if each symbol of each app name belongs or not to this range. If it doesn't, the app cannot be considered for further data analysis and has to be removed from the data set."
   ]
  },
  {
   "cell_type": "code",
   "execution_count": 221,
   "metadata": {
    "collapsed": false
   },
   "outputs": [],
   "source": [
    "def english_apps(string):\n",
    "    for symbol in string:\n",
    "        if ord(symbol) > 127:\n",
    "            return False\n",
    "    return True"
   ]
  },
  {
   "cell_type": "markdown",
   "metadata": {},
   "source": [
    "Let's check this function on some apps:"
   ]
  },
  {
   "cell_type": "code",
   "execution_count": 222,
   "metadata": {
    "collapsed": false
   },
   "outputs": [
    {
     "name": "stdout",
     "output_type": "stream",
     "text": [
      "True\n",
      "False\n",
      "False\n",
      "False\n"
     ]
    }
   ],
   "source": [
    "print(english_apps('Instagram'))\n",
    "print(english_apps('爱奇艺PPS -《欢乐颂2》电视剧热播'))\n",
    "print(english_apps('Docs To Go™ Free Office Suite'))\n",
    "print(english_apps('Instachat 😜'))"
   ]
  },
  {
   "cell_type": "markdown",
   "metadata": {},
   "source": [
    "It results that sometimes the function cannot correctly identify certain English app names containing emojis and some special characters that fall outside the ASCII range.\n",
    "In this case we can lose valuable data. \n",
    "\n",
    "To minimize the impact of data loss, we'll only remove an app if its name has more than 3 characters with corresponding numbers falling outside the ASCII range. This means all English apps with up to 3 such symbols will still be labeled as English. "
   ]
  },
  {
   "cell_type": "code",
   "execution_count": 223,
   "metadata": {
    "collapsed": true
   },
   "outputs": [],
   "source": [
    "# Editing the previous function\n",
    "def english_apps(string):\n",
    "    acceptable = 0\n",
    "    for symbol in string:\n",
    "        if ord(symbol) > 127:\n",
    "            acceptable += 1\n",
    "        if acceptable > 3:\n",
    "            return False\n",
    "    return True"
   ]
  },
  {
   "cell_type": "code",
   "execution_count": 224,
   "metadata": {
    "collapsed": false
   },
   "outputs": [
    {
     "name": "stdout",
     "output_type": "stream",
     "text": [
      "False\n",
      "True\n",
      "True\n"
     ]
    }
   ],
   "source": [
    "# Checking the updated function\n",
    "print(english_apps('爱奇艺PPS -《欢乐颂2》电视剧热播'))\n",
    "print(english_apps('Docs To Go™ Free Office Suite'))\n",
    "print(english_apps('Instachat 😜'))"
   ]
  },
  {
   "cell_type": "markdown",
   "metadata": {},
   "source": [
    "Now we will filter out non-English apps from both data sets:"
   ]
  },
  {
   "cell_type": "code",
   "execution_count": 225,
   "metadata": {
    "collapsed": false
   },
   "outputs": [],
   "source": [
    "android_cleaned_filtered = []\n",
    "ios_filtered = []\n",
    "\n",
    "for app in android_clean:    \n",
    "    check = english_apps(app[0])\n",
    "    if check:\n",
    "        android_cleaned_filtered.append(app)\n",
    "        \n",
    "for app in ios:\n",
    "    check = english_apps(app[1])\n",
    "    if check:\n",
    "        ios_filtered.append(app)       "
   ]
  },
  {
   "cell_type": "code",
   "execution_count": 226,
   "metadata": {
    "collapsed": false
   },
   "outputs": [
    {
     "name": "stdout",
     "output_type": "stream",
     "text": [
      "['Photo Editor & Candy Camera & Grid & ScrapBook', 'ART_AND_DESIGN', '4.1', '159', '19M', '10,000+', 'Free', '0', 'Everyone', 'Art & Design', 'January 7, 2018', '1.0.0', '4.0.3 and up']\n",
      "\n",
      "\n",
      "['U Launcher Lite – FREE Live Cool Themes, Hide Apps', 'ART_AND_DESIGN', '4.7', '87510', '8.7M', '5,000,000+', 'Free', '0', 'Everyone', 'Art & Design', 'August 1, 2018', '1.2.4', '4.0.3 and up']\n",
      "\n",
      "\n",
      "['Sketch - Draw & Paint', 'ART_AND_DESIGN', '4.5', '215644', '25M', '50,000,000+', 'Free', '0', 'Teen', 'Art & Design', 'June 8, 2018', 'Varies with device', '4.2 and up']\n",
      "\n",
      "\n",
      "Number of rows: 9614\n",
      "Number of columns: 13\n"
     ]
    }
   ],
   "source": [
    "explore_data(dataset = android_cleaned_filtered, start = 0, end = 3, rows_and_columns = True)"
   ]
  },
  {
   "cell_type": "code",
   "execution_count": 227,
   "metadata": {
    "collapsed": false
   },
   "outputs": [
    {
     "name": "stdout",
     "output_type": "stream",
     "text": [
      "['284882215', 'Facebook', '389879808', 'USD', '0.0', '2974676', '212', '3.5', '3.5', '95.0', '4+', 'Social Networking', '37', '1', '29', '1']\n",
      "\n",
      "\n",
      "['389801252', 'Instagram', '113954816', 'USD', '0.0', '2161558', '1289', '4.5', '4.0', '10.23', '12+', 'Photo & Video', '37', '0', '29', '1']\n",
      "\n",
      "\n",
      "['529479190', 'Clash of Clans', '116476928', 'USD', '0.0', '2130805', '579', '4.5', '4.5', '9.24.12', '9+', 'Games', '38', '5', '18', '1']\n",
      "\n",
      "\n",
      "Number of rows: 6183\n",
      "Number of columns: 16\n"
     ]
    }
   ],
   "source": [
    "explore_data(dataset = ios_filtered, start = 0, end = 3, rows_and_columns = True)"
   ]
  },
  {
   "cell_type": "markdown",
   "metadata": {},
   "source": [
    "After filtering the data set with android apps counts 9,614 rows and the one with iOS apps 6,183 rows.\n",
    "### 2.4. Deleting Non-Free Apps\n",
    "The company is specialized in building only free apps. Hence, before proceeding to the data analysis step, we have to remove all non-free apps from both data sets."
   ]
  },
  {
   "cell_type": "code",
   "execution_count": 228,
   "metadata": {
    "collapsed": false
   },
   "outputs": [],
   "source": [
    "android_final = []\n",
    "ios_final = []\n",
    "\n",
    "for app in android_cleaned_filtered:\n",
    "    price = app[7]\n",
    "    if price == '0':\n",
    "        android_final.append(app)\n",
    "        \n",
    "for app in ios_filtered:\n",
    "    price = app[4]\n",
    "    if price == '0.0':\n",
    "        ios_final.append(app)"
   ]
  },
  {
   "cell_type": "code",
   "execution_count": 229,
   "metadata": {
    "collapsed": false
   },
   "outputs": [
    {
     "name": "stdout",
     "output_type": "stream",
     "text": [
      "Final number of android apps: 8864\n",
      "Final number of iOS apps: 3222\n"
     ]
    }
   ],
   "source": [
    "print('Final number of android apps:', len(android_final))\n",
    "print('Final number of iOS apps:', len(ios_final))"
   ]
  },
  {
   "cell_type": "markdown",
   "metadata": {},
   "source": [
    "Now we have 8,864 android apps and 3,222 iOS apps for further data analysis.\n",
    "## 3. Data Analysis\n",
    "As we mentioned in the introduction, our aim is to determine the kinds of apps that are likely to attract more users, because our revenue is highly influenced by the number of people using our apps.\n",
    "\n",
    "To minimize risks and overhead, our validation strategy for an app idea is comprised of 3 steps:\n",
    "\n",
    "- Build a minimal Android version of the app, and add it to Google Play.\n",
    "- If the app has a good response from users, we develop it further.\n",
    "- If the app is profitable after 6 months, we build an iOS version of the app and add it to the App Store.\n",
    "\n",
    "Because our final goal is to add the app on both Google Play and the App Store, we need to find app profiles that are successful on both markets.\n",
    "### 3.1. Finding The Most Common Genres\n",
    "Let's begin the analysis by getting a sense of what are the most common genres for each market. For Google Play data set the genres of the apps are described in the column `'Genres'` and `'Category'`, for the App Store data set - in the column `'prime_genre'`.\n",
    "\n",
    "We'll build two functions we can use to analyze the frequency tables:\n",
    "\n",
    "- To generate frequency tables that show percentages.\n",
    "- To display the percentages in a frequency table in a descending order."
   ]
  },
  {
   "cell_type": "code",
   "execution_count": 230,
   "metadata": {
    "collapsed": false
   },
   "outputs": [],
   "source": [
    "def freq_table(dataset, index):\n",
    "    dictionary = {}\n",
    "    number_apps = 0\n",
    "    for row in dataset:\n",
    "        number_apps += 1\n",
    "        dictionary[row[index]] = dictionary.get(row[index], 0) + 1\n",
    "            \n",
    "    dictionary_percent = {}\n",
    "    for key in dictionary:\n",
    "        dictionary_percent[key] = (dictionary[key] / number_apps) * 100\n",
    "        \n",
    "    return dictionary_percent"
   ]
  },
  {
   "cell_type": "code",
   "execution_count": 231,
   "metadata": {
    "collapsed": true
   },
   "outputs": [],
   "source": [
    "def display_table(dataset, index):\n",
    "    table = freq_table(dataset, index)\n",
    "    table_display = []\n",
    "    for key in table:\n",
    "        key_val_as_tuple = (table[key], key)\n",
    "        table_display.append(key_val_as_tuple)\n",
    "\n",
    "    table_sorted = sorted(table_display, reverse = True)\n",
    "    for entry in table_sorted:\n",
    "        print(entry[1], ':', entry[0])"
   ]
  },
  {
   "cell_type": "code",
   "execution_count": 232,
   "metadata": {
    "collapsed": false
   },
   "outputs": [
    {
     "name": "stdout",
     "output_type": "stream",
     "text": [
      "Games : 58.16263190564867\n",
      "Entertainment : 7.883302296710118\n",
      "Photo & Video : 4.9658597144630665\n",
      "Education : 3.662321539416512\n",
      "Social Networking : 3.2898820608317814\n",
      "Shopping : 2.60707635009311\n",
      "Utilities : 2.5139664804469275\n",
      "Sports : 2.1415270018621975\n",
      "Music : 2.0484171322160147\n",
      "Health & Fitness : 2.0173805090006205\n",
      "Productivity : 1.7380509000620732\n",
      "Lifestyle : 1.5828677839851024\n",
      "News : 1.3345747982619491\n",
      "Travel : 1.2414649286157666\n",
      "Finance : 1.1173184357541899\n",
      "Weather : 0.8690254500310366\n",
      "Food & Drink : 0.8069522036002483\n",
      "Reference : 0.5586592178770949\n",
      "Business : 0.5276225946617008\n",
      "Book : 0.4345127250155183\n",
      "Navigation : 0.186219739292365\n",
      "Medical : 0.186219739292365\n",
      "Catalogs : 0.12414649286157665\n"
     ]
    }
   ],
   "source": [
    "# Prime_genre column\n",
    "display_table(dataset = ios_final, index = -5)"
   ]
  },
  {
   "cell_type": "markdown",
   "metadata": {},
   "source": [
    "Among **iOS English free apps**, the most common genre is *Games* (58%) followed with a big gap by *Entertainment* (7.9%). The general impression is that the apps designed for entertainment (games, photo and video, social networking, sports, music) significantly dominate the App Store, in comparison to the apps designed for practical purposes (education, shopping, utilities, productivity, lifestyle). \n",
    "\n",
    "Judging only by the frequency table, we still cannot recommend an app profile for the App Store market, because a large number of apps for a particular genre does not necessarily imply that apps of that genre have a large number of users."
   ]
  },
  {
   "cell_type": "code",
   "execution_count": 233,
   "metadata": {
    "collapsed": false
   },
   "outputs": [
    {
     "name": "stdout",
     "output_type": "stream",
     "text": [
      "FAMILY : 18.907942238267147\n",
      "GAME : 9.724729241877256\n",
      "TOOLS : 8.461191335740072\n",
      "BUSINESS : 4.591606498194946\n",
      "LIFESTYLE : 3.9034296028880866\n",
      "PRODUCTIVITY : 3.892148014440433\n",
      "FINANCE : 3.7003610108303246\n",
      "MEDICAL : 3.531137184115524\n",
      "SPORTS : 3.395758122743682\n",
      "PERSONALIZATION : 3.3167870036101084\n",
      "COMMUNICATION : 3.2378158844765346\n",
      "HEALTH_AND_FITNESS : 3.0798736462093865\n",
      "PHOTOGRAPHY : 2.944494584837545\n",
      "NEWS_AND_MAGAZINES : 2.7978339350180503\n",
      "SOCIAL : 2.6624548736462095\n",
      "TRAVEL_AND_LOCAL : 2.33528880866426\n",
      "SHOPPING : 2.2450361010830324\n",
      "BOOKS_AND_REFERENCE : 2.1435018050541514\n",
      "DATING : 1.861462093862816\n",
      "VIDEO_PLAYERS : 1.7937725631768955\n",
      "MAPS_AND_NAVIGATION : 1.3989169675090252\n",
      "FOOD_AND_DRINK : 1.2409747292418771\n",
      "EDUCATION : 1.1620036101083033\n",
      "ENTERTAINMENT : 0.9589350180505415\n",
      "LIBRARIES_AND_DEMO : 0.9363718411552346\n",
      "AUTO_AND_VEHICLES : 0.9250902527075812\n",
      "HOUSE_AND_HOME : 0.8235559566787004\n",
      "WEATHER : 0.8009927797833934\n",
      "EVENTS : 0.7107400722021661\n",
      "PARENTING : 0.6543321299638989\n",
      "ART_AND_DESIGN : 0.6430505415162455\n",
      "COMICS : 0.6204873646209386\n",
      "BEAUTY : 0.5979241877256317\n"
     ]
    }
   ],
   "source": [
    "# Category column\n",
    "display_table(dataset = android_final, index = 1)"
   ]
  },
  {
   "cell_type": "markdown",
   "metadata": {},
   "source": [
    "Among **Android English free apps**, the most common categories are also of entertaining character (*FAMILY*(18.9%) and *GAME*(9.7%). However, the dispersion of percentages for the other categories is not as large as for iOS apps, and in general a more balanced landscape of both practical and fun apps is observed. The number of categories is comparable with the number of iOS apps' genres. \n",
    "\n",
    "If we look at the `prime_genre` column for Android apps, we will see that it is much more detailed and specified and not anymore comparable with the the number of iOS app genres:"
   ]
  },
  {
   "cell_type": "code",
   "execution_count": 234,
   "metadata": {
    "collapsed": false,
    "scrolled": false
   },
   "outputs": [
    {
     "name": "stdout",
     "output_type": "stream",
     "text": [
      "Tools : 8.449909747292418\n",
      "Entertainment : 6.069494584837545\n",
      "Education : 5.347472924187725\n",
      "Business : 4.591606498194946\n",
      "Productivity : 3.892148014440433\n",
      "Lifestyle : 3.892148014440433\n",
      "Finance : 3.7003610108303246\n",
      "Medical : 3.531137184115524\n",
      "Sports : 3.463447653429603\n",
      "Personalization : 3.3167870036101084\n",
      "Communication : 3.2378158844765346\n",
      "Action : 3.1024368231046933\n",
      "Health & Fitness : 3.0798736462093865\n",
      "Photography : 2.944494584837545\n",
      "News & Magazines : 2.7978339350180503\n",
      "Social : 2.6624548736462095\n",
      "Travel & Local : 2.3240072202166067\n",
      "Shopping : 2.2450361010830324\n",
      "Books & Reference : 2.1435018050541514\n",
      "Simulation : 2.0419675090252705\n",
      "Dating : 1.861462093862816\n",
      "Arcade : 1.8501805054151623\n",
      "Video Players & Editors : 1.7712093862815883\n",
      "Casual : 1.7599277978339352\n",
      "Maps & Navigation : 1.3989169675090252\n",
      "Food & Drink : 1.2409747292418771\n",
      "Puzzle : 1.128158844765343\n",
      "Racing : 0.9927797833935018\n",
      "Role Playing : 0.9363718411552346\n",
      "Libraries & Demo : 0.9363718411552346\n",
      "Auto & Vehicles : 0.9250902527075812\n",
      "Strategy : 0.9138086642599278\n",
      "House & Home : 0.8235559566787004\n",
      "Weather : 0.8009927797833934\n",
      "Events : 0.7107400722021661\n",
      "Adventure : 0.6768953068592057\n",
      "Comics : 0.6092057761732852\n",
      "Beauty : 0.5979241877256317\n",
      "Art & Design : 0.5979241877256317\n",
      "Parenting : 0.4963898916967509\n",
      "Card : 0.45126353790613716\n",
      "Casino : 0.42870036101083037\n",
      "Trivia : 0.41741877256317694\n",
      "Educational;Education : 0.39485559566787\n",
      "Board : 0.3835740072202166\n",
      "Educational : 0.3722924187725632\n",
      "Education;Education : 0.33844765342960287\n",
      "Word : 0.2594765342960289\n",
      "Casual;Pretend Play : 0.236913357400722\n",
      "Music : 0.2030685920577617\n",
      "Racing;Action & Adventure : 0.16922382671480143\n",
      "Puzzle;Brain Games : 0.16922382671480143\n",
      "Entertainment;Music & Video : 0.16922382671480143\n",
      "Casual;Brain Games : 0.13537906137184114\n",
      "Casual;Action & Adventure : 0.13537906137184114\n",
      "Arcade;Action & Adventure : 0.12409747292418773\n",
      "Action;Action & Adventure : 0.10153429602888085\n",
      "Educational;Pretend Play : 0.09025270758122744\n",
      "Simulation;Action & Adventure : 0.078971119133574\n",
      "Parenting;Education : 0.078971119133574\n",
      "Entertainment;Brain Games : 0.078971119133574\n",
      "Board;Brain Games : 0.078971119133574\n",
      "Parenting;Music & Video : 0.06768953068592057\n",
      "Educational;Brain Games : 0.06768953068592057\n",
      "Casual;Creativity : 0.06768953068592057\n",
      "Art & Design;Creativity : 0.06768953068592057\n",
      "Education;Pretend Play : 0.056407942238267145\n",
      "Role Playing;Pretend Play : 0.04512635379061372\n",
      "Education;Creativity : 0.04512635379061372\n",
      "Role Playing;Action & Adventure : 0.033844765342960284\n",
      "Puzzle;Action & Adventure : 0.033844765342960284\n",
      "Entertainment;Creativity : 0.033844765342960284\n",
      "Entertainment;Action & Adventure : 0.033844765342960284\n",
      "Educational;Creativity : 0.033844765342960284\n",
      "Educational;Action & Adventure : 0.033844765342960284\n",
      "Education;Music & Video : 0.033844765342960284\n",
      "Education;Brain Games : 0.033844765342960284\n",
      "Education;Action & Adventure : 0.033844765342960284\n",
      "Adventure;Action & Adventure : 0.033844765342960284\n",
      "Video Players & Editors;Music & Video : 0.02256317689530686\n",
      "Sports;Action & Adventure : 0.02256317689530686\n",
      "Simulation;Pretend Play : 0.02256317689530686\n",
      "Puzzle;Creativity : 0.02256317689530686\n",
      "Music;Music & Video : 0.02256317689530686\n",
      "Entertainment;Pretend Play : 0.02256317689530686\n",
      "Casual;Education : 0.02256317689530686\n",
      "Board;Action & Adventure : 0.02256317689530686\n",
      "Video Players & Editors;Creativity : 0.01128158844765343\n",
      "Trivia;Education : 0.01128158844765343\n",
      "Travel & Local;Action & Adventure : 0.01128158844765343\n",
      "Tools;Education : 0.01128158844765343\n",
      "Strategy;Education : 0.01128158844765343\n",
      "Strategy;Creativity : 0.01128158844765343\n",
      "Strategy;Action & Adventure : 0.01128158844765343\n",
      "Simulation;Education : 0.01128158844765343\n",
      "Role Playing;Brain Games : 0.01128158844765343\n",
      "Racing;Pretend Play : 0.01128158844765343\n",
      "Puzzle;Education : 0.01128158844765343\n",
      "Parenting;Brain Games : 0.01128158844765343\n",
      "Music & Audio;Music & Video : 0.01128158844765343\n",
      "Lifestyle;Pretend Play : 0.01128158844765343\n",
      "Lifestyle;Education : 0.01128158844765343\n",
      "Health & Fitness;Education : 0.01128158844765343\n",
      "Health & Fitness;Action & Adventure : 0.01128158844765343\n",
      "Entertainment;Education : 0.01128158844765343\n",
      "Communication;Creativity : 0.01128158844765343\n",
      "Comics;Creativity : 0.01128158844765343\n",
      "Casual;Music & Video : 0.01128158844765343\n",
      "Card;Action & Adventure : 0.01128158844765343\n",
      "Books & Reference;Education : 0.01128158844765343\n",
      "Art & Design;Pretend Play : 0.01128158844765343\n",
      "Art & Design;Action & Adventure : 0.01128158844765343\n",
      "Arcade;Pretend Play : 0.01128158844765343\n",
      "Adventure;Education : 0.01128158844765343\n"
     ]
    }
   ],
   "source": [
    "# Genres column\n",
    "display_table(dataset = android_final, index = 9)"
   ]
  },
  {
   "cell_type": "markdown",
   "metadata": {},
   "source": [
    "Like in the previous case, from these frequency tables alone we cannot deduce anything about the genres (categories) with the most users and cannot recommend an app profile for Google Play.\n",
    "### 3.2. Finding The Most Popular Genres\n",
    "One way to find out what genres are the most popular (have the most users) is to calculate the average number of installs for each app genre. For the Google Play data set, we can find this information in the `Installs` column, but this information is missing for **the App Store data set**. As a workaround, we'll take the total number of user ratings as a proxy, which we can find in the `rating_count_tot` column."
   ]
  },
  {
   "cell_type": "code",
   "execution_count": 235,
   "metadata": {
    "collapsed": false
   },
   "outputs": [
    {
     "name": "stdout",
     "output_type": "stream",
     "text": [
      "Weather : 52279.892857142855\n",
      "Productivity : 21028.410714285714\n",
      "Photo & Video : 28441.54375\n",
      "Social Networking : 71548.34905660378\n",
      "Finance : 31467.944444444445\n",
      "Travel : 28243.8\n",
      "Utilities : 18684.456790123455\n",
      "Book : 39758.5\n",
      "News : 21248.023255813954\n",
      "Health & Fitness : 23298.015384615384\n",
      "Shopping : 26919.690476190477\n",
      "Catalogs : 4004.0\n",
      "Food & Drink : 33333.92307692308\n",
      "Business : 7491.117647058823\n",
      "Medical : 612.0\n",
      "Sports : 23008.898550724636\n",
      "Entertainment : 14029.830708661417\n",
      "Education : 7003.983050847458\n",
      "Music : 57326.530303030304\n",
      "Reference : 74942.11111111111\n",
      "Navigation : 86090.33333333333\n",
      "Games : 22788.6696905016\n",
      "Lifestyle : 16485.764705882353\n"
     ]
    }
   ],
   "source": [
    "# Calculating the average number of user ratings per app genre on the App Store:\n",
    "prime_genre = freq_table(dataset = ios_final, index = -5)\n",
    "for genre in prime_genre:\n",
    "    total = 0\n",
    "    len_genre = 0\n",
    "    for app in ios_final:\n",
    "        genre_app = app[-5]\n",
    "        if genre_app == genre:\n",
    "            number_rating = float(app[5])\n",
    "            total += number_rating\n",
    "            len_genre += 1\n",
    "    average_number_rating = total / len_genre\n",
    "    print(genre, ':', average_number_rating)   "
   ]
  },
  {
   "cell_type": "markdown",
   "metadata": {
    "collapsed": true
   },
   "source": [
    "Looking at the results, a preliminary conlusion is that the most popular app genres (based on the average number of user ratings) are the following:\n",
    "\n",
    "- *Navigation* : 86090.33333333333\n",
    "- *Reference* : 74942.11111111111\n",
    "- *Social Networking* : 71548.34905660378\n",
    "- *Music* : 57326.530303030304\n",
    "- *Weather* : 52279.892857142855\n",
    "- *Book* : 39758.5\n",
    "\n",
    "Let's investigate more in detail each of them, in particular their contents of apps:"
   ]
  },
  {
   "cell_type": "code",
   "execution_count": 236,
   "metadata": {
    "collapsed": false
   },
   "outputs": [
    {
     "name": "stdout",
     "output_type": "stream",
     "text": [
      "Navigation\n",
      "Waze - GPS Navigation, Maps & Real-time Traffic : 345046\n",
      "Google Maps - Navigation & Transit : 154911\n",
      "Geocaching® : 12811\n",
      "CoPilot GPS – Car Navigation & Offline Maps : 3582\n",
      "ImmobilienScout24: Real Estate Search in Germany : 187\n",
      "Railway Route Search : 5\n",
      "\n",
      "Reference\n",
      "Bible : 985920\n",
      "Dictionary.com Dictionary & Thesaurus : 200047\n",
      "Dictionary.com Dictionary & Thesaurus for iPad : 54175\n",
      "Google Translate : 26786\n",
      "Muslim Pro: Ramadan 2017 Prayer Times, Azan, Quran : 18418\n",
      "New Furniture Mods - Pocket Wiki & Game Tools for Minecraft PC Edition : 17588\n",
      "Merriam-Webster Dictionary : 16849\n",
      "Night Sky : 12122\n",
      "City Maps for Minecraft PE - The Best Maps for Minecraft Pocket Edition (MCPE) : 8535\n",
      "LUCKY BLOCK MOD ™ for Minecraft PC Edition - The Best Pocket Wiki & Mods Installer Tools : 4693\n",
      "GUNS MODS for Minecraft PC Edition - Mods Tools : 1497\n",
      "Guides for Pokémon GO - Pokemon GO News and Cheats : 826\n",
      "WWDC : 762\n",
      "Horror Maps for Minecraft PE - Download The Scariest Maps for Minecraft Pocket Edition (MCPE) Free : 718\n",
      "VPN Express : 14\n",
      "Real Bike Traffic Rider Virtual Reality Glasses : 8\n",
      "教えて!goo : 0\n",
      "Jishokun-Japanese English Dictionary & Translator : 0\n",
      "\n",
      "Social Networking\n",
      "Facebook : 2974676\n",
      "Pinterest : 1061624\n",
      "Skype for iPhone : 373519\n",
      "Messenger : 351466\n",
      "Tumblr : 334293\n",
      "WhatsApp Messenger : 287589\n",
      "Kik : 260965\n",
      "ooVoo – Free Video Call, Text and Voice : 177501\n",
      "TextNow - Unlimited Text + Calls : 164963\n",
      "Viber Messenger – Text & Call : 164249\n",
      "Followers - Social Analytics For Instagram : 112778\n",
      "MeetMe - Chat and Meet New People : 97072\n",
      "We Heart It - Fashion, wallpapers, quotes, tattoos : 90414\n",
      "InsTrack for Instagram - Analytics Plus More : 85535\n",
      "Tango - Free Video Call, Voice and Chat : 75412\n",
      "LinkedIn : 71856\n",
      "Match™ - #1 Dating App. : 60659\n",
      "Skype for iPad : 60163\n",
      "POF - Best Dating App for Conversations : 52642\n",
      "Timehop : 49510\n",
      "Find My Family, Friends & iPhone - Life360 Locator : 43877\n",
      "Whisper - Share, Express, Meet : 39819\n",
      "Hangouts : 36404\n",
      "LINE PLAY - Your Avatar World : 34677\n",
      "WeChat : 34584\n",
      "Badoo - Meet New People, Chat, Socialize. : 34428\n",
      "Followers + for Instagram - Follower Analytics : 28633\n",
      "GroupMe : 28260\n",
      "Marco Polo Video Walkie Talkie : 27662\n",
      "Miitomo : 23965\n",
      "SimSimi : 23530\n",
      "Grindr - Gay and same sex guys chat, meet and date : 23201\n",
      "Wishbone - Compare Anything : 20649\n",
      "imo video calls and chat : 18841\n",
      "After School - Funny Anonymous School News : 18482\n",
      "Quick Reposter - Repost, Regram and Reshare Photos : 17694\n",
      "Weibo HD : 16772\n",
      "Repost for Instagram : 15185\n",
      "Live.me – Live Video Chat & Make Friends Nearby : 14724\n",
      "Nextdoor : 14402\n",
      "Followers Analytics for Instagram - InstaReport : 13914\n",
      "YouNow: Live Stream Video Chat : 12079\n",
      "FollowMeter for Instagram - Followers Tracking : 11976\n",
      "LINE : 11437\n",
      "eHarmony™ Dating App - Meet Singles : 11124\n",
      "Discord - Chat for Gamers : 9152\n",
      "QQ : 9109\n",
      "Telegram Messenger : 7573\n",
      "Weibo : 7265\n",
      "Periscope - Live Video Streaming Around the World : 6062\n",
      "Chat for Whatsapp - iPad Version : 5060\n",
      "QQ HD : 5058\n",
      "Followers Analysis Tool For Instagram App Free : 4253\n",
      "live.ly - live video streaming : 4145\n",
      "Houseparty - Group Video Chat : 3991\n",
      "SOMA Messenger : 3232\n",
      "Monkey : 3060\n",
      "Down To Lunch : 2535\n",
      "Flinch - Video Chat Staring Contest : 2134\n",
      "Highrise - Your Avatar Community : 2011\n",
      "LOVOO - Dating Chat : 1985\n",
      "PlayStation®Messages : 1918\n",
      "BOO! - Video chat camera with filters & stickers : 1805\n",
      "Qzone : 1649\n",
      "Chatous - Chat with new people : 1609\n",
      "Kiwi - Q&A : 1538\n",
      "GhostCodes - a discovery app for Snapchat : 1313\n",
      "Jodel : 1193\n",
      "FireChat : 1037\n",
      "Google Duo - simple video calling : 1033\n",
      "Fiesta by Tango - Chat & Meet New People : 885\n",
      "Google Allo — smart messaging : 862\n",
      "Peach — share vividly : 727\n",
      "Hey! VINA - Where Women Meet New Friends : 719\n",
      "Battlefield™ Companion : 689\n",
      "All Devices for WhatsApp - Messenger for iPad : 682\n",
      "Chat for Pokemon Go - GoChat : 500\n",
      "IAmNaughty – Dating App to Meet New People Online : 463\n",
      "Qzone HD : 458\n",
      "Zenly - Locate your friends in realtime : 427\n",
      "League of Legends Friends : 420\n",
      "豆瓣 : 407\n",
      "Candid - Speak Your Mind Freely : 398\n",
      "知乎 : 397\n",
      "Selfeo : 366\n",
      "Fake-A-Location Free ™ : 354\n",
      "Popcorn Buzz - Free Group Calls : 281\n",
      "Fam — Group video calling for iMessage : 279\n",
      "QQ International : 274\n",
      "Ameba : 269\n",
      "SoundCloud Pulse: for creators : 240\n",
      "Tantan : 235\n",
      "Cougar Dating & Life Style App for Mature Women : 213\n",
      "Rawr Messenger - Dab your chat : 180\n",
      "WhenToPost: Best Time to Post Photos for Instagram : 158\n",
      "Inke—Broadcast an amazing life : 147\n",
      "Mustknow - anonymous video Q&A : 53\n",
      "CTFxCmoji : 39\n",
      "Lobi : 36\n",
      "Chain: Collaborate On MyVideo Story/Group Video : 35\n",
      "botman - Real time video chat : 7\n",
      "BestieBox : 0\n",
      "MATCH ON LINE chat : 0\n",
      "niconico ch : 0\n",
      "LINE BLOG : 0\n",
      "bit-tube - Live Stream Video Chat : 0\n",
      "\n",
      "Weather\n",
      "The Weather Channel: Forecast, Radar & Alerts : 495626\n",
      "The Weather Channel App for iPad – best local forecast, radar map, and storm tracking : 208648\n",
      "WeatherBug - Local Weather, Radar, Maps, Alerts : 188583\n",
      "MyRadar NOAA Weather Radar Forecast : 150158\n",
      "AccuWeather - Weather for Life : 144214\n",
      "Yahoo Weather : 112603\n",
      "Weather Underground: Custom Forecast & Local Radar : 49192\n",
      "NOAA Weather Radar - Weather Forecast & HD Radar : 45696\n",
      "Weather Live Free - Weather Forecast & Alerts : 35702\n",
      "Storm Radar : 22792\n",
      "QuakeFeed Earthquake Map, Alerts, and News : 6081\n",
      "Moji Weather - Free Weather Forecast : 2333\n",
      "Hurricane by American Red Cross : 1158\n",
      "Forecast Bar : 375\n",
      "Hurricane Tracker WESH 2 Orlando, Central Florida : 203\n",
      "FEMA : 128\n",
      "iWeather - World weather forecast : 80\n",
      "Weather - Radar - Storm with Morecast App : 78\n",
      "Yurekuru Call : 53\n",
      "Weather & Radar : 37\n",
      "WRAL Weather Alert : 25\n",
      "Météo-France : 24\n",
      "JaxReady : 22\n",
      "Freddy the Frogcaster's Weather Station : 14\n",
      "Almanac Long-Range Weather Forecast : 12\n",
      "TodayAir : 0\n",
      "wetter.com : 0\n",
      "WarnWetter : 0\n",
      "\n",
      "Book\n",
      "Kindle – Read eBooks, Magazines & Textbooks : 252076\n",
      "Audible – audio books, original series & podcasts : 105274\n",
      "Color Therapy Adult Coloring Book for Adults : 84062\n",
      "OverDrive – Library eBooks and Audiobooks : 65450\n",
      "HOOKED - Chat Stories : 47829\n",
      "BookShout: Read eBooks & Track Your Reading Goals : 879\n",
      "Dr. Seuss Treasury — 50 best kids books : 451\n",
      "Green Riding Hood : 392\n",
      "Weirdwood Manor : 197\n",
      "MangaZERO - comic reader : 9\n",
      "ikouhoushi : 0\n",
      "MangaTiara - love comic reader : 0\n",
      "謎解き : 0\n",
      "謎解き2016 : 0\n",
      "\n"
     ]
    }
   ],
   "source": [
    "# Creating a function for exploring iOS apps\n",
    "def exploring_ios_apps(column_name):\n",
    "    print(column_name)\n",
    "    for app in ios_final:\n",
    "        prime_genre = app[-5]\n",
    "        app_name = app[1]\n",
    "        number_ratings = app[5]\n",
    "        if prime_genre == column_name:\n",
    "            print(app_name, ':', number_ratings)  \n",
    "    return ''\n",
    "            \n",
    "# Exploring iOS apps            \n",
    "print(exploring_ios_apps('Navigation'))\n",
    "print(exploring_ios_apps('Reference'))\n",
    "print(exploring_ios_apps('Social Networking'))\n",
    "print(exploring_ios_apps('Weather'))\n",
    "print(exploring_ios_apps('Book'))"
   ]
  },
  {
   "cell_type": "markdown",
   "metadata": {},
   "source": [
    "- *Navigation* genre average number of ratings seems to be heavily influenced by 2 giant apps, Waze and Google Maps, while all the other apps show quite low numbers. It means that in this case average is not a good metric to use, since the distribution is heavily skewed. If to exclude these 2 dominant apps, the average becomes very low, which makes this genre less interesting for our purposes.\n",
    "- *Reference*. A similar situation is observed: average is influenced mostly by Bible and dictionaries, with a big gap with all the other apps of this genre.\n",
    "- *Social Networking*. Even though also here we see an obvious domination of Facebook and Pinterest, we can also note that there are many other social networks for different categories of people and interests, with rather high values of the average number of ratings. We remember also that entertainment apps are very popular on the App Store, and in particular among them social networks are not the most popular ones. Hence this market niche is probably not oversaturated, while the demand is still very high (since the need of communication is always present). Also, people usually spend a lot of time  on this genre of apps. They use them for leisure, being relaxed and open to new information, so there is more chance for an in-app ad to attract their attention.\n",
    "- *Music*. Like for the first 2 genres, the distribution for this one is skewed by several very popular apps. The rest of the apps mostly demonstrate quite low average number of ratings.\n",
    "- *Weather*. This genre doesn't seem particularly interesting for our purposes, since people generally don't spend too much time in-app, and the chances of making profit from in-app adds are low. Also, getting reliable live weather data may require connecting the app to non-free APIs. \n",
    "- *Book*. Here, practically, we have only 5 apps, if not to count few others, with extremely low average values. This niche is obviously undersaturated, which doesn't necessarily means a low demand. Finding some granular directions in this sphere (e.g. personal growth, psychology, business) and developing high-quality contents, we can attract probably not so large but pointedly interested audience, increasing in this way the chances of the app to become profitable.\n",
    "\n",
    "Thus, the most promising iOS app profiles seem to be **Social Networking** and **Book**.\n",
    "\n",
    "Our next step is to provide an app profile recommendation for the **Google Play** market. We have data about the number of installs, so we should be able to get a clearer picture about genre popularity. However, the install numbers don't seem precise enough, with most values being open-ended (100+, 1,000+, 5,000+, etc.). We want to use these data anyway, after some cleaning: leaving the numbers as they are, removing commas and the plus characters, converting the numbers into `float` type."
   ]
  },
  {
   "cell_type": "code",
   "execution_count": 237,
   "metadata": {
    "collapsed": false
   },
   "outputs": [
    {
     "name": "stdout",
     "output_type": "stream",
     "text": [
      "DATING : 854028.8303030303\n",
      "VIDEO_PLAYERS : 24727872.452830188\n",
      "SHOPPING : 7036877.311557789\n",
      "ENTERTAINMENT : 11640705.88235294\n",
      "EDUCATION : 1833495.145631068\n",
      "COMMUNICATION : 38456119.167247385\n",
      "FOOD_AND_DRINK : 1924897.7363636363\n",
      "WEATHER : 5074486.197183099\n",
      "BUSINESS : 1712290.1474201474\n",
      "BEAUTY : 513151.88679245283\n",
      "LIFESTYLE : 1437816.2687861272\n",
      "PERSONALIZATION : 5201482.6122448975\n",
      "SOCIAL : 23253652.127118643\n",
      "AUTO_AND_VEHICLES : 647317.8170731707\n",
      "COMICS : 817657.2727272727\n",
      "MEDICAL : 120550.61980830671\n",
      "MAPS_AND_NAVIGATION : 4056941.7741935486\n",
      "ART_AND_DESIGN : 1986335.0877192982\n",
      "HOUSE_AND_HOME : 1331540.5616438356\n",
      "TRAVEL_AND_LOCAL : 13984077.710144928\n",
      "NEWS_AND_MAGAZINES : 9549178.467741935\n",
      "GAME : 15588015.603248259\n",
      "HEALTH_AND_FITNESS : 4188821.9853479853\n",
      "FINANCE : 1387692.475609756\n",
      "SPORTS : 3638640.1428571427\n",
      "EVENTS : 253542.22222222222\n",
      "LIBRARIES_AND_DEMO : 638503.734939759\n",
      "PRODUCTIVITY : 16787331.344927534\n",
      "TOOLS : 10801391.298666667\n",
      "BOOKS_AND_REFERENCE : 8767811.894736841\n",
      "FAMILY : 3695641.8198090694\n",
      "PHOTOGRAPHY : 17840110.40229885\n",
      "PARENTING : 542603.6206896552\n"
     ]
    }
   ],
   "source": [
    "# Calculating the average number of installs per app genre on Google Play\n",
    "categories = freq_table(dataset =  android_final, index = 1)\n",
    "for category in categories:\n",
    "    total = 0\n",
    "    len_category = 0\n",
    "    for app in android_final:\n",
    "        category_app = app[1]\n",
    "        if category_app == category:\n",
    "            number_installs = app[5]\n",
    "            number_installs = number_installs.replace('+', '').replace(',', '')\n",
    "            total += float(number_installs)\n",
    "            len_category += 1\n",
    "    average_number_installs = total / len_category\n",
    "    print(category, ':', average_number_installs)   "
   ]
  },
  {
   "cell_type": "markdown",
   "metadata": {
    "collapsed": true
   },
   "source": [
    "We see that the most popular app genres (based on the average number of installs) are the following:\n",
    "\n",
    "- *COMMUNICATION* : 38456119\n",
    "- *VIDEO_PLAYERS* : 24727872\n",
    "- *SOCIAL* : 23253652\n",
    "- *PHOTOGRAPHY* : 17840110\n",
    "- *PRODUCTIVITY* : 16787331\n",
    "- *GAME* : 15588015\n",
    "- *TRAVEL_AND_LOCAL* : 13984077\n",
    "\n",
    "Let's investigate more in detail the contents of their apps. First, it seems that these seemingly popular genres are dominated by some giant apps, with the number of installs more than 100 millions. These values, certainly, result in very biased average values. "
   ]
  },
  {
   "cell_type": "code",
   "execution_count": 238,
   "metadata": {
    "collapsed": false
   },
   "outputs": [
    {
     "name": "stdout",
     "output_type": "stream",
     "text": [
      "COMMUNICATION\n",
      "WhatsApp Messenger : 1,000,000,000+\n",
      "imo beta free calls and text : 100,000,000+\n",
      "Android Messages : 100,000,000+\n",
      "Google Duo - High Quality Video Calls : 500,000,000+\n",
      "Messenger – Text and Video Chat for Free : 1,000,000,000+\n",
      "imo free video calls and chat : 500,000,000+\n",
      "Skype - free IM & video calls : 1,000,000,000+\n",
      "Who : 100,000,000+\n",
      "GO SMS Pro - Messenger, Free Themes, Emoji : 100,000,000+\n",
      "LINE: Free Calls & Messages : 500,000,000+\n",
      "Google Chrome: Fast & Secure : 1,000,000,000+\n",
      "Firefox Browser fast & private : 100,000,000+\n",
      "UC Browser - Fast Download Private & Secure : 500,000,000+\n",
      "Gmail : 1,000,000,000+\n",
      "Hangouts : 1,000,000,000+\n",
      "Messenger Lite: Free Calls & Messages : 100,000,000+\n",
      "Kik : 100,000,000+\n",
      "KakaoTalk: Free Calls & Text : 100,000,000+\n",
      "Opera Mini - fast web browser : 100,000,000+\n",
      "Opera Browser: Fast and Secure : 100,000,000+\n",
      "Telegram : 100,000,000+\n",
      "Truecaller: Caller ID, SMS spam blocking & Dialer : 100,000,000+\n",
      "UC Browser Mini -Tiny Fast Private & Secure : 100,000,000+\n",
      "Viber Messenger : 500,000,000+\n",
      "WeChat : 100,000,000+\n",
      "Yahoo Mail – Stay Organized : 100,000,000+\n",
      "BBM - Free Calls & Messages : 100,000,000+\n",
      "\n"
     ]
    }
   ],
   "source": [
    "# Creating a function for exploring android giant apps\n",
    "def exploring_android_giant_apps(category_name):\n",
    "    print(category_name)\n",
    "    for app in android_final:\n",
    "        app_name = app[0]\n",
    "        category = app[1]\n",
    "        if category == category_name:\n",
    "            number_installs = app[5]\n",
    "            number_installs = number_installs.replace('+', '').replace(',', '')\n",
    "            if float(number_installs) >= 100000000:\n",
    "                print(app_name, ':', app[5])\n",
    "    return ''\n",
    "                \n",
    "# Exploring android giant apps for 'COMMUNICATION' category\n",
    "print(exploring_android_giant_apps('COMMUNICATION'))                "
   ]
  },
  {
   "cell_type": "markdown",
   "metadata": {},
   "source": [
    "If to exclude from consideration these numerous giant apps of *COMMUNICATION* category, the average would be reduced roughly 10 times:"
   ]
  },
  {
   "cell_type": "code",
   "execution_count": 239,
   "metadata": {
    "collapsed": false
   },
   "outputs": [
    {
     "name": "stdout",
     "output_type": "stream",
     "text": [
      "COMMUNICATION\n",
      "Average number of installs\n",
      "With giant apps:      38456119.167247385\n",
      "Without giant apps:   3603485.3884615386\n",
      "\n"
     ]
    }
   ],
   "source": [
    "# Creating a function for excluding android giant apps and recalculating the average number of installs\n",
    "def android_apps_without_giants(category_name):\n",
    "    all_apps = []\n",
    "    under_100_millions = []\n",
    "\n",
    "    for app in android_final:\n",
    "        category = app[1]\n",
    "        number_installs = app[5]\n",
    "        number_installs = number_installs.replace(',', '').replace('+', '')\n",
    "        if category == category_name:\n",
    "            all_apps.append(float(number_installs))\n",
    "            if float(number_installs) < 100000000:\n",
    "                under_100_millions.append(float(number_installs))\n",
    "            \n",
    "    average_number_installs_all = sum(all_apps) / len(all_apps)    \n",
    "    average_number_installs_without_giants = sum(under_100_millions) / len(under_100_millions)\n",
    "    \n",
    "    print('Average number of installs')\n",
    "    print('With giant apps:     ',  average_number_installs_all)\n",
    "    print('Without giant apps:  ',  average_number_installs_without_giants)\n",
    "    return ''\n",
    "\n",
    "# Excluding android giant apps and recalculating the average number of installs for 'COMMUNICATION' category\n",
    "print('COMMUNICATION')\n",
    "print(android_apps_without_giants('COMMUNICATION'))"
   ]
  },
  {
   "cell_type": "markdown",
   "metadata": {},
   "source": [
    "The same tendency is traced for all the other categories that look the most popular ones:"
   ]
  },
  {
   "cell_type": "code",
   "execution_count": 240,
   "metadata": {
    "collapsed": false
   },
   "outputs": [
    {
     "name": "stdout",
     "output_type": "stream",
     "text": [
      "VIDEO_PLAYERS\n",
      "YouTube : 1,000,000,000+\n",
      "Motorola Gallery : 100,000,000+\n",
      "VLC for Android : 100,000,000+\n",
      "Google Play Movies & TV : 1,000,000,000+\n",
      "MX Player : 500,000,000+\n",
      "Dubsmash : 100,000,000+\n",
      "VivaVideo - Video Editor & Photo Movie : 100,000,000+\n",
      "VideoShow-Video Editor, Video Maker, Beauty Camera : 100,000,000+\n",
      "Motorola FM Radio : 100,000,000+\n",
      "\n",
      "Average number of installs\n",
      "With giant apps:      24727872.452830188\n",
      "Without giant apps:   5544878.133333334\n",
      "\n",
      "SOCIAL\n",
      "Facebook : 1,000,000,000+\n",
      "Facebook Lite : 500,000,000+\n",
      "Tumblr : 100,000,000+\n",
      "Pinterest : 100,000,000+\n",
      "Google+ : 1,000,000,000+\n",
      "Badoo - Free Chat & Dating App : 100,000,000+\n",
      "Tango - Live Video Broadcast : 100,000,000+\n",
      "Instagram : 1,000,000,000+\n",
      "Snapchat : 500,000,000+\n",
      "LinkedIn : 100,000,000+\n",
      "Tik Tok - including musical.ly : 100,000,000+\n",
      "BIGO LIVE - Live Stream : 100,000,000+\n",
      "VK : 100,000,000+\n",
      "\n",
      "Average number of installs\n",
      "With giant apps:      23253652.127118643\n",
      "Without giant apps:   3084582.5201793723\n",
      "\n",
      "PHOTOGRAPHY\n",
      "B612 - Beauty & Filter Camera : 100,000,000+\n",
      "YouCam Makeup - Magic Selfie Makeovers : 100,000,000+\n",
      "Sweet Selfie - selfie camera, beauty cam, photo edit : 100,000,000+\n",
      "Google Photos : 1,000,000,000+\n",
      "Retrica : 100,000,000+\n",
      "Photo Editor Pro : 100,000,000+\n",
      "BeautyPlus - Easy Photo Editor & Selfie Camera : 100,000,000+\n",
      "PicsArt Photo Studio: Collage Maker & Pic Editor : 100,000,000+\n",
      "Photo Collage Editor : 100,000,000+\n",
      "Z Camera - Photo Editor, Beauty Selfie, Collage : 100,000,000+\n",
      "PhotoGrid: Video & Pic Collage Maker, Photo Editor : 100,000,000+\n",
      "Candy Camera - selfie, beauty camera, photo editor : 100,000,000+\n",
      "YouCam Perfect - Selfie Photo Editor : 100,000,000+\n",
      "Camera360: Selfie Photo Editor with Funny Sticker : 100,000,000+\n",
      "S Photo Editor - Collage Maker , Photo Collage : 100,000,000+\n",
      "AR effect : 100,000,000+\n",
      "Cymera Camera- Photo Editor, Filter,Collage,Layout : 100,000,000+\n",
      "LINE Camera - Photo editor : 100,000,000+\n",
      "Photo Editor Collage Maker Pro : 100,000,000+\n",
      "\n",
      "Average number of installs\n",
      "With giant apps:      17840110.40229885\n",
      "Without giant apps:   7670532.29338843\n",
      "\n",
      "PRODUCTIVITY\n",
      "Microsoft Word : 500,000,000+\n",
      "Microsoft Outlook : 100,000,000+\n",
      "Microsoft OneDrive : 100,000,000+\n",
      "Microsoft OneNote : 100,000,000+\n",
      "Google Keep : 100,000,000+\n",
      "ES File Explorer File Manager : 100,000,000+\n",
      "Dropbox : 500,000,000+\n",
      "Google Docs : 100,000,000+\n",
      "Microsoft PowerPoint : 100,000,000+\n",
      "Samsung Notes : 100,000,000+\n",
      "SwiftKey Keyboard : 100,000,000+\n",
      "Google Drive : 1,000,000,000+\n",
      "Adobe Acrobat Reader : 100,000,000+\n",
      "Google Sheets : 100,000,000+\n",
      "Microsoft Excel : 100,000,000+\n",
      "WPS Office - Word, Docs, PDF, Note, Slide & Sheet : 100,000,000+\n",
      "Google Slides : 100,000,000+\n",
      "ColorNote Notepad Notes : 100,000,000+\n",
      "Evernote – Organizer, Planner for Notes & Memos : 100,000,000+\n",
      "Google Calendar : 500,000,000+\n",
      "Cloud Print : 500,000,000+\n",
      "CamScanner - Phone PDF Creator : 100,000,000+\n",
      "\n",
      "Average number of installs\n",
      "With giant apps:      16787331.344927534\n",
      "Without giant apps:   3379657.318885449\n",
      "\n",
      "GAME\n",
      "Sonic Dash : 100,000,000+\n",
      "PAC-MAN : 100,000,000+\n",
      "Roll the Ball® - slide puzzle : 100,000,000+\n",
      "Piano Tiles 2™ : 100,000,000+\n",
      "Pokémon GO : 100,000,000+\n",
      "Extreme Car Driving Simulator : 100,000,000+\n",
      "Trivia Crack : 100,000,000+\n",
      "Angry Birds 2 : 100,000,000+\n",
      "Candy Crush Saga : 500,000,000+\n",
      "8 Ball Pool : 100,000,000+\n",
      "Subway Surfers : 1,000,000,000+\n",
      "Candy Crush Soda Saga : 100,000,000+\n",
      "Clash Royale : 100,000,000+\n",
      "Clash of Clans : 100,000,000+\n",
      "Plants vs. Zombies FREE : 100,000,000+\n",
      "Pou : 500,000,000+\n",
      "Flow Free : 100,000,000+\n",
      "My Talking Angela : 100,000,000+\n",
      "slither.io : 100,000,000+\n",
      "Cooking Fever : 100,000,000+\n",
      "Yes day : 100,000,000+\n",
      "Score! Hero : 100,000,000+\n",
      "Dream League Soccer 2018 : 100,000,000+\n",
      "My Talking Tom : 500,000,000+\n",
      "Sniper 3D Gun Shooter: Free Shooting Games - FPS : 100,000,000+\n",
      "Zombie Tsunami : 100,000,000+\n",
      "Helix Jump : 100,000,000+\n",
      "Crossy Road : 100,000,000+\n",
      "Temple Run 2 : 500,000,000+\n",
      "Talking Tom Gold Run : 100,000,000+\n",
      "Agar.io : 100,000,000+\n",
      "Bus Rush: Subway Edition : 100,000,000+\n",
      "Traffic Racer : 100,000,000+\n",
      "Hill Climb Racing : 100,000,000+\n",
      "Angry Birds Rio : 100,000,000+\n",
      "Cut the Rope FULL FREE : 100,000,000+\n",
      "Hungry Shark Evolution : 100,000,000+\n",
      "Angry Birds Classic : 100,000,000+\n",
      "Hill Climb Racing 2 : 100,000,000+\n",
      "Jetpack Joyride : 100,000,000+\n",
      "Super Mario Run : 100,000,000+\n",
      "Glow Hockey : 100,000,000+\n",
      "Asphalt 8: Airborne : 100,000,000+\n",
      "Lep's World 2 🍀🍀 : 100,000,000+\n",
      "Fruit Ninja® : 100,000,000+\n",
      "Vector : 100,000,000+\n",
      "Dr. Driving : 100,000,000+\n",
      "Bike Race Free - Top Motorcycle Racing Games : 100,000,000+\n",
      "Smash Hit : 100,000,000+\n",
      "Temple Run : 100,000,000+\n",
      "Geometry Dash Lite : 100,000,000+\n",
      "Ant Smasher by Best Cool & Fun Games : 100,000,000+\n",
      "Angry Birds Star Wars : 100,000,000+\n",
      "Mobile Legends: Bang Bang : 100,000,000+\n",
      "Banana Kong : 100,000,000+\n",
      "Skater Boy : 100,000,000+\n",
      "Shadow Fight 2 : 100,000,000+\n",
      "Modern Combat 5: eSports FPS : 100,000,000+\n",
      "Garena Free Fire : 100,000,000+\n",
      "\n",
      "Average number of installs\n",
      "With giant apps:      15588015.603248259\n",
      "Without giant apps:   6272564.694894147\n",
      "\n",
      "TRAVEL_AND_LOCAL\n",
      "Booking.com Travel Deals : 100,000,000+\n",
      "TripAdvisor Hotels Flights Restaurants Attractions : 100,000,000+\n",
      "Maps - Navigate & Explore : 1,000,000,000+\n",
      "Google Street View : 1,000,000,000+\n",
      "Google Earth : 100,000,000+\n",
      "\n",
      "Average number of installs\n",
      "With giant apps:      13984077.710144928\n",
      "Without giant apps:   2944079.6336633665\n",
      "\n"
     ]
    }
   ],
   "source": [
    "print(exploring_android_giant_apps('VIDEO_PLAYERS')) \n",
    "\n",
    "print(android_apps_without_giants('VIDEO_PLAYERS'))\n",
    "\n",
    "print(exploring_android_giant_apps('SOCIAL')) \n",
    "\n",
    "print(android_apps_without_giants('SOCIAL'))\n",
    "\n",
    "print(exploring_android_giant_apps('PHOTOGRAPHY')) \n",
    "\n",
    "print(android_apps_without_giants('PHOTOGRAPHY'))\n",
    "\n",
    "print(exploring_android_giant_apps('PRODUCTIVITY')) \n",
    "\n",
    "print(android_apps_without_giants('PRODUCTIVITY'))\n",
    "\n",
    "print(exploring_android_giant_apps('GAME')) \n",
    "\n",
    "print(android_apps_without_giants('GAME'))\n",
    "\n",
    "print(exploring_android_giant_apps('TRAVEL_AND_LOCAL')) \n",
    "\n",
    "print(android_apps_without_giants('TRAVEL_AND_LOCAL'))"
   ]
  },
  {
   "cell_type": "markdown",
   "metadata": {},
   "source": [
    "This investigation reveals some insights for each of the most popular genres.\n",
    "- *COMMUNICATION* is oversaturated by numerous giant apps, with a big gap with all the others. This implies huge competition in given sphere, with very limited chance for newcomers. Apart from that, this category doesn't appear in a clear way among the genres of the App Store, and our aim is to recommend an app profile that shows potential for being profitable on both the App Store and Google Play.\n",
    "- *VIDEO_PLAYERS*, again, is oversaturated by some giant apps (even though fewer than the *COMMUNICATION* genre), with a big gap with all the others. Also, this category doesn't appear clearly among the genres of the App Store, only as a part of the *Photo & Video* genre, so it's impossible to compare these two genres in a direct way. In addition, the *Photo & Video* genre was not one of the most popular on the App Store.\n",
    "- *SOCIAL*. This category is also dominated by few famous apps like Facebook and Pinterest. However, some of these apps are quite specialized (LinkedIn used for work, Badoo for dating, etc), so their functions are different and the apps are not substitutable. Coming up with some interesting thematic social network could be a good idea for our apps, also because the average of the installs is still quite high even after excluding the giant apps. On the App Store we also found the corresponding genre *Social Networking* being highly potential. Hence this sphere can become profitable on both markets, which indeed is our ultimate goal.\n",
    "- *PHOTOGRAPHY* category shows high average number of installs  even after removing the giant apps. Despite this, and despite being one of the most common genres on both markets, it is not identified as one of the most popular genres on the App Store. In addition, this category is represented mostly by photo editors, presumably used mainly for work by professional photographers. This work requires high concentration, so in-app ads probably will not meet suitable target audience here.\n",
    "- *PRODUCTIVITY* genre is heavily dominated by famous apps. In addition, it doesn't result to be very popular on the App Store, even being among the most common ones.\n",
    "- *GAME*. This category is the most common on the App Store and the second common on Google Play. On Google Play it shows also hign number of installs after removing numerous giant apps. However on the App Store it is not particularly popular. Anyway, given certain potential of this genre, we can consider the idea of creating a game-based social network (since we have already defined this category as possibly profitable). It can be, for instance, an online quiz, quest, some other online games where the involvement of several teams (or several participants) currently available online is required. In this case, for being effective in capturing attention, the in-app ads should appear between games while people are waiting for the results and can percept a new information without being distracted from the game. \n",
    "- *TRAVEL_AND_LOCAL* category has very few (but strongly influencing the average number of installs) dominant apps, which are mostly about maps and hotels. According to our investigation of the most common genres, this category is in the middle in both data sets (the App Store and Google Play). Among the iOS apps, it is not particularly popular, so it  doesn't fit our purposes. However, we can use this idea for our apps: creating a social network related to travelling. For example, it can be an app dedicated to searching for co-travellers or a company to travel together, discussing itineraries, what to visit in a certain place, etc.\n",
    "\n",
    "When we were investigating the app genres of the App Store, we defined as potential also the *Book* profile. For Google Play, the corresponding category (*BOOKS_AND_REFERENCE*) doesn't appear one of the most popular and, practically, is on the 11th place among the 33 categories. It could be also difficult to  extract from here some ideas for a social networking app. Hence to create apps profitable on both markets, books don't seem to be the best chioce.\n",
    "## Conclusions\n",
    "All in all, after a thorough analysis of the most common and the most popular app genres of both datasets, the **SOCIAL NETWORKING** profile was suggested as the most interesting for our purposes, i.e. creating profitable free English apps with the revenue based on in-app ads for both the App Store and Google play. To stand out in the existing apps of this kind and to overcome the competition, a right theme has to be selected. As some possible ideas, it was proposed to create an online quiz, quest, some other online games with a lot of people/teams involved, or a social networking app dedicated to searching for co-travellers, discussing itineraries and places to visit."
   ]
  }
 ],
 "metadata": {
  "kernelspec": {
   "display_name": "Python 3",
   "language": "python",
   "name": "python3"
  },
  "language_info": {
   "codemirror_mode": {
    "name": "ipython",
    "version": 3
   },
   "file_extension": ".py",
   "mimetype": "text/x-python",
   "name": "python",
   "nbconvert_exporter": "python",
   "pygments_lexer": "ipython3",
   "version": "3.4.3"
  }
 },
 "nbformat": 4,
 "nbformat_minor": 2
}
