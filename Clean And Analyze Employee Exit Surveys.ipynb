{
 "cells": [
  {
   "cell_type": "markdown",
   "metadata": {
    "collapsed": true
   },
   "source": [
    "# Cleaning and Analyzing Employee Exit Surveys\n",
    "## Introduction\n",
    "In this project, we'll work with exit surveys from employees of the Department of Education, Training and Employment (DETE) and the Technical and Further Education (TAFE) institute in Queensland, Australia. The corresponding datasets can be found here: [DETE](https://data.gov.au/dataset/ds-qld-fe96ff30-d157-4a81-851d-215f2a0fe26d/details?q=exit%20survey) and [TAFE](https://data.gov.au/dataset/ds-qld-89970a3b-182b-41ea-aea2-6f9f17b5907e/details?q=exit%20survey). \n",
    "\n",
    "The aim  of this project is to find the answers to the following questions:\n",
    "\n",
    "- Are employees who only worked for the institutes for a short period of time resigning due to some kind of dissatisfaction? What about employees who have been there longer?\n",
    "- Are younger employees resigning due to some kind of dissatisfaction? What about older employees?\n",
    "\n",
    "To answer these questions, we are going to combine the results for both surveys. However, although both used the same survey template, one of them customized some of the answers. In addition, data dictionaries weren't provided with the datasets, so for the purposes of this project, we'll use our general knowledge to define the columns.\n",
    "### Summary of Results\n",
    "The main findings from this project are that the employees who worked longer in the institute / the older employees are more likely to resign because of dissatisfaction than those who worked for a shorter period / the younger employees, and that the percentage of dissatisfied employees from the DETE institute is twice higher than from the TAFE. \n",
    "\n",
    "## Data Downloading and Initial Data Exploration\n",
    "We'll start by importing the Python libraries, reading the datasets into pandas and exploring them."
   ]
  },
  {
   "cell_type": "code",
   "execution_count": 1,
   "metadata": {
    "collapsed": true
   },
   "outputs": [],
   "source": [
    "# Importing the libraries\n",
    "import pandas as pd\n",
    "import numpy as np\n",
    "import matplotlib.pyplot as plt"
   ]
  },
  {
   "cell_type": "code",
   "execution_count": 2,
   "metadata": {
    "collapsed": true
   },
   "outputs": [],
   "source": [
    "# Reading the datasets into pandas\n",
    "dete_survey = pd.read_csv('dete_survey.csv')\n",
    "tafe_survey = pd.read_csv('tafe_survey.csv')"
   ]
  },
  {
   "cell_type": "markdown",
   "metadata": {},
   "source": [
    "### DETE Dataset Exploration"
   ]
  },
  {
   "cell_type": "code",
   "execution_count": 3,
   "metadata": {
    "collapsed": false
   },
   "outputs": [
    {
     "data": {
      "text/plain": [
       "(822, 56)"
      ]
     },
     "execution_count": 3,
     "metadata": {},
     "output_type": "execute_result"
    }
   ],
   "source": [
    "dete_survey.shape"
   ]
  },
  {
   "cell_type": "markdown",
   "metadata": {},
   "source": [
    "The DETE dataset counts 822 rows and 56 columns."
   ]
  },
  {
   "cell_type": "code",
   "execution_count": 4,
   "metadata": {
    "collapsed": false
   },
   "outputs": [
    {
     "data": {
      "text/plain": [
       "Index(['ID', 'SeparationType', 'Cease Date', 'DETE Start Date',\n",
       "       'Role Start Date', 'Position', 'Classification', 'Region',\n",
       "       'Business Unit', 'Employment Status', 'Career move to public sector',\n",
       "       'Career move to private sector', 'Interpersonal conflicts',\n",
       "       'Job dissatisfaction', 'Dissatisfaction with the department',\n",
       "       'Physical work environment', 'Lack of recognition',\n",
       "       'Lack of job security', 'Work location', 'Employment conditions',\n",
       "       'Maternity/family', 'Relocation', 'Study/Travel', 'Ill Health',\n",
       "       'Traumatic incident', 'Work life balance', 'Workload',\n",
       "       'None of the above', 'Professional Development',\n",
       "       'Opportunities for promotion', 'Staff morale', 'Workplace issue',\n",
       "       'Physical environment', 'Worklife balance',\n",
       "       'Stress and pressure support', 'Performance of supervisor',\n",
       "       'Peer support', 'Initiative', 'Skills', 'Coach', 'Career Aspirations',\n",
       "       'Feedback', 'Further PD', 'Communication', 'My say', 'Information',\n",
       "       'Kept informed', 'Wellness programs', 'Health & Safety', 'Gender',\n",
       "       'Age', 'Aboriginal', 'Torres Strait', 'South Sea', 'Disability',\n",
       "       'NESB'],\n",
       "      dtype='object')"
      ]
     },
     "execution_count": 4,
     "metadata": {},
     "output_type": "execute_result"
    }
   ],
   "source": [
    "dete_survey.columns"
   ]
  },
  {
   "cell_type": "markdown",
   "metadata": {},
   "source": [
    "The definitions of the data for the majority of the columns is intuitively understandable from the column names. The style of column naming is not consistent: pascal case, title case, using \"and\" or &."
   ]
  },
  {
   "cell_type": "code",
   "execution_count": 5,
   "metadata": {
    "collapsed": false
   },
   "outputs": [
    {
     "name": "stdout",
     "output_type": "stream",
     "text": [
      "<class 'pandas.core.frame.DataFrame'>\n",
      "RangeIndex: 822 entries, 0 to 821\n",
      "Data columns (total 56 columns):\n",
      "ID                                     822 non-null int64\n",
      "SeparationType                         822 non-null object\n",
      "Cease Date                             822 non-null object\n",
      "DETE Start Date                        822 non-null object\n",
      "Role Start Date                        822 non-null object\n",
      "Position                               817 non-null object\n",
      "Classification                         455 non-null object\n",
      "Region                                 822 non-null object\n",
      "Business Unit                          126 non-null object\n",
      "Employment Status                      817 non-null object\n",
      "Career move to public sector           822 non-null bool\n",
      "Career move to private sector          822 non-null bool\n",
      "Interpersonal conflicts                822 non-null bool\n",
      "Job dissatisfaction                    822 non-null bool\n",
      "Dissatisfaction with the department    822 non-null bool\n",
      "Physical work environment              822 non-null bool\n",
      "Lack of recognition                    822 non-null bool\n",
      "Lack of job security                   822 non-null bool\n",
      "Work location                          822 non-null bool\n",
      "Employment conditions                  822 non-null bool\n",
      "Maternity/family                       822 non-null bool\n",
      "Relocation                             822 non-null bool\n",
      "Study/Travel                           822 non-null bool\n",
      "Ill Health                             822 non-null bool\n",
      "Traumatic incident                     822 non-null bool\n",
      "Work life balance                      822 non-null bool\n",
      "Workload                               822 non-null bool\n",
      "None of the above                      822 non-null bool\n",
      "Professional Development               808 non-null object\n",
      "Opportunities for promotion            735 non-null object\n",
      "Staff morale                           816 non-null object\n",
      "Workplace issue                        788 non-null object\n",
      "Physical environment                   817 non-null object\n",
      "Worklife balance                       815 non-null object\n",
      "Stress and pressure support            810 non-null object\n",
      "Performance of supervisor              813 non-null object\n",
      "Peer support                           812 non-null object\n",
      "Initiative                             813 non-null object\n",
      "Skills                                 811 non-null object\n",
      "Coach                                  767 non-null object\n",
      "Career Aspirations                     746 non-null object\n",
      "Feedback                               792 non-null object\n",
      "Further PD                             768 non-null object\n",
      "Communication                          814 non-null object\n",
      "My say                                 812 non-null object\n",
      "Information                            816 non-null object\n",
      "Kept informed                          813 non-null object\n",
      "Wellness programs                      766 non-null object\n",
      "Health & Safety                        793 non-null object\n",
      "Gender                                 798 non-null object\n",
      "Age                                    811 non-null object\n",
      "Aboriginal                             16 non-null object\n",
      "Torres Strait                          3 non-null object\n",
      "South Sea                              7 non-null object\n",
      "Disability                             23 non-null object\n",
      "NESB                                   32 non-null object\n",
      "dtypes: bool(18), int64(1), object(37)\n",
      "memory usage: 258.6+ KB\n"
     ]
    }
   ],
   "source": [
    "dete_survey.info()"
   ]
  },
  {
   "cell_type": "markdown",
   "metadata": {},
   "source": [
    "The most common data type in the dataset is string (object). The column `'ID'` has integer data type, all the others - boolean. About half of the columns contain missing values, up to more than 96% in the last 5 columns."
   ]
  },
  {
   "cell_type": "code",
   "execution_count": 6,
   "metadata": {
    "collapsed": false
   },
   "outputs": [
    {
     "name": "stdout",
     "output_type": "stream",
     "text": [
      "   ID                    SeparationType Cease Date DETE Start Date  \\\n",
      "0   1             Ill Health Retirement    08/2012            1984   \n",
      "1   2  Voluntary Early Retirement (VER)    08/2012      Not Stated   \n",
      "2   3  Voluntary Early Retirement (VER)    05/2012            2011   \n",
      "3   4         Resignation-Other reasons    05/2012            2005   \n",
      "4   5                    Age Retirement    05/2012            1970   \n",
      "5   6         Resignation-Other reasons    05/2012            1994   \n",
      "6   7                    Age Retirement    05/2012            1972   \n",
      "7   8                    Age Retirement    05/2012            1988   \n",
      "8   9         Resignation-Other reasons    07/2012            2009   \n",
      "9  10        Resignation-Other employer       2012            1997   \n",
      "\n",
      "  Role Start Date                                      Position  \\\n",
      "0            2004                                Public Servant   \n",
      "1      Not Stated                                Public Servant   \n",
      "2            2011                               Schools Officer   \n",
      "3            2006                                       Teacher   \n",
      "4            1989  Head of Curriculum/Head of Special Education   \n",
      "5            1997                              Guidance Officer   \n",
      "6            2007                                       Teacher   \n",
      "7            1990                                  Teacher Aide   \n",
      "8            2009                                       Teacher   \n",
      "9            2008                                  Teacher Aide   \n",
      "\n",
      "  Classification                    Region                      Business Unit  \\\n",
      "0        A01-A04            Central Office  Corporate Strategy and Peformance   \n",
      "1        AO5-AO7            Central Office  Corporate Strategy and Peformance   \n",
      "2            NaN            Central Office               Education Queensland   \n",
      "3        Primary        Central Queensland                                NaN   \n",
      "4            NaN                South East                                NaN   \n",
      "5            NaN            Central Office               Education Queensland   \n",
      "6      Secondary  Darling Downs South West                                NaN   \n",
      "7            NaN               North Coast                                NaN   \n",
      "8      Secondary          North Queensland                                NaN   \n",
      "9            NaN                Not Stated                                NaN   \n",
      "\n",
      "     Employment Status  ...   Kept informed  Wellness programs  \\\n",
      "0  Permanent Full-time  ...               N                  N   \n",
      "1  Permanent Full-time  ...               N                  N   \n",
      "2  Permanent Full-time  ...               N                  N   \n",
      "3  Permanent Full-time  ...               A                  N   \n",
      "4  Permanent Full-time  ...               N                  A   \n",
      "5  Permanent Full-time  ...               D                  D   \n",
      "6  Permanent Part-time  ...               D                  D   \n",
      "7  Permanent Part-time  ...              SA                NaN   \n",
      "8  Permanent Full-time  ...               A                  D   \n",
      "9  Permanent Part-time  ...              SD                 SD   \n",
      "\n",
      "   Health & Safety  Gender          Age  Aboriginal  Torres Strait  South Sea  \\\n",
      "0                N    Male        56-60         NaN            NaN        NaN   \n",
      "1                N    Male        56-60         NaN            NaN        NaN   \n",
      "2                N    Male  61 or older         NaN            NaN        NaN   \n",
      "3                A  Female        36-40         NaN            NaN        NaN   \n",
      "4                M  Female  61 or older         NaN            NaN        NaN   \n",
      "5              NaN  Female        41-45         NaN            NaN        NaN   \n",
      "6               SD  Female        56-60         NaN            NaN        NaN   \n",
      "7               SA  Female  61 or older         NaN            NaN        NaN   \n",
      "8                N  Female        31-35         NaN            NaN        NaN   \n",
      "9               SD  Female        46-50         NaN            NaN        NaN   \n",
      "\n",
      "   Disability  NESB  \n",
      "0         NaN   Yes  \n",
      "1         NaN   NaN  \n",
      "2         NaN   NaN  \n",
      "3         NaN   NaN  \n",
      "4         NaN   NaN  \n",
      "5         NaN   NaN  \n",
      "6         NaN   NaN  \n",
      "7         NaN   NaN  \n",
      "8         NaN   NaN  \n",
      "9         NaN   NaN  \n",
      "\n",
      "[10 rows x 56 columns]\n"
     ]
    }
   ],
   "source": [
    "print(dete_survey.head(10))"
   ]
  },
  {
   "cell_type": "markdown",
   "metadata": {},
   "source": [
    "From here we can make some new observations.\n",
    "\n",
    "- `'Cease Date'` is represented in at least 2 formats: mm/YYYY and YYYY.\n",
    "- `'DETE Start Date'` and `'Role Start Date'` can have value \"Not Stated\", which practically means a missing value.\n",
    "- The columns `'Kept informed'`, `'Wellness programs'`, and `'Health & Safety'` are presented in denotations, and we don't have any legend to decifer them. In addition, these columns don't look valuable for answering our questions, so most probably we'll have to delete them.\n",
    "\n",
    "Let's not explore the \"hidden\" columns (from `'Employment Status'` to `'Kept informed'`, not inclusive)."
   ]
  },
  {
   "cell_type": "code",
   "execution_count": 7,
   "metadata": {
    "collapsed": false
   },
   "outputs": [
    {
     "name": "stdout",
     "output_type": "stream",
     "text": [
      "   Career move to public sector  Career move to private sector  \\\n",
      "0                          True                          False   \n",
      "1                         False                          False   \n",
      "2                         False                          False   \n",
      "3                         False                           True   \n",
      "4                         False                          False   \n",
      "\n",
      "   Interpersonal conflicts  Job dissatisfaction  \\\n",
      "0                    False                 True   \n",
      "1                    False                False   \n",
      "2                    False                False   \n",
      "3                    False                False   \n",
      "4                    False                False   \n",
      "\n",
      "   Dissatisfaction with the department  Physical work environment  \\\n",
      "0                                False                      False   \n",
      "1                                False                      False   \n",
      "2                                False                      False   \n",
      "3                                False                      False   \n",
      "4                                False                      False   \n",
      "\n",
      "   Lack of recognition  Lack of job security  Work location  \\\n",
      "0                 True                 False          False   \n",
      "1                False                 False          False   \n",
      "2                False                 False          False   \n",
      "3                False                 False          False   \n",
      "4                False                 False          False   \n",
      "\n",
      "   Employment conditions  Maternity/family  Relocation  Study/Travel  \\\n",
      "0                  False             False       False         False   \n",
      "1                  False             False       False         False   \n",
      "2                  False             False       False         False   \n",
      "3                  False             False       False         False   \n",
      "4                  False             False       False         False   \n",
      "\n",
      "   Ill Health  Traumatic incident  Work life balance  Workload  \\\n",
      "0       False               False              False     False   \n",
      "1       False               False              False     False   \n",
      "2       False               False              False     False   \n",
      "3       False               False              False     False   \n",
      "4       False               False               True     False   \n",
      "\n",
      "   None of the above Professional Development Opportunities for promotion  \n",
      "0               True                        A                           A  \n",
      "1              False                        A                           A  \n",
      "2               True                        N                           N  \n",
      "3              False                        A                           N  \n",
      "4              False                        A                           A  \n"
     ]
    }
   ],
   "source": [
    "# Exploring the \"hidden\" columns \n",
    "print(dete_survey.iloc[:5, 10:30])"
   ]
  },
  {
   "cell_type": "markdown",
   "metadata": {},
   "source": [
    "Here almost all the columns are boolean and seem to be relevant to our analysis. The last 2 columns from this selection are again the same denotations without legend which we have seen before."
   ]
  },
  {
   "cell_type": "code",
   "execution_count": 8,
   "metadata": {
    "collapsed": false
   },
   "outputs": [
    {
     "name": "stdout",
     "output_type": "stream",
     "text": [
      "  Staff morale Workplace issue Physical environment Worklife balance  \\\n",
      "0            N               N                    N                A   \n",
      "1            N               N                    N                N   \n",
      "2            N               N                    N                N   \n",
      "3            N               N                    A                A   \n",
      "4            N               N                    D                D   \n",
      "\n",
      "  Stress and pressure support Performance of supervisor Peer support  \\\n",
      "0                           A                         A            A   \n",
      "1                           A                         A            A   \n",
      "2                           N                         N            N   \n",
      "3                           N                         N            A   \n",
      "4                           N                         A            A   \n",
      "\n",
      "  Initiative Skills Coach Career Aspirations Feedback Further PD  \\\n",
      "0          N      N     N                  A        A          A   \n",
      "1          N      N     N                  A        A          A   \n",
      "2          N      N     N                  N        N          N   \n",
      "3          A      A     A                  A        A          A   \n",
      "4          A      A     A                  A       SA         SA   \n",
      "\n",
      "  Communication My say Information  \n",
      "0             N      A           A  \n",
      "1             N      A           A  \n",
      "2             A      A           N  \n",
      "3             A      A           A  \n",
      "4             D      D           A  \n"
     ]
    }
   ],
   "source": [
    "# Exploring the \"hidden\" columns\n",
    "print(dete_survey.iloc[:5, 30:46])"
   ]
  },
  {
   "cell_type": "markdown",
   "metadata": {},
   "source": [
    "We see that the rest of the \"hidden\" columns are the same denotations without legend. Apart from the fact that we don't know their meaning, they seem also irrelevant (or at least not in an explicit way) to our further analysis of dissatisfaction issues, so they are candidates to be deleted from the dataset.\n",
    "\n",
    "Let's take a closer look at some columns, especially focusing on missing values."
   ]
  },
  {
   "cell_type": "code",
   "execution_count": 9,
   "metadata": {
    "collapsed": false
   },
   "outputs": [
    {
     "data": {
      "text/plain": [
       "Metropolitan                135\n",
       "Central Office              130\n",
       "South East                  108\n",
       "Not Stated                  105\n",
       "Darling Downs South West     95\n",
       "Central Queensland           84\n",
       "North Coast                  75\n",
       "North Queensland             53\n",
       "Far North Queensland         37\n",
       "Name: Region, dtype: int64"
      ]
     },
     "execution_count": 9,
     "metadata": {},
     "output_type": "execute_result"
    }
   ],
   "source": [
    "dete_survey['Region'].value_counts(dropna=False)"
   ]
  },
  {
   "cell_type": "markdown",
   "metadata": {},
   "source": [
    "We see that for the `'Region'` column missing values are represented by \"Not Stated\"."
   ]
  },
  {
   "cell_type": "code",
   "execution_count": 10,
   "metadata": {
    "collapsed": false
   },
   "outputs": [
    {
     "data": {
      "text/plain": [
       "NaN                                           696\n",
       "Education Queensland                           54\n",
       "Information and Technologies                   26\n",
       "Training and Tertiary Education Queensland     12\n",
       "Other                                          11\n",
       "Human Resources                                 6\n",
       "Corporate Strategy and Peformance               5\n",
       "Early Childhood Education and Care              3\n",
       "Policy, Research, Legislation                   2\n",
       "Infrastructure                                  2\n",
       "Calliope State School                           1\n",
       "Pacific Pines SHS                               1\n",
       "Finance                                         1\n",
       "Corporate Procurement                           1\n",
       "Indigenous Education and Training Futures       1\n",
       "Name: Business Unit, dtype: int64"
      ]
     },
     "execution_count": 10,
     "metadata": {},
     "output_type": "execute_result"
    }
   ],
   "source": [
    "dete_survey['Business Unit'].value_counts(dropna=False)"
   ]
  },
  {
   "cell_type": "markdown",
   "metadata": {},
   "source": [
    "The `'Business Unit'` contains about 85% of missing values."
   ]
  },
  {
   "cell_type": "code",
   "execution_count": 11,
   "metadata": {
    "collapsed": false
   },
   "outputs": [
    {
     "data": {
      "text/plain": [
       "Permanent Full-time    434\n",
       "Permanent Part-time    308\n",
       "Temporary Full-time     41\n",
       "Temporary Part-time     24\n",
       "Casual                  10\n",
       "NaN                      5\n",
       "Name: Employment Status, dtype: int64"
      ]
     },
     "execution_count": 11,
     "metadata": {},
     "output_type": "execute_result"
    }
   ],
   "source": [
    "dete_survey['Employment Status'].value_counts(dropna=False)"
   ]
  },
  {
   "cell_type": "markdown",
   "metadata": {},
   "source": [
    "The most common value of `'Employment Status'` is \"Permanent Full-time\", followed by \"Permanent Part-time\", altogether amounting to 90% of all the values."
   ]
  },
  {
   "cell_type": "code",
   "execution_count": 12,
   "metadata": {
    "collapsed": false
   },
   "outputs": [
    {
     "data": {
      "text/plain": [
       "ID                                       0\n",
       "SeparationType                           0\n",
       "Cease Date                               0\n",
       "DETE Start Date                          0\n",
       "Role Start Date                          0\n",
       "Position                                 5\n",
       "Classification                         367\n",
       "Region                                   0\n",
       "Business Unit                          696\n",
       "Employment Status                        5\n",
       "Career move to public sector             0\n",
       "Career move to private sector            0\n",
       "Interpersonal conflicts                  0\n",
       "Job dissatisfaction                      0\n",
       "Dissatisfaction with the department      0\n",
       "Physical work environment                0\n",
       "Lack of recognition                      0\n",
       "Lack of job security                     0\n",
       "Work location                            0\n",
       "Employment conditions                    0\n",
       "Maternity/family                         0\n",
       "Relocation                               0\n",
       "Study/Travel                             0\n",
       "Ill Health                               0\n",
       "Traumatic incident                       0\n",
       "Work life balance                        0\n",
       "Workload                                 0\n",
       "None of the above                        0\n",
       "Professional Development                14\n",
       "Opportunities for promotion             87\n",
       "Staff morale                             6\n",
       "Workplace issue                         34\n",
       "Physical environment                     5\n",
       "Worklife balance                         7\n",
       "Stress and pressure support             12\n",
       "Performance of supervisor                9\n",
       "Peer support                            10\n",
       "Initiative                               9\n",
       "Skills                                  11\n",
       "Coach                                   55\n",
       "Career Aspirations                      76\n",
       "Feedback                                30\n",
       "Further PD                              54\n",
       "Communication                            8\n",
       "My say                                  10\n",
       "Information                              6\n",
       "Kept informed                            9\n",
       "Wellness programs                       56\n",
       "Health & Safety                         29\n",
       "Gender                                  24\n",
       "Age                                     11\n",
       "Aboriginal                             806\n",
       "Torres Strait                          819\n",
       "South Sea                              815\n",
       "Disability                             799\n",
       "NESB                                   790\n",
       "dtype: int64"
      ]
     },
     "execution_count": 12,
     "metadata": {},
     "output_type": "execute_result"
    }
   ],
   "source": [
    "# Finding the number of missing values per column\n",
    "dete_survey.isnull().sum()"
   ]
  },
  {
   "cell_type": "markdown",
   "metadata": {},
   "source": [
    "Apart from the above-mentioned last 5 columns (`'Aboriginal'`, `'Torres Strait'`, `'South Sea'`, `'Disability'`, `'NESB'`), almost totally consisting of missing values, the other columns with high percentage of missing values are `'Business Unit'` (85%), `'Classification'` (45%), `'Opportunities for promotion'` (11%), and `'Career Aspirations'` (9%).\n",
    "### TAFE Dataset Exploration\n",
    "Now we'll take a look at the second dataset."
   ]
  },
  {
   "cell_type": "code",
   "execution_count": 13,
   "metadata": {
    "collapsed": false
   },
   "outputs": [
    {
     "data": {
      "text/plain": [
       "(702, 72)"
      ]
     },
     "execution_count": 13,
     "metadata": {},
     "output_type": "execute_result"
    }
   ],
   "source": [
    "tafe_survey.shape"
   ]
  },
  {
   "cell_type": "markdown",
   "metadata": {},
   "source": [
    "The TAFE dataset counts 702 rows and 72 columns."
   ]
  },
  {
   "cell_type": "code",
   "execution_count": 14,
   "metadata": {
    "collapsed": false
   },
   "outputs": [
    {
     "data": {
      "text/plain": [
       "Index(['Record ID', 'Institute', 'WorkArea', 'CESSATION YEAR',\n",
       "       'Reason for ceasing employment',\n",
       "       'Contributing Factors. Career Move - Public Sector ',\n",
       "       'Contributing Factors. Career Move - Private Sector ',\n",
       "       'Contributing Factors. Career Move - Self-employment',\n",
       "       'Contributing Factors. Ill Health',\n",
       "       'Contributing Factors. Maternity/Family',\n",
       "       'Contributing Factors. Dissatisfaction',\n",
       "       'Contributing Factors. Job Dissatisfaction',\n",
       "       'Contributing Factors. Interpersonal Conflict',\n",
       "       'Contributing Factors. Study', 'Contributing Factors. Travel',\n",
       "       'Contributing Factors. Other', 'Contributing Factors. NONE',\n",
       "       'Main Factor. Which of these was the main factor for leaving?',\n",
       "       'InstituteViews. Topic:1. I feel the senior leadership had a clear vision and direction',\n",
       "       'InstituteViews. Topic:2. I was given access to skills training to help me do my job better',\n",
       "       'InstituteViews. Topic:3. I was given adequate opportunities for personal development',\n",
       "       'InstituteViews. Topic:4. I was given adequate opportunities for promotion within %Institute]Q25LBL%',\n",
       "       'InstituteViews. Topic:5. I felt the salary for the job was right for the responsibilities I had',\n",
       "       'InstituteViews. Topic:6. The organisation recognised when staff did good work',\n",
       "       'InstituteViews. Topic:7. Management was generally supportive of me',\n",
       "       'InstituteViews. Topic:8. Management was generally supportive of my team',\n",
       "       'InstituteViews. Topic:9. I was kept informed of the changes in the organisation which would affect me',\n",
       "       'InstituteViews. Topic:10. Staff morale was positive within the Institute',\n",
       "       'InstituteViews. Topic:11. If I had a workplace issue it was dealt with quickly',\n",
       "       'InstituteViews. Topic:12. If I had a workplace issue it was dealt with efficiently',\n",
       "       'InstituteViews. Topic:13. If I had a workplace issue it was dealt with discreetly',\n",
       "       'WorkUnitViews. Topic:14. I was satisfied with the quality of the management and supervision within my work unit',\n",
       "       'WorkUnitViews. Topic:15. I worked well with my colleagues',\n",
       "       'WorkUnitViews. Topic:16. My job was challenging and interesting',\n",
       "       'WorkUnitViews. Topic:17. I was encouraged to use my initiative in the course of my work',\n",
       "       'WorkUnitViews. Topic:18. I had sufficient contact with other people in my job',\n",
       "       'WorkUnitViews. Topic:19. I was given adequate support and co-operation by my peers to enable me to do my job',\n",
       "       'WorkUnitViews. Topic:20. I was able to use the full range of my skills in my job',\n",
       "       'WorkUnitViews. Topic:21. I was able to use the full range of my abilities in my job. ; Category:Level of Agreement; Question:YOUR VIEWS ABOUT YOUR WORK UNIT]',\n",
       "       'WorkUnitViews. Topic:22. I was able to use the full range of my knowledge in my job',\n",
       "       'WorkUnitViews. Topic:23. My job provided sufficient variety',\n",
       "       'WorkUnitViews. Topic:24. I was able to cope with the level of stress and pressure in my job',\n",
       "       'WorkUnitViews. Topic:25. My job allowed me to balance the demands of work and family to my satisfaction',\n",
       "       'WorkUnitViews. Topic:26. My supervisor gave me adequate personal recognition and feedback on my performance',\n",
       "       'WorkUnitViews. Topic:27. My working environment was satisfactory e.g. sufficient space, good lighting, suitable seating and working area',\n",
       "       'WorkUnitViews. Topic:28. I was given the opportunity to mentor and coach others in order for me to pass on my skills and knowledge prior to my cessation date',\n",
       "       'WorkUnitViews. Topic:29. There was adequate communication between staff in my unit',\n",
       "       'WorkUnitViews. Topic:30. Staff morale was positive within my work unit',\n",
       "       'Induction. Did you undertake Workplace Induction?',\n",
       "       'InductionInfo. Topic:Did you undertake a Corporate Induction?',\n",
       "       'InductionInfo. Topic:Did you undertake a Institute Induction?',\n",
       "       'InductionInfo. Topic: Did you undertake Team Induction?',\n",
       "       'InductionInfo. Face to Face Topic:Did you undertake a Corporate Induction; Category:How it was conducted?',\n",
       "       'InductionInfo. On-line Topic:Did you undertake a Corporate Induction; Category:How it was conducted?',\n",
       "       'InductionInfo. Induction Manual Topic:Did you undertake a Corporate Induction?',\n",
       "       'InductionInfo. Face to Face Topic:Did you undertake a Institute Induction?',\n",
       "       'InductionInfo. On-line Topic:Did you undertake a Institute Induction?',\n",
       "       'InductionInfo. Induction Manual Topic:Did you undertake a Institute Induction?',\n",
       "       'InductionInfo. Face to Face Topic: Did you undertake Team Induction; Category?',\n",
       "       'InductionInfo. On-line Topic: Did you undertake Team Induction?process you undertook and how it was conducted.]',\n",
       "       'InductionInfo. Induction Manual Topic: Did you undertake Team Induction?',\n",
       "       'Workplace. Topic:Did you and your Manager develop a Performance and Professional Development Plan (PPDP)?',\n",
       "       'Workplace. Topic:Does your workplace promote a work culture free from all forms of unlawful discrimination?',\n",
       "       'Workplace. Topic:Does your workplace promote and practice the principles of employment equity?',\n",
       "       'Workplace. Topic:Does your workplace value the diversity of its employees?',\n",
       "       'Workplace. Topic:Would you recommend the Institute as an employer to others?',\n",
       "       'Gender. What is your Gender?', 'CurrentAge. Current Age',\n",
       "       'Employment Type. Employment Type', 'Classification. Classification',\n",
       "       'LengthofServiceOverall. Overall Length of Service at Institute (in years)',\n",
       "       'LengthofServiceCurrent. Length of Service at current workplace (in years)'],\n",
       "      dtype='object')"
      ]
     },
     "execution_count": 14,
     "metadata": {},
     "output_type": "execute_result"
    }
   ],
   "source": [
    "tafe_survey.columns"
   ]
  },
  {
   "cell_type": "markdown",
   "metadata": {},
   "source": [
    "The column names are too wordy and hardly comprehensible. The style of column naming is very mixed: pascal case, upper case, title case, long questions, subheadings, punctuation marks. Many of the column names representing the questions of the survey are repetitive or too detailed."
   ]
  },
  {
   "cell_type": "code",
   "execution_count": 15,
   "metadata": {
    "collapsed": false,
    "scrolled": false
   },
   "outputs": [
    {
     "name": "stdout",
     "output_type": "stream",
     "text": [
      "<class 'pandas.core.frame.DataFrame'>\n",
      "RangeIndex: 702 entries, 0 to 701\n",
      "Data columns (total 72 columns):\n",
      "Record ID                                                                                                                                                        702 non-null float64\n",
      "Institute                                                                                                                                                        702 non-null object\n",
      "WorkArea                                                                                                                                                         702 non-null object\n",
      "CESSATION YEAR                                                                                                                                                   695 non-null float64\n",
      "Reason for ceasing employment                                                                                                                                    701 non-null object\n",
      "Contributing Factors. Career Move - Public Sector                                                                                                                437 non-null object\n",
      "Contributing Factors. Career Move - Private Sector                                                                                                               437 non-null object\n",
      "Contributing Factors. Career Move - Self-employment                                                                                                              437 non-null object\n",
      "Contributing Factors. Ill Health                                                                                                                                 437 non-null object\n",
      "Contributing Factors. Maternity/Family                                                                                                                           437 non-null object\n",
      "Contributing Factors. Dissatisfaction                                                                                                                            437 non-null object\n",
      "Contributing Factors. Job Dissatisfaction                                                                                                                        437 non-null object\n",
      "Contributing Factors. Interpersonal Conflict                                                                                                                     437 non-null object\n",
      "Contributing Factors. Study                                                                                                                                      437 non-null object\n",
      "Contributing Factors. Travel                                                                                                                                     437 non-null object\n",
      "Contributing Factors. Other                                                                                                                                      437 non-null object\n",
      "Contributing Factors. NONE                                                                                                                                       437 non-null object\n",
      "Main Factor. Which of these was the main factor for leaving?                                                                                                     113 non-null object\n",
      "InstituteViews. Topic:1. I feel the senior leadership had a clear vision and direction                                                                           608 non-null object\n",
      "InstituteViews. Topic:2. I was given access to skills training to help me do my job better                                                                       613 non-null object\n",
      "InstituteViews. Topic:3. I was given adequate opportunities for personal development                                                                             610 non-null object\n",
      "InstituteViews. Topic:4. I was given adequate opportunities for promotion within %Institute]Q25LBL%                                                              608 non-null object\n",
      "InstituteViews. Topic:5. I felt the salary for the job was right for the responsibilities I had                                                                  615 non-null object\n",
      "InstituteViews. Topic:6. The organisation recognised when staff did good work                                                                                    607 non-null object\n",
      "InstituteViews. Topic:7. Management was generally supportive of me                                                                                               614 non-null object\n",
      "InstituteViews. Topic:8. Management was generally supportive of my team                                                                                          608 non-null object\n",
      "InstituteViews. Topic:9. I was kept informed of the changes in the organisation which would affect me                                                            610 non-null object\n",
      "InstituteViews. Topic:10. Staff morale was positive within the Institute                                                                                         602 non-null object\n",
      "InstituteViews. Topic:11. If I had a workplace issue it was dealt with quickly                                                                                   601 non-null object\n",
      "InstituteViews. Topic:12. If I had a workplace issue it was dealt with efficiently                                                                               597 non-null object\n",
      "InstituteViews. Topic:13. If I had a workplace issue it was dealt with discreetly                                                                                601 non-null object\n",
      "WorkUnitViews. Topic:14. I was satisfied with the quality of the management and supervision within my work unit                                                  609 non-null object\n",
      "WorkUnitViews. Topic:15. I worked well with my colleagues                                                                                                        605 non-null object\n",
      "WorkUnitViews. Topic:16. My job was challenging and interesting                                                                                                  607 non-null object\n",
      "WorkUnitViews. Topic:17. I was encouraged to use my initiative in the course of my work                                                                          610 non-null object\n",
      "WorkUnitViews. Topic:18. I had sufficient contact with other people in my job                                                                                    613 non-null object\n",
      "WorkUnitViews. Topic:19. I was given adequate support and co-operation by my peers to enable me to do my job                                                     609 non-null object\n",
      "WorkUnitViews. Topic:20. I was able to use the full range of my skills in my job                                                                                 609 non-null object\n",
      "WorkUnitViews. Topic:21. I was able to use the full range of my abilities in my job. ; Category:Level of Agreement; Question:YOUR VIEWS ABOUT YOUR WORK UNIT]    608 non-null object\n",
      "WorkUnitViews. Topic:22. I was able to use the full range of my knowledge in my job                                                                              608 non-null object\n",
      "WorkUnitViews. Topic:23. My job provided sufficient variety                                                                                                      611 non-null object\n",
      "WorkUnitViews. Topic:24. I was able to cope with the level of stress and pressure in my job                                                                      610 non-null object\n",
      "WorkUnitViews. Topic:25. My job allowed me to balance the demands of work and family to my satisfaction                                                          611 non-null object\n",
      "WorkUnitViews. Topic:26. My supervisor gave me adequate personal recognition and feedback on my performance                                                      606 non-null object\n",
      "WorkUnitViews. Topic:27. My working environment was satisfactory e.g. sufficient space, good lighting, suitable seating and working area                         610 non-null object\n",
      "WorkUnitViews. Topic:28. I was given the opportunity to mentor and coach others in order for me to pass on my skills and knowledge prior to my cessation date    609 non-null object\n",
      "WorkUnitViews. Topic:29. There was adequate communication between staff in my unit                                                                               603 non-null object\n",
      "WorkUnitViews. Topic:30. Staff morale was positive within my work unit                                                                                           606 non-null object\n",
      "Induction. Did you undertake Workplace Induction?                                                                                                                619 non-null object\n",
      "InductionInfo. Topic:Did you undertake a Corporate Induction?                                                                                                    432 non-null object\n",
      "InductionInfo. Topic:Did you undertake a Institute Induction?                                                                                                    483 non-null object\n",
      "InductionInfo. Topic: Did you undertake Team Induction?                                                                                                          440 non-null object\n",
      "InductionInfo. Face to Face Topic:Did you undertake a Corporate Induction; Category:How it was conducted?                                                        555 non-null object\n",
      "InductionInfo. On-line Topic:Did you undertake a Corporate Induction; Category:How it was conducted?                                                             555 non-null object\n",
      "InductionInfo. Induction Manual Topic:Did you undertake a Corporate Induction?                                                                                   555 non-null object\n",
      "InductionInfo. Face to Face Topic:Did you undertake a Institute Induction?                                                                                       530 non-null object\n",
      "InductionInfo. On-line Topic:Did you undertake a Institute Induction?                                                                                            555 non-null object\n",
      "InductionInfo. Induction Manual Topic:Did you undertake a Institute Induction?                                                                                   553 non-null object\n",
      "InductionInfo. Face to Face Topic: Did you undertake Team Induction; Category?                                                                                   555 non-null object\n",
      "InductionInfo. On-line Topic: Did you undertake Team Induction?process you undertook and how it was conducted.]                                                  555 non-null object\n",
      "InductionInfo. Induction Manual Topic: Did you undertake Team Induction?                                                                                         555 non-null object\n",
      "Workplace. Topic:Did you and your Manager develop a Performance and Professional Development Plan (PPDP)?                                                        608 non-null object\n",
      "Workplace. Topic:Does your workplace promote a work culture free from all forms of unlawful discrimination?                                                      594 non-null object\n",
      "Workplace. Topic:Does your workplace promote and practice the principles of employment equity?                                                                   587 non-null object\n",
      "Workplace. Topic:Does your workplace value the diversity of its employees?                                                                                       586 non-null object\n",
      "Workplace. Topic:Would you recommend the Institute as an employer to others?                                                                                     581 non-null object\n",
      "Gender. What is your Gender?                                                                                                                                     596 non-null object\n",
      "CurrentAge. Current Age                                                                                                                                          596 non-null object\n",
      "Employment Type. Employment Type                                                                                                                                 596 non-null object\n",
      "Classification. Classification                                                                                                                                   596 non-null object\n",
      "LengthofServiceOverall. Overall Length of Service at Institute (in years)                                                                                        596 non-null object\n",
      "LengthofServiceCurrent. Length of Service at current workplace (in years)                                                                                        596 non-null object\n",
      "dtypes: float64(2), object(70)\n",
      "memory usage: 395.0+ KB\n"
     ]
    }
   ],
   "source": [
    "tafe_survey.info()"
   ]
  },
  {
   "cell_type": "markdown",
   "metadata": {},
   "source": [
    "The most common data type in the dataset is string (object). The `'Record ID'` and `'CESSATION YEAR'` columns are float. Almost all the columns contain missing values, up to 84% (`'Main Factor...'`)."
   ]
  },
  {
   "cell_type": "code",
   "execution_count": 16,
   "metadata": {
    "collapsed": false
   },
   "outputs": [
    {
     "name": "stdout",
     "output_type": "stream",
     "text": [
      "      Record ID                              Institute  \\\n",
      "0  6.341330e+17  Southern Queensland Institute of TAFE   \n",
      "1  6.341337e+17            Mount Isa Institute of TAFE   \n",
      "2  6.341388e+17            Mount Isa Institute of TAFE   \n",
      "3  6.341399e+17            Mount Isa Institute of TAFE   \n",
      "4  6.341466e+17  Southern Queensland Institute of TAFE   \n",
      "5  6.341475e+17  Southern Queensland Institute of TAFE   \n",
      "6  6.341520e+17         Barrier Reef Institute of TAFE   \n",
      "7  6.341537e+17  Southern Queensland Institute of TAFE   \n",
      "8  6.341579e+17  Southern Queensland Institute of TAFE   \n",
      "9  6.341588e+17         Barrier Reef Institute of TAFE   \n",
      "\n",
      "                   WorkArea  CESSATION YEAR Reason for ceasing employment  \\\n",
      "0  Non-Delivery (corporate)          2010.0              Contract Expired   \n",
      "1  Non-Delivery (corporate)          2010.0                    Retirement   \n",
      "2       Delivery (teaching)          2010.0                    Retirement   \n",
      "3  Non-Delivery (corporate)          2010.0                   Resignation   \n",
      "4       Delivery (teaching)          2010.0                   Resignation   \n",
      "5       Delivery (teaching)          2010.0                   Resignation   \n",
      "6  Non-Delivery (corporate)          2010.0                   Resignation   \n",
      "7       Delivery (teaching)          2010.0                   Resignation   \n",
      "8       Delivery (teaching)          2009.0                   Resignation   \n",
      "9  Non-Delivery (corporate)          2010.0                   Resignation   \n",
      "\n",
      "  Contributing Factors. Career Move - Public Sector   \\\n",
      "0                                                NaN   \n",
      "1                                                  -   \n",
      "2                                                  -   \n",
      "3                                                  -   \n",
      "4                                                  -   \n",
      "5                                                  -   \n",
      "6                                                  -   \n",
      "7                                                  -   \n",
      "8                                                  -   \n",
      "9                        Career Move - Public Sector   \n",
      "\n",
      "  Contributing Factors. Career Move - Private Sector   \\\n",
      "0                                                NaN    \n",
      "1                                                  -    \n",
      "2                                                  -    \n",
      "3                                                  -    \n",
      "4                       Career Move - Private Sector    \n",
      "5                                                  -    \n",
      "6                       Career Move - Private Sector    \n",
      "7                                                  -    \n",
      "8                                                  -    \n",
      "9                                                  -    \n",
      "\n",
      "  Contributing Factors. Career Move - Self-employment  \\\n",
      "0                                                NaN    \n",
      "1                                                  -    \n",
      "2                                                  -    \n",
      "3                                                  -    \n",
      "4                                                  -    \n",
      "5                                                  -    \n",
      "6                                                  -    \n",
      "7                                                  -    \n",
      "8                                                  -    \n",
      "9                                                  -    \n",
      "\n",
      "  Contributing Factors. Ill Health Contributing Factors. Maternity/Family  \\\n",
      "0                              NaN                                    NaN   \n",
      "1                                -                                      -   \n",
      "2                                -                                      -   \n",
      "3                                -                                      -   \n",
      "4                                -                                      -   \n",
      "5                                -                                      -   \n",
      "6                                -                       Maternity/Family   \n",
      "7                                -                                      -   \n",
      "8                                -                                      -   \n",
      "9                                -                                      -   \n",
      "\n",
      "                                     ...                                     \\\n",
      "0                                    ...                                      \n",
      "1                                    ...                                      \n",
      "2                                    ...                                      \n",
      "3                                    ...                                      \n",
      "4                                    ...                                      \n",
      "5                                    ...                                      \n",
      "6                                    ...                                      \n",
      "7                                    ...                                      \n",
      "8                                    ...                                      \n",
      "9                                    ...                                      \n",
      "\n",
      "  Workplace. Topic:Does your workplace promote a work culture free from all forms of unlawful discrimination?  \\\n",
      "0                                                Yes                                                            \n",
      "1                                                Yes                                                            \n",
      "2                                                Yes                                                            \n",
      "3                                                Yes                                                            \n",
      "4                                                Yes                                                            \n",
      "5                                                NaN                                                            \n",
      "6                                                Yes                                                            \n",
      "7                                                Yes                                                            \n",
      "8                                                Yes                                                            \n",
      "9                                                Yes                                                            \n",
      "\n",
      "  Workplace. Topic:Does your workplace promote and practice the principles of employment equity?  \\\n",
      "0                                                Yes                                               \n",
      "1                                                Yes                                               \n",
      "2                                                Yes                                               \n",
      "3                                                Yes                                               \n",
      "4                                                Yes                                               \n",
      "5                                                NaN                                               \n",
      "6                                                Yes                                               \n",
      "7                                                Yes                                               \n",
      "8                                                Yes                                               \n",
      "9                                                Yes                                               \n",
      "\n",
      "  Workplace. Topic:Does your workplace value the diversity of its employees?  \\\n",
      "0                                                Yes                           \n",
      "1                                                Yes                           \n",
      "2                                                Yes                           \n",
      "3                                                Yes                           \n",
      "4                                                Yes                           \n",
      "5                                                NaN                           \n",
      "6                                                Yes                           \n",
      "7                                                Yes                           \n",
      "8                                                Yes                           \n",
      "9                                                Yes                           \n",
      "\n",
      "  Workplace. Topic:Would you recommend the Institute as an employer to others?  \\\n",
      "0                                                Yes                             \n",
      "1                                                Yes                             \n",
      "2                                                Yes                             \n",
      "3                                                Yes                             \n",
      "4                                                Yes                             \n",
      "5                                                NaN                             \n",
      "6                                                Yes                             \n",
      "7                                                 No                             \n",
      "8                                                Yes                             \n",
      "9                                                Yes                             \n",
      "\n",
      "  Gender. What is your Gender? CurrentAge. Current Age  \\\n",
      "0                       Female                  26  30   \n",
      "1                          NaN                     NaN   \n",
      "2                          NaN                     NaN   \n",
      "3                          NaN                     NaN   \n",
      "4                         Male                  41  45   \n",
      "5                       Female             56 or older   \n",
      "6                         Male           20 or younger   \n",
      "7                         Male                  46  50   \n",
      "8                       Female                  36  40   \n",
      "9                       Female                  21  25   \n",
      "\n",
      "  Employment Type. Employment Type Classification. Classification  \\\n",
      "0              Temporary Full-time            Administration (AO)   \n",
      "1                              NaN                            NaN   \n",
      "2                              NaN                            NaN   \n",
      "3                              NaN                            NaN   \n",
      "4              Permanent Full-time        Teacher (including LVT)   \n",
      "5                  Contract/casual        Teacher (including LVT)   \n",
      "6              Temporary Full-time            Administration (AO)   \n",
      "7              Permanent Full-time        Teacher (including LVT)   \n",
      "8              Temporary Full-time                          Tutor   \n",
      "9              Permanent Full-time            Administration (AO)   \n",
      "\n",
      "  LengthofServiceOverall. Overall Length of Service at Institute (in years)  \\\n",
      "0                                                1-2                          \n",
      "1                                                NaN                          \n",
      "2                                                NaN                          \n",
      "3                                                NaN                          \n",
      "4                                                3-4                          \n",
      "5                                               7-10                          \n",
      "6                                                3-4                          \n",
      "7                                                3-4                          \n",
      "8                                                3-4                          \n",
      "9                                                1-2                          \n",
      "\n",
      "  LengthofServiceCurrent. Length of Service at current workplace (in years)  \n",
      "0                                                1-2                         \n",
      "1                                                NaN                         \n",
      "2                                                NaN                         \n",
      "3                                                NaN                         \n",
      "4                                                3-4                         \n",
      "5                                               7-10                         \n",
      "6                                                3-4                         \n",
      "7                                                3-4                         \n",
      "8                                                3-4                         \n",
      "9                                                1-2                         \n",
      "\n",
      "[10 rows x 72 columns]\n"
     ]
    }
   ],
   "source": [
    "print(tafe_survey.head(10))"
   ]
  },
  {
   "cell_type": "markdown",
   "metadata": {},
   "source": [
    "Some preliminary observations at this stage:\n",
    "\n",
    "- `'Record ID'` is represented by quite big numbers.\n",
    "- `'CESSATION YEAR'` is float.\n",
    "- At many questions of the survey was replied \"yes\", or the question was omitted.\n",
    "\n",
    "Let's take a  closer look at some of the columns."
   ]
  },
  {
   "cell_type": "code",
   "execution_count": 17,
   "metadata": {
    "collapsed": false
   },
   "outputs": [
    {
     "data": {
      "text/plain": [
       "Non-Delivery (corporate)    432\n",
       "Delivery (teaching)         270\n",
       "Name: WorkArea, dtype: int64"
      ]
     },
     "execution_count": 17,
     "metadata": {},
     "output_type": "execute_result"
    }
   ],
   "source": [
    "tafe_survey['WorkArea'].value_counts(dropna=False)"
   ]
  },
  {
   "cell_type": "markdown",
   "metadata": {},
   "source": [
    "There are only 2 categories in `'WorkArea'`."
   ]
  },
  {
   "cell_type": "code",
   "execution_count": 18,
   "metadata": {
    "collapsed": false
   },
   "outputs": [
    {
     "data": {
      "text/plain": [
       "Resignation                 340\n",
       "Contract Expired            127\n",
       "Retrenchment/ Redundancy    104\n",
       "Retirement                   82\n",
       "Transfer                     25\n",
       "Termination                  23\n",
       "NaN                           1\n",
       "Name: Reason for ceasing employment, dtype: int64"
      ]
     },
     "execution_count": 18,
     "metadata": {},
     "output_type": "execute_result"
    }
   ],
   "source": [
    "tafe_survey['Reason for ceasing employment'].value_counts(dropna=False)"
   ]
  },
  {
   "cell_type": "markdown",
   "metadata": {},
   "source": [
    "The most common reason for leaving the institute is resignation."
   ]
  },
  {
   "cell_type": "code",
   "execution_count": 19,
   "metadata": {
    "collapsed": false
   },
   "outputs": [
    {
     "data": {
      "text/plain": [
       "-                              375\n",
       "NaN                            265\n",
       "Career Move - Public Sector     62\n",
       "Name: Contributing Factors. Career Move - Public Sector , dtype: int64"
      ]
     },
     "execution_count": 19,
     "metadata": {},
     "output_type": "execute_result"
    }
   ],
   "source": [
    "tafe_survey['Contributing Factors. Career Move - Public Sector '].value_counts(dropna=False)"
   ]
  },
  {
   "cell_type": "code",
   "execution_count": 20,
   "metadata": {
    "collapsed": false
   },
   "outputs": [
    {
     "data": {
      "text/plain": [
       "-                                420\n",
       "NaN                              265\n",
       "Career Move - Self-employment     17\n",
       "Name: Contributing Factors. Career Move - Self-employment, dtype: int64"
      ]
     },
     "execution_count": 20,
     "metadata": {},
     "output_type": "execute_result"
    }
   ],
   "source": [
    "tafe_survey['Contributing Factors. Career Move - Self-employment'].value_counts(dropna=False)"
   ]
  },
  {
   "cell_type": "markdown",
   "metadata": {},
   "source": [
    "The group of columns with the names starting with  `'Contributing Factors...'` practically shows if the factor was the reason for leaving, or it was not so."
   ]
  },
  {
   "cell_type": "code",
   "execution_count": 21,
   "metadata": {
    "collapsed": false
   },
   "outputs": [
    {
     "data": {
      "text/plain": [
       "NaN                                         589\n",
       "Dissatisfaction with %[Institute]Q25LBL%     23\n",
       "Job Dissatisfaction                          22\n",
       "Other                                        18\n",
       "Career Move - Private Sector                 16\n",
       "Interpersonal Conflict                        9\n",
       "Career Move - Public Sector                   8\n",
       "Maternity/Family                              6\n",
       "Career Move - Self-employment                 4\n",
       "Ill Health                                    3\n",
       "Travel                                        2\n",
       "Study                                         2\n",
       "Name: Main Factor. Which of these was the main factor for leaving?, dtype: int64"
      ]
     },
     "execution_count": 21,
     "metadata": {},
     "output_type": "execute_result"
    }
   ],
   "source": [
    "tafe_survey['Main Factor. Which of these was the main factor for leaving?'].value_counts(dropna=False)"
   ]
  },
  {
   "cell_type": "markdown",
   "metadata": {},
   "source": [
    "This column was supposed to be a generalization of the above-mentioned group of columns with contributing factors, but indeed it has very few values. We see that even the numbers of answers in the `'Contributing factors...'` columns don't correspond to those in this one. It seems that the respondents felt tired to reply the repetitive questions, or just found it redundant. Probably it would have been more efficient for the dataset, and more informative for the survey itself, to keep only this question in the survey, where people could directly choose the reason for leaving the institute."
   ]
  },
  {
   "cell_type": "code",
   "execution_count": 22,
   "metadata": {
    "collapsed": false
   },
   "outputs": [
    {
     "data": {
      "text/plain": [
       "Agree                247\n",
       "Neutral              119\n",
       "Strongly Agree       116\n",
       "Disagree              72\n",
       "Strongly Disagree     43\n",
       "Not Applicable        13\n",
       "Name: InstituteViews. Topic:3. I was given adequate opportunities for personal development, dtype: int64"
      ]
     },
     "execution_count": 22,
     "metadata": {},
     "output_type": "execute_result"
    }
   ],
   "source": [
    "tafe_survey['InstituteViews. Topic:3. I was given adequate opportunities for personal development'].value_counts()"
   ]
  },
  {
   "cell_type": "code",
   "execution_count": 23,
   "metadata": {
    "collapsed": false
   },
   "outputs": [
    {
     "data": {
      "text/plain": [
       "Agree                236\n",
       "Neutral              119\n",
       "Strongly Agree       104\n",
       "Strongly Disagree     70\n",
       "Disagree              69\n",
       "Not Applicable         8\n",
       "Name: WorkUnitViews. Topic:30. Staff morale was positive within my work unit, dtype: int64"
      ]
     },
     "execution_count": 23,
     "metadata": {},
     "output_type": "execute_result"
    }
   ],
   "source": [
    "tafe_survey['WorkUnitViews. Topic:30. Staff morale was positive within my work unit'].value_counts()"
   ]
  },
  {
   "cell_type": "markdown",
   "metadata": {},
   "source": [
    "The columns above (and all the other columns representing the survey questions) show the same structure of possible answers for each question. The majority of answers are positive. We can also assume that those denotations without leggend for the DETE dataset have exactly the same meanings:"
   ]
  },
  {
   "cell_type": "code",
   "execution_count": 24,
   "metadata": {
    "collapsed": false
   },
   "outputs": [
    {
     "data": {
      "text/plain": [
       "A     401\n",
       "SA    162\n",
       "N     130\n",
       "D      60\n",
       "SD     50\n",
       "M      10\n",
       "Name: Kept informed, dtype: int64"
      ]
     },
     "execution_count": 24,
     "metadata": {},
     "output_type": "execute_result"
    }
   ],
   "source": [
    "dete_survey['Kept informed'].value_counts()"
   ]
  },
  {
   "cell_type": "markdown",
   "metadata": {},
   "source": [
    "Despite now we found the meanings, both those columns of the DETE dataset and the columns representing the survey questions in the TAFE dataset have to be dropped, since they don't give any explicit value for our further analysis."
   ]
  },
  {
   "cell_type": "code",
   "execution_count": 25,
   "metadata": {
    "collapsed": false
   },
   "outputs": [
    {
     "data": {
      "text/plain": [
       "Permanent Full-time    237\n",
       "Temporary Full-time    177\n",
       "NaN                    106\n",
       "Contract/casual         71\n",
       "Permanent Part-time     59\n",
       "Temporary Part-time     52\n",
       "Name: Employment Type. Employment Type, dtype: int64"
      ]
     },
     "execution_count": 25,
     "metadata": {},
     "output_type": "execute_result"
    }
   ],
   "source": [
    "tafe_survey['Employment Type. Employment Type'].value_counts(dropna=False)"
   ]
  },
  {
   "cell_type": "markdown",
   "metadata": {},
   "source": [
    "The most common categories of employment type for the TAFE are \"Permanent Full-time\" and \"Temporary Full-time\"."
   ]
  },
  {
   "cell_type": "code",
   "execution_count": 26,
   "metadata": {
    "collapsed": false
   },
   "outputs": [
    {
     "data": {
      "text/plain": [
       "Record ID                                                                                                                                                          0\n",
       "Institute                                                                                                                                                          0\n",
       "WorkArea                                                                                                                                                           0\n",
       "CESSATION YEAR                                                                                                                                                     7\n",
       "Reason for ceasing employment                                                                                                                                      1\n",
       "Contributing Factors. Career Move - Public Sector                                                                                                                265\n",
       "Contributing Factors. Career Move - Private Sector                                                                                                               265\n",
       "Contributing Factors. Career Move - Self-employment                                                                                                              265\n",
       "Contributing Factors. Ill Health                                                                                                                                 265\n",
       "Contributing Factors. Maternity/Family                                                                                                                           265\n",
       "Contributing Factors. Dissatisfaction                                                                                                                            265\n",
       "Contributing Factors. Job Dissatisfaction                                                                                                                        265\n",
       "Contributing Factors. Interpersonal Conflict                                                                                                                     265\n",
       "Contributing Factors. Study                                                                                                                                      265\n",
       "Contributing Factors. Travel                                                                                                                                     265\n",
       "Contributing Factors. Other                                                                                                                                      265\n",
       "Contributing Factors. NONE                                                                                                                                       265\n",
       "Main Factor. Which of these was the main factor for leaving?                                                                                                     589\n",
       "InstituteViews. Topic:1. I feel the senior leadership had a clear vision and direction                                                                            94\n",
       "InstituteViews. Topic:2. I was given access to skills training to help me do my job better                                                                        89\n",
       "InstituteViews. Topic:3. I was given adequate opportunities for personal development                                                                              92\n",
       "InstituteViews. Topic:4. I was given adequate opportunities for promotion within %Institute]Q25LBL%                                                               94\n",
       "InstituteViews. Topic:5. I felt the salary for the job was right for the responsibilities I had                                                                   87\n",
       "InstituteViews. Topic:6. The organisation recognised when staff did good work                                                                                     95\n",
       "InstituteViews. Topic:7. Management was generally supportive of me                                                                                                88\n",
       "InstituteViews. Topic:8. Management was generally supportive of my team                                                                                           94\n",
       "InstituteViews. Topic:9. I was kept informed of the changes in the organisation which would affect me                                                             92\n",
       "InstituteViews. Topic:10. Staff morale was positive within the Institute                                                                                         100\n",
       "InstituteViews. Topic:11. If I had a workplace issue it was dealt with quickly                                                                                   101\n",
       "InstituteViews. Topic:12. If I had a workplace issue it was dealt with efficiently                                                                               105\n",
       "                                                                                                                                                                ... \n",
       "WorkUnitViews. Topic:25. My job allowed me to balance the demands of work and family to my satisfaction                                                           91\n",
       "WorkUnitViews. Topic:26. My supervisor gave me adequate personal recognition and feedback on my performance                                                       96\n",
       "WorkUnitViews. Topic:27. My working environment was satisfactory e.g. sufficient space, good lighting, suitable seating and working area                          92\n",
       "WorkUnitViews. Topic:28. I was given the opportunity to mentor and coach others in order for me to pass on my skills and knowledge prior to my cessation date     93\n",
       "WorkUnitViews. Topic:29. There was adequate communication between staff in my unit                                                                                99\n",
       "WorkUnitViews. Topic:30. Staff morale was positive within my work unit                                                                                            96\n",
       "Induction. Did you undertake Workplace Induction?                                                                                                                 83\n",
       "InductionInfo. Topic:Did you undertake a Corporate Induction?                                                                                                    270\n",
       "InductionInfo. Topic:Did you undertake a Institute Induction?                                                                                                    219\n",
       "InductionInfo. Topic: Did you undertake Team Induction?                                                                                                          262\n",
       "InductionInfo. Face to Face Topic:Did you undertake a Corporate Induction; Category:How it was conducted?                                                        147\n",
       "InductionInfo. On-line Topic:Did you undertake a Corporate Induction; Category:How it was conducted?                                                             147\n",
       "InductionInfo. Induction Manual Topic:Did you undertake a Corporate Induction?                                                                                   147\n",
       "InductionInfo. Face to Face Topic:Did you undertake a Institute Induction?                                                                                       172\n",
       "InductionInfo. On-line Topic:Did you undertake a Institute Induction?                                                                                            147\n",
       "InductionInfo. Induction Manual Topic:Did you undertake a Institute Induction?                                                                                   149\n",
       "InductionInfo. Face to Face Topic: Did you undertake Team Induction; Category?                                                                                   147\n",
       "InductionInfo. On-line Topic: Did you undertake Team Induction?process you undertook and how it was conducted.]                                                  147\n",
       "InductionInfo. Induction Manual Topic: Did you undertake Team Induction?                                                                                         147\n",
       "Workplace. Topic:Did you and your Manager develop a Performance and Professional Development Plan (PPDP)?                                                         94\n",
       "Workplace. Topic:Does your workplace promote a work culture free from all forms of unlawful discrimination?                                                      108\n",
       "Workplace. Topic:Does your workplace promote and practice the principles of employment equity?                                                                   115\n",
       "Workplace. Topic:Does your workplace value the diversity of its employees?                                                                                       116\n",
       "Workplace. Topic:Would you recommend the Institute as an employer to others?                                                                                     121\n",
       "Gender. What is your Gender?                                                                                                                                     106\n",
       "CurrentAge. Current Age                                                                                                                                          106\n",
       "Employment Type. Employment Type                                                                                                                                 106\n",
       "Classification. Classification                                                                                                                                   106\n",
       "LengthofServiceOverall. Overall Length of Service at Institute (in years)                                                                                        106\n",
       "LengthofServiceCurrent. Length of Service at current workplace (in years)                                                                                        106\n",
       "Length: 72, dtype: int64"
      ]
     },
     "execution_count": 26,
     "metadata": {},
     "output_type": "execute_result"
    }
   ],
   "source": [
    "# Finding the number of missing values per column\n",
    "tafe_survey.isnull().sum()"
   ]
  },
  {
   "cell_type": "markdown",
   "metadata": {},
   "source": [
    "We can observe that the majority of columns contain a high percentage of missing values, with `'Main Factor...'` most of all. Judging by an obvious pattern in missing values for the `'Contributing Factors...'` columns (265 missing values in each), some people most probably just ignored this group of columns and replied directly in `'Main Factor...'`, some other respondents did just the opposite, and the others ignored both `'Contributing Factors...'` and `'Main Factor...'`.\n",
    "## Data Cleaning\n",
    "### Transforming \"Not Stated \" in NaN \n",
    "As we noticed earlier, the DETE dataset contains \"Not Stated\" values that indicate missing values, but not represented as NaN. Let's re-read the dataset and fix this issue."
   ]
  },
  {
   "cell_type": "code",
   "execution_count": 27,
   "metadata": {
    "collapsed": true
   },
   "outputs": [],
   "source": [
    "dete_survey = pd.read_csv('dete_survey.csv', na_values='Not Stated')"
   ]
  },
  {
   "cell_type": "markdown",
   "metadata": {},
   "source": [
    "### Dropping  Unnecessary Columns\n",
    "We have already identified the columns that we won't use in our analysis: the last 5 columns and the columns with denotations for the DETE dataset (from `'Professional Development'` to `'Health & Safety'`, both inclusive) and those representing the survey questions for the TAFE dataset. For the last one, we'll delete also the `'Main Factor...'` column, containing 84% of missing values. Hence, for TAFE dataset we'll delete all the columns from `'Main Factor...'` to `'Workplace. Topic:Would you recommend the Institute as an employer to others?'` both inclusive.\n",
    "\n",
    "First, we have to find the indices of these columns."
   ]
  },
  {
   "cell_type": "code",
   "execution_count": 28,
   "metadata": {
    "collapsed": false
   },
   "outputs": [
    {
     "name": "stdout",
     "output_type": "stream",
     "text": [
      "28\n",
      "48\n"
     ]
    }
   ],
   "source": [
    "# Finding the column indices\n",
    "print(dete_survey.columns.get_loc('Professional Development'))\n",
    "print(dete_survey.columns.get_loc('Health & Safety'))"
   ]
  },
  {
   "cell_type": "code",
   "execution_count": 29,
   "metadata": {
    "collapsed": false
   },
   "outputs": [
    {
     "name": "stdout",
     "output_type": "stream",
     "text": [
      "17\n",
      "65\n"
     ]
    }
   ],
   "source": [
    "# Finding the column indices\n",
    "print(tafe_survey.columns.get_loc('Main Factor. Which of these was the main factor for leaving?'))\n",
    "print(tafe_survey.columns.get_loc('Workplace. Topic:Would you recommend the Institute as an employer to others?'))"
   ]
  },
  {
   "cell_type": "markdown",
   "metadata": {},
   "source": [
    "Now we'll drop the columns between these indices from the corresponding datasets and also the last 5 columns of the DETE dataset."
   ]
  },
  {
   "cell_type": "code",
   "execution_count": 30,
   "metadata": {
    "collapsed": false
   },
   "outputs": [],
   "source": [
    "# Dropping the unnecessary columns\n",
    "dete_survey_updated = dete_survey.drop(dete_survey.columns[28:49], axis=1)\n",
    "dete_survey_updated = dete_survey_updated.drop(dete_survey.columns[-5:], axis=1)\n",
    "tafe_survey_updated = tafe_survey.drop(tafe_survey.columns[17:66], axis=1)"
   ]
  },
  {
   "cell_type": "code",
   "execution_count": 31,
   "metadata": {
    "collapsed": false
   },
   "outputs": [
    {
     "data": {
      "text/plain": [
       "Index(['ID', 'SeparationType', 'Cease Date', 'DETE Start Date',\n",
       "       'Role Start Date', 'Position', 'Classification', 'Region',\n",
       "       'Business Unit', 'Employment Status', 'Career move to public sector',\n",
       "       'Career move to private sector', 'Interpersonal conflicts',\n",
       "       'Job dissatisfaction', 'Dissatisfaction with the department',\n",
       "       'Physical work environment', 'Lack of recognition',\n",
       "       'Lack of job security', 'Work location', 'Employment conditions',\n",
       "       'Maternity/family', 'Relocation', 'Study/Travel', 'Ill Health',\n",
       "       'Traumatic incident', 'Work life balance', 'Workload',\n",
       "       'None of the above', 'Gender', 'Age'],\n",
       "      dtype='object')"
      ]
     },
     "execution_count": 31,
     "metadata": {},
     "output_type": "execute_result"
    }
   ],
   "source": [
    "dete_survey_updated.columns"
   ]
  },
  {
   "cell_type": "code",
   "execution_count": 32,
   "metadata": {
    "collapsed": false
   },
   "outputs": [
    {
     "data": {
      "text/plain": [
       "Index(['Record ID', 'Institute', 'WorkArea', 'CESSATION YEAR',\n",
       "       'Reason for ceasing employment',\n",
       "       'Contributing Factors. Career Move - Public Sector ',\n",
       "       'Contributing Factors. Career Move - Private Sector ',\n",
       "       'Contributing Factors. Career Move - Self-employment',\n",
       "       'Contributing Factors. Ill Health',\n",
       "       'Contributing Factors. Maternity/Family',\n",
       "       'Contributing Factors. Dissatisfaction',\n",
       "       'Contributing Factors. Job Dissatisfaction',\n",
       "       'Contributing Factors. Interpersonal Conflict',\n",
       "       'Contributing Factors. Study', 'Contributing Factors. Travel',\n",
       "       'Contributing Factors. Other', 'Contributing Factors. NONE',\n",
       "       'Gender. What is your Gender?', 'CurrentAge. Current Age',\n",
       "       'Employment Type. Employment Type', 'Classification. Classification',\n",
       "       'LengthofServiceOverall. Overall Length of Service at Institute (in years)',\n",
       "       'LengthofServiceCurrent. Length of Service at current workplace (in years)'],\n",
       "      dtype='object')"
      ]
     },
     "execution_count": 32,
     "metadata": {},
     "output_type": "execute_result"
    }
   ],
   "source": [
    "tafe_survey_updated.columns"
   ]
  },
  {
   "cell_type": "code",
   "execution_count": 33,
   "metadata": {
    "collapsed": false
   },
   "outputs": [
    {
     "name": "stdout",
     "output_type": "stream",
     "text": [
      "DETE, number of columns:  30\n",
      "TAFE, number of columns:  23\n"
     ]
    }
   ],
   "source": [
    "# Checking the updated column number\n",
    "print('DETE, number of columns: ', dete_survey_updated.shape[1])\n",
    "print('TAFE, number of columns: ', tafe_survey_updated.shape[1])"
   ]
  },
  {
   "cell_type": "markdown",
   "metadata": {},
   "source": [
    "Now we significantly reduced the number of columns for both datasets, leaving ony the most relevant columns.\n",
    "### Cleaning Column Names\n",
    "Next, let's turn our attention to the column names. Each dataframe contains many of the same columns, but with different names:\n",
    "\n",
    "| dete_survey | tafe_survey | Definition |\n",
    "| --- | --- | --- |\n",
    "| ID | Record ID | An id used to identify the participant of the survey |\n",
    "| SeparationType | Reason for ceasing employment | The reason why the participant's employment ended |\n",
    "| Cease Date | CESSATION YEAR | The year or month the participant's employment ended |\n",
    "| DETE Start Date |  | The year the participant began employment with the DETE |\n",
    "|  | LengthofServiceOverall. Overall Length of Service at Institute (in years) | The length of the person's employment (in years) |\n",
    "| Age | CurrentAge. Current Age | The age of the participant |\n",
    "| Gender | Gender. What is your Gender? | The gender of the participant |\n",
    "\n",
    "Because we eventually want to combine the datasets, we'll have to standardize the column names. Let's start with the DETE dataset."
   ]
  },
  {
   "cell_type": "code",
   "execution_count": 34,
   "metadata": {
    "collapsed": false
   },
   "outputs": [
    {
     "data": {
      "text/plain": [
       "Index(['id', 'separationtype', 'cease_date', 'dete_start_date',\n",
       "       'role_start_date', 'position', 'classification', 'region',\n",
       "       'business_unit', 'employment_status', 'career_move_to_public_sector',\n",
       "       'career_move_to_private_sector', 'interpersonal_conflicts',\n",
       "       'job_dissatisfaction', 'dissatisfaction_with_the_department',\n",
       "       'physical_work_environment', 'lack_of_recognition',\n",
       "       'lack_of_job_security', 'work_location', 'employment_conditions',\n",
       "       'maternity/family', 'relocation', 'study/travel', 'ill_health',\n",
       "       'traumatic_incident', 'work_life_balance', 'workload',\n",
       "       'none_of_the_above', 'gender', 'age'],\n",
       "      dtype='object')"
      ]
     },
     "execution_count": 34,
     "metadata": {},
     "output_type": "execute_result"
    }
   ],
   "source": [
    "# Renaming the DETE dataset columns\n",
    "dete_survey_updated.columns = dete_survey_updated.columns.str.strip().str.lower().str.replace(' ', '_')\n",
    "dete_survey_updated.columns"
   ]
  },
  {
   "cell_type": "markdown",
   "metadata": {},
   "source": [
    "Now the column names of the DETE dataset look much tidier. The only thing to fix is the column name  of `'separationtype'`."
   ]
  },
  {
   "cell_type": "code",
   "execution_count": 35,
   "metadata": {
    "collapsed": false
   },
   "outputs": [],
   "source": [
    "# Renaming the 'separationtype' column\n",
    "dete_survey_updated.rename({'separationtype': 'separation_type'}, axis=1, inplace=True)"
   ]
  },
  {
   "cell_type": "markdown",
   "metadata": {},
   "source": [
    "Our next step is to handle the column names of the TAFE dataset and give them the same names as in the first dataset.."
   ]
  },
  {
   "cell_type": "code",
   "execution_count": 36,
   "metadata": {
    "collapsed": true
   },
   "outputs": [],
   "source": [
    "# Renaming the TAFE dataset columns\n",
    "column_names_dict = {'Record ID': 'id', 'CESSATION YEAR': 'cease_date', 'Reason for ceasing employment': 'separation_type', \n",
    "                     'Gender. What is your Gender?': 'gender', 'CurrentAge. Current Age': 'age', 'Employment Type. Employment Type': 'employment_status',\n",
    "                     'Classification. Classification': 'position', 'LengthofServiceOverall. Overall Length of Service at Institute (in years)': 'institute_service', \n",
    "                     'LengthofServiceCurrent. Length of Service at current workplace (in years)': 'role_service'}\n",
    "\n",
    "tafe_survey_updated.rename(column_names_dict, axis=1, inplace=True)"
   ]
  },
  {
   "cell_type": "code",
   "execution_count": 37,
   "metadata": {
    "collapsed": false
   },
   "outputs": [
    {
     "data": {
      "text/plain": [
       "Index(['id', 'Institute', 'WorkArea', 'cease_date', 'separation_type',\n",
       "       'Contributing Factors. Career Move - Public Sector ',\n",
       "       'Contributing Factors. Career Move - Private Sector ',\n",
       "       'Contributing Factors. Career Move - Self-employment',\n",
       "       'Contributing Factors. Ill Health',\n",
       "       'Contributing Factors. Maternity/Family',\n",
       "       'Contributing Factors. Dissatisfaction',\n",
       "       'Contributing Factors. Job Dissatisfaction',\n",
       "       'Contributing Factors. Interpersonal Conflict',\n",
       "       'Contributing Factors. Study', 'Contributing Factors. Travel',\n",
       "       'Contributing Factors. Other', 'Contributing Factors. NONE', 'gender',\n",
       "       'age', 'employment_status', 'position', 'institute_service',\n",
       "       'role_service'],\n",
       "      dtype='object')"
      ]
     },
     "execution_count": 37,
     "metadata": {},
     "output_type": "execute_result"
    }
   ],
   "source": [
    "tafe_survey_updated.columns"
   ]
  },
  {
   "cell_type": "markdown",
   "metadata": {},
   "source": [
    "For now, we renamed only general columns (age, gender, etc). Those ones related to dissatisfaction issues we'll handle later.\n",
    "### Filtering Resigned Employees\n",
    "Since for the purposes of this project we're interested only in those people who _resigned_, we have to filter both datasets to leave only the rows with the separation type assigned as \"Resignation\"."
   ]
  },
  {
   "cell_type": "code",
   "execution_count": 38,
   "metadata": {
    "collapsed": false
   },
   "outputs": [
    {
     "data": {
      "text/plain": [
       "Age Retirement                          285\n",
       "Resignation-Other reasons               150\n",
       "Resignation-Other employer               91\n",
       "Resignation-Move overseas/interstate     70\n",
       "Voluntary Early Retirement (VER)         67\n",
       "Ill Health Retirement                    61\n",
       "Other                                    49\n",
       "Contract Expired                         34\n",
       "Termination                              15\n",
       "Name: separation_type, dtype: int64"
      ]
     },
     "execution_count": 38,
     "metadata": {},
     "output_type": "execute_result"
    }
   ],
   "source": [
    "dete_survey_updated['separation_type'].value_counts()"
   ]
  },
  {
   "cell_type": "code",
   "execution_count": 39,
   "metadata": {
    "collapsed": false
   },
   "outputs": [
    {
     "data": {
      "text/plain": [
       "Resignation                 340\n",
       "Contract Expired            127\n",
       "Retrenchment/ Redundancy    104\n",
       "Retirement                   82\n",
       "Transfer                     25\n",
       "Termination                  23\n",
       "Name: separation_type, dtype: int64"
      ]
     },
     "execution_count": 39,
     "metadata": {},
     "output_type": "execute_result"
    }
   ],
   "source": [
    "tafe_survey_updated['separation_type'].value_counts()"
   ]
  },
  {
   "cell_type": "markdown",
   "metadata": {},
   "source": [
    "We see that for the DETE dataset there are 3 types of resignation, while for the TAFE only 1."
   ]
  },
  {
   "cell_type": "code",
   "execution_count": 40,
   "metadata": {
    "collapsed": false
   },
   "outputs": [
    {
     "name": "stdout",
     "output_type": "stream",
     "text": [
      "311\n",
      "340\n"
     ]
    }
   ],
   "source": [
    "# Filtering the DETE dataset on the resignation separation types\n",
    "dete_resignations = dete_survey_updated.copy()\n",
    "dete_resignations = dete_resignations[(dete_resignations['separation_type'] == 'Resignation-Other reasons') |\n",
    "                                      (dete_resignations['separation_type'] == 'Resignation-Other employer') |\n",
    "                                      (dete_resignations['separation_type'] == 'Resignation-Move overseas/interstate')]\n",
    "\n",
    "# Filtering the TAFE dataset on the resignation separation type\n",
    "tafe_resignations = tafe_survey_updated.copy()\n",
    "tafe_resignations = tafe_resignations[tafe_resignations['separation_type'] == 'Resignation']\n",
    "\n",
    "# Resetting indices\n",
    "dete_resignations.reset_index(drop=True, inplace=True)\n",
    "tafe_resignations.reset_index(drop=True, inplace=True)\n",
    "\n",
    "# Calculating the number of rows in the filtered datasets\n",
    "print(dete_resignations.shape[0])\n",
    "print(tafe_resignations.shape[0])"
   ]
  },
  {
   "cell_type": "markdown",
   "metadata": {},
   "source": [
    "After filtering, the number of rows in both datasets was reduced more than twice.\n",
    "### Verifying the Data\n",
    "Let's verify that the data doesn't contain any major inconsistencies (to the best of our knowledge). \n",
    "\n",
    "We'll focus on verifying that the years in the `'cease_date'`, `'role_start_date'`, and `'dete_start_date'` columns make sense. \n",
    "\n",
    "- The years should be at least before the current date.\n",
    "- Given that most people start working in their 20s, it's also unlikely that the `'dete_start_date'` was before the year 1940.\n",
    "\n",
    "If we have many years higher than the current date or lower than 1940, we wouldn't want to continue with our analysis, because it could mean there's something very wrong with the data. If there are few such values, we can remove them."
   ]
  },
  {
   "cell_type": "code",
   "execution_count": 41,
   "metadata": {
    "collapsed": false
   },
   "outputs": [
    {
     "data": {
      "text/plain": [
       "01/2014     22\n",
       "05/2012      2\n",
       "05/2013      2\n",
       "06/2013     14\n",
       "07/2006      1\n",
       "07/2012      1\n",
       "07/2013      9\n",
       "08/2013      4\n",
       "09/2010      1\n",
       "09/2013     11\n",
       "10/2013      6\n",
       "11/2013      9\n",
       "12/2013     17\n",
       "2010         1\n",
       "2012       126\n",
       "2013        74\n",
       "Name: cease_date, dtype: int64"
      ]
     },
     "execution_count": 41,
     "metadata": {},
     "output_type": "execute_result"
    }
   ],
   "source": [
    "dete_resignations['cease_date'].value_counts().sort_index(ascending=True)"
   ]
  },
  {
   "cell_type": "markdown",
   "metadata": {},
   "source": [
    "Fisrt, we have to extract the years for this column and then convert it to float."
   ]
  },
  {
   "cell_type": "code",
   "execution_count": 42,
   "metadata": {
    "collapsed": false
   },
   "outputs": [
    {
     "data": {
      "text/plain": [
       "2006.0      1\n",
       "2010.0      2\n",
       "2012.0    129\n",
       "2013.0    146\n",
       "2014.0     22\n",
       "Name: cease_date, dtype: int64"
      ]
     },
     "execution_count": 42,
     "metadata": {},
     "output_type": "execute_result"
    }
   ],
   "source": [
    "# Extracting the years and converting the column to float\n",
    "dete_resignations['cease_date'] = dete_resignations['cease_date'].str[-4:].astype(float)\n",
    "dete_resignations['cease_date'].value_counts().sort_index(ascending=True)"
   ]
  },
  {
   "cell_type": "code",
   "execution_count": 43,
   "metadata": {
    "collapsed": false
   },
   "outputs": [
    {
     "data": {
      "text/plain": [
       "1963.0     1\n",
       "1971.0     1\n",
       "1972.0     1\n",
       "1973.0     1\n",
       "1974.0     2\n",
       "1975.0     1\n",
       "1976.0     2\n",
       "1977.0     1\n",
       "1980.0     5\n",
       "1982.0     1\n",
       "1983.0     2\n",
       "1984.0     1\n",
       "1985.0     3\n",
       "1986.0     3\n",
       "1987.0     1\n",
       "1988.0     4\n",
       "1989.0     4\n",
       "1990.0     5\n",
       "1991.0     4\n",
       "1992.0     6\n",
       "1993.0     5\n",
       "1994.0     6\n",
       "1995.0     4\n",
       "1996.0     6\n",
       "1997.0     5\n",
       "1998.0     6\n",
       "1999.0     8\n",
       "2000.0     9\n",
       "2001.0     3\n",
       "2002.0     6\n",
       "2003.0     6\n",
       "2004.0    14\n",
       "2005.0    15\n",
       "2006.0    13\n",
       "2007.0    21\n",
       "2008.0    22\n",
       "2009.0    13\n",
       "2010.0    17\n",
       "2011.0    24\n",
       "2012.0    21\n",
       "2013.0    10\n",
       "Name: dete_start_date, dtype: int64"
      ]
     },
     "execution_count": 43,
     "metadata": {},
     "output_type": "execute_result"
    }
   ],
   "source": [
    "dete_resignations['dete_start_date'].value_counts().sort_index(ascending=True)"
   ]
  },
  {
   "cell_type": "code",
   "execution_count": 44,
   "metadata": {
    "collapsed": false
   },
   "outputs": [
    {
     "data": {
      "text/plain": [
       "200.0      1\n",
       "1976.0     2\n",
       "1980.0     1\n",
       "1982.0     1\n",
       "1986.0     1\n",
       "1987.0     2\n",
       "1988.0     3\n",
       "1989.0     5\n",
       "1990.0     1\n",
       "1991.0     1\n",
       "1992.0     4\n",
       "1993.0     3\n",
       "1994.0     2\n",
       "1996.0     3\n",
       "1997.0     5\n",
       "1998.0     4\n",
       "1999.0     6\n",
       "2000.0     1\n",
       "2001.0     2\n",
       "2002.0     7\n",
       "2003.0     6\n",
       "2004.0    10\n",
       "2005.0     9\n",
       "2006.0     7\n",
       "2007.0    24\n",
       "2008.0    21\n",
       "2009.0    18\n",
       "2010.0    27\n",
       "2011.0    33\n",
       "2012.0    37\n",
       "2013.0    24\n",
       "Name: role_start_date, dtype: int64"
      ]
     },
     "execution_count": 44,
     "metadata": {},
     "output_type": "execute_result"
    }
   ],
   "source": [
    "dete_resignations['role_start_date'].value_counts().sort_index(ascending=True)"
   ]
  },
  {
   "cell_type": "code",
   "execution_count": 45,
   "metadata": {
    "collapsed": false
   },
   "outputs": [
    {
     "data": {
      "text/plain": [
       "2009.0      2\n",
       "2010.0     68\n",
       "2011.0    116\n",
       "2012.0     94\n",
       "2013.0     55\n",
       "Name: cease_date, dtype: int64"
      ]
     },
     "execution_count": 45,
     "metadata": {},
     "output_type": "execute_result"
    }
   ],
   "source": [
    "tafe_resignations['cease_date'].value_counts().sort_index(ascending=True)"
   ]
  },
  {
   "cell_type": "markdown",
   "metadata": {},
   "source": [
    "It seems that there is an issue with the `'role_start_date'` column of the DETE dataset: the minimum year is 200! All the other date columns in both datasets don't show any anomaly: the minimum value is 1963 (i.e. much later than 1940), the maximum is 2014 (this is also ok, since both datasets were created in 2014).\n",
    "\n",
    "Let's have a look at the other values in the row with the anomalous role start year."
   ]
  },
  {
   "cell_type": "code",
   "execution_count": 46,
   "metadata": {
    "collapsed": false
   },
   "outputs": [
    {
     "data": {
      "text/html": [
       "<div>\n",
       "<style scoped>\n",
       "    .dataframe tbody tr th:only-of-type {\n",
       "        vertical-align: middle;\n",
       "    }\n",
       "\n",
       "    .dataframe tbody tr th {\n",
       "        vertical-align: top;\n",
       "    }\n",
       "\n",
       "    .dataframe thead th {\n",
       "        text-align: right;\n",
       "    }\n",
       "</style>\n",
       "<table border=\"1\" class=\"dataframe\">\n",
       "  <thead>\n",
       "    <tr style=\"text-align: right;\">\n",
       "      <th></th>\n",
       "      <th>id</th>\n",
       "      <th>separation_type</th>\n",
       "      <th>cease_date</th>\n",
       "      <th>dete_start_date</th>\n",
       "      <th>role_start_date</th>\n",
       "      <th>position</th>\n",
       "      <th>classification</th>\n",
       "      <th>region</th>\n",
       "      <th>business_unit</th>\n",
       "      <th>employment_status</th>\n",
       "      <th>career_move_to_public_sector</th>\n",
       "      <th>career_move_to_private_sector</th>\n",
       "      <th>interpersonal_conflicts</th>\n",
       "      <th>job_dissatisfaction</th>\n",
       "      <th>dissatisfaction_with_the_department</th>\n",
       "    </tr>\n",
       "  </thead>\n",
       "  <tbody>\n",
       "    <tr>\n",
       "      <th>137</th>\n",
       "      <td>391</td>\n",
       "      <td>Resignation-Other employer</td>\n",
       "      <td>2013.0</td>\n",
       "      <td>2000.0</td>\n",
       "      <td>200.0</td>\n",
       "      <td>Teacher</td>\n",
       "      <td>Secondary</td>\n",
       "      <td>Central Queensland</td>\n",
       "      <td>NaN</td>\n",
       "      <td>Permanent Full-time</td>\n",
       "      <td>False</td>\n",
       "      <td>True</td>\n",
       "      <td>False</td>\n",
       "      <td>False</td>\n",
       "      <td>False</td>\n",
       "    </tr>\n",
       "  </tbody>\n",
       "</table>\n",
       "</div>"
      ],
      "text/plain": [
       "      id             separation_type  cease_date  dete_start_date  \\\n",
       "137  391  Resignation-Other employer      2013.0           2000.0   \n",
       "\n",
       "     role_start_date position classification              region  \\\n",
       "137            200.0  Teacher      Secondary  Central Queensland   \n",
       "\n",
       "    business_unit    employment_status  career_move_to_public_sector  \\\n",
       "137           NaN  Permanent Full-time                         False   \n",
       "\n",
       "     career_move_to_private_sector  interpersonal_conflicts  \\\n",
       "137                           True                    False   \n",
       "\n",
       "     job_dissatisfaction  dissatisfaction_with_the_department  \n",
       "137                False                                False  "
      ]
     },
     "execution_count": 46,
     "metadata": {},
     "output_type": "execute_result"
    }
   ],
   "source": [
    "# Slicing through the columns of the row with the anomalous value \n",
    "dete_resignations[dete_resignations['role_start_date'] == 200].iloc[:5, :15]"
   ]
  },
  {
   "cell_type": "code",
   "execution_count": 47,
   "metadata": {
    "collapsed": false,
    "scrolled": true
   },
   "outputs": [
    {
     "data": {
      "text/html": [
       "<div>\n",
       "<style scoped>\n",
       "    .dataframe tbody tr th:only-of-type {\n",
       "        vertical-align: middle;\n",
       "    }\n",
       "\n",
       "    .dataframe tbody tr th {\n",
       "        vertical-align: top;\n",
       "    }\n",
       "\n",
       "    .dataframe thead th {\n",
       "        text-align: right;\n",
       "    }\n",
       "</style>\n",
       "<table border=\"1\" class=\"dataframe\">\n",
       "  <thead>\n",
       "    <tr style=\"text-align: right;\">\n",
       "      <th></th>\n",
       "      <th>physical_work_environment</th>\n",
       "      <th>lack_of_recognition</th>\n",
       "      <th>lack_of_job_security</th>\n",
       "      <th>work_location</th>\n",
       "      <th>employment_conditions</th>\n",
       "      <th>maternity/family</th>\n",
       "      <th>relocation</th>\n",
       "      <th>study/travel</th>\n",
       "      <th>ill_health</th>\n",
       "      <th>traumatic_incident</th>\n",
       "      <th>work_life_balance</th>\n",
       "      <th>workload</th>\n",
       "      <th>none_of_the_above</th>\n",
       "      <th>gender</th>\n",
       "      <th>age</th>\n",
       "    </tr>\n",
       "  </thead>\n",
       "  <tbody>\n",
       "    <tr>\n",
       "      <th>137</th>\n",
       "      <td>False</td>\n",
       "      <td>False</td>\n",
       "      <td>False</td>\n",
       "      <td>False</td>\n",
       "      <td>False</td>\n",
       "      <td>False</td>\n",
       "      <td>False</td>\n",
       "      <td>False</td>\n",
       "      <td>False</td>\n",
       "      <td>False</td>\n",
       "      <td>False</td>\n",
       "      <td>False</td>\n",
       "      <td>False</td>\n",
       "      <td>Female</td>\n",
       "      <td>46-50</td>\n",
       "    </tr>\n",
       "  </tbody>\n",
       "</table>\n",
       "</div>"
      ],
      "text/plain": [
       "     physical_work_environment  lack_of_recognition  lack_of_job_security  \\\n",
       "137                      False                False                 False   \n",
       "\n",
       "     work_location  employment_conditions  maternity/family  relocation  \\\n",
       "137          False                  False             False       False   \n",
       "\n",
       "     study/travel  ill_health  traumatic_incident  work_life_balance  \\\n",
       "137         False       False               False              False   \n",
       "\n",
       "     workload  none_of_the_above  gender    age  \n",
       "137     False              False  Female  46-50  "
      ]
     },
     "execution_count": 47,
     "metadata": {},
     "output_type": "execute_result"
    }
   ],
   "source": [
    "# Slicing through the columns of the row with the anomalous value \n",
    "dete_resignations[dete_resignations['role_start_date'] == 200].iloc[:5, 15:]"
   ]
  },
  {
   "cell_type": "markdown",
   "metadata": {},
   "source": [
    "We can observe that this person didn't have any dissatisfaction issues and left the institute only because of moving to private sector. So this row won't be of use for our analysis, and we can just drop it. "
   ]
  },
  {
   "cell_type": "code",
   "execution_count": 48,
   "metadata": {
    "collapsed": false
   },
   "outputs": [
    {
     "data": {
      "text/plain": [
       "310"
      ]
     },
     "execution_count": 48,
     "metadata": {},
     "output_type": "execute_result"
    }
   ],
   "source": [
    "# Dropping the row with the anomalous value\n",
    "dete_resignations.drop(dete_resignations.index[137], inplace=True)\n",
    "\n",
    "# Checking the number of rows afterwards\n",
    "dete_resignations.shape[0]"
   ]
  },
  {
   "cell_type": "markdown",
   "metadata": {},
   "source": [
    "Let's visuaize all the 3 date columns of the DETE dataseet to check once again their consistency."
   ]
  },
  {
   "cell_type": "code",
   "execution_count": 49,
   "metadata": {
    "collapsed": false
   },
   "outputs": [
    {
     "data": {
      "text/plain": [
       "<matplotlib.text.Text at 0x7f28472d3940>"
      ]
     },
     "execution_count": 49,
     "metadata": {},
     "output_type": "execute_result"
    },
    {
     "data": {
      "image/png": "[encoded data removed]",
      "text/plain": [
       "<matplotlib.figure.Figure at 0x7f2847243e10>"
      ]
     },
     "metadata": {},
     "output_type": "display_data"
    }
   ],
   "source": [
    "%matplotlib inline\n",
    "\n",
    "# Creating boxplots for the date columns of the DETE dataset\n",
    "dete_resignations[['dete_start_date', 'role_start_date', 'cease_date']].plot(kind='box', figsize=(10, 7),  fontsize=15)\n",
    "plt.title('Start/Cease dates of the employees, DETE', fontsize=20)"
   ]
  },
  {
   "cell_type": "markdown",
   "metadata": {},
   "source": [
    "Now everything makes sense: year ranges are ok for all the 3 columns, some people changed their role in the institute (were promoted, most probably) after being assumed, some people left the institute (mostly after 2010).\n",
    "### Calculating Institute Service\n",
    "For answering one of our questions in interest, we need to know the years of service for each employee (the length of time an employee spent in a workplace). In the TAFE dataset, we have this information in the `'institute_service'` column. Let’s calculate the same column for the DETE dataset."
   ]
  },
  {
   "cell_type": "code",
   "execution_count": 50,
   "metadata": {
    "collapsed": false
   },
   "outputs": [
    {
     "data": {
      "text/plain": [
       "array([2005., 1994., 2009., 1997., 1998., 2007.,   nan, 1982., 1980.,\n",
       "       1973., 1995., 2003., 2006., 2011., 1977., 1974., 1976., 1993.,\n",
       "       2008., 1986., 2002., 2004., 2010., 2012., 1989., 1999., 1996.,\n",
       "       2000., 1991., 1992., 2001., 1988., 1990., 1985., 1963., 2013.,\n",
       "       1972., 1983., 1971., 1984., 1975., 1987.])"
      ]
     },
     "execution_count": 50,
     "metadata": {},
     "output_type": "execute_result"
    }
   ],
   "source": [
    "dete_resignations['dete_start_date'].unique()"
   ]
  },
  {
   "cell_type": "code",
   "execution_count": 51,
   "metadata": {
    "collapsed": true
   },
   "outputs": [],
   "source": [
    "# Calculating the 'institute_service' column\n",
    "dete_resignations['institute_service'] = dete_resignations['cease_date'] - dete_resignations['dete_start_date']"
   ]
  },
  {
   "cell_type": "markdown",
   "metadata": {},
   "source": [
    "Let's now  take a look at the `'institute_service'` column in both datasets."
   ]
  },
  {
   "cell_type": "code",
   "execution_count": 52,
   "metadata": {
    "collapsed": false,
    "scrolled": true
   },
   "outputs": [
    {
     "data": {
      "text/plain": [
       "0.0     20\n",
       "1.0     22\n",
       "2.0     14\n",
       "3.0     20\n",
       "4.0     16\n",
       "5.0     23\n",
       "6.0     17\n",
       "7.0     13\n",
       "8.0      8\n",
       "9.0     14\n",
       "10.0     6\n",
       "11.0     4\n",
       "12.0     6\n",
       "13.0     7\n",
       "14.0     6\n",
       "15.0     7\n",
       "16.0     5\n",
       "17.0     6\n",
       "18.0     5\n",
       "19.0     3\n",
       "20.0     7\n",
       "21.0     3\n",
       "22.0     6\n",
       "23.0     4\n",
       "24.0     4\n",
       "25.0     2\n",
       "26.0     2\n",
       "27.0     1\n",
       "28.0     2\n",
       "29.0     1\n",
       "30.0     2\n",
       "31.0     1\n",
       "32.0     3\n",
       "33.0     1\n",
       "34.0     1\n",
       "35.0     1\n",
       "36.0     2\n",
       "38.0     1\n",
       "39.0     3\n",
       "41.0     1\n",
       "42.0     1\n",
       "49.0     1\n",
       "Name: institute_service, dtype: int64"
      ]
     },
     "execution_count": 52,
     "metadata": {},
     "output_type": "execute_result"
    }
   ],
   "source": [
    "dete_resignations['institute_service'].value_counts().sort_index(ascending=True)"
   ]
  },
  {
   "cell_type": "markdown",
   "metadata": {},
   "source": [
    "We can notice that 20 employees worked in the DETE institute less than one year, 22 employees - 1 year. They are a target audience for our question: the employees who have only worked for the institute for a short period of time.\n",
    "\n",
    "Let's see the same column divided in equal groups of years."
   ]
  },
  {
   "cell_type": "code",
   "execution_count": 53,
   "metadata": {
    "collapsed": false
   },
   "outputs": [
    {
     "data": {
      "text/plain": [
       "(-0.05, 9.8]    167\n",
       "(9.8, 19.6]      55\n",
       "(19.6, 29.4]     32\n",
       "(29.4, 39.2]     15\n",
       "(39.2, 49.0]      3\n",
       "Name: institute_service, dtype: int64"
      ]
     },
     "execution_count": 53,
     "metadata": {},
     "output_type": "execute_result"
    }
   ],
   "source": [
    "dete_resignations['institute_service'].value_counts(bins=5)"
   ]
  },
  {
   "cell_type": "markdown",
   "metadata": {},
   "source": [
    "The majority of people worked in the DETE institute up to 10 years. \n",
    "\n",
    "Let's now take a look at the TAFE institute's workers."
   ]
  },
  {
   "cell_type": "code",
   "execution_count": 54,
   "metadata": {
    "collapsed": false
   },
   "outputs": [
    {
     "data": {
      "text/plain": [
       "Less than 1 year      73\n",
       "1-2                   64\n",
       "3-4                   63\n",
       "NaN                   50\n",
       "5-6                   33\n",
       "11-20                 26\n",
       "7-10                  21\n",
       "More than 20 years    10\n",
       "Name: institute_service, dtype: int64"
      ]
     },
     "execution_count": 54,
     "metadata": {},
     "output_type": "execute_result"
    }
   ],
   "source": [
    "tafe_resignations['institute_service'].value_counts(dropna=False)"
   ]
  },
  {
   "cell_type": "markdown",
   "metadata": {},
   "source": [
    "In this column the values are given in ranges of years. We see that 25% of all the employees for whom the information about their years of service is available (i.e. excluding NaN) worked in the institute less than 1 year, 47% - 1-2 years. Hence, in the TAFE institute more people resigned after a short period of time.\n",
    "### Cleaning the Age Column\n",
    "To answer our second question, we have to clean first the `'age'` column for both datasets."
   ]
  },
  {
   "cell_type": "code",
   "execution_count": 55,
   "metadata": {
    "collapsed": false
   },
   "outputs": [
    {
     "data": {
      "text/plain": [
       "20 or younger     1\n",
       "21-25            29\n",
       "26-30            35\n",
       "31-35            29\n",
       "36-40            41\n",
       "41-45            48\n",
       "46-50            41\n",
       "51-55            32\n",
       "56-60            26\n",
       "61 or older      23\n",
       "NaN               5\n",
       "Name: age, dtype: int64"
      ]
     },
     "execution_count": 55,
     "metadata": {},
     "output_type": "execute_result"
    }
   ],
   "source": [
    "dete_resignations['age'].value_counts(dropna=False).sort_index(ascending=True)"
   ]
  },
  {
   "cell_type": "code",
   "execution_count": 56,
   "metadata": {
    "collapsed": false
   },
   "outputs": [
    {
     "data": {
      "text/plain": [
       "20 or younger     9\n",
       "21  25           33\n",
       "26  30           32\n",
       "31  35           32\n",
       "36  40           32\n",
       "41  45           45\n",
       "46  50           39\n",
       "51-55            39\n",
       "56 or older      29\n",
       "NaN              50\n",
       "Name: age, dtype: int64"
      ]
     },
     "execution_count": 56,
     "metadata": {},
     "output_type": "execute_result"
    }
   ],
   "source": [
    "tafe_resignations['age'].value_counts(dropna=False).sort_index(ascending=True)"
   ]
  },
  {
   "cell_type": "markdown",
   "metadata": {},
   "source": [
    "The age ranges are the same in both datasets, only that in the DETE dataset there are the ranges \"56-60\" and \"61 or older\", while in the TAFE dateset they are included in the range \"56 or older\". Since we're going to combine both datasets and analyze all the data together, we'll merge those 2 ranges also for the DETE dataset, to avoid bias."
   ]
  },
  {
   "cell_type": "code",
   "execution_count": 57,
   "metadata": {
    "collapsed": true
   },
   "outputs": [],
   "source": [
    "# Combining the ranges \"56-60\" and \"61 or older\"\n",
    "dete_resignations['age'] = dete_resignations['age'].str.replace('56-60', '56 or older').str.replace('61 or older', '56 or older')"
   ]
  },
  {
   "cell_type": "markdown",
   "metadata": {},
   "source": [
    "Another issue to be resolved is different formats of age ranges between the datasets. Let's standardize them, following the example of the DETE dataset: 2 values divided by a hyphen."
   ]
  },
  {
   "cell_type": "code",
   "execution_count": 58,
   "metadata": {
    "collapsed": true
   },
   "outputs": [],
   "source": [
    "tafe_resignations['age'] = tafe_resignations['age'].str.replace('  ', '-')"
   ]
  },
  {
   "cell_type": "markdown",
   "metadata": {},
   "source": [
    "Let's inspect again the values of both `'age'` columns after introducing our modifications."
   ]
  },
  {
   "cell_type": "code",
   "execution_count": 59,
   "metadata": {
    "collapsed": false
   },
   "outputs": [
    {
     "data": {
      "text/plain": [
       "20 or younger     1\n",
       "21-25            29\n",
       "26-30            35\n",
       "31-35            29\n",
       "36-40            41\n",
       "41-45            48\n",
       "46-50            41\n",
       "51-55            32\n",
       "56 or older      49\n",
       "NaN               5\n",
       "Name: age, dtype: int64"
      ]
     },
     "execution_count": 59,
     "metadata": {},
     "output_type": "execute_result"
    }
   ],
   "source": [
    "dete_resignations['age'].value_counts(dropna=False).sort_index(ascending=True)"
   ]
  },
  {
   "cell_type": "code",
   "execution_count": 60,
   "metadata": {
    "collapsed": false
   },
   "outputs": [
    {
     "data": {
      "text/plain": [
       "20 or younger     9\n",
       "21-25            33\n",
       "26-30            32\n",
       "31-35            32\n",
       "36-40            32\n",
       "41-45            45\n",
       "46-50            39\n",
       "51-55            39\n",
       "56 or older      29\n",
       "NaN              50\n",
       "Name: age, dtype: int64"
      ]
     },
     "execution_count": 60,
     "metadata": {},
     "output_type": "execute_result"
    }
   ],
   "source": [
    "tafe_resignations['age'].value_counts(dropna=False).sort_index(ascending=True)"
   ]
  },
  {
   "cell_type": "markdown",
   "metadata": {},
   "source": [
    "Now both the format and the age ranges look identical for both datasets.\n",
    "### Identifying Dissatisfied Employees\n",
    "Next, we'll identify any employees who resigned because they were dissatisfied. For this purpose we'll use the columns from both dataset that contain reasons (the negative ones) for resigning. If the employee indicated any of them, we'll mark them as dissatisfied in a new column. For the DETE dataset such columns are: `\n",
    "- `'job_dissatisfaction'`,\n",
    "- `'dissatisfaction_with_the_department'`,\n",
    "- `'physical_work_environment'`,\n",
    "- `'lack_of_recognition'`,\n",
    "- `'lack_of_job_security'`,\n",
    "- `'work_location'`, \n",
    "- `'employment_conditions'`,\n",
    "- `'work_life_balance'`, \n",
    "- `'workload'`. \n",
    "\n",
    "For the TAFE dataset they are:\n",
    "- `'Contributing Factors. Dissatisfaction'`, \n",
    "- `'Contributing Factors. Job Dissatisfaction'`.\n",
    "\n",
    "Let's take a look at the values of these columns."
   ]
  },
  {
   "cell_type": "code",
   "execution_count": 61,
   "metadata": {
    "collapsed": false
   },
   "outputs": [
    {
     "name": "stdout",
     "output_type": "stream",
     "text": [
      "<class 'pandas.core.frame.DataFrame'>\n",
      "Int64Index: 310 entries, 0 to 310\n",
      "Data columns (total 31 columns):\n",
      "id                                     310 non-null int64\n",
      "separation_type                        310 non-null object\n",
      "cease_date                             299 non-null float64\n",
      "dete_start_date                        282 non-null float64\n",
      "role_start_date                        270 non-null float64\n",
      "position                               307 non-null object\n",
      "classification                         160 non-null object\n",
      "region                                 264 non-null object\n",
      "business_unit                          32 non-null object\n",
      "employment_status                      306 non-null object\n",
      "career_move_to_public_sector           310 non-null bool\n",
      "career_move_to_private_sector          310 non-null bool\n",
      "interpersonal_conflicts                310 non-null bool\n",
      "job_dissatisfaction                    310 non-null bool\n",
      "dissatisfaction_with_the_department    310 non-null bool\n",
      "physical_work_environment              310 non-null bool\n",
      "lack_of_recognition                    310 non-null bool\n",
      "lack_of_job_security                   310 non-null bool\n",
      "work_location                          310 non-null bool\n",
      "employment_conditions                  310 non-null bool\n",
      "maternity/family                       310 non-null bool\n",
      "relocation                             310 non-null bool\n",
      "study/travel                           310 non-null bool\n",
      "ill_health                             310 non-null bool\n",
      "traumatic_incident                     310 non-null bool\n",
      "work_life_balance                      310 non-null bool\n",
      "workload                               310 non-null bool\n",
      "none_of_the_above                      310 non-null bool\n",
      "gender                                 301 non-null object\n",
      "age                                    305 non-null object\n",
      "institute_service                      272 non-null float64\n",
      "dtypes: bool(18), float64(4), int64(1), object(8)\n",
      "memory usage: 39.4+ KB\n"
     ]
    }
   ],
   "source": [
    "dete_resignations.info()"
   ]
  },
  {
   "cell_type": "markdown",
   "metadata": {},
   "source": [
    "For the DETE dataset all these columns are boolean, so they don't need additional modifications for creating the `'dissatisfied'` column. Let's look instead at the TAFE dataset information."
   ]
  },
  {
   "cell_type": "code",
   "execution_count": 62,
   "metadata": {
    "collapsed": false
   },
   "outputs": [
    {
     "name": "stdout",
     "output_type": "stream",
     "text": [
      "<class 'pandas.core.frame.DataFrame'>\n",
      "RangeIndex: 340 entries, 0 to 339\n",
      "Data columns (total 23 columns):\n",
      "id                                                     340 non-null float64\n",
      "Institute                                              340 non-null object\n",
      "WorkArea                                               340 non-null object\n",
      "cease_date                                             335 non-null float64\n",
      "separation_type                                        340 non-null object\n",
      "Contributing Factors. Career Move - Public Sector      332 non-null object\n",
      "Contributing Factors. Career Move - Private Sector     332 non-null object\n",
      "Contributing Factors. Career Move - Self-employment    332 non-null object\n",
      "Contributing Factors. Ill Health                       332 non-null object\n",
      "Contributing Factors. Maternity/Family                 332 non-null object\n",
      "Contributing Factors. Dissatisfaction                  332 non-null object\n",
      "Contributing Factors. Job Dissatisfaction              332 non-null object\n",
      "Contributing Factors. Interpersonal Conflict           332 non-null object\n",
      "Contributing Factors. Study                            332 non-null object\n",
      "Contributing Factors. Travel                           332 non-null object\n",
      "Contributing Factors. Other                            332 non-null object\n",
      "Contributing Factors. NONE                             332 non-null object\n",
      "gender                                                 290 non-null object\n",
      "age                                                    290 non-null object\n",
      "employment_status                                      290 non-null object\n",
      "position                                               290 non-null object\n",
      "institute_service                                      290 non-null object\n",
      "role_service                                           290 non-null object\n",
      "dtypes: float64(2), object(21)\n",
      "memory usage: 61.2+ KB\n"
     ]
    }
   ],
   "source": [
    "tafe_resignations.info()"
   ]
  },
  {
   "cell_type": "markdown",
   "metadata": {},
   "source": [
    "Here the columns in interest are strings, so they need first to be converted to boolean."
   ]
  },
  {
   "cell_type": "code",
   "execution_count": 63,
   "metadata": {
    "collapsed": false
   },
   "outputs": [
    {
     "data": {
      "text/plain": [
       "-                                         277\n",
       "Contributing Factors. Dissatisfaction      55\n",
       "NaN                                         8\n",
       "Name: Contributing Factors. Dissatisfaction, dtype: int64"
      ]
     },
     "execution_count": 63,
     "metadata": {},
     "output_type": "execute_result"
    }
   ],
   "source": [
    "tafe_resignations['Contributing Factors. Dissatisfaction'].value_counts(dropna=False)"
   ]
  },
  {
   "cell_type": "code",
   "execution_count": 64,
   "metadata": {
    "collapsed": false
   },
   "outputs": [
    {
     "data": {
      "text/plain": [
       "-                      270\n",
       "Job Dissatisfaction     62\n",
       "NaN                      8\n",
       "Name: Contributing Factors. Job Dissatisfaction, dtype: int64"
      ]
     },
     "execution_count": 64,
     "metadata": {},
     "output_type": "execute_result"
    }
   ],
   "source": [
    "tafe_resignations['Contributing Factors. Job Dissatisfaction'].value_counts(dropna=False)"
   ]
  },
  {
   "cell_type": "markdown",
   "metadata": {},
   "source": [
    "We see that \"-\" practically means False (satisfied), while the other string value - True (dissatisfied). Given that, let's update the column values."
   ]
  },
  {
   "cell_type": "code",
   "execution_count": 65,
   "metadata": {
    "collapsed": true
   },
   "outputs": [],
   "source": [
    "# Creating a function to convert strings to boolean\n",
    "def update_vals(val):\n",
    "    if pd.isnull(val):\n",
    "        return np.nan\n",
    "    elif val == '-':\n",
    "        return False\n",
    "    return True\n",
    "\n",
    "# Converting strings to boolean\n",
    "tafe_resignations[['Contributing Factors. Dissatisfaction', 'Contributing Factors. Job Dissatisfaction']] = tafe_resignations[['Contributing Factors. Dissatisfaction', 'Contributing Factors. Job Dissatisfaction']].applymap(update_vals) "
   ]
  },
  {
   "cell_type": "markdown",
   "metadata": {},
   "source": [
    "Now all the columns related to the dissatisfaction factors in both datasets are in boolean, and we can generalize this information in one column `'dissatisfied'`."
   ]
  },
  {
   "cell_type": "code",
   "execution_count": 66,
   "metadata": {
    "collapsed": false
   },
   "outputs": [],
   "source": [
    "# Creating a list of columns for the DETE dataset\n",
    "dete_columns_to_convert = ['job_dissatisfaction', 'dissatisfaction_with_the_department', \n",
    "                           'physical_work_environment', 'lack_of_recognition', 'lack_of_job_security', \n",
    "                           'work_location', 'employment_conditions', 'work_life_balance', 'workload']\n",
    "\n",
    "# Creating a list of columns for the TAFE dataset\n",
    "tafe_columns_to_convert = ['Contributing Factors. Dissatisfaction', \n",
    "                           'Contributing Factors. Job Dissatisfaction']\n",
    "\n",
    "# Creating the 'dissatisfied' column in both datasets\n",
    "dete_resignations['dissatisfied'] = dete_resignations[dete_columns_to_convert].any(axis=1, skipna=False)\n",
    "tafe_resignations['dissatisfied'] = tafe_resignations[tafe_columns_to_convert].any(axis=1, skipna=False)"
   ]
  },
  {
   "cell_type": "markdown",
   "metadata": {},
   "source": [
    "### Keeping Only Relevant Columns\n",
    "After cleaning the data and gathering all the dissatisfaction factors in one column, we don't need anymore so many columns in each dataset to proceed with our analysis. Let's take a look once again at the column names and decide which of them to keep."
   ]
  },
  {
   "cell_type": "code",
   "execution_count": 67,
   "metadata": {
    "collapsed": false
   },
   "outputs": [
    {
     "data": {
      "text/plain": [
       "Index(['id', 'separation_type', 'cease_date', 'dete_start_date',\n",
       "       'role_start_date', 'position', 'classification', 'region',\n",
       "       'business_unit', 'employment_status', 'career_move_to_public_sector',\n",
       "       'career_move_to_private_sector', 'interpersonal_conflicts',\n",
       "       'job_dissatisfaction', 'dissatisfaction_with_the_department',\n",
       "       'physical_work_environment', 'lack_of_recognition',\n",
       "       'lack_of_job_security', 'work_location', 'employment_conditions',\n",
       "       'maternity/family', 'relocation', 'study/travel', 'ill_health',\n",
       "       'traumatic_incident', 'work_life_balance', 'workload',\n",
       "       'none_of_the_above', 'gender', 'age', 'institute_service',\n",
       "       'dissatisfied'],\n",
       "      dtype='object')"
      ]
     },
     "execution_count": 67,
     "metadata": {},
     "output_type": "execute_result"
    }
   ],
   "source": [
    "dete_resignations.columns"
   ]
  },
  {
   "cell_type": "code",
   "execution_count": 68,
   "metadata": {
    "collapsed": false
   },
   "outputs": [
    {
     "data": {
      "text/plain": [
       "Index(['id', 'Institute', 'WorkArea', 'cease_date', 'separation_type',\n",
       "       'Contributing Factors. Career Move - Public Sector ',\n",
       "       'Contributing Factors. Career Move - Private Sector ',\n",
       "       'Contributing Factors. Career Move - Self-employment',\n",
       "       'Contributing Factors. Ill Health',\n",
       "       'Contributing Factors. Maternity/Family',\n",
       "       'Contributing Factors. Dissatisfaction',\n",
       "       'Contributing Factors. Job Dissatisfaction',\n",
       "       'Contributing Factors. Interpersonal Conflict',\n",
       "       'Contributing Factors. Study', 'Contributing Factors. Travel',\n",
       "       'Contributing Factors. Other', 'Contributing Factors. NONE', 'gender',\n",
       "       'age', 'employment_status', 'position', 'institute_service',\n",
       "       'role_service', 'dissatisfied'],\n",
       "      dtype='object')"
      ]
     },
     "execution_count": 68,
     "metadata": {},
     "output_type": "execute_result"
    }
   ],
   "source": [
    "tafe_resignations.columns"
   ]
  },
  {
   "cell_type": "markdown",
   "metadata": {},
   "source": [
    "It seems that there are very few columns in each dataframe that represent any potential interest (at least as a reference) for further analysis. Let's create copies of the dataframes containing only those columns to avoid confusion."
   ]
  },
  {
   "cell_type": "code",
   "execution_count": 69,
   "metadata": {
    "collapsed": true
   },
   "outputs": [],
   "source": [
    "# Creating lists of columns to keep\n",
    "defe_columns_to_keep = ['id', 'cease_date', 'position', 'region', 'employment_status', 'gender', 'age', 'institute_service', \n",
    "                        'dissatisfied']\n",
    "tafe_columns_to_keep = ['id', 'WorkArea', 'cease_date', 'gender',  'age', 'employment_status', 'position', \n",
    "                        'institute_service', 'dissatisfied']\n",
    "\n",
    "# Copying dataframes only with the selected columns\n",
    "dete_resignations_up = dete_resignations[defe_columns_to_keep].copy()\n",
    "tafe_resignations_up = tafe_resignations[tafe_columns_to_keep].copy()"
   ]
  },
  {
   "cell_type": "code",
   "execution_count": 70,
   "metadata": {
    "collapsed": false
   },
   "outputs": [
    {
     "data": {
      "text/plain": [
       "Index(['id', 'cease_date', 'position', 'region', 'employment_status', 'gender',\n",
       "       'age', 'institute_service', 'dissatisfied'],\n",
       "      dtype='object')"
      ]
     },
     "execution_count": 70,
     "metadata": {},
     "output_type": "execute_result"
    }
   ],
   "source": [
    "dete_resignations_up.columns"
   ]
  },
  {
   "cell_type": "code",
   "execution_count": 71,
   "metadata": {
    "collapsed": false
   },
   "outputs": [
    {
     "data": {
      "text/plain": [
       "Index(['id', 'WorkArea', 'cease_date', 'gender', 'age', 'employment_status',\n",
       "       'position', 'institute_service', 'dissatisfied'],\n",
       "      dtype='object')"
      ]
     },
     "execution_count": 71,
     "metadata": {},
     "output_type": "execute_result"
    }
   ],
   "source": [
    "tafe_resignations_up.columns"
   ]
  },
  {
   "cell_type": "markdown",
   "metadata": {},
   "source": [
    "### Combining the Data\n",
    "Now, we'll combine our datasets. Our goal is to aggregate the data according to the `'institute_service'` column for answering the first question and then according to the `'age'` column for the second one.\n",
    "\n",
    "First, we'll add a column `'institute'` to each dataframe and then we'll combine both dataframes."
   ]
  },
  {
   "cell_type": "code",
   "execution_count": 72,
   "metadata": {
    "collapsed": false
   },
   "outputs": [],
   "source": [
    "# Addig the 'institute' columns\n",
    "dete_resignations_up['institute'] = 'DETE'\n",
    "tafe_resignations_up['institute'] = 'TAFE'\n",
    "\n",
    "# Combining the dataframes\n",
    "combined = pd.concat([dete_resignations_up, tafe_resignations_up])"
   ]
  },
  {
   "cell_type": "code",
   "execution_count": 73,
   "metadata": {
    "collapsed": false
   },
   "outputs": [
    {
     "data": {
      "text/plain": [
       "Index(['WorkArea', 'age', 'cease_date', 'dissatisfied', 'employment_status',\n",
       "       'gender', 'id', 'institute', 'institute_service', 'position', 'region'],\n",
       "      dtype='object')"
      ]
     },
     "execution_count": 73,
     "metadata": {},
     "output_type": "execute_result"
    }
   ],
   "source": [
    "combined.columns"
   ]
  },
  {
   "cell_type": "markdown",
   "metadata": {},
   "source": [
    "### Categorizing the Institute Service Column\n",
    "Let's check the values of the `'institute_service'` column after combining our dataframes."
   ]
  },
  {
   "cell_type": "code",
   "execution_count": 74,
   "metadata": {
    "collapsed": false,
    "scrolled": true
   },
   "outputs": [
    {
     "data": {
      "text/plain": [
       "Less than 1 year      73\n",
       "1-2                   64\n",
       "3-4                   63\n",
       "5-6                   33\n",
       "11-20                 26\n",
       "5.0                   23\n",
       "1.0                   22\n",
       "7-10                  21\n",
       "3.0                   20\n",
       "0.0                   20\n",
       "6.0                   17\n",
       "4.0                   16\n",
       "2.0                   14\n",
       "9.0                   14\n",
       "7.0                   13\n",
       "More than 20 years    10\n",
       "8.0                    8\n",
       "15.0                   7\n",
       "20.0                   7\n",
       "13.0                   7\n",
       "12.0                   6\n",
       "22.0                   6\n",
       "17.0                   6\n",
       "14.0                   6\n",
       "10.0                   6\n",
       "18.0                   5\n",
       "16.0                   5\n",
       "23.0                   4\n",
       "11.0                   4\n",
       "24.0                   4\n",
       "39.0                   3\n",
       "32.0                   3\n",
       "21.0                   3\n",
       "19.0                   3\n",
       "26.0                   2\n",
       "28.0                   2\n",
       "30.0                   2\n",
       "25.0                   2\n",
       "36.0                   2\n",
       "27.0                   1\n",
       "29.0                   1\n",
       "31.0                   1\n",
       "33.0                   1\n",
       "34.0                   1\n",
       "41.0                   1\n",
       "35.0                   1\n",
       "42.0                   1\n",
       "49.0                   1\n",
       "38.0                   1\n",
       "Name: institute_service, dtype: int64"
      ]
     },
     "execution_count": 74,
     "metadata": {},
     "output_type": "execute_result"
    }
   ],
   "source": [
    "combined['institute_service'].value_counts()"
   ]
  },
  {
   "cell_type": "markdown",
   "metadata": {},
   "source": [
    "We see that this column currently contains values in different formats. To analyze the data, we'll categorize these values in a unique format according to the following definitions:\n",
    "\n",
    "- New: Less than 3 years at a company\n",
    "- Experienced: 3-6 years at a company\n",
    "- Established: 7-10 years at a company\n",
    "- Veteran: 11 or more years at a company\n",
    "\n",
    "We'll start by extracting the years of service from each value of the column"
   ]
  },
  {
   "cell_type": "code",
   "execution_count": 75,
   "metadata": {
    "collapsed": false
   },
   "outputs": [
    {
     "data": {
      "text/plain": [
       "1.0     159\n",
       "3.0      83\n",
       "5.0      56\n",
       "7.0      34\n",
       "11.0     30\n",
       "0.0      20\n",
       "20.0     17\n",
       "6.0      17\n",
       "4.0      16\n",
       "9.0      14\n",
       "2.0      14\n",
       "8.0       8\n",
       "13.0      7\n",
       "15.0      7\n",
       "10.0      6\n",
       "14.0      6\n",
       "22.0      6\n",
       "17.0      6\n",
       "12.0      6\n",
       "16.0      5\n",
       "18.0      5\n",
       "23.0      4\n",
       "24.0      4\n",
       "39.0      3\n",
       "19.0      3\n",
       "21.0      3\n",
       "32.0      3\n",
       "28.0      2\n",
       "26.0      2\n",
       "36.0      2\n",
       "25.0      2\n",
       "30.0      2\n",
       "29.0      1\n",
       "38.0      1\n",
       "42.0      1\n",
       "27.0      1\n",
       "41.0      1\n",
       "35.0      1\n",
       "33.0      1\n",
       "49.0      1\n",
       "34.0      1\n",
       "31.0      1\n",
       "Name: institute_service, dtype: int64"
      ]
     },
     "execution_count": 75,
     "metadata": {},
     "output_type": "execute_result"
    }
   ],
   "source": [
    "# Converting each value to string, extracting the years, and then converting to float\n",
    "combined['institute_service'] = combined['institute_service'].astype('str').str.extract(r'(\\d+)', expand=True).astype('float')\n",
    "\n",
    "# Checking the updated values\n",
    "combined['institute_service'].value_counts()"
   ]
  },
  {
   "cell_type": "markdown",
   "metadata": {},
   "source": [
    "Now, we'll map these years to the career stage categories."
   ]
  },
  {
   "cell_type": "code",
   "execution_count": 76,
   "metadata": {
    "collapsed": false
   },
   "outputs": [
    {
     "data": {
      "text/plain": [
       "New            193\n",
       "Experienced    172\n",
       "Veteran        135\n",
       "NaN             88\n",
       "Established     62\n",
       "Name: service_cat, dtype: int64"
      ]
     },
     "execution_count": 76,
     "metadata": {},
     "output_type": "execute_result"
    }
   ],
   "source": [
    "# Creating a function for mapping values to the career stages\n",
    "def service_category(val):\n",
    "    if pd.isnull(val):\n",
    "        return np.nan\n",
    "    elif val < 3:\n",
    "        return 'New'\n",
    "    elif val <= 6:\n",
    "        return 'Experienced'\n",
    "    elif val <=10:\n",
    "        return 'Established'\n",
    "    else:\n",
    "        return 'Veteran'\n",
    "\n",
    "# Mapping the years to the career stages\n",
    "combined['service_cat'] = combined['institute_service'].apply(service_category)\n",
    "\n",
    "# Checking the values\n",
    "combined['service_cat'].value_counts(dropna=False)"
   ]
  },
  {
   "cell_type": "markdown",
   "metadata": {},
   "source": [
    "### Categorizing the Age Column\n",
    "Now we'll apply the same categorization process to the `'age'` column. First, let's check the values of this column."
   ]
  },
  {
   "cell_type": "code",
   "execution_count": 77,
   "metadata": {
    "collapsed": false
   },
   "outputs": [
    {
     "data": {
      "text/plain": [
       "41-45            93\n",
       "46-50            80\n",
       "56 or older      78\n",
       "36-40            73\n",
       "51-55            71\n",
       "26-30            67\n",
       "21-25            62\n",
       "31-35            61\n",
       "20 or younger    10\n",
       "Name: age, dtype: int64"
      ]
     },
     "execution_count": 77,
     "metadata": {},
     "output_type": "execute_result"
    }
   ],
   "source": [
    "combined['age'].value_counts()"
   ]
  },
  {
   "cell_type": "markdown",
   "metadata": {},
   "source": [
    "We can divide these values into the following 3 categories:\n",
    "\n",
    "- Junior: 30 y.o. or yonger\n",
    "- Middle: 31-45 y.o.\n",
    "- Senior: 46 y.o. or older\n",
    "\n",
    "To do so, we have to extract the age from each value of the column."
   ]
  },
  {
   "cell_type": "code",
   "execution_count": 78,
   "metadata": {
    "collapsed": false
   },
   "outputs": [
    {
     "data": {
      "text/plain": [
       "41.0    93\n",
       "46.0    80\n",
       "56.0    78\n",
       "36.0    73\n",
       "51.0    71\n",
       "26.0    67\n",
       "21.0    62\n",
       "31.0    61\n",
       "20.0    10\n",
       "Name: age, dtype: int64"
      ]
     },
     "execution_count": 78,
     "metadata": {},
     "output_type": "execute_result"
    }
   ],
   "source": [
    "# Converting each value to string, extracting the ages, and then converting to float\n",
    "combined['age'] = combined['age'].str.extract(r'(\\d+)', expand=True).astype('float')\n",
    "\n",
    "# Checking the updated values\n",
    "combined['age'].value_counts()"
   ]
  },
  {
   "cell_type": "markdown",
   "metadata": {},
   "source": [
    "Now, we'll map these age values to the categories above, using a function similar to the one that we've used before."
   ]
  },
  {
   "cell_type": "code",
   "execution_count": 79,
   "metadata": {
    "collapsed": false
   },
   "outputs": [
    {
     "data": {
      "text/plain": [
       "Senior    229\n",
       "Middle    227\n",
       "Junior    139\n",
       "NaN        55\n",
       "Name: age_cat, dtype: int64"
      ]
     },
     "execution_count": 79,
     "metadata": {},
     "output_type": "execute_result"
    }
   ],
   "source": [
    "# Creating a function for mapping values to the categories\n",
    "def age_category(val):\n",
    "    if pd.isnull(val):\n",
    "        return np.nan\n",
    "    elif val < 31:\n",
    "        return 'Junior'\n",
    "    elif val < 46:\n",
    "        return 'Middle'\n",
    "    else:\n",
    "        return 'Senior'\n",
    "\n",
    "# Mapping the age values to the age cetagories\n",
    "combined['age_cat'] = combined['age'].apply(age_category)\n",
    "\n",
    "# Checking the values\n",
    "combined['age_cat'].value_counts(dropna=False)"
   ]
  },
  {
   "cell_type": "markdown",
   "metadata": {},
   "source": [
    "### Dealing with Missing Values\n",
    "Our next step is to check how many missing values there're in the combined dataset and how they can be handled."
   ]
  },
  {
   "cell_type": "code",
   "execution_count": 80,
   "metadata": {
    "collapsed": false
   },
   "outputs": [
    {
     "data": {
      "text/plain": [
       "(650, 13)"
      ]
     },
     "execution_count": 80,
     "metadata": {},
     "output_type": "execute_result"
    }
   ],
   "source": [
    "combined.shape"
   ]
  },
  {
   "cell_type": "code",
   "execution_count": 81,
   "metadata": {
    "collapsed": false
   },
   "outputs": [
    {
     "data": {
      "text/plain": [
       "WorkArea             310\n",
       "age                   55\n",
       "cease_date            16\n",
       "dissatisfied           8\n",
       "employment_status     54\n",
       "gender                59\n",
       "id                     0\n",
       "institute              0\n",
       "institute_service     88\n",
       "position              53\n",
       "region               386\n",
       "service_cat           88\n",
       "age_cat               55\n",
       "dtype: int64"
      ]
     },
     "execution_count": 81,
     "metadata": {},
     "output_type": "execute_result"
    }
   ],
   "source": [
    "combined.isnull().sum()"
   ]
  },
  {
   "cell_type": "markdown",
   "metadata": {},
   "source": [
    "We see that almost in all the columns there are missing values. \n",
    "\n",
    "- In the `'WorkArea'` and `'region'` columns there are about 50% of missing values, because both of them were present only in one of the datasets (DETE or TAFE). We can delete these columns without any consequences for our analysis.\n",
    "- In the `'dissatisfied'` column, which is the key data for our analysis, there are 8 missing values (i.e. around 1% of all the values). We'll probably have to fill them.\n",
    "- In the `'age'` (and `'age_cat'`) and `'institute_service'` (and `'service_cat'`) columns, which are the columns of our main interest we have quite a high percentage of missing values (8 and 14% correspondingly). We have to take a closer look at them and decide how to cope with them.\n",
    "- In the rest of the columns we also have missing values, up to 9% in the `'gender'` column. However, since we kept these columns only as a reference data and we're not going to use them directly for our analysis, we can keep their missing values as they are.\n",
    "\n",
    "First, we'll remove the unnecessary columns `'WorkArea'` and `'region'`."
   ]
  },
  {
   "cell_type": "code",
   "execution_count": 82,
   "metadata": {
    "collapsed": false
   },
   "outputs": [],
   "source": [
    "# Deleting the unnecessary columns\n",
    "combined = combined.drop(['WorkArea', 'region'], axis=1)"
   ]
  },
  {
   "cell_type": "markdown",
   "metadata": {},
   "source": [
    "Now, we have to decide what to do with the `'dissatisfied'`  column. Let's look at its values."
   ]
  },
  {
   "cell_type": "code",
   "execution_count": 83,
   "metadata": {
    "collapsed": false
   },
   "outputs": [
    {
     "data": {
      "text/plain": [
       "False    402\n",
       "True     240\n",
       "NaN        8\n",
       "Name: dissatisfied, dtype: int64"
      ]
     },
     "execution_count": 83,
     "metadata": {},
     "output_type": "execute_result"
    }
   ],
   "source": [
    "combined['dissatisfied'].value_counts(dropna=False)"
   ]
  },
  {
   "cell_type": "markdown",
   "metadata": {},
   "source": [
    "The \"False\" value is definitely dominating in this column. Hence, given that there are only about 1% of missing values here, we can replace them with \"False\"."
   ]
  },
  {
   "cell_type": "code",
   "execution_count": 84,
   "metadata": {
    "collapsed": false
   },
   "outputs": [
    {
     "data": {
      "text/plain": [
       "False    410\n",
       "True     240\n",
       "Name: dissatisfied, dtype: int64"
      ]
     },
     "execution_count": 84,
     "metadata": {},
     "output_type": "execute_result"
    }
   ],
   "source": [
    "# Replacing missing values with False\n",
    "combined['dissatisfied'] = combined['dissatisfied'].fillna(False)\n",
    "\n",
    "# Checking the values\n",
    "combined['dissatisfied'].value_counts(dropna=False)"
   ]
  },
  {
   "cell_type": "markdown",
   "metadata": {},
   "source": [
    "Next, we have to handle missing values in the `'service_cat'` and `'age_cat'` columns (we'll ignore the original `'institite_service'` and `'age'` columns and leave them only as a reference). Our approach will be to try to replace the missing values with the most frequent value of the column, or, alternatively, to figure it out of the other value if available (i.e. the service length from the age).\n",
    "\n",
    "Let's take a look at the rows with the missing values  in the `'service_cat'` column."
   ]
  },
  {
   "cell_type": "code",
   "execution_count": 85,
   "metadata": {
    "collapsed": false,
    "scrolled": false
   },
   "outputs": [
    {
     "data": {
      "text/html": [
       "<div>\n",
       "<style scoped>\n",
       "    .dataframe tbody tr th:only-of-type {\n",
       "        vertical-align: middle;\n",
       "    }\n",
       "\n",
       "    .dataframe tbody tr th {\n",
       "        vertical-align: top;\n",
       "    }\n",
       "\n",
       "    .dataframe thead th {\n",
       "        text-align: right;\n",
       "    }\n",
       "</style>\n",
       "<table border=\"1\" class=\"dataframe\">\n",
       "  <thead>\n",
       "    <tr style=\"text-align: right;\">\n",
       "      <th></th>\n",
       "      <th>age</th>\n",
       "      <th>cease_date</th>\n",
       "      <th>dissatisfied</th>\n",
       "      <th>employment_status</th>\n",
       "      <th>gender</th>\n",
       "      <th>id</th>\n",
       "      <th>institute</th>\n",
       "      <th>institute_service</th>\n",
       "      <th>position</th>\n",
       "      <th>service_cat</th>\n",
       "      <th>age_cat</th>\n",
       "    </tr>\n",
       "  </thead>\n",
       "  <tbody>\n",
       "    <tr>\n",
       "      <th>7</th>\n",
       "      <td>56.0</td>\n",
       "      <td>2012.0</td>\n",
       "      <td>True</td>\n",
       "      <td>Permanent Part-time</td>\n",
       "      <td>Male</td>\n",
       "      <td>1.700000e+01</td>\n",
       "      <td>DETE</td>\n",
       "      <td>NaN</td>\n",
       "      <td>Teacher Aide</td>\n",
       "      <td>NaN</td>\n",
       "      <td>Senior</td>\n",
       "    </tr>\n",
       "    <tr>\n",
       "      <th>17</th>\n",
       "      <td>21.0</td>\n",
       "      <td>2012.0</td>\n",
       "      <td>True</td>\n",
       "      <td>Permanent Full-time</td>\n",
       "      <td>Female</td>\n",
       "      <td>4.000000e+01</td>\n",
       "      <td>DETE</td>\n",
       "      <td>NaN</td>\n",
       "      <td>Teacher</td>\n",
       "      <td>NaN</td>\n",
       "      <td>Junior</td>\n",
       "    </tr>\n",
       "    <tr>\n",
       "      <th>37</th>\n",
       "      <td>46.0</td>\n",
       "      <td>2012.0</td>\n",
       "      <td>True</td>\n",
       "      <td>Temporary Part-time</td>\n",
       "      <td>Female</td>\n",
       "      <td>1.070000e+02</td>\n",
       "      <td>DETE</td>\n",
       "      <td>NaN</td>\n",
       "      <td>Teacher Aide</td>\n",
       "      <td>NaN</td>\n",
       "      <td>Senior</td>\n",
       "    </tr>\n",
       "    <tr>\n",
       "      <th>50</th>\n",
       "      <td>51.0</td>\n",
       "      <td>2012.0</td>\n",
       "      <td>False</td>\n",
       "      <td>Permanent Part-time</td>\n",
       "      <td>Female</td>\n",
       "      <td>1.410000e+02</td>\n",
       "      <td>DETE</td>\n",
       "      <td>NaN</td>\n",
       "      <td>Teacher Aide</td>\n",
       "      <td>NaN</td>\n",
       "      <td>Senior</td>\n",
       "    </tr>\n",
       "    <tr>\n",
       "      <th>62</th>\n",
       "      <td>46.0</td>\n",
       "      <td>2012.0</td>\n",
       "      <td>False</td>\n",
       "      <td>Permanent Part-time</td>\n",
       "      <td>Female</td>\n",
       "      <td>1.970000e+02</td>\n",
       "      <td>DETE</td>\n",
       "      <td>NaN</td>\n",
       "      <td>Teacher Aide</td>\n",
       "      <td>NaN</td>\n",
       "      <td>Senior</td>\n",
       "    </tr>\n",
       "    <tr>\n",
       "      <th>95</th>\n",
       "      <td>26.0</td>\n",
       "      <td>2013.0</td>\n",
       "      <td>True</td>\n",
       "      <td>Permanent Full-time</td>\n",
       "      <td>Female</td>\n",
       "      <td>2.890000e+02</td>\n",
       "      <td>DETE</td>\n",
       "      <td>NaN</td>\n",
       "      <td>Public Servant</td>\n",
       "      <td>NaN</td>\n",
       "      <td>Junior</td>\n",
       "    </tr>\n",
       "    <tr>\n",
       "      <th>96</th>\n",
       "      <td>56.0</td>\n",
       "      <td>2013.0</td>\n",
       "      <td>False</td>\n",
       "      <td>Permanent Part-time</td>\n",
       "      <td>Female</td>\n",
       "      <td>2.920000e+02</td>\n",
       "      <td>DETE</td>\n",
       "      <td>NaN</td>\n",
       "      <td>Teacher Aide</td>\n",
       "      <td>NaN</td>\n",
       "      <td>Senior</td>\n",
       "    </tr>\n",
       "    <tr>\n",
       "      <th>97</th>\n",
       "      <td>56.0</td>\n",
       "      <td>2012.0</td>\n",
       "      <td>False</td>\n",
       "      <td>Permanent Part-time</td>\n",
       "      <td>NaN</td>\n",
       "      <td>2.940000e+02</td>\n",
       "      <td>DETE</td>\n",
       "      <td>NaN</td>\n",
       "      <td>Schools Officer</td>\n",
       "      <td>NaN</td>\n",
       "      <td>Senior</td>\n",
       "    </tr>\n",
       "    <tr>\n",
       "      <th>101</th>\n",
       "      <td>46.0</td>\n",
       "      <td>2012.0</td>\n",
       "      <td>False</td>\n",
       "      <td>Permanent Part-time</td>\n",
       "      <td>Female</td>\n",
       "      <td>3.020000e+02</td>\n",
       "      <td>DETE</td>\n",
       "      <td>NaN</td>\n",
       "      <td>School Administrative Staff</td>\n",
       "      <td>NaN</td>\n",
       "      <td>Senior</td>\n",
       "    </tr>\n",
       "    <tr>\n",
       "      <th>117</th>\n",
       "      <td>41.0</td>\n",
       "      <td>2012.0</td>\n",
       "      <td>False</td>\n",
       "      <td>Permanent Part-time</td>\n",
       "      <td>Female</td>\n",
       "      <td>3.440000e+02</td>\n",
       "      <td>DETE</td>\n",
       "      <td>NaN</td>\n",
       "      <td>School Administrative Staff</td>\n",
       "      <td>NaN</td>\n",
       "      <td>Middle</td>\n",
       "    </tr>\n",
       "    <tr>\n",
       "      <th>124</th>\n",
       "      <td>26.0</td>\n",
       "      <td>2012.0</td>\n",
       "      <td>False</td>\n",
       "      <td>Permanent Full-time</td>\n",
       "      <td>Male</td>\n",
       "      <td>3.660000e+02</td>\n",
       "      <td>DETE</td>\n",
       "      <td>NaN</td>\n",
       "      <td>Teacher</td>\n",
       "      <td>NaN</td>\n",
       "      <td>Junior</td>\n",
       "    </tr>\n",
       "    <tr>\n",
       "      <th>132</th>\n",
       "      <td>26.0</td>\n",
       "      <td>2012.0</td>\n",
       "      <td>False</td>\n",
       "      <td>Permanent Part-time</td>\n",
       "      <td>Female</td>\n",
       "      <td>3.800000e+02</td>\n",
       "      <td>DETE</td>\n",
       "      <td>NaN</td>\n",
       "      <td>Teacher</td>\n",
       "      <td>NaN</td>\n",
       "      <td>Junior</td>\n",
       "    </tr>\n",
       "    <tr>\n",
       "      <th>140</th>\n",
       "      <td>56.0</td>\n",
       "      <td>2013.0</td>\n",
       "      <td>True</td>\n",
       "      <td>NaN</td>\n",
       "      <td>Male</td>\n",
       "      <td>4.000000e+02</td>\n",
       "      <td>DETE</td>\n",
       "      <td>NaN</td>\n",
       "      <td>Cleaner</td>\n",
       "      <td>NaN</td>\n",
       "      <td>Senior</td>\n",
       "    </tr>\n",
       "    <tr>\n",
       "      <th>141</th>\n",
       "      <td>NaN</td>\n",
       "      <td>2012.0</td>\n",
       "      <td>False</td>\n",
       "      <td>NaN</td>\n",
       "      <td>NaN</td>\n",
       "      <td>4.060000e+02</td>\n",
       "      <td>DETE</td>\n",
       "      <td>NaN</td>\n",
       "      <td>Teacher</td>\n",
       "      <td>NaN</td>\n",
       "      <td>NaN</td>\n",
       "    </tr>\n",
       "    <tr>\n",
       "      <th>143</th>\n",
       "      <td>56.0</td>\n",
       "      <td>2013.0</td>\n",
       "      <td>False</td>\n",
       "      <td>Temporary Part-time</td>\n",
       "      <td>Male</td>\n",
       "      <td>4.080000e+02</td>\n",
       "      <td>DETE</td>\n",
       "      <td>NaN</td>\n",
       "      <td>Technical Officer</td>\n",
       "      <td>NaN</td>\n",
       "      <td>Senior</td>\n",
       "    </tr>\n",
       "    <tr>\n",
       "      <th>145</th>\n",
       "      <td>36.0</td>\n",
       "      <td>2012.0</td>\n",
       "      <td>False</td>\n",
       "      <td>Permanent Part-time</td>\n",
       "      <td>Female</td>\n",
       "      <td>4.100000e+02</td>\n",
       "      <td>DETE</td>\n",
       "      <td>NaN</td>\n",
       "      <td>Teacher Aide</td>\n",
       "      <td>NaN</td>\n",
       "      <td>Middle</td>\n",
       "    </tr>\n",
       "    <tr>\n",
       "      <th>158</th>\n",
       "      <td>21.0</td>\n",
       "      <td>2013.0</td>\n",
       "      <td>False</td>\n",
       "      <td>Permanent Full-time</td>\n",
       "      <td>Female</td>\n",
       "      <td>4.390000e+02</td>\n",
       "      <td>DETE</td>\n",
       "      <td>NaN</td>\n",
       "      <td>Teacher</td>\n",
       "      <td>NaN</td>\n",
       "      <td>Junior</td>\n",
       "    </tr>\n",
       "    <tr>\n",
       "      <th>161</th>\n",
       "      <td>36.0</td>\n",
       "      <td>2012.0</td>\n",
       "      <td>True</td>\n",
       "      <td>Permanent Full-time</td>\n",
       "      <td>Male</td>\n",
       "      <td>4.500000e+02</td>\n",
       "      <td>DETE</td>\n",
       "      <td>NaN</td>\n",
       "      <td>Teacher</td>\n",
       "      <td>NaN</td>\n",
       "      <td>Middle</td>\n",
       "    </tr>\n",
       "    <tr>\n",
       "      <th>171</th>\n",
       "      <td>56.0</td>\n",
       "      <td>2013.0</td>\n",
       "      <td>True</td>\n",
       "      <td>Permanent Part-time</td>\n",
       "      <td>Female</td>\n",
       "      <td>4.720000e+02</td>\n",
       "      <td>DETE</td>\n",
       "      <td>NaN</td>\n",
       "      <td>Teacher</td>\n",
       "      <td>NaN</td>\n",
       "      <td>Senior</td>\n",
       "    </tr>\n",
       "    <tr>\n",
       "      <th>180</th>\n",
       "      <td>46.0</td>\n",
       "      <td>2012.0</td>\n",
       "      <td>False</td>\n",
       "      <td>NaN</td>\n",
       "      <td>Female</td>\n",
       "      <td>4.900000e+02</td>\n",
       "      <td>DETE</td>\n",
       "      <td>NaN</td>\n",
       "      <td>Cleaner</td>\n",
       "      <td>NaN</td>\n",
       "      <td>Senior</td>\n",
       "    </tr>\n",
       "    <tr>\n",
       "      <th>192</th>\n",
       "      <td>56.0</td>\n",
       "      <td>2013.0</td>\n",
       "      <td>True</td>\n",
       "      <td>Permanent Part-time</td>\n",
       "      <td>Female</td>\n",
       "      <td>5.320000e+02</td>\n",
       "      <td>DETE</td>\n",
       "      <td>NaN</td>\n",
       "      <td>Cleaner</td>\n",
       "      <td>NaN</td>\n",
       "      <td>Senior</td>\n",
       "    </tr>\n",
       "    <tr>\n",
       "      <th>196</th>\n",
       "      <td>26.0</td>\n",
       "      <td>2013.0</td>\n",
       "      <td>True</td>\n",
       "      <td>Permanent Full-time</td>\n",
       "      <td>Male</td>\n",
       "      <td>5.390000e+02</td>\n",
       "      <td>DETE</td>\n",
       "      <td>NaN</td>\n",
       "      <td>Teacher</td>\n",
       "      <td>NaN</td>\n",
       "      <td>Junior</td>\n",
       "    </tr>\n",
       "    <tr>\n",
       "      <th>245</th>\n",
       "      <td>46.0</td>\n",
       "      <td>2013.0</td>\n",
       "      <td>False</td>\n",
       "      <td>Permanent Part-time</td>\n",
       "      <td>Female</td>\n",
       "      <td>6.630000e+02</td>\n",
       "      <td>DETE</td>\n",
       "      <td>NaN</td>\n",
       "      <td>Teacher</td>\n",
       "      <td>NaN</td>\n",
       "      <td>Senior</td>\n",
       "    </tr>\n",
       "    <tr>\n",
       "      <th>255</th>\n",
       "      <td>21.0</td>\n",
       "      <td>NaN</td>\n",
       "      <td>True</td>\n",
       "      <td>Permanent Full-time</td>\n",
       "      <td>Male</td>\n",
       "      <td>6.850000e+02</td>\n",
       "      <td>DETE</td>\n",
       "      <td>NaN</td>\n",
       "      <td>Teacher</td>\n",
       "      <td>NaN</td>\n",
       "      <td>Junior</td>\n",
       "    </tr>\n",
       "    <tr>\n",
       "      <th>263</th>\n",
       "      <td>46.0</td>\n",
       "      <td>NaN</td>\n",
       "      <td>False</td>\n",
       "      <td>Casual</td>\n",
       "      <td>Female</td>\n",
       "      <td>6.960000e+02</td>\n",
       "      <td>DETE</td>\n",
       "      <td>NaN</td>\n",
       "      <td>Teacher Aide</td>\n",
       "      <td>NaN</td>\n",
       "      <td>Senior</td>\n",
       "    </tr>\n",
       "    <tr>\n",
       "      <th>269</th>\n",
       "      <td>41.0</td>\n",
       "      <td>NaN</td>\n",
       "      <td>False</td>\n",
       "      <td>Permanent Full-time</td>\n",
       "      <td>Female</td>\n",
       "      <td>7.060000e+02</td>\n",
       "      <td>DETE</td>\n",
       "      <td>NaN</td>\n",
       "      <td>Teacher Aide</td>\n",
       "      <td>NaN</td>\n",
       "      <td>Middle</td>\n",
       "    </tr>\n",
       "    <tr>\n",
       "      <th>270</th>\n",
       "      <td>51.0</td>\n",
       "      <td>NaN</td>\n",
       "      <td>True</td>\n",
       "      <td>Permanent Full-time</td>\n",
       "      <td>Female</td>\n",
       "      <td>7.110000e+02</td>\n",
       "      <td>DETE</td>\n",
       "      <td>NaN</td>\n",
       "      <td>Teacher</td>\n",
       "      <td>NaN</td>\n",
       "      <td>Senior</td>\n",
       "    </tr>\n",
       "    <tr>\n",
       "      <th>271</th>\n",
       "      <td>56.0</td>\n",
       "      <td>2013.0</td>\n",
       "      <td>False</td>\n",
       "      <td>Permanent Part-time</td>\n",
       "      <td>Female</td>\n",
       "      <td>7.140000e+02</td>\n",
       "      <td>DETE</td>\n",
       "      <td>NaN</td>\n",
       "      <td>Teacher Aide</td>\n",
       "      <td>NaN</td>\n",
       "      <td>Senior</td>\n",
       "    </tr>\n",
       "    <tr>\n",
       "      <th>273</th>\n",
       "      <td>46.0</td>\n",
       "      <td>NaN</td>\n",
       "      <td>False</td>\n",
       "      <td>Permanent Full-time</td>\n",
       "      <td>Female</td>\n",
       "      <td>7.260000e+02</td>\n",
       "      <td>DETE</td>\n",
       "      <td>NaN</td>\n",
       "      <td>Teacher</td>\n",
       "      <td>NaN</td>\n",
       "      <td>Senior</td>\n",
       "    </tr>\n",
       "    <tr>\n",
       "      <th>289</th>\n",
       "      <td>56.0</td>\n",
       "      <td>NaN</td>\n",
       "      <td>False</td>\n",
       "      <td>Permanent Part-time</td>\n",
       "      <td>Female</td>\n",
       "      <td>7.720000e+02</td>\n",
       "      <td>DETE</td>\n",
       "      <td>NaN</td>\n",
       "      <td>Cleaner</td>\n",
       "      <td>NaN</td>\n",
       "      <td>Senior</td>\n",
       "    </tr>\n",
       "    <tr>\n",
       "      <th>...</th>\n",
       "      <td>...</td>\n",
       "      <td>...</td>\n",
       "      <td>...</td>\n",
       "      <td>...</td>\n",
       "      <td>...</td>\n",
       "      <td>...</td>\n",
       "      <td>...</td>\n",
       "      <td>...</td>\n",
       "      <td>...</td>\n",
       "      <td>...</td>\n",
       "      <td>...</td>\n",
       "    </tr>\n",
       "    <tr>\n",
       "      <th>86</th>\n",
       "      <td>NaN</td>\n",
       "      <td>2011.0</td>\n",
       "      <td>False</td>\n",
       "      <td>NaN</td>\n",
       "      <td>NaN</td>\n",
       "      <td>6.343264e+17</td>\n",
       "      <td>TAFE</td>\n",
       "      <td>NaN</td>\n",
       "      <td>NaN</td>\n",
       "      <td>NaN</td>\n",
       "      <td>NaN</td>\n",
       "    </tr>\n",
       "    <tr>\n",
       "      <th>91</th>\n",
       "      <td>NaN</td>\n",
       "      <td>NaN</td>\n",
       "      <td>True</td>\n",
       "      <td>NaN</td>\n",
       "      <td>NaN</td>\n",
       "      <td>6.343283e+17</td>\n",
       "      <td>TAFE</td>\n",
       "      <td>NaN</td>\n",
       "      <td>NaN</td>\n",
       "      <td>NaN</td>\n",
       "      <td>NaN</td>\n",
       "    </tr>\n",
       "    <tr>\n",
       "      <th>94</th>\n",
       "      <td>NaN</td>\n",
       "      <td>2011.0</td>\n",
       "      <td>False</td>\n",
       "      <td>NaN</td>\n",
       "      <td>NaN</td>\n",
       "      <td>6.343333e+17</td>\n",
       "      <td>TAFE</td>\n",
       "      <td>NaN</td>\n",
       "      <td>NaN</td>\n",
       "      <td>NaN</td>\n",
       "      <td>NaN</td>\n",
       "    </tr>\n",
       "    <tr>\n",
       "      <th>108</th>\n",
       "      <td>NaN</td>\n",
       "      <td>2011.0</td>\n",
       "      <td>True</td>\n",
       "      <td>NaN</td>\n",
       "      <td>NaN</td>\n",
       "      <td>6.343811e+17</td>\n",
       "      <td>TAFE</td>\n",
       "      <td>NaN</td>\n",
       "      <td>NaN</td>\n",
       "      <td>NaN</td>\n",
       "      <td>NaN</td>\n",
       "    </tr>\n",
       "    <tr>\n",
       "      <th>129</th>\n",
       "      <td>NaN</td>\n",
       "      <td>2010.0</td>\n",
       "      <td>True</td>\n",
       "      <td>NaN</td>\n",
       "      <td>NaN</td>\n",
       "      <td>6.344568e+17</td>\n",
       "      <td>TAFE</td>\n",
       "      <td>NaN</td>\n",
       "      <td>NaN</td>\n",
       "      <td>NaN</td>\n",
       "      <td>NaN</td>\n",
       "    </tr>\n",
       "    <tr>\n",
       "      <th>142</th>\n",
       "      <td>NaN</td>\n",
       "      <td>2010.0</td>\n",
       "      <td>True</td>\n",
       "      <td>NaN</td>\n",
       "      <td>NaN</td>\n",
       "      <td>6.344993e+17</td>\n",
       "      <td>TAFE</td>\n",
       "      <td>NaN</td>\n",
       "      <td>NaN</td>\n",
       "      <td>NaN</td>\n",
       "      <td>NaN</td>\n",
       "    </tr>\n",
       "    <tr>\n",
       "      <th>150</th>\n",
       "      <td>NaN</td>\n",
       "      <td>2011.0</td>\n",
       "      <td>False</td>\n",
       "      <td>NaN</td>\n",
       "      <td>NaN</td>\n",
       "      <td>6.345234e+17</td>\n",
       "      <td>TAFE</td>\n",
       "      <td>NaN</td>\n",
       "      <td>NaN</td>\n",
       "      <td>NaN</td>\n",
       "      <td>NaN</td>\n",
       "    </tr>\n",
       "    <tr>\n",
       "      <th>155</th>\n",
       "      <td>NaN</td>\n",
       "      <td>2011.0</td>\n",
       "      <td>False</td>\n",
       "      <td>NaN</td>\n",
       "      <td>NaN</td>\n",
       "      <td>6.345510e+17</td>\n",
       "      <td>TAFE</td>\n",
       "      <td>NaN</td>\n",
       "      <td>NaN</td>\n",
       "      <td>NaN</td>\n",
       "      <td>NaN</td>\n",
       "    </tr>\n",
       "    <tr>\n",
       "      <th>161</th>\n",
       "      <td>NaN</td>\n",
       "      <td>2011.0</td>\n",
       "      <td>False</td>\n",
       "      <td>NaN</td>\n",
       "      <td>NaN</td>\n",
       "      <td>6.345581e+17</td>\n",
       "      <td>TAFE</td>\n",
       "      <td>NaN</td>\n",
       "      <td>NaN</td>\n",
       "      <td>NaN</td>\n",
       "      <td>NaN</td>\n",
       "    </tr>\n",
       "    <tr>\n",
       "      <th>163</th>\n",
       "      <td>NaN</td>\n",
       "      <td>2011.0</td>\n",
       "      <td>False</td>\n",
       "      <td>NaN</td>\n",
       "      <td>NaN</td>\n",
       "      <td>6.345632e+17</td>\n",
       "      <td>TAFE</td>\n",
       "      <td>NaN</td>\n",
       "      <td>NaN</td>\n",
       "      <td>NaN</td>\n",
       "      <td>NaN</td>\n",
       "    </tr>\n",
       "    <tr>\n",
       "      <th>165</th>\n",
       "      <td>NaN</td>\n",
       "      <td>2011.0</td>\n",
       "      <td>False</td>\n",
       "      <td>NaN</td>\n",
       "      <td>NaN</td>\n",
       "      <td>6.345647e+17</td>\n",
       "      <td>TAFE</td>\n",
       "      <td>NaN</td>\n",
       "      <td>NaN</td>\n",
       "      <td>NaN</td>\n",
       "      <td>NaN</td>\n",
       "    </tr>\n",
       "    <tr>\n",
       "      <th>184</th>\n",
       "      <td>NaN</td>\n",
       "      <td>2011.0</td>\n",
       "      <td>True</td>\n",
       "      <td>NaN</td>\n",
       "      <td>NaN</td>\n",
       "      <td>6.345925e+17</td>\n",
       "      <td>TAFE</td>\n",
       "      <td>NaN</td>\n",
       "      <td>NaN</td>\n",
       "      <td>NaN</td>\n",
       "      <td>NaN</td>\n",
       "    </tr>\n",
       "    <tr>\n",
       "      <th>202</th>\n",
       "      <td>NaN</td>\n",
       "      <td>2012.0</td>\n",
       "      <td>True</td>\n",
       "      <td>NaN</td>\n",
       "      <td>NaN</td>\n",
       "      <td>6.346668e+17</td>\n",
       "      <td>TAFE</td>\n",
       "      <td>NaN</td>\n",
       "      <td>NaN</td>\n",
       "      <td>NaN</td>\n",
       "      <td>NaN</td>\n",
       "    </tr>\n",
       "    <tr>\n",
       "      <th>208</th>\n",
       "      <td>NaN</td>\n",
       "      <td>2012.0</td>\n",
       "      <td>False</td>\n",
       "      <td>NaN</td>\n",
       "      <td>NaN</td>\n",
       "      <td>6.346832e+17</td>\n",
       "      <td>TAFE</td>\n",
       "      <td>NaN</td>\n",
       "      <td>NaN</td>\n",
       "      <td>NaN</td>\n",
       "      <td>NaN</td>\n",
       "    </tr>\n",
       "    <tr>\n",
       "      <th>212</th>\n",
       "      <td>NaN</td>\n",
       "      <td>2012.0</td>\n",
       "      <td>False</td>\n",
       "      <td>NaN</td>\n",
       "      <td>NaN</td>\n",
       "      <td>6.346963e+17</td>\n",
       "      <td>TAFE</td>\n",
       "      <td>NaN</td>\n",
       "      <td>NaN</td>\n",
       "      <td>NaN</td>\n",
       "      <td>NaN</td>\n",
       "    </tr>\n",
       "    <tr>\n",
       "      <th>232</th>\n",
       "      <td>NaN</td>\n",
       "      <td>NaN</td>\n",
       "      <td>False</td>\n",
       "      <td>NaN</td>\n",
       "      <td>NaN</td>\n",
       "      <td>6.347827e+17</td>\n",
       "      <td>TAFE</td>\n",
       "      <td>NaN</td>\n",
       "      <td>NaN</td>\n",
       "      <td>NaN</td>\n",
       "      <td>NaN</td>\n",
       "    </tr>\n",
       "    <tr>\n",
       "      <th>243</th>\n",
       "      <td>NaN</td>\n",
       "      <td>2012.0</td>\n",
       "      <td>False</td>\n",
       "      <td>NaN</td>\n",
       "      <td>NaN</td>\n",
       "      <td>6.348110e+17</td>\n",
       "      <td>TAFE</td>\n",
       "      <td>NaN</td>\n",
       "      <td>NaN</td>\n",
       "      <td>NaN</td>\n",
       "      <td>NaN</td>\n",
       "    </tr>\n",
       "    <tr>\n",
       "      <th>245</th>\n",
       "      <td>NaN</td>\n",
       "      <td>2012.0</td>\n",
       "      <td>False</td>\n",
       "      <td>NaN</td>\n",
       "      <td>NaN</td>\n",
       "      <td>6.348112e+17</td>\n",
       "      <td>TAFE</td>\n",
       "      <td>NaN</td>\n",
       "      <td>NaN</td>\n",
       "      <td>NaN</td>\n",
       "      <td>NaN</td>\n",
       "    </tr>\n",
       "    <tr>\n",
       "      <th>247</th>\n",
       "      <td>NaN</td>\n",
       "      <td>2012.0</td>\n",
       "      <td>False</td>\n",
       "      <td>NaN</td>\n",
       "      <td>NaN</td>\n",
       "      <td>6.348129e+17</td>\n",
       "      <td>TAFE</td>\n",
       "      <td>NaN</td>\n",
       "      <td>NaN</td>\n",
       "      <td>NaN</td>\n",
       "      <td>NaN</td>\n",
       "    </tr>\n",
       "    <tr>\n",
       "      <th>251</th>\n",
       "      <td>NaN</td>\n",
       "      <td>2012.0</td>\n",
       "      <td>False</td>\n",
       "      <td>NaN</td>\n",
       "      <td>NaN</td>\n",
       "      <td>6.348187e+17</td>\n",
       "      <td>TAFE</td>\n",
       "      <td>NaN</td>\n",
       "      <td>NaN</td>\n",
       "      <td>NaN</td>\n",
       "      <td>NaN</td>\n",
       "    </tr>\n",
       "    <tr>\n",
       "      <th>270</th>\n",
       "      <td>NaN</td>\n",
       "      <td>2012.0</td>\n",
       "      <td>False</td>\n",
       "      <td>NaN</td>\n",
       "      <td>NaN</td>\n",
       "      <td>6.348785e+17</td>\n",
       "      <td>TAFE</td>\n",
       "      <td>NaN</td>\n",
       "      <td>NaN</td>\n",
       "      <td>NaN</td>\n",
       "      <td>NaN</td>\n",
       "    </tr>\n",
       "    <tr>\n",
       "      <th>285</th>\n",
       "      <td>NaN</td>\n",
       "      <td>2013.0</td>\n",
       "      <td>False</td>\n",
       "      <td>NaN</td>\n",
       "      <td>NaN</td>\n",
       "      <td>6.349156e+17</td>\n",
       "      <td>TAFE</td>\n",
       "      <td>NaN</td>\n",
       "      <td>NaN</td>\n",
       "      <td>NaN</td>\n",
       "      <td>NaN</td>\n",
       "    </tr>\n",
       "    <tr>\n",
       "      <th>288</th>\n",
       "      <td>NaN</td>\n",
       "      <td>2013.0</td>\n",
       "      <td>True</td>\n",
       "      <td>NaN</td>\n",
       "      <td>NaN</td>\n",
       "      <td>6.349375e+17</td>\n",
       "      <td>TAFE</td>\n",
       "      <td>NaN</td>\n",
       "      <td>NaN</td>\n",
       "      <td>NaN</td>\n",
       "      <td>NaN</td>\n",
       "    </tr>\n",
       "    <tr>\n",
       "      <th>291</th>\n",
       "      <td>NaN</td>\n",
       "      <td>2013.0</td>\n",
       "      <td>False</td>\n",
       "      <td>NaN</td>\n",
       "      <td>NaN</td>\n",
       "      <td>6.349384e+17</td>\n",
       "      <td>TAFE</td>\n",
       "      <td>NaN</td>\n",
       "      <td>NaN</td>\n",
       "      <td>NaN</td>\n",
       "      <td>NaN</td>\n",
       "    </tr>\n",
       "    <tr>\n",
       "      <th>313</th>\n",
       "      <td>NaN</td>\n",
       "      <td>2013.0</td>\n",
       "      <td>False</td>\n",
       "      <td>NaN</td>\n",
       "      <td>NaN</td>\n",
       "      <td>6.350055e+17</td>\n",
       "      <td>TAFE</td>\n",
       "      <td>NaN</td>\n",
       "      <td>NaN</td>\n",
       "      <td>NaN</td>\n",
       "      <td>NaN</td>\n",
       "    </tr>\n",
       "    <tr>\n",
       "      <th>314</th>\n",
       "      <td>NaN</td>\n",
       "      <td>2013.0</td>\n",
       "      <td>False</td>\n",
       "      <td>NaN</td>\n",
       "      <td>NaN</td>\n",
       "      <td>6.350055e+17</td>\n",
       "      <td>TAFE</td>\n",
       "      <td>NaN</td>\n",
       "      <td>NaN</td>\n",
       "      <td>NaN</td>\n",
       "      <td>NaN</td>\n",
       "    </tr>\n",
       "    <tr>\n",
       "      <th>316</th>\n",
       "      <td>NaN</td>\n",
       "      <td>2013.0</td>\n",
       "      <td>False</td>\n",
       "      <td>NaN</td>\n",
       "      <td>NaN</td>\n",
       "      <td>6.350124e+17</td>\n",
       "      <td>TAFE</td>\n",
       "      <td>NaN</td>\n",
       "      <td>NaN</td>\n",
       "      <td>NaN</td>\n",
       "      <td>NaN</td>\n",
       "    </tr>\n",
       "    <tr>\n",
       "      <th>331</th>\n",
       "      <td>NaN</td>\n",
       "      <td>2013.0</td>\n",
       "      <td>False</td>\n",
       "      <td>NaN</td>\n",
       "      <td>NaN</td>\n",
       "      <td>6.350496e+17</td>\n",
       "      <td>TAFE</td>\n",
       "      <td>NaN</td>\n",
       "      <td>NaN</td>\n",
       "      <td>NaN</td>\n",
       "      <td>NaN</td>\n",
       "    </tr>\n",
       "    <tr>\n",
       "      <th>334</th>\n",
       "      <td>NaN</td>\n",
       "      <td>2013.0</td>\n",
       "      <td>False</td>\n",
       "      <td>NaN</td>\n",
       "      <td>NaN</td>\n",
       "      <td>6.350652e+17</td>\n",
       "      <td>TAFE</td>\n",
       "      <td>NaN</td>\n",
       "      <td>NaN</td>\n",
       "      <td>NaN</td>\n",
       "      <td>NaN</td>\n",
       "    </tr>\n",
       "    <tr>\n",
       "      <th>337</th>\n",
       "      <td>NaN</td>\n",
       "      <td>2013.0</td>\n",
       "      <td>False</td>\n",
       "      <td>NaN</td>\n",
       "      <td>NaN</td>\n",
       "      <td>6.350677e+17</td>\n",
       "      <td>TAFE</td>\n",
       "      <td>NaN</td>\n",
       "      <td>NaN</td>\n",
       "      <td>NaN</td>\n",
       "      <td>NaN</td>\n",
       "    </tr>\n",
       "  </tbody>\n",
       "</table>\n",
       "<p>88 rows × 11 columns</p>\n",
       "</div>"
      ],
      "text/plain": [
       "      age  cease_date  dissatisfied    employment_status  gender  \\\n",
       "7    56.0      2012.0          True  Permanent Part-time    Male   \n",
       "17   21.0      2012.0          True  Permanent Full-time  Female   \n",
       "37   46.0      2012.0          True  Temporary Part-time  Female   \n",
       "50   51.0      2012.0         False  Permanent Part-time  Female   \n",
       "62   46.0      2012.0         False  Permanent Part-time  Female   \n",
       "95   26.0      2013.0          True  Permanent Full-time  Female   \n",
       "96   56.0      2013.0         False  Permanent Part-time  Female   \n",
       "97   56.0      2012.0         False  Permanent Part-time     NaN   \n",
       "101  46.0      2012.0         False  Permanent Part-time  Female   \n",
       "117  41.0      2012.0         False  Permanent Part-time  Female   \n",
       "124  26.0      2012.0         False  Permanent Full-time    Male   \n",
       "132  26.0      2012.0         False  Permanent Part-time  Female   \n",
       "140  56.0      2013.0          True                  NaN    Male   \n",
       "141   NaN      2012.0         False                  NaN     NaN   \n",
       "143  56.0      2013.0         False  Temporary Part-time    Male   \n",
       "145  36.0      2012.0         False  Permanent Part-time  Female   \n",
       "158  21.0      2013.0         False  Permanent Full-time  Female   \n",
       "161  36.0      2012.0          True  Permanent Full-time    Male   \n",
       "171  56.0      2013.0          True  Permanent Part-time  Female   \n",
       "180  46.0      2012.0         False                  NaN  Female   \n",
       "192  56.0      2013.0          True  Permanent Part-time  Female   \n",
       "196  26.0      2013.0          True  Permanent Full-time    Male   \n",
       "245  46.0      2013.0         False  Permanent Part-time  Female   \n",
       "255  21.0         NaN          True  Permanent Full-time    Male   \n",
       "263  46.0         NaN         False               Casual  Female   \n",
       "269  41.0         NaN         False  Permanent Full-time  Female   \n",
       "270  51.0         NaN          True  Permanent Full-time  Female   \n",
       "271  56.0      2013.0         False  Permanent Part-time  Female   \n",
       "273  46.0         NaN         False  Permanent Full-time  Female   \n",
       "289  56.0         NaN         False  Permanent Part-time  Female   \n",
       "..    ...         ...           ...                  ...     ...   \n",
       "86    NaN      2011.0         False                  NaN     NaN   \n",
       "91    NaN         NaN          True                  NaN     NaN   \n",
       "94    NaN      2011.0         False                  NaN     NaN   \n",
       "108   NaN      2011.0          True                  NaN     NaN   \n",
       "129   NaN      2010.0          True                  NaN     NaN   \n",
       "142   NaN      2010.0          True                  NaN     NaN   \n",
       "150   NaN      2011.0         False                  NaN     NaN   \n",
       "155   NaN      2011.0         False                  NaN     NaN   \n",
       "161   NaN      2011.0         False                  NaN     NaN   \n",
       "163   NaN      2011.0         False                  NaN     NaN   \n",
       "165   NaN      2011.0         False                  NaN     NaN   \n",
       "184   NaN      2011.0          True                  NaN     NaN   \n",
       "202   NaN      2012.0          True                  NaN     NaN   \n",
       "208   NaN      2012.0         False                  NaN     NaN   \n",
       "212   NaN      2012.0         False                  NaN     NaN   \n",
       "232   NaN         NaN         False                  NaN     NaN   \n",
       "243   NaN      2012.0         False                  NaN     NaN   \n",
       "245   NaN      2012.0         False                  NaN     NaN   \n",
       "247   NaN      2012.0         False                  NaN     NaN   \n",
       "251   NaN      2012.0         False                  NaN     NaN   \n",
       "270   NaN      2012.0         False                  NaN     NaN   \n",
       "285   NaN      2013.0         False                  NaN     NaN   \n",
       "288   NaN      2013.0          True                  NaN     NaN   \n",
       "291   NaN      2013.0         False                  NaN     NaN   \n",
       "313   NaN      2013.0         False                  NaN     NaN   \n",
       "314   NaN      2013.0         False                  NaN     NaN   \n",
       "316   NaN      2013.0         False                  NaN     NaN   \n",
       "331   NaN      2013.0         False                  NaN     NaN   \n",
       "334   NaN      2013.0         False                  NaN     NaN   \n",
       "337   NaN      2013.0         False                  NaN     NaN   \n",
       "\n",
       "               id institute  institute_service                     position  \\\n",
       "7    1.700000e+01      DETE                NaN                 Teacher Aide   \n",
       "17   4.000000e+01      DETE                NaN                      Teacher   \n",
       "37   1.070000e+02      DETE                NaN                 Teacher Aide   \n",
       "50   1.410000e+02      DETE                NaN                 Teacher Aide   \n",
       "62   1.970000e+02      DETE                NaN                 Teacher Aide   \n",
       "95   2.890000e+02      DETE                NaN               Public Servant   \n",
       "96   2.920000e+02      DETE                NaN                 Teacher Aide   \n",
       "97   2.940000e+02      DETE                NaN              Schools Officer   \n",
       "101  3.020000e+02      DETE                NaN  School Administrative Staff   \n",
       "117  3.440000e+02      DETE                NaN  School Administrative Staff   \n",
       "124  3.660000e+02      DETE                NaN                      Teacher   \n",
       "132  3.800000e+02      DETE                NaN                      Teacher   \n",
       "140  4.000000e+02      DETE                NaN                      Cleaner   \n",
       "141  4.060000e+02      DETE                NaN                      Teacher   \n",
       "143  4.080000e+02      DETE                NaN            Technical Officer   \n",
       "145  4.100000e+02      DETE                NaN                 Teacher Aide   \n",
       "158  4.390000e+02      DETE                NaN                      Teacher   \n",
       "161  4.500000e+02      DETE                NaN                      Teacher   \n",
       "171  4.720000e+02      DETE                NaN                      Teacher   \n",
       "180  4.900000e+02      DETE                NaN                      Cleaner   \n",
       "192  5.320000e+02      DETE                NaN                      Cleaner   \n",
       "196  5.390000e+02      DETE                NaN                      Teacher   \n",
       "245  6.630000e+02      DETE                NaN                      Teacher   \n",
       "255  6.850000e+02      DETE                NaN                      Teacher   \n",
       "263  6.960000e+02      DETE                NaN                 Teacher Aide   \n",
       "269  7.060000e+02      DETE                NaN                 Teacher Aide   \n",
       "270  7.110000e+02      DETE                NaN                      Teacher   \n",
       "271  7.140000e+02      DETE                NaN                 Teacher Aide   \n",
       "273  7.260000e+02      DETE                NaN                      Teacher   \n",
       "289  7.720000e+02      DETE                NaN                      Cleaner   \n",
       "..            ...       ...                ...                          ...   \n",
       "86   6.343264e+17      TAFE                NaN                          NaN   \n",
       "91   6.343283e+17      TAFE                NaN                          NaN   \n",
       "94   6.343333e+17      TAFE                NaN                          NaN   \n",
       "108  6.343811e+17      TAFE                NaN                          NaN   \n",
       "129  6.344568e+17      TAFE                NaN                          NaN   \n",
       "142  6.344993e+17      TAFE                NaN                          NaN   \n",
       "150  6.345234e+17      TAFE                NaN                          NaN   \n",
       "155  6.345510e+17      TAFE                NaN                          NaN   \n",
       "161  6.345581e+17      TAFE                NaN                          NaN   \n",
       "163  6.345632e+17      TAFE                NaN                          NaN   \n",
       "165  6.345647e+17      TAFE                NaN                          NaN   \n",
       "184  6.345925e+17      TAFE                NaN                          NaN   \n",
       "202  6.346668e+17      TAFE                NaN                          NaN   \n",
       "208  6.346832e+17      TAFE                NaN                          NaN   \n",
       "212  6.346963e+17      TAFE                NaN                          NaN   \n",
       "232  6.347827e+17      TAFE                NaN                          NaN   \n",
       "243  6.348110e+17      TAFE                NaN                          NaN   \n",
       "245  6.348112e+17      TAFE                NaN                          NaN   \n",
       "247  6.348129e+17      TAFE                NaN                          NaN   \n",
       "251  6.348187e+17      TAFE                NaN                          NaN   \n",
       "270  6.348785e+17      TAFE                NaN                          NaN   \n",
       "285  6.349156e+17      TAFE                NaN                          NaN   \n",
       "288  6.349375e+17      TAFE                NaN                          NaN   \n",
       "291  6.349384e+17      TAFE                NaN                          NaN   \n",
       "313  6.350055e+17      TAFE                NaN                          NaN   \n",
       "314  6.350055e+17      TAFE                NaN                          NaN   \n",
       "316  6.350124e+17      TAFE                NaN                          NaN   \n",
       "331  6.350496e+17      TAFE                NaN                          NaN   \n",
       "334  6.350652e+17      TAFE                NaN                          NaN   \n",
       "337  6.350677e+17      TAFE                NaN                          NaN   \n",
       "\n",
       "    service_cat age_cat  \n",
       "7           NaN  Senior  \n",
       "17          NaN  Junior  \n",
       "37          NaN  Senior  \n",
       "50          NaN  Senior  \n",
       "62          NaN  Senior  \n",
       "95          NaN  Junior  \n",
       "96          NaN  Senior  \n",
       "97          NaN  Senior  \n",
       "101         NaN  Senior  \n",
       "117         NaN  Middle  \n",
       "124         NaN  Junior  \n",
       "132         NaN  Junior  \n",
       "140         NaN  Senior  \n",
       "141         NaN     NaN  \n",
       "143         NaN  Senior  \n",
       "145         NaN  Middle  \n",
       "158         NaN  Junior  \n",
       "161         NaN  Middle  \n",
       "171         NaN  Senior  \n",
       "180         NaN  Senior  \n",
       "192         NaN  Senior  \n",
       "196         NaN  Junior  \n",
       "245         NaN  Senior  \n",
       "255         NaN  Junior  \n",
       "263         NaN  Senior  \n",
       "269         NaN  Middle  \n",
       "270         NaN  Senior  \n",
       "271         NaN  Senior  \n",
       "273         NaN  Senior  \n",
       "289         NaN  Senior  \n",
       "..          ...     ...  \n",
       "86          NaN     NaN  \n",
       "91          NaN     NaN  \n",
       "94          NaN     NaN  \n",
       "108         NaN     NaN  \n",
       "129         NaN     NaN  \n",
       "142         NaN     NaN  \n",
       "150         NaN     NaN  \n",
       "155         NaN     NaN  \n",
       "161         NaN     NaN  \n",
       "163         NaN     NaN  \n",
       "165         NaN     NaN  \n",
       "184         NaN     NaN  \n",
       "202         NaN     NaN  \n",
       "208         NaN     NaN  \n",
       "212         NaN     NaN  \n",
       "232         NaN     NaN  \n",
       "243         NaN     NaN  \n",
       "245         NaN     NaN  \n",
       "247         NaN     NaN  \n",
       "251         NaN     NaN  \n",
       "270         NaN     NaN  \n",
       "285         NaN     NaN  \n",
       "288         NaN     NaN  \n",
       "291         NaN     NaN  \n",
       "313         NaN     NaN  \n",
       "314         NaN     NaN  \n",
       "316         NaN     NaN  \n",
       "331         NaN     NaN  \n",
       "334         NaN     NaN  \n",
       "337         NaN     NaN  \n",
       "\n",
       "[88 rows x 11 columns]"
      ]
     },
     "execution_count": 85,
     "metadata": {},
     "output_type": "execute_result"
    }
   ],
   "source": [
    "combined[combined['service_cat'].isnull()]"
   ]
  },
  {
   "cell_type": "markdown",
   "metadata": {},
   "source": [
    "We can notice that quite a lot of rows don't have neighter institute service nor age values to help us guess one value from another. Filling them just with the most frequent value is not correct, since we have too many missing values (14% for `'service_cat'` and 8% for `'age_cat'`). It seems that the best approach in this case is to drop these rows, since they don't give any additional value for answering our questions."
   ]
  },
  {
   "cell_type": "code",
   "execution_count": 86,
   "metadata": {
    "collapsed": false
   },
   "outputs": [],
   "source": [
    "# Dropping the rows with missing values for both institute service and age \n",
    "combined.drop(combined[(combined['service_cat'].isnull()) & (combined['age_cat'].isnull())].index, inplace=True)\n",
    "\n",
    "# Resetting the index\n",
    "combined.reset_index(drop=True, inplace=True)"
   ]
  },
  {
   "cell_type": "markdown",
   "metadata": {},
   "source": [
    "Now for each missing value of the `'service_cat'` column there's a value in the `'age_cat'` column, and vice versa. So we can fill the missing values of the `'service_cat'` column with regards to the `'age_cat'` column. However, there's one more factor to be considered to avoid a bias while finding the most frequent value: the institute (DETE or TAFE). Both institutes have quite a different distribution of the career stages, as we can see in the next 2 code cells."
   ]
  },
  {
   "cell_type": "code",
   "execution_count": 87,
   "metadata": {
    "collapsed": false
   },
   "outputs": [
    {
     "data": {
      "text/plain": [
       "Veteran        88\n",
       "Experienced    66\n",
       "New            44\n",
       "Established    36\n",
       "NaN            29\n",
       "Name: service_cat, dtype: int64"
      ]
     },
     "execution_count": 87,
     "metadata": {},
     "output_type": "execute_result"
    }
   ],
   "source": [
    "combined[combined['institute'] == 'DETE']['service_cat'].value_counts(dropna=False)"
   ]
  },
  {
   "cell_type": "code",
   "execution_count": 88,
   "metadata": {
    "collapsed": false
   },
   "outputs": [
    {
     "data": {
      "text/plain": [
       "New            134\n",
       "Experienced     96\n",
       "Veteran         36\n",
       "Established     21\n",
       "Name: service_cat, dtype: int64"
      ]
     },
     "execution_count": 88,
     "metadata": {},
     "output_type": "execute_result"
    }
   ],
   "source": [
    "combined[combined['institute'] == 'TAFE']['service_cat'].value_counts(dropna=False)"
   ]
  },
  {
   "cell_type": "markdown",
   "metadata": {},
   "source": [
    "While in the DETE institute there are more \"Veteran\" employees, in the TAFE there are more \"New\". Hence, our next steps are the following:\n",
    "\n",
    "- to find the most frequent values of the institute service for each combination \"institute + age category\" (eg. DETE & \"Middle\"),\n",
    "- to fill the missing values of the `'service_cat'` column with the corresponding values."
   ]
  },
  {
   "cell_type": "code",
   "execution_count": 89,
   "metadata": {
    "collapsed": false
   },
   "outputs": [
    {
     "name": "stdout",
     "output_type": "stream",
     "text": [
      "The most frequent values of 'service_cat':\n",
      "\n",
      "\n",
      "DETE+Junior:  Experienced    24\n",
      "New            20\n",
      "Established     7\n",
      "NaN             7\n",
      "Name: service_cat, dtype: int64\n",
      "\n",
      "\n",
      "DETE+Middle:  Veteran        30\n",
      "Experienced    28\n",
      "Established    18\n",
      "New            16\n",
      "NaN             7\n",
      "Name: service_cat, dtype: int64\n",
      "\n",
      "\n",
      "DETE+Senior:  Veteran        58\n",
      "NaN            15\n",
      "Experienced    14\n",
      "Established    11\n",
      "New             7\n",
      "Name: service_cat, dtype: int64\n",
      "\n",
      "\n",
      "TAFE+Junior:  New            44\n",
      "Experienced    24\n",
      "Established     4\n",
      "Name: service_cat, dtype: int64\n",
      "\n",
      "\n",
      "TAFE+Middle:  New            53\n",
      "Experienced    37\n",
      "Veteran        11\n",
      "Established     8\n",
      "Name: service_cat, dtype: int64\n",
      "\n",
      "\n",
      "TAFE+Senior:  New            37\n",
      "Experienced    35\n",
      "Veteran        25\n",
      "Established     9\n",
      "Name: service_cat, dtype: int64\n"
     ]
    }
   ],
   "source": [
    "# Specifying the conditions\n",
    "dete_junior = (combined['institute'] == 'DETE') & (combined['age_cat'] == 'Junior')\n",
    "dete_middle = (combined['institute'] == 'DETE') & (combined['age_cat'] == 'Middle')\n",
    "dete_senior = (combined['institute'] == 'DETE') & (combined['age_cat'] == 'Senior')\n",
    "tafe_junior = (combined['institute'] == 'TAFE') & (combined['age_cat'] == 'Junior')\n",
    "tafe_middle = (combined['institute'] == 'TAFE') & (combined['age_cat'] == 'Middle')\n",
    "tafe_senior = (combined['institute'] == 'TAFE') & (combined['age_cat'] == 'Senior')\n",
    "\n",
    "# Printing out the most frequent values\n",
    "print('The most frequent values of \\'service_cat\\':')\n",
    "print('\\n')\n",
    "print('DETE+Junior: ', combined[dete_junior]['service_cat'].value_counts(dropna=False))\n",
    "print('\\n')\n",
    "print('DETE+Middle: ', combined[dete_middle]['service_cat'].value_counts(dropna=False))\n",
    "print('\\n')\n",
    "print('DETE+Senior: ', combined[dete_senior]['service_cat'].value_counts(dropna=False))\n",
    "print('\\n')\n",
    "print('TAFE+Junior: ', combined[tafe_junior]['service_cat'].value_counts(dropna=False))\n",
    "print('\\n')\n",
    "print('TAFE+Middle: ', combined[tafe_middle]['service_cat'].value_counts(dropna=False))\n",
    "print('\\n')\n",
    "print('TAFE+Senior: ', combined[tafe_senior]['service_cat'].value_counts(dropna=False))"
   ]
  },
  {
   "cell_type": "markdown",
   "metadata": {},
   "source": [
    "Now we'll use the resulting most frequent values to fill the missing values of the `'service_cat'` column."
   ]
  },
  {
   "cell_type": "code",
   "execution_count": 90,
   "metadata": {
    "collapsed": false
   },
   "outputs": [
    {
     "name": "stdout",
     "output_type": "stream",
     "text": [
      "0\n"
     ]
    }
   ],
   "source": [
    "# Filling the missing values of 'service_cat' with the corresponding most frequent values\n",
    "combined.loc[dete_junior,'service_cat'] = combined.loc[dete_junior,'service_cat'].fillna('Experienced')\n",
    "combined.loc[dete_middle,'service_cat'] = combined.loc[dete_middle,'service_cat'].fillna('Veteran')\n",
    "combined.loc[dete_senior,'service_cat'] = combined.loc[dete_senior,'service_cat'].fillna('Veteran')\n",
    "combined.loc[tafe_junior,'service_cat'] = combined.loc[tafe_junior,'service_cat'].fillna('New')\n",
    "combined.loc[tafe_middle,'service_cat'] = combined.loc[tafe_middle,'service_cat'].fillna('New')\n",
    "combined.loc[tafe_senior,'service_cat'] = combined.loc[tafe_senior,'service_cat'].fillna('New')\n",
    "\n",
    "# Resetting the index\n",
    "combined.reset_index(drop=True, inplace=True)\n",
    "\n",
    "# Checking the results\n",
    "print(combined['service_cat'].isnull().sum())"
   ]
  },
  {
   "cell_type": "markdown",
   "metadata": {},
   "source": [
    "Hence, after our manupulations no missing values remained in the `'service_cat'` column. \n",
    "\n",
    "Let's now return to the `'age_cat'` column. "
   ]
  },
  {
   "cell_type": "code",
   "execution_count": 91,
   "metadata": {
    "collapsed": false,
    "scrolled": true
   },
   "outputs": [
    {
     "data": {
      "text/html": [
       "<div>\n",
       "<style scoped>\n",
       "    .dataframe tbody tr th:only-of-type {\n",
       "        vertical-align: middle;\n",
       "    }\n",
       "\n",
       "    .dataframe tbody tr th {\n",
       "        vertical-align: top;\n",
       "    }\n",
       "\n",
       "    .dataframe thead th {\n",
       "        text-align: right;\n",
       "    }\n",
       "</style>\n",
       "<table border=\"1\" class=\"dataframe\">\n",
       "  <thead>\n",
       "    <tr style=\"text-align: right;\">\n",
       "      <th></th>\n",
       "      <th>age</th>\n",
       "      <th>cease_date</th>\n",
       "      <th>dissatisfied</th>\n",
       "      <th>employment_status</th>\n",
       "      <th>gender</th>\n",
       "      <th>id</th>\n",
       "      <th>institute</th>\n",
       "      <th>institute_service</th>\n",
       "      <th>position</th>\n",
       "      <th>service_cat</th>\n",
       "      <th>age_cat</th>\n",
       "    </tr>\n",
       "  </thead>\n",
       "  <tbody>\n",
       "    <tr>\n",
       "      <th>71</th>\n",
       "      <td>NaN</td>\n",
       "      <td>2012.0</td>\n",
       "      <td>False</td>\n",
       "      <td>Permanent Full-time</td>\n",
       "      <td>Female</td>\n",
       "      <td>286.0</td>\n",
       "      <td>DETE</td>\n",
       "      <td>0.0</td>\n",
       "      <td>Cleaner</td>\n",
       "      <td>New</td>\n",
       "      <td>NaN</td>\n",
       "    </tr>\n",
       "  </tbody>\n",
       "</table>\n",
       "</div>"
      ],
      "text/plain": [
       "    age  cease_date  dissatisfied    employment_status  gender     id  \\\n",
       "71  NaN      2012.0         False  Permanent Full-time  Female  286.0   \n",
       "\n",
       "   institute  institute_service position service_cat age_cat  \n",
       "71      DETE                0.0  Cleaner         New     NaN  "
      ]
     },
     "execution_count": 91,
     "metadata": {},
     "output_type": "execute_result"
    }
   ],
   "source": [
    "combined[combined['age_cat'].isnull()]"
   ]
  },
  {
   "cell_type": "markdown",
   "metadata": {},
   "source": [
    "We see that there's only one missing value remained (since we removed a lot of rows with both the `'service_cat'` and `'age_cat'` missing). We can fill it with the most frequent value of `'age_cat'` where the institute is the DETE and the career stage is \"New\"."
   ]
  },
  {
   "cell_type": "code",
   "execution_count": 92,
   "metadata": {
    "collapsed": false
   },
   "outputs": [
    {
     "data": {
      "text/plain": [
       "Junior    20\n",
       "Middle    16\n",
       "Senior     7\n",
       "NaN        1\n",
       "Name: age_cat, dtype: int64"
      ]
     },
     "execution_count": 92,
     "metadata": {},
     "output_type": "execute_result"
    }
   ],
   "source": [
    "# Specifying the conditions\n",
    "dete_new = (combined['institute'] == 'DETE') & (combined['service_cat'] == 'New')\n",
    "\n",
    "# Finding the most frequent value\n",
    "combined[dete_new]['age_cat'].value_counts(dropna=False)"
   ]
  },
  {
   "cell_type": "markdown",
   "metadata": {},
   "source": [
    "So we'll fill the missing value of the `'age_cat'` column with the \"Junior\" age category."
   ]
  },
  {
   "cell_type": "code",
   "execution_count": 93,
   "metadata": {
    "collapsed": false
   },
   "outputs": [
    {
     "name": "stdout",
     "output_type": "stream",
     "text": [
      "0\n"
     ]
    }
   ],
   "source": [
    "# Filling the missing values of 'service_cat' with the corresponding most frequent values\n",
    "combined.loc[dete_new,'age_cat'] = combined.loc[dete_new,'age_cat'].fillna('Junior')\n",
    "\n",
    "# Resetting the index\n",
    "combined.reset_index(drop=True, inplace=True)\n",
    "\n",
    "# Checking the results\n",
    "print(combined['age_cat'].isnull().sum())"
   ]
  },
  {
   "cell_type": "markdown",
   "metadata": {},
   "source": [
    "Before proceeding with the data analysis, let's check the last time the missing values."
   ]
  },
  {
   "cell_type": "code",
   "execution_count": 94,
   "metadata": {
    "collapsed": false,
    "scrolled": true
   },
   "outputs": [
    {
     "data": {
      "text/plain": [
       "age                   1\n",
       "cease_date           11\n",
       "dissatisfied          0\n",
       "employment_status     2\n",
       "gender                5\n",
       "id                    0\n",
       "institute             0\n",
       "institute_service    29\n",
       "position              2\n",
       "service_cat           0\n",
       "age_cat               0\n",
       "dtype: int64"
      ]
     },
     "execution_count": 94,
     "metadata": {},
     "output_type": "execute_result"
    }
   ],
   "source": [
    "combined.isnull().sum()"
   ]
  },
  {
   "cell_type": "markdown",
   "metadata": {},
   "source": [
    "We see that in our columns of interest (`'dissatisfied'`, `'service_cat'`, and `'age_cat'`) there're no missing values left.\n",
    "## Data Analysis\n",
    "### Calculating the Percentage of Dissatisfied People per Career Stage\n",
    "#### Overall trend\n",
    "Having all the necessary data cleaned, we can calculate the fraction of dissatisfied employees who left the institute at different career stage, and sort the values in descending order. Then, to better understand the difference, we'll visualize the results."
   ]
  },
  {
   "cell_type": "code",
   "execution_count": 95,
   "metadata": {
    "collapsed": false,
    "scrolled": true
   },
   "outputs": [
    {
     "name": "stdout",
     "output_type": "stream",
     "text": [
      "             dissatisfied\n",
      "service_cat              \n",
      "Established      0.526316\n",
      "Veteran          0.452055\n",
      "Experienced      0.337278\n",
      "New              0.297753\n"
     ]
    },
    {
     "data": {
      "text/plain": [
       "<matplotlib.text.Text at 0x7f2845139a58>"
      ]
     },
     "execution_count": 95,
     "metadata": {},
     "output_type": "execute_result"
    },
    {
     "data": {
      "image/png": "[encoded data removed]",
      "text/plain": [
       "<matplotlib.figure.Figure at 0x7f28451896d8>"
      ]
     },
     "metadata": {},
     "output_type": "display_data"
    }
   ],
   "source": [
    "# Creating a pivot table 'dissatisfied_service'\n",
    "dissatisfied_service = combined.pivot_table('dissatisfied', 'service_cat')['dissatisfied'].sort_values(ascending=False).to_frame()\n",
    "\n",
    "# Printing the pivot table\n",
    "print(dissatisfied_service)\n",
    "\n",
    "# Visualizing the results\n",
    "dissatisfied_service.plot(kind='bar', figsize=(10, 7), fontsize=15, ylim=(0,0.65), rot=0, legend=False)\n",
    "plt.title('Fraction of dissatisfied people per career stage', fontsize=20)"
   ]
  },
  {
   "cell_type": "markdown",
   "metadata": {},
   "source": [
    "The results look counterintuitive: the employees who worked in the institute for a longer period are more likely to be dissatisfied when resigning (up to 53%) than those who worked for a shorter period (up to 30%). The highest percentage of the dissatisfied people is related to the category \"Established\", (who worked 7-10 years), the lowest - to \"New\" (less than 3 years).\n",
    "#### DETE vs. TAFE\n",
    "Let's do the same steps separately for each institute and see if the trend is preserved and where in general there are more dissatisfied employees."
   ]
  },
  {
   "cell_type": "code",
   "execution_count": 96,
   "metadata": {
    "collapsed": false
   },
   "outputs": [
    {
     "name": "stdout",
     "output_type": "stream",
     "text": [
      "             dissatisfied\n",
      "service_cat              \n",
      "Established      0.638889\n",
      "Veteran          0.509091\n",
      "Experienced      0.452055\n",
      "New              0.386364\n"
     ]
    },
    {
     "data": {
      "text/plain": [
       "<matplotlib.text.Text at 0x7f28450ba908>"
      ]
     },
     "execution_count": 96,
     "metadata": {},
     "output_type": "execute_result"
    },
    {
     "data": {
      "image/png": "[encoded data removed]",
      "text/plain": [
       "<matplotlib.figure.Figure at 0x7f284518ed30>"
      ]
     },
     "metadata": {},
     "output_type": "display_data"
    }
   ],
   "source": [
    "# Creating a pivot table 'dissatisfied_service' for the DETE institute\n",
    "dete_service = combined[combined['institute'] == 'DETE'].reset_index(drop=True)\n",
    "dissatisfied_service_dete = dete_service.pivot_table('dissatisfied', 'service_cat')['dissatisfied'].sort_values(ascending=False).to_frame()\n",
    "\n",
    "# Printing the pivot table\n",
    "print(dissatisfied_service_dete)\n",
    "\n",
    "# Visualizing the results\n",
    "dissatisfied_service_dete.plot(kind='bar', figsize=(10, 7), fontsize=15, ylim=(0,0.65), rot=0, legend=False)\n",
    "plt.title('Fraction of dissatisfied people per career stage, DETE', fontsize=20)"
   ]
  },
  {
   "cell_type": "code",
   "execution_count": 97,
   "metadata": {
    "collapsed": false
   },
   "outputs": [
    {
     "name": "stdout",
     "output_type": "stream",
     "text": [
      "             dissatisfied\n",
      "service_cat              \n",
      "Established      0.333333\n",
      "Veteran          0.277778\n",
      "New              0.268657\n",
      "Experienced      0.250000\n"
     ]
    },
    {
     "data": {
      "text/plain": [
       "<matplotlib.text.Text at 0x7f284502c6d8>"
      ]
     },
     "execution_count": 97,
     "metadata": {},
     "output_type": "execute_result"
    },
    {
     "data": {
      "image/png": "[encoded data removed]",
      "text/plain": [
       "<matplotlib.figure.Figure at 0x7f28450f9e10>"
      ]
     },
     "metadata": {},
     "output_type": "display_data"
    }
   ],
   "source": [
    "# Creating a pivot table 'dissatisfied_service' for the TAFE institute\n",
    "tafe_service = combined[combined['institute'] == 'TAFE'].reset_index(drop=True)\n",
    "dissatisfied_service_tafe = tafe_service.pivot_table('dissatisfied', 'service_cat')['dissatisfied'].sort_values(ascending=False).to_frame()\n",
    "\n",
    "# Printing the pivot table\n",
    "print(dissatisfied_service_tafe)\n",
    "\n",
    "# Visualizing the results\n",
    "dissatisfied_service_tafe.plot(kind='bar', figsize=(10, 7), fontsize=15, ylim=(0,0.65), rot=0, legend=False)\n",
    "plt.title('Fraction of dissatisfied people per career stage, TAFE', fontsize=20)"
   ]
  },
  {
   "cell_type": "markdown",
   "metadata": {},
   "source": [
    "We can clearly see almost the same trend for each institute as the overall one (only with \"New\" and \"Experienced\" changed places for the TAFE institute). However, another evident thing is that in the DETE institute the percentage of dissatisfied people is almost twice higher for each category (up to 65%) than for the same categories in the TAFE institute. If we look at the overall percentage of the dissatisfied employees from both istitutes, probably we'll  find an explanation:"
   ]
  },
  {
   "cell_type": "code",
   "execution_count": 98,
   "metadata": {
    "collapsed": false
   },
   "outputs": [
    {
     "data": {
      "text/plain": [
       "False    134\n",
       "True     129\n",
       "Name: dissatisfied, dtype: int64"
      ]
     },
     "execution_count": 98,
     "metadata": {},
     "output_type": "execute_result"
    }
   ],
   "source": [
    "combined[combined['institute'] == 'DETE']['dissatisfied'].value_counts()"
   ]
  },
  {
   "cell_type": "code",
   "execution_count": 99,
   "metadata": {
    "collapsed": false
   },
   "outputs": [
    {
     "data": {
      "text/plain": [
       "False    210\n",
       "True      77\n",
       "Name: dissatisfied, dtype: int64"
      ]
     },
     "execution_count": 99,
     "metadata": {},
     "output_type": "execute_result"
    }
   ],
   "source": [
    "combined[combined['institute'] == 'TAFE']['dissatisfied'].value_counts()"
   ]
  },
  {
   "cell_type": "markdown",
   "metadata": {},
   "source": [
    "Hence, in general, 49% of all the employees who left the DETE institute did so because of some dissatisfaction issues, while for the TAFE institute the percentage is 27%.\n",
    "### Calculating the Percentage of Dissatisfied People per Age\n",
    "#### Overall trend\n",
    "We'll do now  the same analysis for the `'age_cat'` column."
   ]
  },
  {
   "cell_type": "code",
   "execution_count": 100,
   "metadata": {
    "collapsed": false
   },
   "outputs": [
    {
     "name": "stdout",
     "output_type": "stream",
     "text": [
      "         dissatisfied\n",
      "age_cat              \n",
      "Senior       0.398104\n",
      "Middle       0.360577\n",
      "Junior       0.358779\n"
     ]
    },
    {
     "data": {
      "text/plain": [
       "<matplotlib.text.Text at 0x7f2844f9d4a8>"
      ]
     },
     "execution_count": 100,
     "metadata": {},
     "output_type": "execute_result"
    },
    {
     "data": {
      "image/png": "[encoded data removed]",
      "text/plain": [
       "<matplotlib.figure.Figure at 0x7f2845024518>"
      ]
     },
     "metadata": {},
     "output_type": "display_data"
    }
   ],
   "source": [
    "# Creating a pivot table 'dissatisfied_age'\n",
    "dissatisfied_age = combined.pivot_table('dissatisfied', 'age_cat')['dissatisfied'].sort_values(ascending=False).to_frame()\n",
    "\n",
    "# Printing the pivot table\n",
    "print(dissatisfied_age)\n",
    "\n",
    "# Visualizing the results\n",
    "dissatisfied_age.plot(kind='bar', figsize=(10, 7), fontsize=15, ylim=(0,0.55), rot=0, legend=False)\n",
    "plt.title('Fraction of dissatisfied people per age', fontsize=20)"
   ]
  },
  {
   "cell_type": "markdown",
   "metadata": {},
   "source": [
    "We can observe that age has less influence on being or not dissatisfied when resigning (only 1-3% of difference between the categories). However, the general trend here is that older employees are more likely to be dissatisfied than their yonger colleagues.\n",
    "#### DETE vs. TAFE\n",
    "Let's have a closer look at the age trends of each institute separately."
   ]
  },
  {
   "cell_type": "code",
   "execution_count": 101,
   "metadata": {
    "collapsed": false
   },
   "outputs": [
    {
     "name": "stdout",
     "output_type": "stream",
     "text": [
      "         dissatisfied\n",
      "age_cat              \n",
      "Senior       0.523810\n",
      "Middle       0.474747\n",
      "Junior       0.457627\n"
     ]
    },
    {
     "data": {
      "text/plain": [
       "<matplotlib.text.Text at 0x7f2844f86400>"
      ]
     },
     "execution_count": 101,
     "metadata": {},
     "output_type": "execute_result"
    },
    {
     "data": {
      "image/png": "[encoded data removed]",
      "text/plain": [
       "<matplotlib.figure.Figure at 0x7f28450141d0>"
      ]
     },
     "metadata": {},
     "output_type": "display_data"
    }
   ],
   "source": [
    "# Creating a pivot table 'dissatisfied_age' for the DETE institute\n",
    "dete_age = combined[combined['institute'] == 'DETE'].reset_index(drop=True)\n",
    "dissatisfied_age_dete = dete_age.pivot_table('dissatisfied', 'age_cat')['dissatisfied'].sort_values(ascending=False).to_frame()\n",
    "\n",
    "# Printing the pivot table\n",
    "print(dissatisfied_age_dete)\n",
    "\n",
    "# Visualizing the results\n",
    "dissatisfied_age_dete.plot(kind='bar', figsize=(10, 7), fontsize=15, ylim=(0,0.55), rot=0, legend=False)\n",
    "plt.title('Fraction of dissatisfied people per age, DETE', fontsize=20)"
   ]
  },
  {
   "cell_type": "code",
   "execution_count": 102,
   "metadata": {
    "collapsed": false
   },
   "outputs": [
    {
     "name": "stdout",
     "output_type": "stream",
     "text": [
      "         dissatisfied\n",
      "age_cat              \n",
      "Junior       0.277778\n",
      "Senior       0.273585\n",
      "Middle       0.256881\n"
     ]
    },
    {
     "data": {
      "text/plain": [
       "<matplotlib.text.Text at 0x7f2844eee438>"
      ]
     },
     "execution_count": 102,
     "metadata": {},
     "output_type": "execute_result"
    },
    {
     "data": {
      "image/png": "[encoded data removed]",
      "text/plain": [
       "<matplotlib.figure.Figure at 0x7f2844f77eb8>"
      ]
     },
     "metadata": {},
     "output_type": "display_data"
    }
   ],
   "source": [
    "# Creating a pivot table 'dissatisfied_age' for the TAFE institute\n",
    "tafe_age = combined[combined['institute'] == 'TAFE'].reset_index(drop=True)\n",
    "dissatisfied_age_tafe = tafe_age.pivot_table('dissatisfied', 'age_cat')['dissatisfied'].sort_values(ascending=False).to_frame()\n",
    "\n",
    "# Printing the pivot table\n",
    "print(dissatisfied_age_tafe)\n",
    "\n",
    "# Visualizing the results\n",
    "dissatisfied_age_tafe.plot(kind='bar', figsize=(10, 7), fontsize=15, ylim=(0,0.55), rot=0, legend=False)\n",
    "plt.title('Fraction of dissatisfied people per age, TAFE', fontsize=20)"
   ]
  },
  {
   "cell_type": "markdown",
   "metadata": {},
   "source": [
    "We see that the overall trend is strongly influenced by the DETE institute data, where once again we have almost twice more dissatisfied people for each category of age than in the TAFE institute. For the latter, the trend is different: junior-senior-middle, in descending order, with an insignificant difference between these categories up to 2%.\n",
    "## Conclusion\n",
    "All in all, in this project we've cleaned the employees' exit surveys from 2 Australian institutes, and analyzed the data from the standpoint of relations between resigning from the company because of some kind of dissatisfaction and the age or the length of service. As a result, we can conclude the following:\n",
    "\n",
    "- The employees who worked in the institute for a longer period are more likely to resign due to dissatisfaction issues (up to 53%) than those who worked for a shorter period (up to 30%).\n",
    "- The older employees are more likely to resign due to dissatisfaction issues than their yonger colleagues, even though the difference between the categories here is only 1-3%.\n",
    "- The percentage of dissatisfied employees from the DETE institute is twice higher than from the TAFE. This relation is also represented in percentages for different categories."
   ]
  },
  {
   "cell_type": "code",
   "execution_count": 103,
   "metadata": {
    "collapsed": false
   },
   "outputs": [
    {
     "data": {
      "text/html": [
       "<div>\n",
       "<style scoped>\n",
       "    .dataframe tbody tr th:only-of-type {\n",
       "        vertical-align: middle;\n",
       "    }\n",
       "\n",
       "    .dataframe tbody tr th {\n",
       "        vertical-align: top;\n",
       "    }\n",
       "\n",
       "    .dataframe thead th {\n",
       "        text-align: right;\n",
       "    }\n",
       "</style>\n",
       "<table border=\"1\" class=\"dataframe\">\n",
       "  <thead>\n",
       "    <tr style=\"text-align: right;\">\n",
       "      <th></th>\n",
       "      <th>age</th>\n",
       "      <th>cease_date</th>\n",
       "      <th>dissatisfied</th>\n",
       "      <th>employment_status</th>\n",
       "      <th>gender</th>\n",
       "      <th>id</th>\n",
       "      <th>institute</th>\n",
       "      <th>institute_service</th>\n",
       "      <th>position</th>\n",
       "      <th>service_cat</th>\n",
       "      <th>age_cat</th>\n",
       "    </tr>\n",
       "  </thead>\n",
       "  <tbody>\n",
       "    <tr>\n",
       "      <th>0</th>\n",
       "      <td>41.0</td>\n",
       "      <td>2012.0</td>\n",
       "      <td>True</td>\n",
       "      <td>Permanent Full-time</td>\n",
       "      <td>Female</td>\n",
       "      <td>6.0</td>\n",
       "      <td>DETE</td>\n",
       "      <td>18.0</td>\n",
       "      <td>Guidance Officer</td>\n",
       "      <td>Veteran</td>\n",
       "      <td>Middle</td>\n",
       "    </tr>\n",
       "    <tr>\n",
       "      <th>28</th>\n",
       "      <td>41.0</td>\n",
       "      <td>2012.0</td>\n",
       "      <td>True</td>\n",
       "      <td>Permanent Full-time</td>\n",
       "      <td>Female</td>\n",
       "      <td>115.0</td>\n",
       "      <td>DETE</td>\n",
       "      <td>15.0</td>\n",
       "      <td>Guidance Officer</td>\n",
       "      <td>Veteran</td>\n",
       "      <td>Middle</td>\n",
       "    </tr>\n",
       "    <tr>\n",
       "      <th>113</th>\n",
       "      <td>41.0</td>\n",
       "      <td>2012.0</td>\n",
       "      <td>True</td>\n",
       "      <td>Permanent Part-time</td>\n",
       "      <td>Female</td>\n",
       "      <td>399.0</td>\n",
       "      <td>DETE</td>\n",
       "      <td>19.0</td>\n",
       "      <td>Guidance Officer</td>\n",
       "      <td>Veteran</td>\n",
       "      <td>Middle</td>\n",
       "    </tr>\n",
       "  </tbody>\n",
       "</table>\n",
       "</div>"
      ],
      "text/plain": [
       "      age  cease_date  dissatisfied    employment_status  gender     id  \\\n",
       "0    41.0      2012.0          True  Permanent Full-time  Female    6.0   \n",
       "28   41.0      2012.0          True  Permanent Full-time  Female  115.0   \n",
       "113  41.0      2012.0          True  Permanent Part-time  Female  399.0   \n",
       "\n",
       "    institute  institute_service          position service_cat age_cat  \n",
       "0        DETE               18.0  Guidance Officer     Veteran  Middle  \n",
       "28       DETE               15.0  Guidance Officer     Veteran  Middle  \n",
       "113      DETE               19.0  Guidance Officer     Veteran  Middle  "
      ]
     },
     "execution_count": 103,
     "metadata": {},
     "output_type": "execute_result"
    }
   ],
   "source": [
    "combined[combined['position']=='Guidance Officer']"
   ]
  }
 ],
 "metadata": {
  "kernelspec": {
   "display_name": "Python 3",
   "language": "python",
   "name": "python3"
  },
  "language_info": {
   "codemirror_mode": {
    "name": "ipython",
    "version": 3
   },
   "file_extension": ".py",
   "mimetype": "text/x-python",
   "name": "python",
   "nbconvert_exporter": "python",
   "pygments_lexer": "ipython3",
   "version": "3.4.3"
  }
 },
 "nbformat": 4,
 "nbformat_minor": 2
}
