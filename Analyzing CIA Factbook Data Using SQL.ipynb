{
 "cells": [
  {
   "cell_type": "markdown",
   "metadata": {
    "collapsed": true
   },
   "source": [
    "# Analyzing CIA Factbook Data Using SQL\n",
    "***\n",
    "## Introduction\n",
    "In this project, we're going to analyze data from the [CIA World Factbook](https://www.cia.gov/library/publications/the-world-factbook/) (2015), a compendium of statistics about all of the countries on Earth. The Factbook contains various demographic and geographic information, like the global population, the annual population growth rate, the total land and water area, and so on. The SQLite `factbook.db` database can be downloaded [here](https://dsserver-prod-resources-1.s3.amazonaws.com/257/factbook.db).\n",
    "### Summary of Results\n",
    "The most <strong>populated</strong> countries are China, India, the United States, Indonesia, and Brazil; the least populated are some islands and Vatican. The highest <strong>population density</strong> is observed in Macau, Monaco, Singapore, and Hong Kong; from bigger countries – Bangladesh and South Korea. The lowest population density: Greenland and Svalbard; from bigger countries – Mongolia, Namibia, and Australia. <strong>African countries</strong> show the highest both birth rate (together with <strong>Iraq</strong> and <strong>Afganistan</strong>) and death rate (as well as <strong>Afganistan</strong>), with the birth rates much higher and resulting in the highest values of the natural increase and population growth in the world. In <strong>Western Europe</strong>, some many countries (Monaco, Andorra, Germany, Greece, Italy, and Portugal) demonstrate low birth rates, leading to a negative natural increase and low population growth. In <strong>Eastern Europe</strong>, <strong>Baltic countries</strong>, and <strong>Russia</strong>, a negative natural increase is caused in some cases (Bosnia and Herzegovina, Slovenia, Romania) by low birth rates, in some other (Ukraine, Belarus, Baltic countries, Russia) – by high death rates, and in the others (Bulgaria, Serbia, Hungary) - by both. The <strong>Middle East</strong> countries show the lowest death rates in the world. <strong>Japan</strong>, <strong>Saint Pierre and Miquelon</strong>, and <strong>South Korea</strong> have one of the lowest birth rates in the world, leading to a negative natural increase. The biggest countries by <strong>area</strong> are Russia, Canada, the United States, China, and Brazil; the smallest ones: Vatican and Monaco. The countries with the highest <strong>water-to-land ratio</strong> are Malawi, Netherlands, and Uganda.    \n",
    "## Connecting to the Database"
   ]
  },
  {
   "cell_type": "code",
   "execution_count": 35,
   "metadata": {},
   "outputs": [],
   "source": [
    "#!conda install -yc conda-forge ipython-sql"
   ]
  },
  {
   "cell_type": "code",
   "execution_count": 36,
   "metadata": {},
   "outputs": [],
   "source": [
    "%%capture\n",
    "%load_ext sql\n",
    "%sql sqlite:///factbook.db    "
   ]
  },
  {
   "cell_type": "markdown",
   "metadata": {},
   "source": [
    "## Data Overview\n",
    "We'll start by getting information on the tables in the database."
   ]
  },
  {
   "cell_type": "code",
   "execution_count": 37,
   "metadata": {},
   "outputs": [
    {
     "name": "stdout",
     "output_type": "stream",
     "text": [
      " * sqlite:///factbook.db\n",
      "Done.\n"
     ]
    },
    {
     "data": {
      "text/html": [
       "<table>\n",
       "    <thead>\n",
       "        <tr>\n",
       "            <th>type</th>\n",
       "            <th>name</th>\n",
       "            <th>tbl_name</th>\n",
       "            <th>rootpage</th>\n",
       "            <th>sql</th>\n",
       "        </tr>\n",
       "    </thead>\n",
       "    <tbody>\n",
       "        <tr>\n",
       "            <td>table</td>\n",
       "            <td>sqlite_sequence</td>\n",
       "            <td>sqlite_sequence</td>\n",
       "            <td>3</td>\n",
       "            <td>CREATE TABLE sqlite_sequence(name,seq)</td>\n",
       "        </tr>\n",
       "        <tr>\n",
       "            <td>table</td>\n",
       "            <td>facts</td>\n",
       "            <td>facts</td>\n",
       "            <td>47</td>\n",
       "            <td>CREATE TABLE &quot;facts&quot; (&quot;id&quot; INTEGER PRIMARY KEY AUTOINCREMENT NOT NULL, &quot;code&quot; varchar(255) NOT NULL, &quot;name&quot; varchar(255) NOT NULL, &quot;area&quot; integer, &quot;area_land&quot; integer, &quot;area_water&quot; integer, &quot;population&quot; integer, &quot;population_growth&quot; float, &quot;birth_rate&quot; float, &quot;death_rate&quot; float, &quot;migration_rate&quot; float)</td>\n",
       "        </tr>\n",
       "    </tbody>\n",
       "</table>"
      ],
      "text/plain": [
       "[('table', 'sqlite_sequence', 'sqlite_sequence', 3, 'CREATE TABLE sqlite_sequence(name,seq)'),\n",
       " ('table', 'facts', 'facts', 47, 'CREATE TABLE \"facts\" (\"id\" INTEGER PRIMARY KEY AUTOINCREMENT NOT NULL, \"code\" varchar(255) NOT NULL, \"name\" varchar(255) NOT NULL, \"area\" integer, \"a ... (4 characters truncated) ... land\" integer, \"area_water\" integer, \"population\" integer, \"population_growth\" float, \"birth_rate\" float, \"death_rate\" float, \"migration_rate\" float)')]"
      ]
     },
     "execution_count": 37,
     "metadata": {},
     "output_type": "execute_result"
    }
   ],
   "source": [
    "%%sql\n",
    "SELECT *\n",
    "  FROM sqlite_master\n",
    "WHERE type='table';"
   ]
  },
  {
   "cell_type": "code",
   "execution_count": 38,
   "metadata": {},
   "outputs": [
    {
     "name": "stdout",
     "output_type": "stream",
     "text": [
      " * sqlite:///factbook.db\n",
      "Done.\n"
     ]
    },
    {
     "data": {
      "text/html": [
       "<table>\n",
       "    <thead>\n",
       "        <tr>\n",
       "            <th>name</th>\n",
       "            <th>seq</th>\n",
       "        </tr>\n",
       "    </thead>\n",
       "    <tbody>\n",
       "        <tr>\n",
       "            <td>facts</td>\n",
       "            <td>261</td>\n",
       "        </tr>\n",
       "    </tbody>\n",
       "</table>"
      ],
      "text/plain": [
       "[('facts', 261)]"
      ]
     },
     "execution_count": 38,
     "metadata": {},
     "output_type": "execute_result"
    }
   ],
   "source": [
    "%%sql\n",
    "SELECT *\n",
    "  FROM sqlite_sequence;"
   ]
  },
  {
   "cell_type": "markdown",
   "metadata": {},
   "source": [
    "Hence, apart from an internal automatically created table `sqlite_sequence`, we have a table called `facts` with 261 rows, with which we'are going to work in this project. \n",
    "\n",
    "Let's have a look at the first five rows."
   ]
  },
  {
   "cell_type": "code",
   "execution_count": 39,
   "metadata": {},
   "outputs": [
    {
     "name": "stdout",
     "output_type": "stream",
     "text": [
      " * sqlite:///factbook.db\n",
      "Done.\n"
     ]
    },
    {
     "data": {
      "text/html": [
       "<table>\n",
       "    <thead>\n",
       "        <tr>\n",
       "            <th>id</th>\n",
       "            <th>code</th>\n",
       "            <th>name</th>\n",
       "            <th>area</th>\n",
       "            <th>area_land</th>\n",
       "            <th>area_water</th>\n",
       "            <th>population</th>\n",
       "            <th>population_growth</th>\n",
       "            <th>birth_rate</th>\n",
       "            <th>death_rate</th>\n",
       "            <th>migration_rate</th>\n",
       "        </tr>\n",
       "    </thead>\n",
       "    <tbody>\n",
       "        <tr>\n",
       "            <td>1</td>\n",
       "            <td>af</td>\n",
       "            <td>Afghanistan</td>\n",
       "            <td>652230</td>\n",
       "            <td>652230</td>\n",
       "            <td>0</td>\n",
       "            <td>32564342</td>\n",
       "            <td>2.32</td>\n",
       "            <td>38.57</td>\n",
       "            <td>13.89</td>\n",
       "            <td>1.51</td>\n",
       "        </tr>\n",
       "        <tr>\n",
       "            <td>2</td>\n",
       "            <td>al</td>\n",
       "            <td>Albania</td>\n",
       "            <td>28748</td>\n",
       "            <td>27398</td>\n",
       "            <td>1350</td>\n",
       "            <td>3029278</td>\n",
       "            <td>0.3</td>\n",
       "            <td>12.92</td>\n",
       "            <td>6.58</td>\n",
       "            <td>3.3</td>\n",
       "        </tr>\n",
       "        <tr>\n",
       "            <td>3</td>\n",
       "            <td>ag</td>\n",
       "            <td>Algeria</td>\n",
       "            <td>2381741</td>\n",
       "            <td>2381741</td>\n",
       "            <td>0</td>\n",
       "            <td>39542166</td>\n",
       "            <td>1.84</td>\n",
       "            <td>23.67</td>\n",
       "            <td>4.31</td>\n",
       "            <td>0.92</td>\n",
       "        </tr>\n",
       "        <tr>\n",
       "            <td>4</td>\n",
       "            <td>an</td>\n",
       "            <td>Andorra</td>\n",
       "            <td>468</td>\n",
       "            <td>468</td>\n",
       "            <td>0</td>\n",
       "            <td>85580</td>\n",
       "            <td>0.12</td>\n",
       "            <td>8.13</td>\n",
       "            <td>6.96</td>\n",
       "            <td>0.0</td>\n",
       "        </tr>\n",
       "        <tr>\n",
       "            <td>5</td>\n",
       "            <td>ao</td>\n",
       "            <td>Angola</td>\n",
       "            <td>1246700</td>\n",
       "            <td>1246700</td>\n",
       "            <td>0</td>\n",
       "            <td>19625353</td>\n",
       "            <td>2.78</td>\n",
       "            <td>38.78</td>\n",
       "            <td>11.49</td>\n",
       "            <td>0.46</td>\n",
       "        </tr>\n",
       "    </tbody>\n",
       "</table>"
      ],
      "text/plain": [
       "[(1, 'af', 'Afghanistan', 652230, 652230, 0, 32564342, 2.32, 38.57, 13.89, 1.51),\n",
       " (2, 'al', 'Albania', 28748, 27398, 1350, 3029278, 0.3, 12.92, 6.58, 3.3),\n",
       " (3, 'ag', 'Algeria', 2381741, 2381741, 0, 39542166, 1.84, 23.67, 4.31, 0.92),\n",
       " (4, 'an', 'Andorra', 468, 468, 0, 85580, 0.12, 8.13, 6.96, 0.0),\n",
       " (5, 'ao', 'Angola', 1246700, 1246700, 0, 19625353, 2.78, 38.78, 11.49, 0.46)]"
      ]
     },
     "execution_count": 39,
     "metadata": {},
     "output_type": "execute_result"
    }
   ],
   "source": [
    "%%sql\n",
    "SELECT *\n",
    "  FROM facts\n",
    "LIMIT 5;"
   ]
  },
  {
   "cell_type": "markdown",
   "metadata": {},
   "source": [
    "The `facts` table contains demographic and geographic data about all the countries. Since the table counts 261 rows, and  since in 2015 (the year when this factbook was released) there were [198 countries](https://en.wikipedia.org/wiki/List_of_countries_by_population_in_2015), some of the rows must represent other territories or administrative units rather than countries.\n",
    "\n",
    "The column names are mostly self-explanatory; below are the descriptions for those less evident:\n",
    "- `area_land` – the country's land area in km2,\n",
    "- `area_water` – the country's water area in km2,\n",
    "- `population_growth`– the country's population growth in %,\n",
    "- `birth_rate` – the number of births per year per 1,000 people,\n",
    "- `death_rate` – the number of deaths per year per 1,000 people,\n",
    "- `migration_rate` – the difference between the number of persons entering (immigrants) and leaving (emigrants) a country during the year, per 1,000 people.\n",
    "\n",
    "## Exploring Population Statistics\n",
    "Let's calculate some summary statistics for `population` and look for any outlier countries."
   ]
  },
  {
   "cell_type": "code",
   "execution_count": 40,
   "metadata": {},
   "outputs": [
    {
     "name": "stdout",
     "output_type": "stream",
     "text": [
      " * sqlite:///factbook.db\n",
      "Done.\n"
     ]
    },
    {
     "data": {
      "text/html": [
       "<table>\n",
       "    <thead>\n",
       "        <tr>\n",
       "            <th>min_population</th>\n",
       "            <th>max_population</th>\n",
       "            <th>average_population</th>\n",
       "        </tr>\n",
       "    </thead>\n",
       "    <tbody>\n",
       "        <tr>\n",
       "            <td>0</td>\n",
       "            <td>7256490011</td>\n",
       "            <td>62094928.32231405</td>\n",
       "        </tr>\n",
       "    </tbody>\n",
       "</table>"
      ],
      "text/plain": [
       "[(0, 7256490011, 62094928.32231405)]"
      ]
     },
     "execution_count": 40,
     "metadata": {},
     "output_type": "execute_result"
    }
   ],
   "source": [
    "%%sql\n",
    "SELECT MIN(population) AS min_population,\n",
    "       MAX(population) AS max_population,      \n",
    "       AVG(population) AS average_population\n",
    "    FROM facts;"
   ]
  },
  {
   "cell_type": "markdown",
   "metadata": {},
   "source": [
    "We clearly see 2 issues here: there is at least one country or territory with the population equal to 0, and one with the population of 7.26 bln people, that seems to be the [world population in 2015](https://population.un.org/wpp/Publications/Files/WPP2015_DataBooklet.pdf). Let's check the names of these territories."
   ]
  },
  {
   "cell_type": "code",
   "execution_count": 41,
   "metadata": {},
   "outputs": [
    {
     "name": "stdout",
     "output_type": "stream",
     "text": [
      " * sqlite:///factbook.db\n",
      "Done.\n"
     ]
    },
    {
     "data": {
      "text/html": [
       "<table>\n",
       "    <thead>\n",
       "        <tr>\n",
       "            <th>name</th>\n",
       "            <th>population</th>\n",
       "        </tr>\n",
       "    </thead>\n",
       "    <tbody>\n",
       "        <tr>\n",
       "            <td>Antarctica</td>\n",
       "            <td>0</td>\n",
       "        </tr>\n",
       "        <tr>\n",
       "            <td>World</td>\n",
       "            <td>7256490011</td>\n",
       "        </tr>\n",
       "    </tbody>\n",
       "</table>"
      ],
      "text/plain": [
       "[('Antarctica', 0), ('World', 7256490011)]"
      ]
     },
     "execution_count": 41,
     "metadata": {},
     "output_type": "execute_result"
    }
   ],
   "source": [
    "%%sql\n",
    "SELECT name, population\n",
    "  FROM facts\n",
    "WHERE population = (\n",
    "        SELECT MIN(population) \n",
    "          FROM facts)\n",
    "    OR population = (\n",
    "        SELECT MAX(population) \n",
    "          FROM facts);"
   ]
  },
  {
   "cell_type": "markdown",
   "metadata": {},
   "source": [
    "Hence, we can confirm that the maximum value of `population` just corresponds to the world population in 2015, represented by its own row in the table. The minimum value, instead, is related to Antarctica, which also looks reasonable, since, according to the [CIA Factbook page for Antarctica](https://www.cia.gov/library/publications/the-world-factbook/geos/ay.html), there are \n",
    "> no indigenous inhabitants, but there are both permanent and summer-only staffed research stations\n",
    "\n",
    "Let's recalculate the summary statistics excluding these outliers."
   ]
  },
  {
   "cell_type": "code",
   "execution_count": 42,
   "metadata": {},
   "outputs": [
    {
     "name": "stdout",
     "output_type": "stream",
     "text": [
      " * sqlite:///factbook.db\n",
      "Done.\n"
     ]
    },
    {
     "data": {
      "text/html": [
       "<table>\n",
       "    <thead>\n",
       "        <tr>\n",
       "            <th>min_population</th>\n",
       "            <th>max_population</th>\n",
       "            <th>average_population</th>\n",
       "        </tr>\n",
       "    </thead>\n",
       "    <tbody>\n",
       "        <tr>\n",
       "            <td>48</td>\n",
       "            <td>1367485388</td>\n",
       "            <td>32377011.0</td>\n",
       "        </tr>\n",
       "    </tbody>\n",
       "</table>"
      ],
      "text/plain": [
       "[(48, 1367485388, 32377011.0)]"
      ]
     },
     "execution_count": 42,
     "metadata": {},
     "output_type": "execute_result"
    }
   ],
   "source": [
    "%%sql\n",
    "SELECT MIN(population) AS min_population,\n",
    "       MAX(population) AS max_population,      \n",
    "       ROUND(AVG(population), 0) AS average_population\n",
    "    FROM facts\n",
    "WHERE name != 'Antarctica' \n",
    "  AND name != 'World';"
   ]
  },
  {
   "cell_type": "markdown",
   "metadata": {},
   "source": [
    "Now the minimum and maximum values look much more plausible. Also, the average population, without the outliers, decreased almost twice.\n",
    "\n",
    "Let's find out what countries have the biggest and the smallest populations. This time, instead of looking only for the countries with the extreme values of `population`, we'll have a look at the TOP5 and BOTTOM5 countries."
   ]
  },
  {
   "cell_type": "code",
   "execution_count": 43,
   "metadata": {},
   "outputs": [
    {
     "name": "stdout",
     "output_type": "stream",
     "text": [
      " * sqlite:///factbook.db\n",
      "Done.\n"
     ]
    },
    {
     "data": {
      "text/html": [
       "<table>\n",
       "    <thead>\n",
       "        <tr>\n",
       "            <th>name</th>\n",
       "            <th>top5_population</th>\n",
       "        </tr>\n",
       "    </thead>\n",
       "    <tbody>\n",
       "        <tr>\n",
       "            <td>China</td>\n",
       "            <td>1367485388</td>\n",
       "        </tr>\n",
       "        <tr>\n",
       "            <td>India</td>\n",
       "            <td>1251695584</td>\n",
       "        </tr>\n",
       "        <tr>\n",
       "            <td>European Union</td>\n",
       "            <td>513949445</td>\n",
       "        </tr>\n",
       "        <tr>\n",
       "            <td>United States</td>\n",
       "            <td>321368864</td>\n",
       "        </tr>\n",
       "        <tr>\n",
       "            <td>Indonesia</td>\n",
       "            <td>255993674</td>\n",
       "        </tr>\n",
       "    </tbody>\n",
       "</table>"
      ],
      "text/plain": [
       "[('China', 1367485388),\n",
       " ('India', 1251695584),\n",
       " ('European Union', 513949445),\n",
       " ('United States', 321368864),\n",
       " ('Indonesia', 255993674)]"
      ]
     },
     "execution_count": 43,
     "metadata": {},
     "output_type": "execute_result"
    }
   ],
   "source": [
    "%%sql\n",
    "SELECT name, population AS top5_population\n",
    "  FROM facts\n",
    "WHERE name != 'World'\n",
    "ORDER BY population DESC\n",
    "LIMIT 5;"
   ]
  },
  {
   "cell_type": "markdown",
   "metadata": {},
   "source": [
    "One more issue appears here: the European Union is not a country, we have to exclude also this."
   ]
  },
  {
   "cell_type": "code",
   "execution_count": 44,
   "metadata": {},
   "outputs": [
    {
     "name": "stdout",
     "output_type": "stream",
     "text": [
      " * sqlite:///factbook.db\n",
      "Done.\n"
     ]
    },
    {
     "data": {
      "text/html": [
       "<table>\n",
       "    <thead>\n",
       "        <tr>\n",
       "            <th>name</th>\n",
       "            <th>top5_population</th>\n",
       "        </tr>\n",
       "    </thead>\n",
       "    <tbody>\n",
       "        <tr>\n",
       "            <td>China</td>\n",
       "            <td>1367485388</td>\n",
       "        </tr>\n",
       "        <tr>\n",
       "            <td>India</td>\n",
       "            <td>1251695584</td>\n",
       "        </tr>\n",
       "        <tr>\n",
       "            <td>United States</td>\n",
       "            <td>321368864</td>\n",
       "        </tr>\n",
       "        <tr>\n",
       "            <td>Indonesia</td>\n",
       "            <td>255993674</td>\n",
       "        </tr>\n",
       "        <tr>\n",
       "            <td>Brazil</td>\n",
       "            <td>204259812</td>\n",
       "        </tr>\n",
       "    </tbody>\n",
       "</table>"
      ],
      "text/plain": [
       "[('China', 1367485388),\n",
       " ('India', 1251695584),\n",
       " ('United States', 321368864),\n",
       " ('Indonesia', 255993674),\n",
       " ('Brazil', 204259812)]"
      ]
     },
     "execution_count": 44,
     "metadata": {},
     "output_type": "execute_result"
    }
   ],
   "source": [
    "%%sql\n",
    "SELECT name, population AS top5_population\n",
    "  FROM facts\n",
    "WHERE name != 'World' \n",
    "  AND name != 'European Union'\n",
    "ORDER BY population DESC\n",
    "LIMIT 5;"
   ]
  },
  {
   "cell_type": "markdown",
   "metadata": {},
   "source": [
    "We see that the <u>most populated</u> country is <strong>China</strong> (which is a common knowledge fact), followed by <strong>India</strong>, then with a big gap by the <strong>United States</strong>, <strong>Indonesia</strong>, and <strong>Brazil</strong>."
   ]
  },
  {
   "cell_type": "code",
   "execution_count": 45,
   "metadata": {},
   "outputs": [
    {
     "name": "stdout",
     "output_type": "stream",
     "text": [
      " * sqlite:///factbook.db\n",
      "Done.\n"
     ]
    },
    {
     "data": {
      "text/html": [
       "<table>\n",
       "    <thead>\n",
       "        <tr>\n",
       "            <th>name</th>\n",
       "            <th>bottom5_population</th>\n",
       "        </tr>\n",
       "    </thead>\n",
       "    <tbody>\n",
       "        <tr>\n",
       "            <td>Pitcairn Islands</td>\n",
       "            <td>48</td>\n",
       "        </tr>\n",
       "        <tr>\n",
       "            <td>Cocos (Keeling) Islands</td>\n",
       "            <td>596</td>\n",
       "        </tr>\n",
       "        <tr>\n",
       "            <td>Holy See (Vatican City)</td>\n",
       "            <td>842</td>\n",
       "        </tr>\n",
       "        <tr>\n",
       "            <td>Niue</td>\n",
       "            <td>1190</td>\n",
       "        </tr>\n",
       "        <tr>\n",
       "            <td>Tokelau</td>\n",
       "            <td>1337</td>\n",
       "        </tr>\n",
       "    </tbody>\n",
       "</table>"
      ],
      "text/plain": [
       "[('Pitcairn Islands', 48),\n",
       " ('Cocos (Keeling) Islands', 596),\n",
       " ('Holy See (Vatican City)', 842),\n",
       " ('Niue', 1190),\n",
       " ('Tokelau', 1337)]"
      ]
     },
     "execution_count": 45,
     "metadata": {},
     "output_type": "execute_result"
    }
   ],
   "source": [
    "%%sql\n",
    "SELECT name, population AS bottom5_population\n",
    "  FROM facts\n",
    "WHERE name != 'Antarctica'\n",
    "  AND population NOT NULL\n",
    "ORDER BY population\n",
    "LIMIT 5;"
   ]
  },
  {
   "cell_type": "markdown",
   "metadata": {},
   "source": [
    "For the BOTTOM5 countries, everything is coherent. The <strong>[Pitcairn Islands](https://en.wikipedia.org/wiki/Pitcairn_Islands)</strong>, or just Pitcairn, located in the southern Pacific Ocean, is the <u>least populous</u> national jurisdiction in the world. <strong>Niue</strong> and <strong>Tokelau</strong> are also very isolated islands in the southern Pacific Ocean, while <strong>Cocos (Keeling) Islands</strong> – in the Indian Ocean. Among the BOTTOM5 countries by population, not surprisingly, there is also a microstate <strong>Vatican</strong>.\n",
    "\n",
    "In our database, there are some territories with the `population` column having values of None."
   ]
  },
  {
   "cell_type": "code",
   "execution_count": 46,
   "metadata": {},
   "outputs": [
    {
     "name": "stdout",
     "output_type": "stream",
     "text": [
      " * sqlite:///factbook.db\n",
      "Done.\n"
     ]
    },
    {
     "data": {
      "text/html": [
       "<table>\n",
       "    <thead>\n",
       "        <tr>\n",
       "            <th>name</th>\n",
       "            <th>population</th>\n",
       "        </tr>\n",
       "    </thead>\n",
       "    <tbody>\n",
       "        <tr>\n",
       "            <td>Ashmore and Cartier Islands</td>\n",
       "            <td>None</td>\n",
       "        </tr>\n",
       "        <tr>\n",
       "            <td>Coral Sea Islands</td>\n",
       "            <td>None</td>\n",
       "        </tr>\n",
       "        <tr>\n",
       "            <td>Heard Island and McDonald Islands</td>\n",
       "            <td>None</td>\n",
       "        </tr>\n",
       "        <tr>\n",
       "            <td>Clipperton Island</td>\n",
       "            <td>None</td>\n",
       "        </tr>\n",
       "        <tr>\n",
       "            <td>French Southern and Antarctic Lands</td>\n",
       "            <td>None</td>\n",
       "        </tr>\n",
       "        <tr>\n",
       "            <td>Bouvet Island</td>\n",
       "            <td>None</td>\n",
       "        </tr>\n",
       "        <tr>\n",
       "            <td>Jan Mayen</td>\n",
       "            <td>None</td>\n",
       "        </tr>\n",
       "        <tr>\n",
       "            <td>British Indian Ocean Territory</td>\n",
       "            <td>None</td>\n",
       "        </tr>\n",
       "        <tr>\n",
       "            <td>South Georgia and South Sandwich Islands</td>\n",
       "            <td>None</td>\n",
       "        </tr>\n",
       "        <tr>\n",
       "            <td>Navassa Island</td>\n",
       "            <td>None</td>\n",
       "        </tr>\n",
       "        <tr>\n",
       "            <td>Wake Island</td>\n",
       "            <td>None</td>\n",
       "        </tr>\n",
       "        <tr>\n",
       "            <td>United States Pacific Island Wildlife Refuges</td>\n",
       "            <td>None</td>\n",
       "        </tr>\n",
       "        <tr>\n",
       "            <td>Paracel Islands</td>\n",
       "            <td>None</td>\n",
       "        </tr>\n",
       "        <tr>\n",
       "            <td>Spratly Islands</td>\n",
       "            <td>None</td>\n",
       "        </tr>\n",
       "        <tr>\n",
       "            <td>Arctic Ocean</td>\n",
       "            <td>None</td>\n",
       "        </tr>\n",
       "        <tr>\n",
       "            <td>Atlantic Ocean</td>\n",
       "            <td>None</td>\n",
       "        </tr>\n",
       "        <tr>\n",
       "            <td>Indian Ocean</td>\n",
       "            <td>None</td>\n",
       "        </tr>\n",
       "        <tr>\n",
       "            <td>Pacific Ocean</td>\n",
       "            <td>None</td>\n",
       "        </tr>\n",
       "        <tr>\n",
       "            <td>Southern Ocean</td>\n",
       "            <td>None</td>\n",
       "        </tr>\n",
       "    </tbody>\n",
       "</table>"
      ],
      "text/plain": [
       "[('Ashmore and Cartier Islands', None),\n",
       " ('Coral Sea Islands', None),\n",
       " ('Heard Island and McDonald Islands', None),\n",
       " ('Clipperton Island', None),\n",
       " ('French Southern and Antarctic Lands', None),\n",
       " ('Bouvet Island', None),\n",
       " ('Jan Mayen', None),\n",
       " ('British Indian Ocean Territory', None),\n",
       " ('South Georgia and South Sandwich Islands', None),\n",
       " ('Navassa Island', None),\n",
       " ('Wake Island', None),\n",
       " ('United States Pacific Island Wildlife Refuges', None),\n",
       " ('Paracel Islands', None),\n",
       " ('Spratly Islands', None),\n",
       " ('Arctic Ocean', None),\n",
       " ('Atlantic Ocean', None),\n",
       " ('Indian Ocean', None),\n",
       " ('Pacific Ocean', None),\n",
       " ('Southern Ocean', None)]"
      ]
     },
     "execution_count": 46,
     "metadata": {},
     "output_type": "execute_result"
    }
   ],
   "source": [
    "%%sql\n",
    "SELECT name, population\n",
    "  FROM facts\n",
    "WHERE population IS NULL;"
   ]
  },
  {
   "cell_type": "markdown",
   "metadata": {},
   "source": [
    "All these territories represent or different uninhabited islands, or the oceans.\n",
    "## Exploring Population Density Statistics\n",
    "In this section, we're going to find out which countries are the most densely populated and which ones – the least. \n",
    "\n",
    "First, let's calculate the average population density in the world, which practically means dividing `population` by `area`. Here and later, we have to:\n",
    "- use `area_land` instead of `area`, for being more precise,\n",
    "- exclude null values for both `population` and `area_land`,\n",
    "- exclude `area_land`=0 to avoid having 0 in the denominator,\n",
    "- exclude the outliers: World, European Union, and Antarctica.\n",
    "\n",
    "Let's look once again at the outliers."
   ]
  },
  {
   "cell_type": "code",
   "execution_count": 47,
   "metadata": {},
   "outputs": [
    {
     "name": "stdout",
     "output_type": "stream",
     "text": [
      " * sqlite:///factbook.db\n",
      "Done.\n"
     ]
    },
    {
     "data": {
      "text/html": [
       "<table>\n",
       "    <thead>\n",
       "        <tr>\n",
       "            <th>name</th>\n",
       "            <th>population</th>\n",
       "            <th>area_land</th>\n",
       "        </tr>\n",
       "    </thead>\n",
       "    <tbody>\n",
       "        <tr>\n",
       "            <td>European Union</td>\n",
       "            <td>513949445</td>\n",
       "            <td>None</td>\n",
       "        </tr>\n",
       "        <tr>\n",
       "            <td>Antarctica</td>\n",
       "            <td>0</td>\n",
       "            <td>280000</td>\n",
       "        </tr>\n",
       "        <tr>\n",
       "            <td>World</td>\n",
       "            <td>7256490011</td>\n",
       "            <td>None</td>\n",
       "        </tr>\n",
       "    </tbody>\n",
       "</table>"
      ],
      "text/plain": [
       "[('European Union', 513949445, None),\n",
       " ('Antarctica', 0, 280000),\n",
       " ('World', 7256490011, None)]"
      ]
     },
     "execution_count": 47,
     "metadata": {},
     "output_type": "execute_result"
    }
   ],
   "source": [
    "%%sql\n",
    "SELECT name, population, area_land\n",
    "  FROM facts\n",
    "WHERE name = 'World' \n",
    "   OR name = 'European Union' \n",
    "    OR name = 'Antarctica';"
   ]
  },
  {
   "cell_type": "markdown",
   "metadata": {},
   "source": [
    "So, according to the statements above, we have to keep in mind only the row for Antarctica, since the other 2 outliers have null values for `area_land`. \n",
    "\n",
    "Now we're ready to calculate the average values for the population density, population and area."
   ]
  },
  {
   "cell_type": "code",
   "execution_count": 48,
   "metadata": {},
   "outputs": [
    {
     "name": "stdout",
     "output_type": "stream",
     "text": [
      " * sqlite:///factbook.db\n",
      "Done.\n"
     ]
    },
    {
     "data": {
      "text/html": [
       "<table>\n",
       "    <thead>\n",
       "        <tr>\n",
       "            <th>average_population_density</th>\n",
       "            <th>average_population</th>\n",
       "            <th>average_area</th>\n",
       "        </tr>\n",
       "    </thead>\n",
       "    <tbody>\n",
       "        <tr>\n",
       "            <td>55.0</td>\n",
       "            <td>30641707.0</td>\n",
       "            <td>553017.0</td>\n",
       "        </tr>\n",
       "    </tbody>\n",
       "</table>"
      ],
      "text/plain": [
       "[(55.0, 30641707.0, 553017.0)]"
      ]
     },
     "execution_count": 48,
     "metadata": {},
     "output_type": "execute_result"
    }
   ],
   "source": [
    "%%sql\n",
    "SELECT ROUND(CAST(AVG(population) AS Float)/CAST(AVG(area_land) AS Float), 0) \n",
    "                                AS average_population_density,\n",
    "        ROUND(AVG(population),0) AS average_population,\n",
    "          ROUND(AVG(area_land),0) AS average_area\n",
    "    FROM facts\n",
    "WHERE population NOT NULL \n",
    "  AND area_land NOT NULL \n",
    "    AND name != 'Antarctica' \n",
    "      AND area_land != 0;"
   ]
  },
  {
   "cell_type": "markdown",
   "metadata": {},
   "source": [
    "Next, we're going to count the countries with the population density above average. We can assume that there will be roughly half of such countries in our database, while another half will have the population density below average."
   ]
  },
  {
   "cell_type": "code",
   "execution_count": 49,
   "metadata": {},
   "outputs": [
    {
     "name": "stdout",
     "output_type": "stream",
     "text": [
      " * sqlite:///factbook.db\n",
      "Done.\n"
     ]
    },
    {
     "data": {
      "text/html": [
       "<table>\n",
       "    <thead>\n",
       "        <tr>\n",
       "            <th>above_average</th>\n",
       "        </tr>\n",
       "    </thead>\n",
       "    <tbody>\n",
       "        <tr>\n",
       "            <td>149</td>\n",
       "        </tr>\n",
       "    </tbody>\n",
       "</table>"
      ],
      "text/plain": [
       "[(149,)]"
      ]
     },
     "execution_count": 49,
     "metadata": {},
     "output_type": "execute_result"
    }
   ],
   "source": [
    "%%sql\n",
    "SELECT COUNT(name) AS above_average\n",
    "  FROM facts\n",
    "WHERE name != 'Antarctica'\n",
    "  AND population NOT NULL \n",
    "    AND area_land NOT NULL\n",
    "      AND area_land != 0\n",
    "         AND CAST(population AS Float)/CAST(area_land AS Float) > (\n",
    "            SELECT CAST(AVG(population) AS Float)/CAST(AVG(area_land) AS Float)                                          \n",
    "              FROM facts\n",
    "            WHERE name != 'Antarctica'\n",
    "              AND population NOT NULL \n",
    "                AND area_land NOT NULL\n",
    "                  AND area_land != 0);"
   ]
  },
  {
   "cell_type": "markdown",
   "metadata": {},
   "source": [
    "Hence, our assumption was right. To not visualize all these values, let's look only at the first 20."
   ]
  },
  {
   "cell_type": "code",
   "execution_count": 50,
   "metadata": {
    "scrolled": false
   },
   "outputs": [
    {
     "name": "stdout",
     "output_type": "stream",
     "text": [
      " * sqlite:///factbook.db\n",
      "Done.\n"
     ]
    },
    {
     "data": {
      "text/html": [
       "<table>\n",
       "    <thead>\n",
       "        <tr>\n",
       "            <th>name</th>\n",
       "            <th>population</th>\n",
       "            <th>area_land</th>\n",
       "            <th>population_density</th>\n",
       "        </tr>\n",
       "    </thead>\n",
       "    <tbody>\n",
       "        <tr>\n",
       "            <td>Macau</td>\n",
       "            <td>592731</td>\n",
       "            <td>28</td>\n",
       "            <td>21169.0</td>\n",
       "        </tr>\n",
       "        <tr>\n",
       "            <td>Monaco</td>\n",
       "            <td>30535</td>\n",
       "            <td>2</td>\n",
       "            <td>15268.0</td>\n",
       "        </tr>\n",
       "        <tr>\n",
       "            <td>Singapore</td>\n",
       "            <td>5674472</td>\n",
       "            <td>687</td>\n",
       "            <td>8260.0</td>\n",
       "        </tr>\n",
       "        <tr>\n",
       "            <td>Hong Kong</td>\n",
       "            <td>7141106</td>\n",
       "            <td>1073</td>\n",
       "            <td>6655.0</td>\n",
       "        </tr>\n",
       "        <tr>\n",
       "            <td>Gaza Strip</td>\n",
       "            <td>1869055</td>\n",
       "            <td>360</td>\n",
       "            <td>5192.0</td>\n",
       "        </tr>\n",
       "        <tr>\n",
       "            <td>Gibraltar</td>\n",
       "            <td>29258</td>\n",
       "            <td>6</td>\n",
       "            <td>4876.0</td>\n",
       "        </tr>\n",
       "        <tr>\n",
       "            <td>Bahrain</td>\n",
       "            <td>1346613</td>\n",
       "            <td>760</td>\n",
       "            <td>1772.0</td>\n",
       "        </tr>\n",
       "        <tr>\n",
       "            <td>Maldives</td>\n",
       "            <td>393253</td>\n",
       "            <td>298</td>\n",
       "            <td>1320.0</td>\n",
       "        </tr>\n",
       "        <tr>\n",
       "            <td>Malta</td>\n",
       "            <td>413965</td>\n",
       "            <td>316</td>\n",
       "            <td>1310.0</td>\n",
       "        </tr>\n",
       "        <tr>\n",
       "            <td>Bermuda</td>\n",
       "            <td>70196</td>\n",
       "            <td>54</td>\n",
       "            <td>1300.0</td>\n",
       "        </tr>\n",
       "        <tr>\n",
       "            <td>Bangladesh</td>\n",
       "            <td>168957745</td>\n",
       "            <td>130170</td>\n",
       "            <td>1298.0</td>\n",
       "        </tr>\n",
       "        <tr>\n",
       "            <td>Sint Maarten</td>\n",
       "            <td>39689</td>\n",
       "            <td>34</td>\n",
       "            <td>1167.0</td>\n",
       "        </tr>\n",
       "        <tr>\n",
       "            <td>Guernsey</td>\n",
       "            <td>66080</td>\n",
       "            <td>78</td>\n",
       "            <td>847.0</td>\n",
       "        </tr>\n",
       "        <tr>\n",
       "            <td>Jersey</td>\n",
       "            <td>97294</td>\n",
       "            <td>116</td>\n",
       "            <td>839.0</td>\n",
       "        </tr>\n",
       "        <tr>\n",
       "            <td>Taiwan</td>\n",
       "            <td>23415126</td>\n",
       "            <td>32260</td>\n",
       "            <td>726.0</td>\n",
       "        </tr>\n",
       "        <tr>\n",
       "            <td>Barbados</td>\n",
       "            <td>290604</td>\n",
       "            <td>430</td>\n",
       "            <td>676.0</td>\n",
       "        </tr>\n",
       "        <tr>\n",
       "            <td>Mauritius</td>\n",
       "            <td>1339827</td>\n",
       "            <td>2030</td>\n",
       "            <td>660.0</td>\n",
       "        </tr>\n",
       "        <tr>\n",
       "            <td>Aruba</td>\n",
       "            <td>112162</td>\n",
       "            <td>180</td>\n",
       "            <td>623.0</td>\n",
       "        </tr>\n",
       "        <tr>\n",
       "            <td>Lebanon</td>\n",
       "            <td>6184701</td>\n",
       "            <td>10230</td>\n",
       "            <td>605.0</td>\n",
       "        </tr>\n",
       "        <tr>\n",
       "            <td>Saint Martin</td>\n",
       "            <td>31754</td>\n",
       "            <td>54</td>\n",
       "            <td>588.0</td>\n",
       "        </tr>\n",
       "    </tbody>\n",
       "</table>"
      ],
      "text/plain": [
       "[('Macau', 592731, 28, 21169.0),\n",
       " ('Monaco', 30535, 2, 15268.0),\n",
       " ('Singapore', 5674472, 687, 8260.0),\n",
       " ('Hong Kong', 7141106, 1073, 6655.0),\n",
       " ('Gaza Strip', 1869055, 360, 5192.0),\n",
       " ('Gibraltar', 29258, 6, 4876.0),\n",
       " ('Bahrain', 1346613, 760, 1772.0),\n",
       " ('Maldives', 393253, 298, 1320.0),\n",
       " ('Malta', 413965, 316, 1310.0),\n",
       " ('Bermuda', 70196, 54, 1300.0),\n",
       " ('Bangladesh', 168957745, 130170, 1298.0),\n",
       " ('Sint Maarten', 39689, 34, 1167.0),\n",
       " ('Guernsey', 66080, 78, 847.0),\n",
       " ('Jersey', 97294, 116, 839.0),\n",
       " ('Taiwan', 23415126, 32260, 726.0),\n",
       " ('Barbados', 290604, 430, 676.0),\n",
       " ('Mauritius', 1339827, 2030, 660.0),\n",
       " ('Aruba', 112162, 180, 623.0),\n",
       " ('Lebanon', 6184701, 10230, 605.0),\n",
       " ('Saint Martin', 31754, 54, 588.0)]"
      ]
     },
     "execution_count": 50,
     "metadata": {},
     "output_type": "execute_result"
    }
   ],
   "source": [
    "%%sql\n",
    "SELECT name, population, area_land, \n",
    "       ROUND(CAST(population AS Float)/CAST(area_land AS Float), 0) \n",
    "                                          AS population_density\n",
    "    FROM facts\n",
    "WHERE name != 'Antarctica'\n",
    "  AND population NOT NULL \n",
    "    AND area_land NOT NULL\n",
    "      AND area_land != 0\n",
    "        AND population_density > (\n",
    "            SELECT CAST(AVG(population) AS Float)/CAST(AVG(area_land) AS Float) \n",
    "              FROM facts\n",
    "            WHERE name != 'Antarctica'\n",
    "              AND population NOT NULL \n",
    "                AND area_land NOT NULL\n",
    "                  AND area_land != 0)\n",
    "ORDER BY population_density DESC\n",
    "LIMIT 20;"
   ]
  },
  {
   "cell_type": "markdown",
   "metadata": {},
   "source": [
    "According to this table, the <u>highest population density</u> is observed in <strong>Macau</strong>, followed with a big gap by <strong>Monaco</strong>, which in turn is followed with another big gap by <strong>Singapore</strong> and <strong>Hong Kong</strong>. In general, as we can see, these high values are mostly related to <strong>small countries and islands</strong>, with the area much below average (553,000 km2), but also the population below average (30.6 mln people). To narrow the subset of all the countries with the population density above average and to find bigger territories among them, we'll select only those of them, for which both of the following statements are true:\n",
    "- the population is above average,\n",
    "- the area is below average. "
   ]
  },
  {
   "cell_type": "code",
   "execution_count": 51,
   "metadata": {},
   "outputs": [
    {
     "name": "stdout",
     "output_type": "stream",
     "text": [
      " * sqlite:///factbook.db\n",
      "Done.\n"
     ]
    },
    {
     "data": {
      "text/html": [
       "<table>\n",
       "    <thead>\n",
       "        <tr>\n",
       "            <th>name</th>\n",
       "            <th>population</th>\n",
       "            <th>area_land</th>\n",
       "            <th>population_density</th>\n",
       "        </tr>\n",
       "    </thead>\n",
       "    <tbody>\n",
       "        <tr>\n",
       "            <td>Bangladesh</td>\n",
       "            <td>168957745</td>\n",
       "            <td>130170</td>\n",
       "            <td>1298.0</td>\n",
       "        </tr>\n",
       "        <tr>\n",
       "            <td>Korea, South</td>\n",
       "            <td>49115196</td>\n",
       "            <td>96920</td>\n",
       "            <td>507.0</td>\n",
       "        </tr>\n",
       "        <tr>\n",
       "            <td>Japan</td>\n",
       "            <td>126919659</td>\n",
       "            <td>364485</td>\n",
       "            <td>348.0</td>\n",
       "        </tr>\n",
       "        <tr>\n",
       "            <td>Philippines</td>\n",
       "            <td>100998376</td>\n",
       "            <td>298170</td>\n",
       "            <td>339.0</td>\n",
       "        </tr>\n",
       "        <tr>\n",
       "            <td>Vietnam</td>\n",
       "            <td>94348835</td>\n",
       "            <td>310070</td>\n",
       "            <td>304.0</td>\n",
       "        </tr>\n",
       "        <tr>\n",
       "            <td>United Kingdom</td>\n",
       "            <td>64088222</td>\n",
       "            <td>241930</td>\n",
       "            <td>265.0</td>\n",
       "        </tr>\n",
       "        <tr>\n",
       "            <td>Germany</td>\n",
       "            <td>80854408</td>\n",
       "            <td>348672</td>\n",
       "            <td>232.0</td>\n",
       "        </tr>\n",
       "        <tr>\n",
       "            <td>Nepal</td>\n",
       "            <td>31551305</td>\n",
       "            <td>143351</td>\n",
       "            <td>220.0</td>\n",
       "        </tr>\n",
       "        <tr>\n",
       "            <td>Italy</td>\n",
       "            <td>61855120</td>\n",
       "            <td>294140</td>\n",
       "            <td>210.0</td>\n",
       "        </tr>\n",
       "        <tr>\n",
       "            <td>Uganda</td>\n",
       "            <td>37101745</td>\n",
       "            <td>197100</td>\n",
       "            <td>188.0</td>\n",
       "        </tr>\n",
       "        <tr>\n",
       "            <td>Thailand</td>\n",
       "            <td>67976405</td>\n",
       "            <td>510890</td>\n",
       "            <td>133.0</td>\n",
       "        </tr>\n",
       "        <tr>\n",
       "            <td>Poland</td>\n",
       "            <td>38562189</td>\n",
       "            <td>304255</td>\n",
       "            <td>127.0</td>\n",
       "        </tr>\n",
       "        <tr>\n",
       "            <td>Spain</td>\n",
       "            <td>48146134</td>\n",
       "            <td>498980</td>\n",
       "            <td>96.0</td>\n",
       "        </tr>\n",
       "        <tr>\n",
       "            <td>Iraq</td>\n",
       "            <td>37056169</td>\n",
       "            <td>437367</td>\n",
       "            <td>85.0</td>\n",
       "        </tr>\n",
       "        <tr>\n",
       "            <td>Morocco</td>\n",
       "            <td>33322699</td>\n",
       "            <td>446300</td>\n",
       "            <td>75.0</td>\n",
       "        </tr>\n",
       "    </tbody>\n",
       "</table>"
      ],
      "text/plain": [
       "[('Bangladesh', 168957745, 130170, 1298.0),\n",
       " ('Korea, South', 49115196, 96920, 507.0),\n",
       " ('Japan', 126919659, 364485, 348.0),\n",
       " ('Philippines', 100998376, 298170, 339.0),\n",
       " ('Vietnam', 94348835, 310070, 304.0),\n",
       " ('United Kingdom', 64088222, 241930, 265.0),\n",
       " ('Germany', 80854408, 348672, 232.0),\n",
       " ('Nepal', 31551305, 143351, 220.0),\n",
       " ('Italy', 61855120, 294140, 210.0),\n",
       " ('Uganda', 37101745, 197100, 188.0),\n",
       " ('Thailand', 67976405, 510890, 133.0),\n",
       " ('Poland', 38562189, 304255, 127.0),\n",
       " ('Spain', 48146134, 498980, 96.0),\n",
       " ('Iraq', 37056169, 437367, 85.0),\n",
       " ('Morocco', 33322699, 446300, 75.0)]"
      ]
     },
     "execution_count": 51,
     "metadata": {},
     "output_type": "execute_result"
    }
   ],
   "source": [
    "%%sql\n",
    "SELECT name, population, area_land, \n",
    "       ROUND(CAST(population AS Float)/CAST(area_land AS Float), 0) \n",
    "                                          AS population_density\n",
    "    FROM facts\n",
    "WHERE name != 'Antarctica'\n",
    "  AND population NOT NULL \n",
    "    AND area_land NOT NULL\n",
    "      AND area_land != 0\n",
    "        AND population > (\n",
    "            SELECT AVG(population)\n",
    "              FROM facts\n",
    "            WHERE name != 'Antarctica'\n",
    "              AND population NOT NULL \n",
    "                AND area_land NOT NULL\n",
    "                  AND area_land != 0)\n",
    "        AND area_land < (\n",
    "            SELECT AVG(area_land)\n",
    "              FROM facts\n",
    "            WHERE name != 'Antarctica'\n",
    "              AND population NOT NULL \n",
    "                AND area_land NOT NULL\n",
    "                  AND area_land != 0)\n",
    "ORDER BY population_density DESC;"
   ]
  },
  {
   "cell_type": "markdown",
   "metadata": {},
   "source": [
    "Our initial subset is now significantly reduced. We can conclude that among the countries with both the <u>population above average</u> and the <u>area below average</u>, the <u>highest population density</u> is related to <strong>Bangladesh</strong>, followed with a big gap by <strong>South Korea</strong>.\n",
    "\n",
    "Next, we're going to do the same steps for the countries with the population density below average, starting from the BOTTOM20."
   ]
  },
  {
   "cell_type": "code",
   "execution_count": 52,
   "metadata": {},
   "outputs": [
    {
     "name": "stdout",
     "output_type": "stream",
     "text": [
      " * sqlite:///factbook.db\n",
      "Done.\n"
     ]
    },
    {
     "data": {
      "text/html": [
       "<table>\n",
       "    <thead>\n",
       "        <tr>\n",
       "            <th>name</th>\n",
       "            <th>population</th>\n",
       "            <th>area_land</th>\n",
       "            <th>population_density</th>\n",
       "        </tr>\n",
       "    </thead>\n",
       "    <tbody>\n",
       "        <tr>\n",
       "            <td>Greenland</td>\n",
       "            <td>57733</td>\n",
       "            <td>2166086</td>\n",
       "            <td>0.03</td>\n",
       "        </tr>\n",
       "        <tr>\n",
       "            <td>Svalbard</td>\n",
       "            <td>1872</td>\n",
       "            <td>62045</td>\n",
       "            <td>0.03</td>\n",
       "        </tr>\n",
       "        <tr>\n",
       "            <td>Falkland Islands (Islas Malvinas)</td>\n",
       "            <td>3361</td>\n",
       "            <td>12173</td>\n",
       "            <td>0.28</td>\n",
       "        </tr>\n",
       "        <tr>\n",
       "            <td>Pitcairn Islands</td>\n",
       "            <td>48</td>\n",
       "            <td>47</td>\n",
       "            <td>1.02</td>\n",
       "        </tr>\n",
       "        <tr>\n",
       "            <td>Mongolia</td>\n",
       "            <td>2992908</td>\n",
       "            <td>1553556</td>\n",
       "            <td>1.93</td>\n",
       "        </tr>\n",
       "        <tr>\n",
       "            <td>Western Sahara</td>\n",
       "            <td>570866</td>\n",
       "            <td>266000</td>\n",
       "            <td>2.15</td>\n",
       "        </tr>\n",
       "        <tr>\n",
       "            <td>Namibia</td>\n",
       "            <td>2212307</td>\n",
       "            <td>823290</td>\n",
       "            <td>2.69</td>\n",
       "        </tr>\n",
       "        <tr>\n",
       "            <td>Australia</td>\n",
       "            <td>22751014</td>\n",
       "            <td>7682300</td>\n",
       "            <td>2.96</td>\n",
       "        </tr>\n",
       "        <tr>\n",
       "            <td>Iceland</td>\n",
       "            <td>331918</td>\n",
       "            <td>100250</td>\n",
       "            <td>3.31</td>\n",
       "        </tr>\n",
       "        <tr>\n",
       "            <td>Mauritania</td>\n",
       "            <td>3596702</td>\n",
       "            <td>1030700</td>\n",
       "            <td>3.49</td>\n",
       "        </tr>\n",
       "        <tr>\n",
       "            <td>Libya</td>\n",
       "            <td>6411776</td>\n",
       "            <td>1759540</td>\n",
       "            <td>3.64</td>\n",
       "        </tr>\n",
       "        <tr>\n",
       "            <td>Suriname</td>\n",
       "            <td>579633</td>\n",
       "            <td>156000</td>\n",
       "            <td>3.72</td>\n",
       "        </tr>\n",
       "        <tr>\n",
       "            <td>Guyana</td>\n",
       "            <td>735222</td>\n",
       "            <td>196849</td>\n",
       "            <td>3.73</td>\n",
       "        </tr>\n",
       "        <tr>\n",
       "            <td>Botswana</td>\n",
       "            <td>2182719</td>\n",
       "            <td>566730</td>\n",
       "            <td>3.85</td>\n",
       "        </tr>\n",
       "        <tr>\n",
       "            <td>Canada</td>\n",
       "            <td>35099836</td>\n",
       "            <td>9093507</td>\n",
       "            <td>3.86</td>\n",
       "        </tr>\n",
       "        <tr>\n",
       "            <td>Niue</td>\n",
       "            <td>1190</td>\n",
       "            <td>260</td>\n",
       "            <td>4.58</td>\n",
       "        </tr>\n",
       "        <tr>\n",
       "            <td>Gabon</td>\n",
       "            <td>1705336</td>\n",
       "            <td>257667</td>\n",
       "            <td>6.62</td>\n",
       "        </tr>\n",
       "        <tr>\n",
       "            <td>Kazakhstan</td>\n",
       "            <td>18157122</td>\n",
       "            <td>2699700</td>\n",
       "            <td>6.73</td>\n",
       "        </tr>\n",
       "        <tr>\n",
       "            <td>Central African Republic</td>\n",
       "            <td>5391539</td>\n",
       "            <td>622984</td>\n",
       "            <td>8.65</td>\n",
       "        </tr>\n",
       "        <tr>\n",
       "            <td>Russia</td>\n",
       "            <td>142423773</td>\n",
       "            <td>16377742</td>\n",
       "            <td>8.7</td>\n",
       "        </tr>\n",
       "    </tbody>\n",
       "</table>"
      ],
      "text/plain": [
       "[('Greenland', 57733, 2166086, 0.03),\n",
       " ('Svalbard', 1872, 62045, 0.03),\n",
       " ('Falkland Islands (Islas Malvinas)', 3361, 12173, 0.28),\n",
       " ('Pitcairn Islands', 48, 47, 1.02),\n",
       " ('Mongolia', 2992908, 1553556, 1.93),\n",
       " ('Western Sahara', 570866, 266000, 2.15),\n",
       " ('Namibia', 2212307, 823290, 2.69),\n",
       " ('Australia', 22751014, 7682300, 2.96),\n",
       " ('Iceland', 331918, 100250, 3.31),\n",
       " ('Mauritania', 3596702, 1030700, 3.49),\n",
       " ('Libya', 6411776, 1759540, 3.64),\n",
       " ('Suriname', 579633, 156000, 3.72),\n",
       " ('Guyana', 735222, 196849, 3.73),\n",
       " ('Botswana', 2182719, 566730, 3.85),\n",
       " ('Canada', 35099836, 9093507, 3.86),\n",
       " ('Niue', 1190, 260, 4.58),\n",
       " ('Gabon', 1705336, 257667, 6.62),\n",
       " ('Kazakhstan', 18157122, 2699700, 6.73),\n",
       " ('Central African Republic', 5391539, 622984, 8.65),\n",
       " ('Russia', 142423773, 16377742, 8.7)]"
      ]
     },
     "execution_count": 52,
     "metadata": {},
     "output_type": "execute_result"
    }
   ],
   "source": [
    "%%sql\n",
    "SELECT name, population, area_land, \n",
    "       ROUND(CAST(population AS Float)/CAST(area_land AS Float), 2) \n",
    "                                          AS population_density\n",
    "    FROM facts\n",
    "WHERE name != 'Antarctica'\n",
    "  AND population NOT NULL \n",
    "    AND area_land NOT NULL\n",
    "      AND area_land != 0\n",
    "        AND population_density < (\n",
    "            SELECT CAST(AVG(population) AS Float)/CAST(AVG(area_land) AS Float) \n",
    "              FROM facts\n",
    "            WHERE name != 'Antarctica'\n",
    "              AND population NOT NULL \n",
    "                AND area_land NOT NULL\n",
    "                  AND area_land != 0)\n",
    "ORDER BY population_density\n",
    "LIMIT 20;"
   ]
  },
  {
   "cell_type": "markdown",
   "metadata": {},
   "source": [
    "The absolute leaders for their <u>low population density</u> are <strong>Greenland</strong> and <strong>Svalbard</strong>.\n",
    "\n",
    "Let's put further restrictions also to this subset and select only those countries, for which both of the following statements are true:\n",
    "- the population is below average,\n",
    "- the area is above average."
   ]
  },
  {
   "cell_type": "code",
   "execution_count": 53,
   "metadata": {},
   "outputs": [
    {
     "name": "stdout",
     "output_type": "stream",
     "text": [
      " * sqlite:///factbook.db\n",
      "Done.\n"
     ]
    },
    {
     "data": {
      "text/html": [
       "<table>\n",
       "    <thead>\n",
       "        <tr>\n",
       "            <th>name</th>\n",
       "            <th>population</th>\n",
       "            <th>area_land</th>\n",
       "            <th>population_density</th>\n",
       "        </tr>\n",
       "    </thead>\n",
       "    <tbody>\n",
       "        <tr>\n",
       "            <td>Greenland</td>\n",
       "            <td>57733</td>\n",
       "            <td>2166086</td>\n",
       "            <td>0.03</td>\n",
       "        </tr>\n",
       "        <tr>\n",
       "            <td>Mongolia</td>\n",
       "            <td>2992908</td>\n",
       "            <td>1553556</td>\n",
       "            <td>1.93</td>\n",
       "        </tr>\n",
       "        <tr>\n",
       "            <td>Namibia</td>\n",
       "            <td>2212307</td>\n",
       "            <td>823290</td>\n",
       "            <td>2.69</td>\n",
       "        </tr>\n",
       "        <tr>\n",
       "            <td>Australia</td>\n",
       "            <td>22751014</td>\n",
       "            <td>7682300</td>\n",
       "            <td>2.96</td>\n",
       "        </tr>\n",
       "        <tr>\n",
       "            <td>Mauritania</td>\n",
       "            <td>3596702</td>\n",
       "            <td>1030700</td>\n",
       "            <td>3.49</td>\n",
       "        </tr>\n",
       "        <tr>\n",
       "            <td>Libya</td>\n",
       "            <td>6411776</td>\n",
       "            <td>1759540</td>\n",
       "            <td>3.64</td>\n",
       "        </tr>\n",
       "        <tr>\n",
       "            <td>Botswana</td>\n",
       "            <td>2182719</td>\n",
       "            <td>566730</td>\n",
       "            <td>3.85</td>\n",
       "        </tr>\n",
       "        <tr>\n",
       "            <td>Kazakhstan</td>\n",
       "            <td>18157122</td>\n",
       "            <td>2699700</td>\n",
       "            <td>6.73</td>\n",
       "        </tr>\n",
       "        <tr>\n",
       "            <td>Central African Republic</td>\n",
       "            <td>5391539</td>\n",
       "            <td>622984</td>\n",
       "            <td>8.65</td>\n",
       "        </tr>\n",
       "        <tr>\n",
       "            <td>Chad</td>\n",
       "            <td>11631456</td>\n",
       "            <td>1259200</td>\n",
       "            <td>9.24</td>\n",
       "        </tr>\n",
       "        <tr>\n",
       "            <td>Bolivia</td>\n",
       "            <td>10800882</td>\n",
       "            <td>1083301</td>\n",
       "            <td>9.97</td>\n",
       "        </tr>\n",
       "        <tr>\n",
       "            <td>Saudi Arabia</td>\n",
       "            <td>27752316</td>\n",
       "            <td>2149690</td>\n",
       "            <td>12.91</td>\n",
       "        </tr>\n",
       "        <tr>\n",
       "            <td>Mali</td>\n",
       "            <td>16955536</td>\n",
       "            <td>1220190</td>\n",
       "            <td>13.9</td>\n",
       "        </tr>\n",
       "        <tr>\n",
       "            <td>Niger</td>\n",
       "            <td>18045729</td>\n",
       "            <td>1266700</td>\n",
       "            <td>14.25</td>\n",
       "        </tr>\n",
       "        <tr>\n",
       "            <td>Angola</td>\n",
       "            <td>19625353</td>\n",
       "            <td>1246700</td>\n",
       "            <td>15.74</td>\n",
       "        </tr>\n",
       "        <tr>\n",
       "            <td>Somalia</td>\n",
       "            <td>10616380</td>\n",
       "            <td>627337</td>\n",
       "            <td>16.92</td>\n",
       "        </tr>\n",
       "        <tr>\n",
       "            <td>Zambia</td>\n",
       "            <td>15066266</td>\n",
       "            <td>743398</td>\n",
       "            <td>20.27</td>\n",
       "        </tr>\n",
       "        <tr>\n",
       "            <td>Chile</td>\n",
       "            <td>17508260</td>\n",
       "            <td>743812</td>\n",
       "            <td>23.54</td>\n",
       "        </tr>\n",
       "        <tr>\n",
       "            <td>Peru</td>\n",
       "            <td>30444999</td>\n",
       "            <td>1279996</td>\n",
       "            <td>23.79</td>\n",
       "        </tr>\n",
       "        <tr>\n",
       "            <td>Mozambique</td>\n",
       "            <td>25303113</td>\n",
       "            <td>786380</td>\n",
       "            <td>32.18</td>\n",
       "        </tr>\n",
       "        <tr>\n",
       "            <td>Venezuela</td>\n",
       "            <td>29275460</td>\n",
       "            <td>882050</td>\n",
       "            <td>33.19</td>\n",
       "        </tr>\n",
       "        <tr>\n",
       "            <td>Madagascar</td>\n",
       "            <td>23812681</td>\n",
       "            <td>581540</td>\n",
       "            <td>40.95</td>\n",
       "        </tr>\n",
       "    </tbody>\n",
       "</table>"
      ],
      "text/plain": [
       "[('Greenland', 57733, 2166086, 0.03),\n",
       " ('Mongolia', 2992908, 1553556, 1.93),\n",
       " ('Namibia', 2212307, 823290, 2.69),\n",
       " ('Australia', 22751014, 7682300, 2.96),\n",
       " ('Mauritania', 3596702, 1030700, 3.49),\n",
       " ('Libya', 6411776, 1759540, 3.64),\n",
       " ('Botswana', 2182719, 566730, 3.85),\n",
       " ('Kazakhstan', 18157122, 2699700, 6.73),\n",
       " ('Central African Republic', 5391539, 622984, 8.65),\n",
       " ('Chad', 11631456, 1259200, 9.24),\n",
       " ('Bolivia', 10800882, 1083301, 9.97),\n",
       " ('Saudi Arabia', 27752316, 2149690, 12.91),\n",
       " ('Mali', 16955536, 1220190, 13.9),\n",
       " ('Niger', 18045729, 1266700, 14.25),\n",
       " ('Angola', 19625353, 1246700, 15.74),\n",
       " ('Somalia', 10616380, 627337, 16.92),\n",
       " ('Zambia', 15066266, 743398, 20.27),\n",
       " ('Chile', 17508260, 743812, 23.54),\n",
       " ('Peru', 30444999, 1279996, 23.79),\n",
       " ('Mozambique', 25303113, 786380, 32.18),\n",
       " ('Venezuela', 29275460, 882050, 33.19),\n",
       " ('Madagascar', 23812681, 581540, 40.95)]"
      ]
     },
     "execution_count": 53,
     "metadata": {},
     "output_type": "execute_result"
    }
   ],
   "source": [
    "%%sql\n",
    "SELECT name, population, area_land, \n",
    "       ROUND(CAST(population AS Float)/CAST(area_land AS Float), 2) \n",
    "                                          AS population_density\n",
    "    FROM facts\n",
    "WHERE name != 'Antarctica'\n",
    "  AND population NOT NULL \n",
    "    AND area_land NOT NULL\n",
    "      AND area_land != 0\n",
    "        AND population < (\n",
    "            SELECT AVG(population)\n",
    "              FROM facts\n",
    "            WHERE name != 'Antarctica'\n",
    "              AND population NOT NULL \n",
    "                AND area_land NOT NULL\n",
    "                  AND area_land != 0)\n",
    "        AND area_land > (\n",
    "            SELECT AVG(area_land)\n",
    "              FROM facts\n",
    "            WHERE name != 'Antarctica'\n",
    "              AND population NOT NULL \n",
    "                AND area_land NOT NULL\n",
    "                  AND area_land != 0)\n",
    "ORDER BY population_density;"
   ]
  },
  {
   "cell_type": "markdown",
   "metadata": {},
   "source": [
    "Hence, our second subset is also significantly reduced: now we see <u>big countries</u> with relatively <u>low values of population</u>, with <strong>Greenland</strong> again opening the list and followed by <strong>Mongolia</strong>, <strong>Namibia</strong>, and <strong>Australia</strong>.\n",
    "## Exploring Population Growth Statistics\n",
    "Population growth is calculated by dividing the number of people added to a population in a year (natural increase + net in-migration) by the population size at the start of the year. \n",
    "\n",
    "Let's start analyzing the population growth with respect to the other rates by looking at the cases where it is null or 0."
   ]
  },
  {
   "cell_type": "code",
   "execution_count": 54,
   "metadata": {},
   "outputs": [
    {
     "name": "stdout",
     "output_type": "stream",
     "text": [
      " * sqlite:///factbook.db\n",
      "Done.\n"
     ]
    },
    {
     "data": {
      "text/html": [
       "<table>\n",
       "    <thead>\n",
       "        <tr>\n",
       "            <th>name</th>\n",
       "            <th>population_growth</th>\n",
       "            <th>birth_rate</th>\n",
       "            <th>death_rate</th>\n",
       "            <th>migration_rate</th>\n",
       "        </tr>\n",
       "    </thead>\n",
       "    <tbody>\n",
       "        <tr>\n",
       "            <td>Kosovo</td>\n",
       "            <td>None</td>\n",
       "            <td>None</td>\n",
       "            <td>None</td>\n",
       "            <td>None</td>\n",
       "        </tr>\n",
       "        <tr>\n",
       "            <td>Holy See (Vatican City)</td>\n",
       "            <td>0.0</td>\n",
       "            <td>None</td>\n",
       "            <td>None</td>\n",
       "            <td>None</td>\n",
       "        </tr>\n",
       "        <tr>\n",
       "            <td>Ashmore and Cartier Islands</td>\n",
       "            <td>None</td>\n",
       "            <td>None</td>\n",
       "            <td>None</td>\n",
       "            <td>None</td>\n",
       "        </tr>\n",
       "        <tr>\n",
       "            <td>Cocos (Keeling) Islands</td>\n",
       "            <td>0.0</td>\n",
       "            <td>None</td>\n",
       "            <td>None</td>\n",
       "            <td>None</td>\n",
       "        </tr>\n",
       "        <tr>\n",
       "            <td>Coral Sea Islands</td>\n",
       "            <td>None</td>\n",
       "            <td>None</td>\n",
       "            <td>None</td>\n",
       "            <td>None</td>\n",
       "        </tr>\n",
       "        <tr>\n",
       "            <td>Heard Island and McDonald Islands</td>\n",
       "            <td>None</td>\n",
       "            <td>None</td>\n",
       "            <td>None</td>\n",
       "            <td>None</td>\n",
       "        </tr>\n",
       "        <tr>\n",
       "            <td>Greenland</td>\n",
       "            <td>0.0</td>\n",
       "            <td>14.48</td>\n",
       "            <td>8.49</td>\n",
       "            <td>5.98</td>\n",
       "        </tr>\n",
       "        <tr>\n",
       "            <td>Clipperton Island</td>\n",
       "            <td>None</td>\n",
       "            <td>None</td>\n",
       "            <td>None</td>\n",
       "            <td>None</td>\n",
       "        </tr>\n",
       "        <tr>\n",
       "            <td>French Southern and Antarctic Lands</td>\n",
       "            <td>None</td>\n",
       "            <td>None</td>\n",
       "            <td>None</td>\n",
       "            <td>None</td>\n",
       "        </tr>\n",
       "        <tr>\n",
       "            <td>Saint Barthelemy</td>\n",
       "            <td>None</td>\n",
       "            <td>None</td>\n",
       "            <td>None</td>\n",
       "            <td>None</td>\n",
       "        </tr>\n",
       "        <tr>\n",
       "            <td>Saint Martin</td>\n",
       "            <td>None</td>\n",
       "            <td>None</td>\n",
       "            <td>None</td>\n",
       "            <td>None</td>\n",
       "        </tr>\n",
       "        <tr>\n",
       "            <td>Bouvet Island</td>\n",
       "            <td>None</td>\n",
       "            <td>None</td>\n",
       "            <td>None</td>\n",
       "            <td>None</td>\n",
       "        </tr>\n",
       "        <tr>\n",
       "            <td>Jan Mayen</td>\n",
       "            <td>None</td>\n",
       "            <td>None</td>\n",
       "            <td>None</td>\n",
       "            <td>None</td>\n",
       "        </tr>\n",
       "        <tr>\n",
       "            <td>Akrotiri</td>\n",
       "            <td>None</td>\n",
       "            <td>None</td>\n",
       "            <td>None</td>\n",
       "            <td>None</td>\n",
       "        </tr>\n",
       "        <tr>\n",
       "            <td>British Indian Ocean Territory</td>\n",
       "            <td>None</td>\n",
       "            <td>None</td>\n",
       "            <td>None</td>\n",
       "            <td>None</td>\n",
       "        </tr>\n",
       "        <tr>\n",
       "            <td>Dhekelia</td>\n",
       "            <td>None</td>\n",
       "            <td>None</td>\n",
       "            <td>None</td>\n",
       "            <td>None</td>\n",
       "        </tr>\n",
       "        <tr>\n",
       "            <td>Pitcairn Islands</td>\n",
       "            <td>0.0</td>\n",
       "            <td>None</td>\n",
       "            <td>None</td>\n",
       "            <td>None</td>\n",
       "        </tr>\n",
       "        <tr>\n",
       "            <td>South Georgia and South Sandwich Islands</td>\n",
       "            <td>None</td>\n",
       "            <td>None</td>\n",
       "            <td>None</td>\n",
       "            <td>None</td>\n",
       "        </tr>\n",
       "        <tr>\n",
       "            <td>Navassa Island</td>\n",
       "            <td>None</td>\n",
       "            <td>None</td>\n",
       "            <td>None</td>\n",
       "            <td>None</td>\n",
       "        </tr>\n",
       "        <tr>\n",
       "            <td>Wake Island</td>\n",
       "            <td>None</td>\n",
       "            <td>None</td>\n",
       "            <td>None</td>\n",
       "            <td>None</td>\n",
       "        </tr>\n",
       "        <tr>\n",
       "            <td>United States Pacific Island Wildlife Refuges</td>\n",
       "            <td>None</td>\n",
       "            <td>None</td>\n",
       "            <td>None</td>\n",
       "            <td>None</td>\n",
       "        </tr>\n",
       "        <tr>\n",
       "            <td>Antarctica</td>\n",
       "            <td>None</td>\n",
       "            <td>None</td>\n",
       "            <td>None</td>\n",
       "            <td>None</td>\n",
       "        </tr>\n",
       "        <tr>\n",
       "            <td>Paracel Islands</td>\n",
       "            <td>None</td>\n",
       "            <td>None</td>\n",
       "            <td>None</td>\n",
       "            <td>None</td>\n",
       "        </tr>\n",
       "        <tr>\n",
       "            <td>Spratly Islands</td>\n",
       "            <td>None</td>\n",
       "            <td>None</td>\n",
       "            <td>None</td>\n",
       "            <td>None</td>\n",
       "        </tr>\n",
       "        <tr>\n",
       "            <td>Arctic Ocean</td>\n",
       "            <td>None</td>\n",
       "            <td>None</td>\n",
       "            <td>None</td>\n",
       "            <td>None</td>\n",
       "        </tr>\n",
       "        <tr>\n",
       "            <td>Atlantic Ocean</td>\n",
       "            <td>None</td>\n",
       "            <td>None</td>\n",
       "            <td>None</td>\n",
       "            <td>None</td>\n",
       "        </tr>\n",
       "        <tr>\n",
       "            <td>Indian Ocean</td>\n",
       "            <td>None</td>\n",
       "            <td>None</td>\n",
       "            <td>None</td>\n",
       "            <td>None</td>\n",
       "        </tr>\n",
       "        <tr>\n",
       "            <td>Pacific Ocean</td>\n",
       "            <td>None</td>\n",
       "            <td>None</td>\n",
       "            <td>None</td>\n",
       "            <td>None</td>\n",
       "        </tr>\n",
       "        <tr>\n",
       "            <td>Southern Ocean</td>\n",
       "            <td>None</td>\n",
       "            <td>None</td>\n",
       "            <td>None</td>\n",
       "            <td>None</td>\n",
       "        </tr>\n",
       "    </tbody>\n",
       "</table>"
      ],
      "text/plain": [
       "[('Kosovo', None, None, None, None),\n",
       " ('Holy See (Vatican City)', 0.0, None, None, None),\n",
       " ('Ashmore and Cartier Islands', None, None, None, None),\n",
       " ('Cocos (Keeling) Islands', 0.0, None, None, None),\n",
       " ('Coral Sea Islands', None, None, None, None),\n",
       " ('Heard Island and McDonald Islands', None, None, None, None),\n",
       " ('Greenland', 0.0, 14.48, 8.49, 5.98),\n",
       " ('Clipperton Island', None, None, None, None),\n",
       " ('French Southern and Antarctic Lands', None, None, None, None),\n",
       " ('Saint Barthelemy', None, None, None, None),\n",
       " ('Saint Martin', None, None, None, None),\n",
       " ('Bouvet Island', None, None, None, None),\n",
       " ('Jan Mayen', None, None, None, None),\n",
       " ('Akrotiri', None, None, None, None),\n",
       " ('British Indian Ocean Territory', None, None, None, None),\n",
       " ('Dhekelia', None, None, None, None),\n",
       " ('Pitcairn Islands', 0.0, None, None, None),\n",
       " ('South Georgia and South Sandwich Islands', None, None, None, None),\n",
       " ('Navassa Island', None, None, None, None),\n",
       " ('Wake Island', None, None, None, None),\n",
       " ('United States Pacific Island Wildlife Refuges', None, None, None, None),\n",
       " ('Antarctica', None, None, None, None),\n",
       " ('Paracel Islands', None, None, None, None),\n",
       " ('Spratly Islands', None, None, None, None),\n",
       " ('Arctic Ocean', None, None, None, None),\n",
       " ('Atlantic Ocean', None, None, None, None),\n",
       " ('Indian Ocean', None, None, None, None),\n",
       " ('Pacific Ocean', None, None, None, None),\n",
       " ('Southern Ocean', None, None, None, None)]"
      ]
     },
     "execution_count": 54,
     "metadata": {},
     "output_type": "execute_result"
    }
   ],
   "source": [
    "%%sql\n",
    "SELECT name, population_growth, birth_rate, death_rate, migration_rate\n",
    "  FROM facts\n",
    "WHERE population_growth IS NULL \n",
    "   OR population_growth = 0;"
   ]
  },
  {
   "cell_type": "markdown",
   "metadata": {},
   "source": [
    "Here we see again the same uninhabited islands and oceans that we have seen for the rows with null `population`, the microstate Vatican, Kosovo with no data available for none of the rates. An interesting case is Greenland, where the 0 value of the population growth is actually due to compensation of the difference between the birth and death rates by the migration rate (in this case, emigration).\n",
    "\n",
    "Let's see if there are any cases where `birth_rate` or `death_rate` is 0 or null, but `population_growth` has not-null values."
   ]
  },
  {
   "cell_type": "code",
   "execution_count": 55,
   "metadata": {},
   "outputs": [
    {
     "name": "stdout",
     "output_type": "stream",
     "text": [
      " * sqlite:///factbook.db\n",
      "Done.\n"
     ]
    },
    {
     "data": {
      "text/html": [
       "<table>\n",
       "    <thead>\n",
       "        <tr>\n",
       "            <th>zero_birth_death_rates</th>\n",
       "        </tr>\n",
       "    </thead>\n",
       "    <tbody>\n",
       "        <tr>\n",
       "            <td>0</td>\n",
       "        </tr>\n",
       "    </tbody>\n",
       "</table>"
      ],
      "text/plain": [
       "[(0,)]"
      ]
     },
     "execution_count": 55,
     "metadata": {},
     "output_type": "execute_result"
    }
   ],
   "source": [
    "%%sql\n",
    "SELECT COUNT(name) AS zero_birth_death_rates\n",
    "  FROM facts\n",
    "WHERE birth_rate = 0\n",
    "   OR death_rate = 0;"
   ]
  },
  {
   "cell_type": "markdown",
   "metadata": {},
   "source": [
    "There are no `birth_rate` or `death_rate` with the value of 0 in the whole database."
   ]
  },
  {
   "cell_type": "code",
   "execution_count": 56,
   "metadata": {},
   "outputs": [
    {
     "name": "stdout",
     "output_type": "stream",
     "text": [
      " * sqlite:///factbook.db\n",
      "Done.\n"
     ]
    },
    {
     "data": {
      "text/html": [
       "<table>\n",
       "    <thead>\n",
       "        <tr>\n",
       "            <th>name</th>\n",
       "            <th>population</th>\n",
       "            <th>population_growth</th>\n",
       "            <th>birth_rate</th>\n",
       "            <th>death_rate</th>\n",
       "            <th>migration_rate</th>\n",
       "        </tr>\n",
       "    </thead>\n",
       "    <tbody>\n",
       "        <tr>\n",
       "            <td>Christmas Island</td>\n",
       "            <td>1530</td>\n",
       "            <td>1.11</td>\n",
       "            <td>None</td>\n",
       "            <td>None</td>\n",
       "            <td>None</td>\n",
       "        </tr>\n",
       "        <tr>\n",
       "            <td>Norfolk Island</td>\n",
       "            <td>2210</td>\n",
       "            <td>0.01</td>\n",
       "            <td>None</td>\n",
       "            <td>None</td>\n",
       "            <td>None</td>\n",
       "        </tr>\n",
       "        <tr>\n",
       "            <td>Niue</td>\n",
       "            <td>1190</td>\n",
       "            <td>0.03</td>\n",
       "            <td>None</td>\n",
       "            <td>None</td>\n",
       "            <td>None</td>\n",
       "        </tr>\n",
       "        <tr>\n",
       "            <td>Tokelau</td>\n",
       "            <td>1337</td>\n",
       "            <td>0.01</td>\n",
       "            <td>None</td>\n",
       "            <td>None</td>\n",
       "            <td>None</td>\n",
       "        </tr>\n",
       "        <tr>\n",
       "            <td>Svalbard</td>\n",
       "            <td>1872</td>\n",
       "            <td>0.03</td>\n",
       "            <td>None</td>\n",
       "            <td>None</td>\n",
       "            <td>None</td>\n",
       "        </tr>\n",
       "    </tbody>\n",
       "</table>"
      ],
      "text/plain": [
       "[('Christmas Island', 1530, 1.11, None, None, None),\n",
       " ('Norfolk Island', 2210, 0.01, None, None, None),\n",
       " ('Niue', 1190, 0.03, None, None, None),\n",
       " ('Tokelau', 1337, 0.01, None, None, None),\n",
       " ('Svalbard', 1872, 0.03, None, None, None)]"
      ]
     },
     "execution_count": 56,
     "metadata": {},
     "output_type": "execute_result"
    }
   ],
   "source": [
    "%%sql\n",
    "SELECT name, population, population_growth, birth_rate, death_rate, migration_rate\n",
    "  FROM facts\n",
    "WHERE population_growth != 0\n",
    "  AND (birth_rate IS NULL OR death_rate IS NULL);"
   ]
  },
  {
   "cell_type": "markdown",
   "metadata": {},
   "source": [
    "For the rows above, we have no data for `birth_rate`, `death_rate`, and `migration_rate`; however, we have not-null data for `population_growth`. Anyway, the values are very low, as well as the `population` values themselves, with the maximum of 2,210 persons in Norfolk Island. Indeed, we have already seen some of these territories among the BOTTOM5 countries by population.\n",
    "\n",
    "Next, we'll find the TOP20 and BOTTOM20 countries by population growth."
   ]
  },
  {
   "cell_type": "code",
   "execution_count": 57,
   "metadata": {},
   "outputs": [
    {
     "name": "stdout",
     "output_type": "stream",
     "text": [
      " * sqlite:///factbook.db\n",
      "Done.\n"
     ]
    },
    {
     "data": {
      "text/html": [
       "<table>\n",
       "    <thead>\n",
       "        <tr>\n",
       "            <th>name</th>\n",
       "            <th>top20_population_growth</th>\n",
       "        </tr>\n",
       "    </thead>\n",
       "    <tbody>\n",
       "        <tr>\n",
       "            <td>South Sudan</td>\n",
       "            <td>4.02</td>\n",
       "        </tr>\n",
       "        <tr>\n",
       "            <td>Malawi</td>\n",
       "            <td>3.32</td>\n",
       "        </tr>\n",
       "        <tr>\n",
       "            <td>Burundi</td>\n",
       "            <td>3.28</td>\n",
       "        </tr>\n",
       "        <tr>\n",
       "            <td>Niger</td>\n",
       "            <td>3.25</td>\n",
       "        </tr>\n",
       "        <tr>\n",
       "            <td>Uganda</td>\n",
       "            <td>3.24</td>\n",
       "        </tr>\n",
       "        <tr>\n",
       "            <td>Qatar</td>\n",
       "            <td>3.07</td>\n",
       "        </tr>\n",
       "        <tr>\n",
       "            <td>Burkina Faso</td>\n",
       "            <td>3.03</td>\n",
       "        </tr>\n",
       "        <tr>\n",
       "            <td>Mali</td>\n",
       "            <td>2.98</td>\n",
       "        </tr>\n",
       "        <tr>\n",
       "            <td>Cook Islands</td>\n",
       "            <td>2.95</td>\n",
       "        </tr>\n",
       "        <tr>\n",
       "            <td>Iraq</td>\n",
       "            <td>2.93</td>\n",
       "        </tr>\n",
       "        <tr>\n",
       "            <td>Ethiopia</td>\n",
       "            <td>2.89</td>\n",
       "        </tr>\n",
       "        <tr>\n",
       "            <td>Zambia</td>\n",
       "            <td>2.88</td>\n",
       "        </tr>\n",
       "        <tr>\n",
       "            <td>Western Sahara</td>\n",
       "            <td>2.82</td>\n",
       "        </tr>\n",
       "        <tr>\n",
       "            <td>Gaza Strip</td>\n",
       "            <td>2.81</td>\n",
       "        </tr>\n",
       "        <tr>\n",
       "            <td>Tanzania</td>\n",
       "            <td>2.79</td>\n",
       "        </tr>\n",
       "        <tr>\n",
       "            <td>Angola</td>\n",
       "            <td>2.78</td>\n",
       "        </tr>\n",
       "        <tr>\n",
       "            <td>Benin</td>\n",
       "            <td>2.78</td>\n",
       "        </tr>\n",
       "        <tr>\n",
       "            <td>Togo</td>\n",
       "            <td>2.69</td>\n",
       "        </tr>\n",
       "        <tr>\n",
       "            <td>Guinea</td>\n",
       "            <td>2.63</td>\n",
       "        </tr>\n",
       "        <tr>\n",
       "            <td>Cameroon</td>\n",
       "            <td>2.59</td>\n",
       "        </tr>\n",
       "    </tbody>\n",
       "</table>"
      ],
      "text/plain": [
       "[('South Sudan', 4.02),\n",
       " ('Malawi', 3.32),\n",
       " ('Burundi', 3.28),\n",
       " ('Niger', 3.25),\n",
       " ('Uganda', 3.24),\n",
       " ('Qatar', 3.07),\n",
       " ('Burkina Faso', 3.03),\n",
       " ('Mali', 2.98),\n",
       " ('Cook Islands', 2.95),\n",
       " ('Iraq', 2.93),\n",
       " ('Ethiopia', 2.89),\n",
       " ('Zambia', 2.88),\n",
       " ('Western Sahara', 2.82),\n",
       " ('Gaza Strip', 2.81),\n",
       " ('Tanzania', 2.79),\n",
       " ('Angola', 2.78),\n",
       " ('Benin', 2.78),\n",
       " ('Togo', 2.69),\n",
       " ('Guinea', 2.63),\n",
       " ('Cameroon', 2.59)]"
      ]
     },
     "execution_count": 57,
     "metadata": {},
     "output_type": "execute_result"
    }
   ],
   "source": [
    "%%sql\n",
    "SELECT name, population_growth AS top20_population_growth\n",
    "  FROM facts\n",
    "ORDER BY population_growth DESC\n",
    "LIMIT 20;"
   ]
  },
  {
   "cell_type": "markdown",
   "metadata": {},
   "source": [
    "The <u>highest population growth</u>, up to 4%, is predominantly observed in <strong>African countries</strong>, and also in <strong>Qatar</strong> and <strong>Iraq</strong>.\n",
    "\n",
    "Now, we'll look at the BOTTOM20 countries."
   ]
  },
  {
   "cell_type": "code",
   "execution_count": 58,
   "metadata": {},
   "outputs": [
    {
     "name": "stdout",
     "output_type": "stream",
     "text": [
      " * sqlite:///factbook.db\n",
      "Done.\n"
     ]
    },
    {
     "data": {
      "text/html": [
       "<table>\n",
       "    <thead>\n",
       "        <tr>\n",
       "            <th>name</th>\n",
       "            <th>bottom20_population_growth</th>\n",
       "        </tr>\n",
       "    </thead>\n",
       "    <tbody>\n",
       "        <tr>\n",
       "            <td>Holy See (Vatican City)</td>\n",
       "            <td>0.0</td>\n",
       "        </tr>\n",
       "        <tr>\n",
       "            <td>Cocos (Keeling) Islands</td>\n",
       "            <td>0.0</td>\n",
       "        </tr>\n",
       "        <tr>\n",
       "            <td>Greenland</td>\n",
       "            <td>0.0</td>\n",
       "        </tr>\n",
       "        <tr>\n",
       "            <td>Pitcairn Islands</td>\n",
       "            <td>0.0</td>\n",
       "        </tr>\n",
       "        <tr>\n",
       "            <td>Greece</td>\n",
       "            <td>0.01</td>\n",
       "        </tr>\n",
       "        <tr>\n",
       "            <td>Norfolk Island</td>\n",
       "            <td>0.01</td>\n",
       "        </tr>\n",
       "        <tr>\n",
       "            <td>Tokelau</td>\n",
       "            <td>0.01</td>\n",
       "        </tr>\n",
       "        <tr>\n",
       "            <td>Falkland Islands (Islas Malvinas)</td>\n",
       "            <td>0.01</td>\n",
       "        </tr>\n",
       "        <tr>\n",
       "            <td>Guyana</td>\n",
       "            <td>0.02</td>\n",
       "        </tr>\n",
       "        <tr>\n",
       "            <td>Slovakia</td>\n",
       "            <td>0.02</td>\n",
       "        </tr>\n",
       "        <tr>\n",
       "            <td>Tonga</td>\n",
       "            <td>0.03</td>\n",
       "        </tr>\n",
       "        <tr>\n",
       "            <td>Niue</td>\n",
       "            <td>0.03</td>\n",
       "        </tr>\n",
       "        <tr>\n",
       "            <td>Svalbard</td>\n",
       "            <td>0.03</td>\n",
       "        </tr>\n",
       "        <tr>\n",
       "            <td>Russia</td>\n",
       "            <td>0.04</td>\n",
       "        </tr>\n",
       "        <tr>\n",
       "            <td>Georgia</td>\n",
       "            <td>0.08</td>\n",
       "        </tr>\n",
       "        <tr>\n",
       "            <td>Maldives</td>\n",
       "            <td>0.08</td>\n",
       "        </tr>\n",
       "        <tr>\n",
       "            <td>Poland</td>\n",
       "            <td>0.09</td>\n",
       "        </tr>\n",
       "        <tr>\n",
       "            <td>Portugal</td>\n",
       "            <td>0.09</td>\n",
       "        </tr>\n",
       "        <tr>\n",
       "            <td>Andorra</td>\n",
       "            <td>0.12</td>\n",
       "        </tr>\n",
       "        <tr>\n",
       "            <td>Monaco</td>\n",
       "            <td>0.12</td>\n",
       "        </tr>\n",
       "    </tbody>\n",
       "</table>"
      ],
      "text/plain": [
       "[('Holy See (Vatican City)', 0.0),\n",
       " ('Cocos (Keeling) Islands', 0.0),\n",
       " ('Greenland', 0.0),\n",
       " ('Pitcairn Islands', 0.0),\n",
       " ('Greece', 0.01),\n",
       " ('Norfolk Island', 0.01),\n",
       " ('Tokelau', 0.01),\n",
       " ('Falkland Islands (Islas Malvinas)', 0.01),\n",
       " ('Guyana', 0.02),\n",
       " ('Slovakia', 0.02),\n",
       " ('Tonga', 0.03),\n",
       " ('Niue', 0.03),\n",
       " ('Svalbard', 0.03),\n",
       " ('Russia', 0.04),\n",
       " ('Georgia', 0.08),\n",
       " ('Maldives', 0.08),\n",
       " ('Poland', 0.09),\n",
       " ('Portugal', 0.09),\n",
       " ('Andorra', 0.12),\n",
       " ('Monaco', 0.12)]"
      ]
     },
     "execution_count": 58,
     "metadata": {},
     "output_type": "execute_result"
    }
   ],
   "source": [
    "%%sql\n",
    "SELECT name, population_growth AS bottom20_population_growth\n",
    "  FROM facts\n",
    "WHERE population_growth NOT NULL\n",
    "ORDER BY population_growth\n",
    "LIMIT 20;"
   ]
  },
  {
   "cell_type": "markdown",
   "metadata": {},
   "source": [
    "The <u>lowest-to-zero population growth</u> is observed in <strong>small countries and islands</strong> (some of them we have already seen earlier in the project), the above-discussed <strong>Greenland</strong>, \n",
    "a few countries of <strong>Western Europe</strong> (Greece, Portugal, Andorra, Monaco), <strong>Eastern Europe </strong>(Slovakia, Poland), <strong>Russia</strong>, and <strong>Georgia</strong>. Curious that in 2015 no country showed negative population growth.\n",
    "## Exploring Birth and Death Rates Statistics\n",
    "Now, we'll find the TOP20 and BOTTOM20 countries by birth and death rates."
   ]
  },
  {
   "cell_type": "code",
   "execution_count": 59,
   "metadata": {},
   "outputs": [
    {
     "name": "stdout",
     "output_type": "stream",
     "text": [
      " * sqlite:///factbook.db\n",
      "Done.\n"
     ]
    },
    {
     "data": {
      "text/html": [
       "<table>\n",
       "    <thead>\n",
       "        <tr>\n",
       "            <th>name</th>\n",
       "            <th>top20_birth_rate</th>\n",
       "        </tr>\n",
       "    </thead>\n",
       "    <tbody>\n",
       "        <tr>\n",
       "            <td>Niger</td>\n",
       "            <td>45.45</td>\n",
       "        </tr>\n",
       "        <tr>\n",
       "            <td>Mali</td>\n",
       "            <td>44.99</td>\n",
       "        </tr>\n",
       "        <tr>\n",
       "            <td>Uganda</td>\n",
       "            <td>43.79</td>\n",
       "        </tr>\n",
       "        <tr>\n",
       "            <td>Zambia</td>\n",
       "            <td>42.13</td>\n",
       "        </tr>\n",
       "        <tr>\n",
       "            <td>Burkina Faso</td>\n",
       "            <td>42.03</td>\n",
       "        </tr>\n",
       "        <tr>\n",
       "            <td>Burundi</td>\n",
       "            <td>42.01</td>\n",
       "        </tr>\n",
       "        <tr>\n",
       "            <td>Malawi</td>\n",
       "            <td>41.56</td>\n",
       "        </tr>\n",
       "        <tr>\n",
       "            <td>Somalia</td>\n",
       "            <td>40.45</td>\n",
       "        </tr>\n",
       "        <tr>\n",
       "            <td>Angola</td>\n",
       "            <td>38.78</td>\n",
       "        </tr>\n",
       "        <tr>\n",
       "            <td>Mozambique</td>\n",
       "            <td>38.58</td>\n",
       "        </tr>\n",
       "        <tr>\n",
       "            <td>Afghanistan</td>\n",
       "            <td>38.57</td>\n",
       "        </tr>\n",
       "        <tr>\n",
       "            <td>Nigeria</td>\n",
       "            <td>37.64</td>\n",
       "        </tr>\n",
       "        <tr>\n",
       "            <td>Ethiopia</td>\n",
       "            <td>37.27</td>\n",
       "        </tr>\n",
       "        <tr>\n",
       "            <td>Sierra Leone</td>\n",
       "            <td>37.03</td>\n",
       "        </tr>\n",
       "        <tr>\n",
       "            <td>South Sudan</td>\n",
       "            <td>36.91</td>\n",
       "        </tr>\n",
       "        <tr>\n",
       "            <td>Chad</td>\n",
       "            <td>36.6</td>\n",
       "        </tr>\n",
       "        <tr>\n",
       "            <td>Tanzania</td>\n",
       "            <td>36.39</td>\n",
       "        </tr>\n",
       "        <tr>\n",
       "            <td>Cameroon</td>\n",
       "            <td>36.17</td>\n",
       "        </tr>\n",
       "        <tr>\n",
       "            <td>Benin</td>\n",
       "            <td>36.02</td>\n",
       "        </tr>\n",
       "        <tr>\n",
       "            <td>Congo, Republic of the</td>\n",
       "            <td>35.85</td>\n",
       "        </tr>\n",
       "    </tbody>\n",
       "</table>"
      ],
      "text/plain": [
       "[('Niger', 45.45),\n",
       " ('Mali', 44.99),\n",
       " ('Uganda', 43.79),\n",
       " ('Zambia', 42.13),\n",
       " ('Burkina Faso', 42.03),\n",
       " ('Burundi', 42.01),\n",
       " ('Malawi', 41.56),\n",
       " ('Somalia', 40.45),\n",
       " ('Angola', 38.78),\n",
       " ('Mozambique', 38.58),\n",
       " ('Afghanistan', 38.57),\n",
       " ('Nigeria', 37.64),\n",
       " ('Ethiopia', 37.27),\n",
       " ('Sierra Leone', 37.03),\n",
       " ('South Sudan', 36.91),\n",
       " ('Chad', 36.6),\n",
       " ('Tanzania', 36.39),\n",
       " ('Cameroon', 36.17),\n",
       " ('Benin', 36.02),\n",
       " ('Congo, Republic of the', 35.85)]"
      ]
     },
     "execution_count": 59,
     "metadata": {},
     "output_type": "execute_result"
    }
   ],
   "source": [
    "%%sql\n",
    "SELECT name, birth_rate AS top20_birth_rate\n",
    "  FROM facts\n",
    "ORDER BY birth_rate DESC\n",
    "LIMIT 20;"
   ]
  },
  {
   "cell_type": "markdown",
   "metadata": {},
   "source": [
    "The <u>highest birth rate</u>, up  to 46 births per 1,000 persons, is observed, again, mostly in <strong>African countries</strong> and also in <strong>Afganistan</strong>. This is visually represented on the [Wikipedia birth rate map](https://en.wikipedia.org/wiki/Birth_rate#:~:text=The%20average%20global%20birth%20rate,rate%20was%207.8%20per%201%2C000.&text=The%202016%20average%20of%2018.6,per%20minute%20for%20the%20world.):"
   ]
  },
  {
   "attachments": {
    "Birth_rate_world_map.png": {
     "image/png": "[encoded data removed]"
    }
   },
   "cell_type": "markdown",
   "metadata": {},
   "source": [
    "Birth Rate World Map\n",
    "![Birth Rate World Map](attachment:Birth_rate_world_map.png)\n",
    "![Birth Rate World Map](attachment:Birth_rate_world_map.png)"
   ]
  },
  {
   "attachments": {},
   "cell_type": "markdown",
   "metadata": {},
   "source": [
    "<div align=\"center\" style=\"margin-bottom: -10px;\"><font size=\"4\"><strong>Birth Rate World Maptttt</strong></font></div>"
   ]
  },
  {
   "cell_type": "markdown",
   "metadata": {},
   "source": [
    "<div align=\"center\"><font size=\"4\"><strong>Birth Rate World Map</strong></font>\n",
    "<img src=\"Birth_rate_world_map.PNG\" width=\"750\" /><p>  </p></div>"
   ]
  },
  {
   "cell_type": "markdown",
   "metadata": {},
   "source": [
    "<div align=\"center\"><font size=\"4\"><strong>Birth Rate World Map</strong></font>\n",
    "<img src=\"Serbia - Crude birth rate.png\" width=\"750\" /><p>  </p></div>"
   ]
  },
  {
   "cell_type": "markdown",
   "metadata": {},
   "source": [
    "![Han Solo](\"Birth_rate_world_map.jpg\")\n",
    "<div align=\"center\"><font size=\"4\"><strong>Han Solo</strong></font></div>"
   ]
  },
  {
   "cell_type": "code",
   "execution_count": 60,
   "metadata": {},
   "outputs": [
    {
     "name": "stdout",
     "output_type": "stream",
     "text": [
      " * sqlite:///factbook.db\n",
      "Done.\n"
     ]
    },
    {
     "data": {
      "text/html": [
       "<table>\n",
       "    <thead>\n",
       "        <tr>\n",
       "            <th>name</th>\n",
       "            <th>bottom20_birth_rate</th>\n",
       "        </tr>\n",
       "    </thead>\n",
       "    <tbody>\n",
       "        <tr>\n",
       "            <td>Monaco</td>\n",
       "            <td>6.65</td>\n",
       "        </tr>\n",
       "        <tr>\n",
       "            <td>Saint Pierre and Miquelon</td>\n",
       "            <td>7.42</td>\n",
       "        </tr>\n",
       "        <tr>\n",
       "            <td>Japan</td>\n",
       "            <td>7.93</td>\n",
       "        </tr>\n",
       "        <tr>\n",
       "            <td>Andorra</td>\n",
       "            <td>8.13</td>\n",
       "        </tr>\n",
       "        <tr>\n",
       "            <td>Korea, South</td>\n",
       "            <td>8.19</td>\n",
       "        </tr>\n",
       "        <tr>\n",
       "            <td>Singapore</td>\n",
       "            <td>8.27</td>\n",
       "        </tr>\n",
       "        <tr>\n",
       "            <td>Slovenia</td>\n",
       "            <td>8.42</td>\n",
       "        </tr>\n",
       "        <tr>\n",
       "            <td>Germany</td>\n",
       "            <td>8.47</td>\n",
       "        </tr>\n",
       "        <tr>\n",
       "            <td>Taiwan</td>\n",
       "            <td>8.47</td>\n",
       "        </tr>\n",
       "        <tr>\n",
       "            <td>San Marino</td>\n",
       "            <td>8.63</td>\n",
       "        </tr>\n",
       "        <tr>\n",
       "            <td>Greece</td>\n",
       "            <td>8.66</td>\n",
       "        </tr>\n",
       "        <tr>\n",
       "            <td>Italy</td>\n",
       "            <td>8.74</td>\n",
       "        </tr>\n",
       "        <tr>\n",
       "            <td>Bosnia and Herzegovina</td>\n",
       "            <td>8.87</td>\n",
       "        </tr>\n",
       "        <tr>\n",
       "            <td>Macau</td>\n",
       "            <td>8.88</td>\n",
       "        </tr>\n",
       "        <tr>\n",
       "            <td>Bulgaria</td>\n",
       "            <td>8.92</td>\n",
       "        </tr>\n",
       "        <tr>\n",
       "            <td>Serbia</td>\n",
       "            <td>9.08</td>\n",
       "        </tr>\n",
       "        <tr>\n",
       "            <td>Romania</td>\n",
       "            <td>9.14</td>\n",
       "        </tr>\n",
       "        <tr>\n",
       "            <td>Hungary</td>\n",
       "            <td>9.16</td>\n",
       "        </tr>\n",
       "        <tr>\n",
       "            <td>Hong Kong</td>\n",
       "            <td>9.23</td>\n",
       "        </tr>\n",
       "        <tr>\n",
       "            <td>Portugal</td>\n",
       "            <td>9.27</td>\n",
       "        </tr>\n",
       "    </tbody>\n",
       "</table>"
      ],
      "text/plain": [
       "[('Monaco', 6.65),\n",
       " ('Saint Pierre and Miquelon', 7.42),\n",
       " ('Japan', 7.93),\n",
       " ('Andorra', 8.13),\n",
       " ('Korea, South', 8.19),\n",
       " ('Singapore', 8.27),\n",
       " ('Slovenia', 8.42),\n",
       " ('Germany', 8.47),\n",
       " ('Taiwan', 8.47),\n",
       " ('San Marino', 8.63),\n",
       " ('Greece', 8.66),\n",
       " ('Italy', 8.74),\n",
       " ('Bosnia and Herzegovina', 8.87),\n",
       " ('Macau', 8.88),\n",
       " ('Bulgaria', 8.92),\n",
       " ('Serbia', 9.08),\n",
       " ('Romania', 9.14),\n",
       " ('Hungary', 9.16),\n",
       " ('Hong Kong', 9.23),\n",
       " ('Portugal', 9.27)]"
      ]
     },
     "execution_count": 60,
     "metadata": {},
     "output_type": "execute_result"
    }
   ],
   "source": [
    "%%sql\n",
    "SELECT name, birth_rate AS bottom20_birth_rate\n",
    "  FROM facts\n",
    "WHERE birth_rate NOT NULL\n",
    "ORDER BY birth_rate\n",
    "LIMIT 20;"
   ]
  },
  {
   "cell_type": "markdown",
   "metadata": {},
   "source": [
    "The <u>lowest birth rate</u>, up to 7 births per 1,000 persons, is observed in \n",
    "<strong>Western Europe</strong> (Monaco, Andorra, Germany, Greece, Italy, Portugal), <strong>some small countries and islands </strong>(Saint Pierre and Miquelon, Singapore, Taiwan, San-Marino, Macao, Hong Kong), <strong>Japan</strong>, <strong>South Korea</strong>, and <strong>Eastern Europe</strong> (Slovenia, Bosnia and Herzegovina, Bulgaria, Serbia, Romania, Hungary).\n",
    "\n",
    "This time the list of countries doesn't look so obvious, especially the TOP5 countries. Google search, in particular [Knoema data source](https://knoema.com), gives us some graphs showing that the birth rate decline is an evident tendency for these countries for already many years, and seemingly still continuing (in the end of 2020)."
   ]
  },
  {
   "cell_type": "markdown",
   "metadata": {},
   "source": [
    "<div align=\"center\"><font size=\"4\"><strong>Monaco Birth Rate</strong></font>\n",
    "<img src=\"images/Monaco_birth_rate.JPG\" width=\"500\"><p>  </p></div>"
   ]
  },
  {
   "cell_type": "markdown",
   "metadata": {},
   "source": [
    "<div align=\"center\"><font size=\"4\"><strong>Japan Birth Rate</strong></font>\n",
    "<img src=\"Japan_birth_rate.jpg\" width=\"500\"><p>  </p></div>"
   ]
  },
  {
   "cell_type": "markdown",
   "metadata": {},
   "source": [
    "<div align=\"center\"><font size=\"4\"><strong>Andorra Birth Rate</strong></font>\n",
    "<img src=\"Andorra_birth_rate.jpg\" width=\"500\"><p>  </p></div>"
   ]
  },
  {
   "cell_type": "markdown",
   "metadata": {},
   "source": [
    "<div align=\"center\"><font size=\"4\"><strong>South Korea Birth Rate</strong></font>\n",
    "<img src=\"South_Korea_birth_rate.jpg\" width=\"500\"><p>  </p></div>"
   ]
  },
  {
   "cell_type": "markdown",
   "metadata": {},
   "source": [
    "Additionally, this [Wikipedia article](https://en.wikipedia.org/wiki/Birth_rate) throws a light on the reasons for such a situation in Japan:\n",
    ">As of 2016, Japan has the third lowest crude birth rate (i.e. not allowing for the population's age distribution) in the world, with only Saint Pierre and Miquelon and Monaco having lower crude birth rates. Japan has an unbalanced population with many elderly but few young people, and this is projected to be more extreme in the future, unless there are major changes. An increasing number of Japanese people are staying unmarried: between 1980 and 2010, the percentage of the population who had never married increased from 22% to almost 30%, even as the population continued to age, and by 2035 one in four people will not marry during their childbearing years. The Japanese sociologist Masahiro Yamada coined the term \"parasite singles\" for unmarried adults in their late 20s and 30s who continue to live with their parents.\n",
    "\n",
    "Now, let's have a look at the death rate."
   ]
  },
  {
   "cell_type": "code",
   "execution_count": 61,
   "metadata": {},
   "outputs": [
    {
     "name": "stdout",
     "output_type": "stream",
     "text": [
      " * sqlite:///factbook.db\n",
      "Done.\n"
     ]
    },
    {
     "data": {
      "text/html": [
       "<table>\n",
       "    <thead>\n",
       "        <tr>\n",
       "            <th>name</th>\n",
       "            <th>top20_death_rate</th>\n",
       "        </tr>\n",
       "    </thead>\n",
       "    <tbody>\n",
       "        <tr>\n",
       "            <td>Lesotho</td>\n",
       "            <td>14.89</td>\n",
       "        </tr>\n",
       "        <tr>\n",
       "            <td>Ukraine</td>\n",
       "            <td>14.46</td>\n",
       "        </tr>\n",
       "        <tr>\n",
       "            <td>Bulgaria</td>\n",
       "            <td>14.44</td>\n",
       "        </tr>\n",
       "        <tr>\n",
       "            <td>Guinea-Bissau</td>\n",
       "            <td>14.33</td>\n",
       "        </tr>\n",
       "        <tr>\n",
       "            <td>Latvia</td>\n",
       "            <td>14.31</td>\n",
       "        </tr>\n",
       "        <tr>\n",
       "            <td>Chad</td>\n",
       "            <td>14.28</td>\n",
       "        </tr>\n",
       "        <tr>\n",
       "            <td>Lithuania</td>\n",
       "            <td>14.27</td>\n",
       "        </tr>\n",
       "        <tr>\n",
       "            <td>Namibia</td>\n",
       "            <td>13.91</td>\n",
       "        </tr>\n",
       "        <tr>\n",
       "            <td>Afghanistan</td>\n",
       "            <td>13.89</td>\n",
       "        </tr>\n",
       "        <tr>\n",
       "            <td>Central African Republic</td>\n",
       "            <td>13.8</td>\n",
       "        </tr>\n",
       "        <tr>\n",
       "            <td>Russia</td>\n",
       "            <td>13.69</td>\n",
       "        </tr>\n",
       "        <tr>\n",
       "            <td>Serbia</td>\n",
       "            <td>13.66</td>\n",
       "        </tr>\n",
       "        <tr>\n",
       "            <td>Somalia</td>\n",
       "            <td>13.62</td>\n",
       "        </tr>\n",
       "        <tr>\n",
       "            <td>Swaziland</td>\n",
       "            <td>13.56</td>\n",
       "        </tr>\n",
       "        <tr>\n",
       "            <td>Botswana</td>\n",
       "            <td>13.39</td>\n",
       "        </tr>\n",
       "        <tr>\n",
       "            <td>Belarus</td>\n",
       "            <td>13.36</td>\n",
       "        </tr>\n",
       "        <tr>\n",
       "            <td>Gabon</td>\n",
       "            <td>13.12</td>\n",
       "        </tr>\n",
       "        <tr>\n",
       "            <td>Nigeria</td>\n",
       "            <td>12.9</td>\n",
       "        </tr>\n",
       "        <tr>\n",
       "            <td>Mali</td>\n",
       "            <td>12.89</td>\n",
       "        </tr>\n",
       "        <tr>\n",
       "            <td>Hungary</td>\n",
       "            <td>12.73</td>\n",
       "        </tr>\n",
       "    </tbody>\n",
       "</table>"
      ],
      "text/plain": [
       "[('Lesotho', 14.89),\n",
       " ('Ukraine', 14.46),\n",
       " ('Bulgaria', 14.44),\n",
       " ('Guinea-Bissau', 14.33),\n",
       " ('Latvia', 14.31),\n",
       " ('Chad', 14.28),\n",
       " ('Lithuania', 14.27),\n",
       " ('Namibia', 13.91),\n",
       " ('Afghanistan', 13.89),\n",
       " ('Central African Republic', 13.8),\n",
       " ('Russia', 13.69),\n",
       " ('Serbia', 13.66),\n",
       " ('Somalia', 13.62),\n",
       " ('Swaziland', 13.56),\n",
       " ('Botswana', 13.39),\n",
       " ('Belarus', 13.36),\n",
       " ('Gabon', 13.12),\n",
       " ('Nigeria', 12.9),\n",
       " ('Mali', 12.89),\n",
       " ('Hungary', 12.73)]"
      ]
     },
     "execution_count": 61,
     "metadata": {},
     "output_type": "execute_result"
    }
   ],
   "source": [
    "%%sql\n",
    "SELECT name, death_rate AS top20_death_rate\n",
    "  FROM facts\n",
    "ORDER BY death_rate DESC\n",
    "LIMIT 20;"
   ]
  },
  {
   "cell_type": "markdown",
   "metadata": {},
   "source": [
    "The <u>highest death rate</u>, up to 15 deaths per 1,000 persons, is observed in <strong>African countries</strong>, \n",
    "<strong>Eastern Europe</strong> (Ukraine, Bulgaria, Serbia, Belarus, Hungary), <strong>Baltic countries</strong>, <strong>Afganistan</strong>, and <strong>Russia</strong>. We see that despite African countries strongly dominate also this list, the birth rate in all of them is much higher, which results in the the highest values of the population growth in them. For the countries of Eastern Europe, high death rates, together with low birth rates, lead to low values of the population growth.      \n",
    "\n",
    "Anyway, while African countries are notoriously famous for their high death rates (as well as their birth rates), the presence of Ukraine, Bulgaria, and Latvia among the TOP5 countries in this list looks unexpected. In this [Wikipedia article](https://en.wikipedia.org/wiki/Mortality_rate) we find a map of the death rate worldwide, which confirms our conclusions."
   ]
  },
  {
   "cell_type": "markdown",
   "metadata": {},
   "source": [
    "<div align=\"center\"><font size=\"4\"><strong>Death Rate World Map</strong></font>\n",
    "<img src=\"Death_rate_world_map.png\" width=\"800\"><p>  </p></div>"
   ]
  },
  {
   "cell_type": "markdown",
   "metadata": {},
   "source": [
    "One of the main factors of this phenomenon, according to the article, is national income, which is directly tied to standard of living within a country.\n",
    "In addition, it is mentioned that mortality rates are affected by short term price increases. \n",
    "\n",
    "In particular, according to the Wikipedia page for [Ukraine](https://en.wikipedia.org/wiki/Ukraine), the reasons for such a high death rate in this country are major public health issues, alcoholism and smoking among working-age males, obesity, systemic high blood pressure and the HIV endemic. For [Bulgaria](https://en.wikipedia.org/wiki/Bulgaria), the demographic crisis and high death rate result from a combination of an ageing population, a high number of people at risk of poverty, a weak healthcare system, the emigration of doctors due to low wages, understaffed and under-equipped regional hospitals, supply shortages. As for the Baltic countries, [The Baltic Times](https://www.baltictimes.com/baltic_countries__mortality_rates_considerably_higher_than_european_average/) mentions diseases of the circulatory system, cancer and injuries as the main causes of high death rates.\n",
    "\n",
    "The graphs from [Knoema](https://knoema.com) confirm that the tendency for these countries has been continuing for many years."
   ]
  },
  {
   "cell_type": "markdown",
   "metadata": {},
   "source": [
    "<div align=\"center\"><font size=\"4\"><strong>Ukraine Death Rate</strong></font>\n",
    "<img src=\"Ukraine_death_rate.jpg\" width=\"500\"><p>  </p></div>"
   ]
  },
  {
   "cell_type": "markdown",
   "metadata": {},
   "source": [
    "<div align=\"center\"><font size=\"4\"><strong>Bulgaria Death Rate</strong></font>\n",
    "<img src=\"Bulgaria_death_rate.jpg\" width=\"500\"><p>  </p></div>"
   ]
  },
  {
   "cell_type": "markdown",
   "metadata": {},
   "source": [
    "<div align=\"center\"><font size=\"4\"><strong>Latvia Death Rate</strong></font>\n",
    "<img src=\"Latvia_death_rate.jpg\" width=\"500\"><p>  </p></div>"
   ]
  },
  {
   "cell_type": "markdown",
   "metadata": {},
   "source": [
    "Next, we'll explore the BOTTOM20 countries by death rate."
   ]
  },
  {
   "cell_type": "code",
   "execution_count": 62,
   "metadata": {},
   "outputs": [
    {
     "name": "stdout",
     "output_type": "stream",
     "text": [
      " * sqlite:///factbook.db\n",
      "Done.\n"
     ]
    },
    {
     "data": {
      "text/html": [
       "<table>\n",
       "    <thead>\n",
       "        <tr>\n",
       "            <th>name</th>\n",
       "            <th>bottom20_death_rate</th>\n",
       "        </tr>\n",
       "    </thead>\n",
       "    <tbody>\n",
       "        <tr>\n",
       "            <td>Qatar</td>\n",
       "            <td>1.53</td>\n",
       "        </tr>\n",
       "        <tr>\n",
       "            <td>United Arab Emirates</td>\n",
       "            <td>1.97</td>\n",
       "        </tr>\n",
       "        <tr>\n",
       "            <td>Kuwait</td>\n",
       "            <td>2.18</td>\n",
       "        </tr>\n",
       "        <tr>\n",
       "            <td>Bahrain</td>\n",
       "            <td>2.69</td>\n",
       "        </tr>\n",
       "        <tr>\n",
       "            <td>Gaza Strip</td>\n",
       "            <td>3.04</td>\n",
       "        </tr>\n",
       "        <tr>\n",
       "            <td>Turks and Caicos Islands</td>\n",
       "            <td>3.1</td>\n",
       "        </tr>\n",
       "        <tr>\n",
       "            <td>Saudi Arabia</td>\n",
       "            <td>3.33</td>\n",
       "        </tr>\n",
       "        <tr>\n",
       "            <td>Oman</td>\n",
       "            <td>3.36</td>\n",
       "        </tr>\n",
       "        <tr>\n",
       "            <td>Singapore</td>\n",
       "            <td>3.43</td>\n",
       "        </tr>\n",
       "        <tr>\n",
       "            <td>West Bank</td>\n",
       "            <td>3.5</td>\n",
       "        </tr>\n",
       "        <tr>\n",
       "            <td>Brunei</td>\n",
       "            <td>3.52</td>\n",
       "        </tr>\n",
       "        <tr>\n",
       "            <td>Libya</td>\n",
       "            <td>3.58</td>\n",
       "        </tr>\n",
       "        <tr>\n",
       "            <td>Northern Mariana Islands</td>\n",
       "            <td>3.71</td>\n",
       "        </tr>\n",
       "        <tr>\n",
       "            <td>Iraq</td>\n",
       "            <td>3.77</td>\n",
       "        </tr>\n",
       "        <tr>\n",
       "            <td>Jordan</td>\n",
       "            <td>3.79</td>\n",
       "        </tr>\n",
       "        <tr>\n",
       "            <td>Solomon Islands</td>\n",
       "            <td>3.85</td>\n",
       "        </tr>\n",
       "        <tr>\n",
       "            <td>Maldives</td>\n",
       "            <td>3.89</td>\n",
       "        </tr>\n",
       "        <tr>\n",
       "            <td>Syria</td>\n",
       "            <td>4.0</td>\n",
       "        </tr>\n",
       "        <tr>\n",
       "            <td>Vanuatu</td>\n",
       "            <td>4.09</td>\n",
       "        </tr>\n",
       "        <tr>\n",
       "            <td>Marshall Islands</td>\n",
       "            <td>4.21</td>\n",
       "        </tr>\n",
       "    </tbody>\n",
       "</table>"
      ],
      "text/plain": [
       "[('Qatar', 1.53),\n",
       " ('United Arab Emirates', 1.97),\n",
       " ('Kuwait', 2.18),\n",
       " ('Bahrain', 2.69),\n",
       " ('Gaza Strip', 3.04),\n",
       " ('Turks and Caicos Islands', 3.1),\n",
       " ('Saudi Arabia', 3.33),\n",
       " ('Oman', 3.36),\n",
       " ('Singapore', 3.43),\n",
       " ('West Bank', 3.5),\n",
       " ('Brunei', 3.52),\n",
       " ('Libya', 3.58),\n",
       " ('Northern Mariana Islands', 3.71),\n",
       " ('Iraq', 3.77),\n",
       " ('Jordan', 3.79),\n",
       " ('Solomon Islands', 3.85),\n",
       " ('Maldives', 3.89),\n",
       " ('Syria', 4.0),\n",
       " ('Vanuatu', 4.09),\n",
       " ('Marshall Islands', 4.21)]"
      ]
     },
     "execution_count": 62,
     "metadata": {},
     "output_type": "execute_result"
    }
   ],
   "source": [
    "%%sql\n",
    "SELECT name, death_rate AS bottom20_death_rate\n",
    "  FROM facts\n",
    "WHERE death_rate NOT NULL\n",
    "ORDER BY death_rate\n",
    "LIMIT 20;"
   ]
  },
  {
   "cell_type": "markdown",
   "metadata": {},
   "source": [
    "The <u>lowest death rates</u>, up to 2 deaths per 1,000 persons, are mostly related to the <strong>Middle East countries</strong>, which are historically characterized by a very high standard of living.\n",
    "\n",
    "Now, let's investigate another demografic indicator: the natural increase, i.e. the difference between the birth and death rates."
   ]
  },
  {
   "cell_type": "code",
   "execution_count": 63,
   "metadata": {},
   "outputs": [
    {
     "name": "stdout",
     "output_type": "stream",
     "text": [
      " * sqlite:///factbook.db\n",
      "Done.\n"
     ]
    },
    {
     "data": {
      "text/html": [
       "<table>\n",
       "    <thead>\n",
       "        <tr>\n",
       "            <th>name</th>\n",
       "            <th>top20_natural_increase</th>\n",
       "        </tr>\n",
       "    </thead>\n",
       "    <tbody>\n",
       "        <tr>\n",
       "            <td>Malawi</td>\n",
       "            <td>33.2</td>\n",
       "        </tr>\n",
       "        <tr>\n",
       "            <td>Uganda</td>\n",
       "            <td>33.1</td>\n",
       "        </tr>\n",
       "        <tr>\n",
       "            <td>Niger</td>\n",
       "            <td>33.0</td>\n",
       "        </tr>\n",
       "        <tr>\n",
       "            <td>Burundi</td>\n",
       "            <td>32.7</td>\n",
       "        </tr>\n",
       "        <tr>\n",
       "            <td>Mali</td>\n",
       "            <td>32.1</td>\n",
       "        </tr>\n",
       "        <tr>\n",
       "            <td>Burkina Faso</td>\n",
       "            <td>30.3</td>\n",
       "        </tr>\n",
       "        <tr>\n",
       "            <td>Zambia</td>\n",
       "            <td>29.5</td>\n",
       "        </tr>\n",
       "        <tr>\n",
       "            <td>Ethiopia</td>\n",
       "            <td>29.1</td>\n",
       "        </tr>\n",
       "        <tr>\n",
       "            <td>South Sudan</td>\n",
       "            <td>28.7</td>\n",
       "        </tr>\n",
       "        <tr>\n",
       "            <td>Tanzania</td>\n",
       "            <td>28.4</td>\n",
       "        </tr>\n",
       "        <tr>\n",
       "            <td>Timor-Leste</td>\n",
       "            <td>28.1</td>\n",
       "        </tr>\n",
       "        <tr>\n",
       "            <td>Gaza Strip</td>\n",
       "            <td>28.1</td>\n",
       "        </tr>\n",
       "        <tr>\n",
       "            <td>Benin</td>\n",
       "            <td>27.8</td>\n",
       "        </tr>\n",
       "        <tr>\n",
       "            <td>Iraq</td>\n",
       "            <td>27.7</td>\n",
       "        </tr>\n",
       "        <tr>\n",
       "            <td>Angola</td>\n",
       "            <td>27.3</td>\n",
       "        </tr>\n",
       "        <tr>\n",
       "            <td>Sao Tome and Principe</td>\n",
       "            <td>27.0</td>\n",
       "        </tr>\n",
       "        <tr>\n",
       "            <td>Togo</td>\n",
       "            <td>26.9</td>\n",
       "        </tr>\n",
       "        <tr>\n",
       "            <td>Somalia</td>\n",
       "            <td>26.8</td>\n",
       "        </tr>\n",
       "        <tr>\n",
       "            <td>Mozambique</td>\n",
       "            <td>26.5</td>\n",
       "        </tr>\n",
       "        <tr>\n",
       "            <td>Guinea</td>\n",
       "            <td>26.3</td>\n",
       "        </tr>\n",
       "    </tbody>\n",
       "</table>"
      ],
      "text/plain": [
       "[('Malawi', 33.2),\n",
       " ('Uganda', 33.1),\n",
       " ('Niger', 33.0),\n",
       " ('Burundi', 32.7),\n",
       " ('Mali', 32.1),\n",
       " ('Burkina Faso', 30.3),\n",
       " ('Zambia', 29.5),\n",
       " ('Ethiopia', 29.1),\n",
       " ('South Sudan', 28.7),\n",
       " ('Tanzania', 28.4),\n",
       " ('Timor-Leste', 28.1),\n",
       " ('Gaza Strip', 28.1),\n",
       " ('Benin', 27.8),\n",
       " ('Iraq', 27.7),\n",
       " ('Angola', 27.3),\n",
       " ('Sao Tome and Principe', 27.0),\n",
       " ('Togo', 26.9),\n",
       " ('Somalia', 26.8),\n",
       " ('Mozambique', 26.5),\n",
       " ('Guinea', 26.3)]"
      ]
     },
     "execution_count": 63,
     "metadata": {},
     "output_type": "execute_result"
    }
   ],
   "source": [
    "%%sql\n",
    "SELECT name, ROUND(birth_rate - death_rate, 1) AS top20_natural_increase\n",
    "  FROM facts\n",
    "WHERE death_rate NOT NULL AND birth_rate NOT NULL\n",
    "ORDER BY top20_natural_increase DESC\n",
    "LIMIT 20;"
   ]
  },
  {
   "cell_type": "markdown",
   "metadata": {},
   "source": [
    "As we could expect from the population growth and birth rate trends, in <strong>African countries</strong> the <u>birth rate strongly exceeds the death rate</u>. In addition, a high natural increase is observed in <strong>Iraq</strong>."
   ]
  },
  {
   "cell_type": "code",
   "execution_count": 64,
   "metadata": {},
   "outputs": [
    {
     "name": "stdout",
     "output_type": "stream",
     "text": [
      " * sqlite:///factbook.db\n",
      "Done.\n"
     ]
    },
    {
     "data": {
      "text/html": [
       "<table>\n",
       "    <thead>\n",
       "        <tr>\n",
       "            <th>name</th>\n",
       "            <th>bottom20_natural_increase</th>\n",
       "        </tr>\n",
       "    </thead>\n",
       "    <tbody>\n",
       "        <tr>\n",
       "            <td>Bulgaria</td>\n",
       "            <td>-5.5</td>\n",
       "        </tr>\n",
       "        <tr>\n",
       "            <td>Serbia</td>\n",
       "            <td>-4.6</td>\n",
       "        </tr>\n",
       "        <tr>\n",
       "            <td>Latvia</td>\n",
       "            <td>-4.3</td>\n",
       "        </tr>\n",
       "        <tr>\n",
       "            <td>Lithuania</td>\n",
       "            <td>-4.2</td>\n",
       "        </tr>\n",
       "        <tr>\n",
       "            <td>Ukraine</td>\n",
       "            <td>-3.7</td>\n",
       "        </tr>\n",
       "        <tr>\n",
       "            <td>Hungary</td>\n",
       "            <td>-3.6</td>\n",
       "        </tr>\n",
       "        <tr>\n",
       "            <td>Germany</td>\n",
       "            <td>-3.0</td>\n",
       "        </tr>\n",
       "        <tr>\n",
       "            <td>Slovenia</td>\n",
       "            <td>-3.0</td>\n",
       "        </tr>\n",
       "        <tr>\n",
       "            <td>Romania</td>\n",
       "            <td>-2.8</td>\n",
       "        </tr>\n",
       "        <tr>\n",
       "            <td>Belarus</td>\n",
       "            <td>-2.7</td>\n",
       "        </tr>\n",
       "        <tr>\n",
       "            <td>Croatia</td>\n",
       "            <td>-2.7</td>\n",
       "        </tr>\n",
       "        <tr>\n",
       "            <td>Monaco</td>\n",
       "            <td>-2.6</td>\n",
       "        </tr>\n",
       "        <tr>\n",
       "            <td>Greece</td>\n",
       "            <td>-2.4</td>\n",
       "        </tr>\n",
       "        <tr>\n",
       "            <td>Saint Pierre and Miquelon</td>\n",
       "            <td>-2.3</td>\n",
       "        </tr>\n",
       "        <tr>\n",
       "            <td>Russia</td>\n",
       "            <td>-2.1</td>\n",
       "        </tr>\n",
       "        <tr>\n",
       "            <td>Estonia</td>\n",
       "            <td>-1.9</td>\n",
       "        </tr>\n",
       "        <tr>\n",
       "            <td>Portugal</td>\n",
       "            <td>-1.8</td>\n",
       "        </tr>\n",
       "        <tr>\n",
       "            <td>Japan</td>\n",
       "            <td>-1.6</td>\n",
       "        </tr>\n",
       "        <tr>\n",
       "            <td>Italy</td>\n",
       "            <td>-1.4</td>\n",
       "        </tr>\n",
       "        <tr>\n",
       "            <td>Bosnia and Herzegovina</td>\n",
       "            <td>-0.9</td>\n",
       "        </tr>\n",
       "    </tbody>\n",
       "</table>"
      ],
      "text/plain": [
       "[('Bulgaria', -5.5),\n",
       " ('Serbia', -4.6),\n",
       " ('Latvia', -4.3),\n",
       " ('Lithuania', -4.2),\n",
       " ('Ukraine', -3.7),\n",
       " ('Hungary', -3.6),\n",
       " ('Germany', -3.0),\n",
       " ('Slovenia', -3.0),\n",
       " ('Romania', -2.8),\n",
       " ('Belarus', -2.7),\n",
       " ('Croatia', -2.7),\n",
       " ('Monaco', -2.6),\n",
       " ('Greece', -2.4),\n",
       " ('Saint Pierre and Miquelon', -2.3),\n",
       " ('Russia', -2.1),\n",
       " ('Estonia', -1.9),\n",
       " ('Portugal', -1.8),\n",
       " ('Japan', -1.6),\n",
       " ('Italy', -1.4),\n",
       " ('Bosnia and Herzegovina', -0.9)]"
      ]
     },
     "execution_count": 64,
     "metadata": {},
     "output_type": "execute_result"
    }
   ],
   "source": [
    "%%sql\n",
    "SELECT name, ROUND(birth_rate - death_rate, 1) AS bottom20_natural_increase\n",
    "  FROM facts\n",
    "WHERE death_rate NOT NULL AND birth_rate NOT NULL\n",
    "ORDER BY bottom20_natural_increase\n",
    "LIMIT 20;"
   ]
  },
  {
   "cell_type": "markdown",
   "metadata": {},
   "source": [
    "As for the <u>lowest natural increase</u>, which being negative is practically a decrease here, not surprisingly, we see again the same countries of <strong>Eastern Europe</strong>, suffering from the demographic crisis (Bulgaria, Serbia, Ukraine, Hungary, Slovenia, Romania, Belarus, Croatia, Bosnia and Herzegovina), <strong>Baltic countries</strong>, <strong>Western Europe</strong> (Germany, Monaco, Greece, Portugal, Italy), <strong>Saint Pierre and Miquelon</strong>, which was at the 2nd place among the BOTTOM20 countries by birth rate, <strong>Russia</strong>, and <strong>Japan</strong>. \n",
    "\n",
    "Serbia at the 2nd place looks curious, we have never encountered it in any TOP5 or BOTTOM5 lists. Let's look at it in more detail."
   ]
  },
  {
   "cell_type": "markdown",
   "metadata": {},
   "source": [
    "<div align=\"center\"><font size=\"4\"><strong>Serbia Birth Rate</strong></font>\n",
    "<img src=\"Serbia_birth_rate.jpg\" width=\"500\"><p>  </p></div>"
   ]
  },
  {
   "cell_type": "markdown",
   "metadata": {},
   "source": [
    "<div align=\"center\"><font size=\"4\"><strong>Serbia Death Rate</strong></font>\n",
    "<img src=\"Serbia_death_rate.jpg\" width=\"500\"><p>  </p></div>"
   ]
  },
  {
   "cell_type": "markdown",
   "metadata": {},
   "source": [
    "Both [Knoema](https://knoema.com/atlas/Serbia) and [Wikipedia](https://en.wikipedia.org/wiki/Serbia) confirm that Serbia has been suffering a heavy demographic crisis since the beginning of the 1990s, with a death rate continuously exceeding the birth rate. This country has low life expectancy, one of the oldest populations in the world, and it is shrinking at one of the fastest rates in the world.\n",
    "\n",
    "Lastly, let's find the average birth and death rates, and the natural increase in the world."
   ]
  },
  {
   "cell_type": "code",
   "execution_count": 65,
   "metadata": {},
   "outputs": [
    {
     "name": "stdout",
     "output_type": "stream",
     "text": [
      " * sqlite:///factbook.db\n",
      "Done.\n"
     ]
    },
    {
     "data": {
      "text/html": [
       "<table>\n",
       "    <thead>\n",
       "        <tr>\n",
       "            <th>average_birth_rate</th>\n",
       "            <th>average_death_rate</th>\n",
       "            <th>average_natural_increase</th>\n",
       "        </tr>\n",
       "    </thead>\n",
       "    <tbody>\n",
       "        <tr>\n",
       "            <td>19.3</td>\n",
       "            <td>7.8</td>\n",
       "            <td>11.5</td>\n",
       "        </tr>\n",
       "    </tbody>\n",
       "</table>"
      ],
      "text/plain": [
       "[(19.3, 7.8, 11.5)]"
      ]
     },
     "execution_count": 65,
     "metadata": {},
     "output_type": "execute_result"
    }
   ],
   "source": [
    "%%sql\n",
    "SELECT ROUND(AVG(birth_rate), 1) AS average_birth_rate,\n",
    "       ROUND(AVG(death_rate), 1) AS average_death_rate,\n",
    "       ROUND(AVG(birth_rate - death_rate), 1) AS average_natural_increase\n",
    "    FROM facts;"
   ]
  },
  {
   "cell_type": "markdown",
   "metadata": {},
   "source": [
    "## Exploring Area Statistics\n",
    "Let's find TOP5 and BOTTOM5 countries by area."
   ]
  },
  {
   "cell_type": "code",
   "execution_count": 66,
   "metadata": {},
   "outputs": [
    {
     "name": "stdout",
     "output_type": "stream",
     "text": [
      " * sqlite:///factbook.db\n",
      "Done.\n"
     ]
    },
    {
     "data": {
      "text/html": [
       "<table>\n",
       "    <thead>\n",
       "        <tr>\n",
       "            <th>name</th>\n",
       "            <th>top5_area</th>\n",
       "        </tr>\n",
       "    </thead>\n",
       "    <tbody>\n",
       "        <tr>\n",
       "            <td>Russia</td>\n",
       "            <td>17098242</td>\n",
       "        </tr>\n",
       "        <tr>\n",
       "            <td>Canada</td>\n",
       "            <td>9984670</td>\n",
       "        </tr>\n",
       "        <tr>\n",
       "            <td>United States</td>\n",
       "            <td>9826675</td>\n",
       "        </tr>\n",
       "        <tr>\n",
       "            <td>China</td>\n",
       "            <td>9596960</td>\n",
       "        </tr>\n",
       "        <tr>\n",
       "            <td>Brazil</td>\n",
       "            <td>8515770</td>\n",
       "        </tr>\n",
       "    </tbody>\n",
       "</table>"
      ],
      "text/plain": [
       "[('Russia', 17098242),\n",
       " ('Canada', 9984670),\n",
       " ('United States', 9826675),\n",
       " ('China', 9596960),\n",
       " ('Brazil', 8515770)]"
      ]
     },
     "execution_count": 66,
     "metadata": {},
     "output_type": "execute_result"
    }
   ],
   "source": [
    "%%sql\n",
    "SELECT name, area AS top5_area\n",
    "  FROM facts\n",
    "WHERE area NOT NULL\n",
    "ORDER BY area DESC\n",
    "LIMIT 5;"
   ]
  },
  {
   "cell_type": "markdown",
   "metadata": {},
   "source": [
    "The <u>biggest country</u> is <strong>Russia</strong>, followed with a big gap by <strong>Canada</strong>, the <strong>United States</strong>, <strong>China</strong>, and <strong>Brazil</strong>."
   ]
  },
  {
   "cell_type": "code",
   "execution_count": 67,
   "metadata": {
    "scrolled": true
   },
   "outputs": [
    {
     "name": "stdout",
     "output_type": "stream",
     "text": [
      " * sqlite:///factbook.db\n",
      "Done.\n"
     ]
    },
    {
     "data": {
      "text/html": [
       "<table>\n",
       "    <thead>\n",
       "        <tr>\n",
       "            <th>name</th>\n",
       "            <th>bottom5_area</th>\n",
       "        </tr>\n",
       "    </thead>\n",
       "    <tbody>\n",
       "        <tr>\n",
       "            <td>Holy See (Vatican City)</td>\n",
       "            <td>0</td>\n",
       "        </tr>\n",
       "        <tr>\n",
       "            <td>Monaco</td>\n",
       "            <td>2</td>\n",
       "        </tr>\n",
       "        <tr>\n",
       "            <td>Coral Sea Islands</td>\n",
       "            <td>3</td>\n",
       "        </tr>\n",
       "        <tr>\n",
       "            <td>Ashmore and Cartier Islands</td>\n",
       "            <td>5</td>\n",
       "        </tr>\n",
       "        <tr>\n",
       "            <td>Navassa Island</td>\n",
       "            <td>5</td>\n",
       "        </tr>\n",
       "    </tbody>\n",
       "</table>"
      ],
      "text/plain": [
       "[('Holy See (Vatican City)', 0),\n",
       " ('Monaco', 2),\n",
       " ('Coral Sea Islands', 3),\n",
       " ('Ashmore and Cartier Islands', 5),\n",
       " ('Navassa Island', 5)]"
      ]
     },
     "execution_count": 67,
     "metadata": {},
     "output_type": "execute_result"
    }
   ],
   "source": [
    "%%sql\n",
    "SELECT name, area AS bottom5_area\n",
    "  FROM facts\n",
    "WHERE area NOT NULL\n",
    "ORDER BY area\n",
    "LIMIT 5;"
   ]
  },
  {
   "cell_type": "markdown",
   "metadata": {},
   "source": [
    "The <u>smallest country</u> is <strong>Vatican</strong>, followed by <strong>Monaco</strong> and 3 island groups.\n",
    "\n",
    "Next, we're going to explore what countries have the highest ratio of water to land."
   ]
  },
  {
   "cell_type": "code",
   "execution_count": 68,
   "metadata": {},
   "outputs": [
    {
     "name": "stdout",
     "output_type": "stream",
     "text": [
      " * sqlite:///factbook.db\n",
      "Done.\n"
     ]
    },
    {
     "data": {
      "text/html": [
       "<table>\n",
       "    <thead>\n",
       "        <tr>\n",
       "            <th>name</th>\n",
       "            <th>area_water</th>\n",
       "            <th>area_land</th>\n",
       "            <th>water_to_land</th>\n",
       "        </tr>\n",
       "    </thead>\n",
       "    <tbody>\n",
       "        <tr>\n",
       "            <td>British Indian Ocean Territory</td>\n",
       "            <td>54340</td>\n",
       "            <td>60</td>\n",
       "            <td>905.7</td>\n",
       "        </tr>\n",
       "        <tr>\n",
       "            <td>Virgin Islands</td>\n",
       "            <td>1564</td>\n",
       "            <td>346</td>\n",
       "            <td>4.5</td>\n",
       "        </tr>\n",
       "        <tr>\n",
       "            <td>Puerto Rico</td>\n",
       "            <td>4921</td>\n",
       "            <td>8870</td>\n",
       "            <td>0.6</td>\n",
       "        </tr>\n",
       "        <tr>\n",
       "            <td>Bahamas, The</td>\n",
       "            <td>3870</td>\n",
       "            <td>10010</td>\n",
       "            <td>0.4</td>\n",
       "        </tr>\n",
       "        <tr>\n",
       "            <td>Guinea-Bissau</td>\n",
       "            <td>8005</td>\n",
       "            <td>28120</td>\n",
       "            <td>0.3</td>\n",
       "        </tr>\n",
       "        <tr>\n",
       "            <td>Malawi</td>\n",
       "            <td>24404</td>\n",
       "            <td>94080</td>\n",
       "            <td>0.3</td>\n",
       "        </tr>\n",
       "        <tr>\n",
       "            <td>Eritrea</td>\n",
       "            <td>16600</td>\n",
       "            <td>101000</td>\n",
       "            <td>0.2</td>\n",
       "        </tr>\n",
       "        <tr>\n",
       "            <td>Liberia</td>\n",
       "            <td>15049</td>\n",
       "            <td>96320</td>\n",
       "            <td>0.2</td>\n",
       "        </tr>\n",
       "        <tr>\n",
       "            <td>Netherlands</td>\n",
       "            <td>7650</td>\n",
       "            <td>33893</td>\n",
       "            <td>0.2</td>\n",
       "        </tr>\n",
       "        <tr>\n",
       "            <td>Uganda</td>\n",
       "            <td>43938</td>\n",
       "            <td>197100</td>\n",
       "            <td>0.2</td>\n",
       "        </tr>\n",
       "    </tbody>\n",
       "</table>"
      ],
      "text/plain": [
       "[('British Indian Ocean Territory', 54340, 60, 905.7),\n",
       " ('Virgin Islands', 1564, 346, 4.5),\n",
       " ('Puerto Rico', 4921, 8870, 0.6),\n",
       " ('Bahamas, The', 3870, 10010, 0.4),\n",
       " ('Guinea-Bissau', 8005, 28120, 0.3),\n",
       " ('Malawi', 24404, 94080, 0.3),\n",
       " ('Eritrea', 16600, 101000, 0.2),\n",
       " ('Liberia', 15049, 96320, 0.2),\n",
       " ('Netherlands', 7650, 33893, 0.2),\n",
       " ('Uganda', 43938, 197100, 0.2)]"
      ]
     },
     "execution_count": 68,
     "metadata": {},
     "output_type": "execute_result"
    }
   ],
   "source": [
    "%%sql\n",
    "SELECT name, area_water, area_land,\n",
    "      ROUND(CAST(area_water AS Float)/ CAST(area_land AS Float), 1) AS water_to_land\n",
    "    FROM facts\n",
    "WHERE area_land != 0 \n",
    "  AND area_water NOT NULL\n",
    "ORDER BY water_to_land DESC\n",
    "LIMIT 10;"
   ]
  },
  {
   "cell_type": "markdown",
   "metadata": {},
   "source": [
    "Apart from an obvious outlier British Indian Ocean Territory, we can see [other issues](https://en.wikipedia.org/wiki/Talk%3AList_of_countries_by_percentage_of_water_area) here. But first, let's look at the [definition of the water area](https://en.wikipedia.org/wiki/List_of_countries_and_dependencies_by_area):\n",
    "><strong>Water area:</strong> the sum of the surface areas of all inland water bodies (lakes, reservoirs, and rivers) within international boundaries and coastlines. Coastal internal waters (some small bays) may be included. Territorial seas are not included unless otherwise noted. Contiguous zones and exclusive economic zones are not included.\n",
    "\n",
    "Hence, there is definitely something wrong with our `area_water` data: for some countries, this area includes not only enclosed waters, as it is supposed to, but also [territorial waters](https://en.wikipedia.org/wiki/Territorial_waters#:~:text=The%20term%20territorial%20waters%20is,and%20potentially%20the%20continental%20shelf.) around the country and [coastal waters](http://www.wiser.eu/background/coastal-waters/#:~:text=Coastal%20waters%20represent%20the%20interface,where%20territorial%20waters%20are%20measured.) (like big gulfs). This can be easily seen on the Google maps below."
   ]
  },
  {
   "cell_type": "markdown",
   "metadata": {},
   "source": [
    "<div align=\"left\"><font size=\"3\"><strong>Territorial waters:</strong></font>\n",
    "<img src=\"Puerto_Rico_Virgin_Islands.jpg\" width=\"600\" style=\"margin-top: 2px;\">\n",
    "<img src=\"Eritrea.jpg\" width=\"370\" style=\"margin-top: 7px;\">\n",
    "<img src=\"Liberia.jpg\" width=\"360\" style=\"margin-top: 7px;\"></div>"
   ]
  },
  {
   "cell_type": "markdown",
   "metadata": {},
   "source": [
    "<div align=\"left\"><font size=\"3\"><strong>Coastal waters (big gulfs and estuaries):</strong></font>\n",
    "<img src=\"Bahamas.jpg\" width=\"270\" style=\"margin-top: 2px;\">\n",
    "<img src=\"Guinea_Bissau.jpg\" width=\"400\" style=\"margin-top: 7px;\"></div>"
   ]
  },
  {
   "cell_type": "markdown",
   "metadata": {},
   "source": [
    "So, of all the 10 territories from the table above (9, if not to count the outlier), we have only 3 countries with the real enclosed water area, characterized by <u>high water-to-land ratio</u>: <strong>Malawi</strong> (30%), <strong>Netheralds</strong> (20%), and <strong>Uganda</strong> (20%)."
   ]
  },
  {
   "cell_type": "markdown",
   "metadata": {},
   "source": [
    "<img src=\"Malawi.jpg\" width=\"220\" style=\"margin-top: 7px;\">\n",
    "<img src=\"Uganda.jpg\" width=\"300\" style=\"margin-top: 7px;\">\n",
    "<img src=\"Netherlands.jpg\" width=\"300\" style=\"margin-top: 7px;\">"
   ]
  },
  {
   "cell_type": "markdown",
   "metadata": {},
   "source": [
    "In Malawi, the water area is mostly represented by Lake Malawi, in Uganda – by Lake Victoria, the biggest fresh-water lakes in Africa and ones of the biggest in the world. In Netherlands, the main water area is represented by two giant artificial fresh-water lakes Markermeer and IJsselmeer.  \n",
    "## Conclusion\n",
    "In this project, we have analyzed various demographic and geographic statistics for all the countries in the world from the CIA World Factbook 2015. Below are our main findings.\n",
    "- The countries with the biggest <strong>population</strong> are China, India, the United States, Indonesia, and Brazil. The least populated are some islands (Pitcairn, Niue, Tokelau, Cocos Islands) and Vatican.\n",
    "- The highest <strong>population density</strong> is observed in Macau, Monaco, Singapore, and Hong Kong; from bigger countries – Bangladesh and South Korea. The lowest population density: Greenland and Svalbard; from bigger countries – Mongolia, Namibia, and Australia.\n",
    "- <strong>Population dynamics</strong>:\n",
    "  - <strong>African countries</strong> show the highest both birth and death rates. However, the birth rates are much higher, which results in the highest values of the natural increase and population growth in the world.\n",
    "  - In <strong>Western Europe</strong>, the following countries demonstrate low birth rates: Monaco, Andorra, Germany, Greece, Italy, and Portugal. It leads to a negative natural increase, and, as a result, to a low population growth. However, in Germany and Italy the negative natural increase seems to be compensated by the immigration, hence the population growth for them is not among the lowest ones. \n",
    "  - In many <strong>Eastern Europe</strong> and <strong>Baltic countries</strong>, a negative natural increase is observed. In some of them (Bosnia and Herzegovina, Slovenia, Romania) it is explained by low birth rates, in some other (Ukraine, Belarus, Baltic countries) – by high death rates; finally, in the others (Bulgaria, Serbia, Hungary) both low birth rates and high death rates take place. \n",
    "  - All the countries of the <strong>Middle East</strong> show the lowest death rates in the world.\n",
    "  - <strong>Iraq</strong> is related to the countries with the highest birth rates, which leads to a high natural increase and population growth.\n",
    "  - In <strong>Afganistan</strong>, both the birth and death rates are one of the highest in the world.\n",
    "  - <strong>Japan</strong>, <strong>Saint Pierre and Miquelon</strong>, and <strong>South Korea</strong> have one of the lowest birth rates in the world, leading to a negative natural increase.\n",
    "  - <strong>Russia</strong> has one of the higest death rates, leading to a negative natural increase and low population growth.\n",
    "- <strong>Area</strong>. The biggest countries are Russia, Canada, the United States, China, and Brazil. The smallest ones: Vatican and Monaco.\n",
    "- <strong>Water area</strong>. The countries characterized by the highest water-to-land ratio, considering only enclosed fresh waters: Malawi (Lake Malawi), Netherlands (artificial lakes Markermeer and IJsselmeer), and Uganda (Lake Victoria)."
   ]
  }
 ],
 "metadata": {
  "kernelspec": {
   "display_name": "Python 3",
   "language": "python",
   "name": "python3"
  },
  "language_info": {
   "codemirror_mode": {
    "name": "ipython",
    "version": 3
   },
   "file_extension": ".py",
   "mimetype": "text/x-python",
   "name": "python",
   "nbconvert_exporter": "python",
   "pygments_lexer": "ipython3",
   "version": "3.7.6"
  }
 },
 "nbformat": 4,
 "nbformat_minor": 2
}
