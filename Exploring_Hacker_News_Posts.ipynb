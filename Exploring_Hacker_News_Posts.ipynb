{
 "cells": [
  {
   "cell_type": "markdown",
   "metadata": {
    "collapsed": true
   },
   "source": [
    "# Analyzing Popularity of Hacker News Posts\n",
    "## Introduction\n",
    "The aim of this project is to identify what kind of user-submitted posts on a popular technology site Hacker News receive more comments/points. In particular, we are interested in posts whose titles begin with either *Ask HN* (submitted to ask the Hacker News community a specific question) or *Show HN* (submitted to show a project, product, or just generally something interesting). We'll compare these two types of posts to determine the following:\n",
    "\n",
    "- Do *Ask HN* or *Show HN* receive more comments/points on average?\n",
    "- Do posts created at a certain time receive more comments/points on average?\n",
    "\n",
    "The [original data set](https://www.kaggle.com/hacker-news/hacker-news-posts) for our analysis was reduced from almost 300,000 rows to approximately 20,000 rows by removing all submissions that did not receive any comments, and then randomly sampling from the remaining submissions. For descriptions of the columns please consult the [data set documentation](https://www.kaggle.com/hacker-news/hacker-news-posts).\n",
    "\n",
    "Let's start by opening the data set and reading it into a list of lists.\n",
    "\n",
    "## 1. Data Downloading"
   ]
  },
  {
   "cell_type": "code",
   "execution_count": 1,
   "metadata": {
    "collapsed": true
   },
   "outputs": [],
   "source": [
    "import csv\n",
    "\n",
    "opened_file = open(\"hacker_news.csv\")\n",
    "read_file = csv.reader(opened_file)\n",
    "hn = list(read_file)"
   ]
  },
  {
   "cell_type": "code",
   "execution_count": 2,
   "metadata": {
    "collapsed": false
   },
   "outputs": [
    {
     "name": "stdout",
     "output_type": "stream",
     "text": [
      "[['id', 'title', 'url', 'num_points', 'num_comments', 'author', 'created_at'], ['12224879', 'Interactive Dynamic Video', 'http://www.interactivedynamicvideo.com/', '386', '52', 'ne0phyte', '8/4/2016 11:52'], ['10975351', 'How to Use Open Source and Shut the Fuck Up at the Same Time', 'http://hueniverse.com/2016/01/26/how-to-use-open-source-and-shut-the-fuck-up-at-the-same-time/', '39', '10', 'josep2', '1/26/2016 19:30'], ['11964716', \"Florida DJs May Face Felony for April Fools' Water Joke\", 'http://www.thewire.com/entertainment/2013/04/florida-djs-april-fools-water-joke/63798/', '2', '1', 'vezycash', '6/23/2016 22:20'], ['11919867', 'Technology ventures: From Idea to Enterprise', 'https://www.amazon.com/Technology-Ventures-Enterprise-Thomas-Byers/dp/0073523429', '3', '1', 'hswarna', '6/17/2016 0:01']]\n"
     ]
    }
   ],
   "source": [
    "print(hn[:5])"
   ]
  },
  {
   "cell_type": "markdown",
   "metadata": {},
   "source": [
    "In order to analyze our data, we need to first remove the row containing the column headers."
   ]
  },
  {
   "cell_type": "code",
   "execution_count": 3,
   "metadata": {
    "collapsed": true
   },
   "outputs": [],
   "source": [
    "headers = hn[0]\n",
    "hn = hn[1:]"
   ]
  },
  {
   "cell_type": "code",
   "execution_count": 4,
   "metadata": {
    "collapsed": false
   },
   "outputs": [
    {
     "name": "stdout",
     "output_type": "stream",
     "text": [
      "['id', 'title', 'url', 'num_points', 'num_comments', 'author', 'created_at']\n"
     ]
    }
   ],
   "source": [
    "print(headers)"
   ]
  },
  {
   "cell_type": "code",
   "execution_count": 5,
   "metadata": {
    "collapsed": false
   },
   "outputs": [
    {
     "name": "stdout",
     "output_type": "stream",
     "text": [
      "[['12224879', 'Interactive Dynamic Video', 'http://www.interactivedynamicvideo.com/', '386', '52', 'ne0phyte', '8/4/2016 11:52'], ['10975351', 'How to Use Open Source and Shut the Fuck Up at the Same Time', 'http://hueniverse.com/2016/01/26/how-to-use-open-source-and-shut-the-fuck-up-at-the-same-time/', '39', '10', 'josep2', '1/26/2016 19:30'], ['11964716', \"Florida DJs May Face Felony for April Fools' Water Joke\", 'http://www.thewire.com/entertainment/2013/04/florida-djs-april-fools-water-joke/63798/', '2', '1', 'vezycash', '6/23/2016 22:20'], ['11919867', 'Technology ventures: From Idea to Enterprise', 'https://www.amazon.com/Technology-Ventures-Enterprise-Thomas-Byers/dp/0073523429', '3', '1', 'hswarna', '6/17/2016 0:01'], ['10301696', 'Note by Note: The Making of Steinway L1037 (2007)', 'http://www.nytimes.com/2007/11/07/movies/07stein.html?_r=0', '8', '2', 'walterbell', '9/30/2015 4:12']]\n"
     ]
    }
   ],
   "source": [
    "print(hn[:5])"
   ]
  },
  {
   "cell_type": "markdown",
   "metadata": {},
   "source": [
    "## 2. Extracting Ask HN Posts and Show HN Posts\n",
    "Since we're only concerned with post titles beginning with *Ask HN* or *Show HN*, we'll create new lists of lists containing just the data for those titles."
   ]
  },
  {
   "cell_type": "code",
   "execution_count": 6,
   "metadata": {
    "collapsed": false
   },
   "outputs": [
    {
     "name": "stdout",
     "output_type": "stream",
     "text": [
      "The number of ask posts: 1744\n",
      "The number of show posts: 1162\n",
      "The number of other posts: 17194\n"
     ]
    }
   ],
   "source": [
    "ask_posts = []\n",
    "show_posts = []\n",
    "other_posts = []\n",
    "\n",
    "for row in hn:\n",
    "    title = row[1]\n",
    "    if title.lower().startswith(\"ask hn\"):\n",
    "        ask_posts.append(row)\n",
    "    elif title.lower().startswith(\"show hn\"):\n",
    "        show_posts.append(row)\n",
    "    else:\n",
    "        other_posts.append(row)\n",
    "\n",
    "print(\"The number of ask posts:\", len(ask_posts))\n",
    "print(\"The number of show posts:\", len(show_posts))\n",
    "print(\"The number of other posts:\", len(other_posts))"
   ]
  },
  {
   "cell_type": "code",
   "execution_count": 7,
   "metadata": {
    "collapsed": false
   },
   "outputs": [
    {
     "name": "stdout",
     "output_type": "stream",
     "text": [
      "[['12296411', 'Ask HN: How to improve my personal website?', '', '2', '6', 'ahmedbaracat', '8/16/2016 9:55'], ['10610020', 'Ask HN: Am I the only one outraged by Twitter shutting down share counts?', '', '28', '29', 'tkfx', '11/22/2015 13:43'], ['11610310', 'Ask HN: Aby recent changes to CSS that broke mobile?', '', '1', '1', 'polskibus', '5/2/2016 10:14'], ['12210105', 'Ask HN: Looking for Employee #3 How do I do it?', '', '1', '3', 'sph130', '8/2/2016 14:20'], ['10394168', 'Ask HN: Someone offered to buy my browser extension from me. What now?', '', '28', '17', 'roykolak', '10/15/2015 16:38']]\n"
     ]
    }
   ],
   "source": [
    "print(ask_posts[:5])"
   ]
  },
  {
   "cell_type": "code",
   "execution_count": 8,
   "metadata": {
    "collapsed": false
   },
   "outputs": [
    {
     "name": "stdout",
     "output_type": "stream",
     "text": [
      "[['10627194', 'Show HN: Wio Link  ESP8266 Based Web of Things Hardware Development Platform', 'https://iot.seeed.cc', '26', '22', 'kfihihc', '11/25/2015 14:03'], ['10646440', 'Show HN: Something pointless I made', 'http://dn.ht/picklecat/', '747', '102', 'dhotson', '11/29/2015 22:46'], ['11590768', 'Show HN: Shanhu.io, a programming playground powered by e8vm', 'https://shanhu.io', '1', '1', 'h8liu', '4/28/2016 18:05'], ['12178806', 'Show HN: Webscope  Easy way for web developers to communicate with Clients', 'http://webscopeapp.com', '3', '3', 'fastbrick', '7/28/2016 7:11'], ['10872799', 'Show HN: GeoScreenshot  Easily test Geo-IP based web pages', 'https://www.geoscreenshot.com/', '1', '9', 'kpsychwave', '1/9/2016 20:45']]\n"
     ]
    }
   ],
   "source": [
    "print(show_posts[:5])"
   ]
  },
  {
   "cell_type": "markdown",
   "metadata": {},
   "source": [
    "## 3. Analyzing Comments for Ask HN and Show HN Posts\n",
    "### 3.1. Calculating the Average Number of Comments\n",
    "\n",
    "Let's determine if ask posts or show posts receive more comments on average."
   ]
  },
  {
   "cell_type": "code",
   "execution_count": 9,
   "metadata": {
    "collapsed": false
   },
   "outputs": [
    {
     "name": "stdout",
     "output_type": "stream",
     "text": [
      "The average number of comments on ask posts: 14.038417431192661\n",
      "The average number of comments on show posts: 10.31669535283993\n"
     ]
    }
   ],
   "source": [
    "total_ask_comments = 0\n",
    "\n",
    "for post in ask_posts:\n",
    "    num_comments = int(post[4])\n",
    "    total_ask_comments += num_comments\n",
    "    \n",
    "avg_ask_comments = total_ask_comments / len(ask_posts)\n",
    "\n",
    "\n",
    "total_show_comments = 0\n",
    "\n",
    "for post in show_posts:\n",
    "    num_comments = int(post[4])\n",
    "    total_show_comments += num_comments\n",
    "    \n",
    "avg_show_comments = total_show_comments / len(show_posts)\n",
    "\n",
    "print(\"The average number of comments on ask posts:\", avg_ask_comments)\n",
    "print(\"The average number of comments on show posts:\", avg_show_comments)"
   ]
  },
  {
   "cell_type": "markdown",
   "metadata": {},
   "source": [
    "We can see that ask post receive on average about 1.4 times more comments than show posts. One possible explanation here could be that people who use this site to find answers on their questions, apart from submitting their own posts, most probably also look through other submissions with similar topics, especially those which have already received some comments. As a result, they can participate in the available discussions, sharing their own experience and problems encountered. Hence the average number of comments on ask posts increases.\n",
    "\n",
    "Since ask posts are more likely to receive comments, we'll focus our further analysis just on these posts.\n",
    "\n",
    "Let's determine if ask posts created at a certain time are more likely to attract comments. We'll use the following steps to perform this analysis:\n",
    "\n",
    "- Calculate the amount of ask posts created in each hour of the day, along with the number of comments received.\n",
    "- Calculate the average number of comments ask posts receive by hour created.\n",
    "\n",
    "### 3.2. Finding the Amount of Ask HN Posts and Comments by Hour Created"
   ]
  },
  {
   "cell_type": "code",
   "execution_count": 10,
   "metadata": {
    "collapsed": false
   },
   "outputs": [],
   "source": [
    "import datetime as dt\n",
    "\n",
    "result_list = []\n",
    "\n",
    "for post in ask_posts:\n",
    "    created_at = post[6]\n",
    "    num_comments = int(post[4])\n",
    "    result_list.append([created_at, num_comments])\n",
    "    \n",
    "# Creating frequency tables for number of posts and comments per hour\n",
    "counts_by_hour = {}\n",
    "comments_by_hour = {}\n",
    "for row in result_list:\n",
    "    date = row[0]\n",
    "    comment = row[1]\n",
    "    date_datetime = dt.datetime.strptime(date, \"%m/%d/%Y %H:%M\").strftime(\"%H\")\n",
    "    counts_by_hour[date_datetime] = counts_by_hour.get(date_datetime, 0) + 1  \n",
    "    comments_by_hour[date_datetime] = comments_by_hour.get(date_datetime, 0) + comment"
   ]
  },
  {
   "cell_type": "code",
   "execution_count": 11,
   "metadata": {
    "collapsed": false
   },
   "outputs": [
    {
     "data": {
      "text/plain": [
       "{'00': 55,\n",
       " '01': 60,\n",
       " '02': 58,\n",
       " '03': 54,\n",
       " '04': 47,\n",
       " '05': 46,\n",
       " '06': 44,\n",
       " '07': 34,\n",
       " '08': 48,\n",
       " '09': 45,\n",
       " '10': 59,\n",
       " '11': 58,\n",
       " '12': 73,\n",
       " '13': 85,\n",
       " '14': 107,\n",
       " '15': 116,\n",
       " '16': 108,\n",
       " '17': 100,\n",
       " '18': 109,\n",
       " '19': 110,\n",
       " '20': 80,\n",
       " '21': 109,\n",
       " '22': 71,\n",
       " '23': 68}"
      ]
     },
     "execution_count": 11,
     "metadata": {},
     "output_type": "execute_result"
    }
   ],
   "source": [
    "counts_by_hour"
   ]
  },
  {
   "cell_type": "code",
   "execution_count": 12,
   "metadata": {
    "collapsed": false
   },
   "outputs": [
    {
     "data": {
      "text/plain": [
       "{'00': 447,\n",
       " '01': 683,\n",
       " '02': 1381,\n",
       " '03': 421,\n",
       " '04': 337,\n",
       " '05': 464,\n",
       " '06': 397,\n",
       " '07': 267,\n",
       " '08': 492,\n",
       " '09': 251,\n",
       " '10': 793,\n",
       " '11': 641,\n",
       " '12': 687,\n",
       " '13': 1253,\n",
       " '14': 1416,\n",
       " '15': 4477,\n",
       " '16': 1814,\n",
       " '17': 1146,\n",
       " '18': 1439,\n",
       " '19': 1188,\n",
       " '20': 1722,\n",
       " '21': 1745,\n",
       " '22': 479,\n",
       " '23': 543}"
      ]
     },
     "execution_count": 12,
     "metadata": {},
     "output_type": "execute_result"
    }
   ],
   "source": [
    "comments_by_hour "
   ]
  },
  {
   "cell_type": "markdown",
   "metadata": {},
   "source": [
    "### 3.3. Calculating the Average Number of Comments for Ask HN Posts by Hour\n",
    "Now we'll use these dictionaries to calculate the average number of comments for posts created during each hour of the day."
   ]
  },
  {
   "cell_type": "code",
   "execution_count": 13,
   "metadata": {
    "collapsed": false,
    "scrolled": true
   },
   "outputs": [
    {
     "data": {
      "text/plain": [
       "[['07', 7.852941176470588],\n",
       " ['21', 16.009174311926607],\n",
       " ['18', 13.20183486238532],\n",
       " ['20', 21.525],\n",
       " ['10', 13.440677966101696],\n",
       " ['15', 38.5948275862069],\n",
       " ['08', 10.25],\n",
       " ['09', 5.5777777777777775],\n",
       " ['01', 11.383333333333333],\n",
       " ['06', 9.022727272727273],\n",
       " ['05', 10.08695652173913],\n",
       " ['17', 11.46],\n",
       " ['13', 14.741176470588234],\n",
       " ['14', 13.233644859813085],\n",
       " ['03', 7.796296296296297],\n",
       " ['22', 6.746478873239437],\n",
       " ['12', 9.41095890410959],\n",
       " ['04', 7.170212765957447],\n",
       " ['19', 10.8],\n",
       " ['16', 16.796296296296298],\n",
       " ['02', 23.810344827586206],\n",
       " ['00', 8.127272727272727],\n",
       " ['11', 11.051724137931034],\n",
       " ['23', 7.985294117647059]]"
      ]
     },
     "execution_count": 13,
     "metadata": {},
     "output_type": "execute_result"
    }
   ],
   "source": [
    "avg_by_hour = []\n",
    "\n",
    "for hour in comments_by_hour:\n",
    "    avg_by_hour.append([hour, comments_by_hour[hour] / counts_by_hour[hour]])\n",
    "    \n",
    "avg_by_hour"
   ]
  },
  {
   "cell_type": "markdown",
   "metadata": {
    "collapsed": true
   },
   "source": [
    "This format makes it hard to identify the hours with the highest values. Let's sort the list of lists and print the 5 highest values in a format that is easier to read."
   ]
  },
  {
   "cell_type": "code",
   "execution_count": 14,
   "metadata": {
    "collapsed": false
   },
   "outputs": [
    {
     "name": "stdout",
     "output_type": "stream",
     "text": [
      "[[38.5948275862069, '15'], [23.810344827586206, '02'], [21.525, '20'], [16.796296296296298, '16'], [16.009174311926607, '21'], [14.741176470588234, '13'], [13.440677966101696, '10'], [13.233644859813085, '14'], [13.20183486238532, '18'], [11.46, '17'], [11.383333333333333, '01'], [11.051724137931034, '11'], [10.8, '19'], [10.25, '08'], [10.08695652173913, '05'], [9.41095890410959, '12'], [9.022727272727273, '06'], [8.127272727272727, '00'], [7.985294117647059, '23'], [7.852941176470588, '07'], [7.796296296296297, '03'], [7.170212765957447, '04'], [6.746478873239437, '22'], [5.5777777777777775, '09']]\n"
     ]
    }
   ],
   "source": [
    "# Swapping the list\n",
    "swap_avg_by_hour = []\n",
    "for row in avg_by_hour:\n",
    "    swap_avg_by_hour.append([row[1], row[0]])\n",
    "\n",
    "# Sorting the list\n",
    "sorted_swap = sorted(swap_avg_by_hour, reverse = True)\n",
    "print(sorted_swap)"
   ]
  },
  {
   "cell_type": "code",
   "execution_count": 15,
   "metadata": {
    "collapsed": false
   },
   "outputs": [
    {
     "name": "stdout",
     "output_type": "stream",
     "text": [
      "Top 5 Hours for Ask HN Comments\n",
      "15:00: 38.59 average comments per post\n",
      "02:00: 23.81 average comments per post\n",
      "20:00: 21.52 average comments per post\n",
      "16:00: 16.80 average comments per post\n",
      "21:00: 16.01 average comments per post\n"
     ]
    }
   ],
   "source": [
    "print(\"Top 5 Hours for Ask HN Comments\")\n",
    "\n",
    "# Finding the 5 highest values\n",
    "for row[0], row[1] in sorted_swap[:5]:\n",
    "    hour = dt.datetime.strptime(row[1], \"%H\").strftime(\"%H:%M\")\n",
    "    average = row[0]\n",
    "    print(\"{}: {:.2f} average comments per post\".format(hour, average))"
   ]
  },
  {
   "cell_type": "markdown",
   "metadata": {},
   "source": [
    "Thus, from all ask posts that received comments the most commented ones are those created in the following time ranges: 15.00-17.00, 2.00-3.00, 20.00-22.00, with the most favorable time range (with a big gap from its runner-up) being from 15.00 till 16.00. Accordiing to the [data set documentation](https://www.kaggle.com/hacker-news/hacker-news-posts), the time is  related to the time zone Eastern Time in the US. Hence, taking into account our time zone (Europe/Rome), to have a higher chance of receiving comments on our *Ask HN* post, we should create it between the midnight and 1.00."
   ]
  },
  {
   "cell_type": "markdown",
   "metadata": {
    "collapsed": true
   },
   "source": [
    "## 4. Analyzing Points for Ask HN and Show HN Posts\n",
    "### 4.1. Calculating the Average Number of Points\n",
    "Now we will conduct a similar analysis for the number of points received by ask posts and show posts to see if we can find some other insights.\n",
    "\n",
    "Since the columns for the number of comments and posts are identical, we will use the same code, changing only the column number and \"comments\" for \"points\" in the corresponding lists and dictionaries.\n",
    "\n",
    "Again, we will start with determining which of these 2 groups receive more points on average."
   ]
  },
  {
   "cell_type": "code",
   "execution_count": 16,
   "metadata": {
    "collapsed": false
   },
   "outputs": [
    {
     "name": "stdout",
     "output_type": "stream",
     "text": [
      "The average number of points on ask posts: 15.061926605504587\n",
      "The average number of points on show posts: 27.555077452667813\n"
     ]
    }
   ],
   "source": [
    "total_ask_points = 0\n",
    "\n",
    "for post in ask_posts:\n",
    "    num_points = int(post[3])\n",
    "    total_ask_points += num_points\n",
    "    \n",
    "avg_ask_points = total_ask_points / len(ask_posts)\n",
    "\n",
    "\n",
    "total_show_points = 0\n",
    "\n",
    "for post in show_posts:\n",
    "    num_points = int(post[3])\n",
    "    total_show_points += num_points\n",
    "    \n",
    "avg_show_points = total_show_points / len(show_posts)\n",
    "\n",
    "print(\"The average number of points on ask posts:\", avg_ask_points)\n",
    "print(\"The average number of points on show posts:\", avg_show_points)"
   ]
  },
  {
   "cell_type": "markdown",
   "metadata": {},
   "source": [
    "Hence with points we observe just the opposite picture than with comments: show posts receive on average about 1.8 times more points than ask posts. It can be explained by 2 things:\n",
    "\n",
    "- Show posts tend to represent some kind of new findings, projects, or at least something less common and less discussed. They attract attention of those people who right now are not searching for an answer on their question but just want to reinforce their technological skills and learn something new. So they probably don't have much to comment but can express their interest by making points to the interesting posts.\n",
    "- The number of points the post acquired is calculated as the total number of upvotes minus the total number of downvotes. Even though downvotes can be a frustrating thing for the author of a post, they still can take place, and most probably they are more common in ask posts, which are prone to debates, agreements and disagreements. This leads to ask posts having more comments but at the same time less points.\n",
    "\n",
    "Since show posts are more likely to receive points, we'll proceed by analyzing only this group.\n",
    "### 4.2. Finding the Amount of Show HN Posts and Points by Hour Created"
   ]
  },
  {
   "cell_type": "code",
   "execution_count": 17,
   "metadata": {
    "collapsed": true
   },
   "outputs": [],
   "source": [
    "result_list = []\n",
    "\n",
    "for post in show_posts:\n",
    "    created_at = post[6]\n",
    "    num_points = int(post[3])\n",
    "    result_list.append([created_at, num_points])\n",
    "    \n",
    "# Creating frequency tables for number of posts and points per hour    \n",
    "counts_by_hour = {}\n",
    "points_by_hour = {}\n",
    "for row in result_list:\n",
    "    date = row[0]\n",
    "    point = row[1]\n",
    "    date_datetime = dt.datetime.strptime(date, \"%m/%d/%Y %H:%M\").strftime(\"%H\")\n",
    "    counts_by_hour[date_datetime] = counts_by_hour.get(date_datetime, 0) + 1  \n",
    "    points_by_hour[date_datetime] = points_by_hour.get(date_datetime, 0) + point"
   ]
  },
  {
   "cell_type": "code",
   "execution_count": 18,
   "metadata": {
    "collapsed": false
   },
   "outputs": [
    {
     "data": {
      "text/plain": [
       "{'00': 31,\n",
       " '01': 28,\n",
       " '02': 30,\n",
       " '03': 27,\n",
       " '04': 26,\n",
       " '05': 19,\n",
       " '06': 16,\n",
       " '07': 26,\n",
       " '08': 34,\n",
       " '09': 30,\n",
       " '10': 36,\n",
       " '11': 44,\n",
       " '12': 61,\n",
       " '13': 99,\n",
       " '14': 86,\n",
       " '15': 78,\n",
       " '16': 93,\n",
       " '17': 93,\n",
       " '18': 61,\n",
       " '19': 55,\n",
       " '20': 60,\n",
       " '21': 47,\n",
       " '22': 46,\n",
       " '23': 36}"
      ]
     },
     "execution_count": 18,
     "metadata": {},
     "output_type": "execute_result"
    }
   ],
   "source": [
    "counts_by_hour"
   ]
  },
  {
   "cell_type": "code",
   "execution_count": 19,
   "metadata": {
    "collapsed": false,
    "scrolled": true
   },
   "outputs": [
    {
     "data": {
      "text/plain": [
       "{'00': 1173,\n",
       " '01': 700,\n",
       " '02': 340,\n",
       " '03': 679,\n",
       " '04': 386,\n",
       " '05': 104,\n",
       " '06': 375,\n",
       " '07': 494,\n",
       " '08': 519,\n",
       " '09': 553,\n",
       " '10': 681,\n",
       " '11': 1480,\n",
       " '12': 2543,\n",
       " '13': 2438,\n",
       " '14': 2187,\n",
       " '15': 2228,\n",
       " '16': 2634,\n",
       " '17': 2521,\n",
       " '18': 2215,\n",
       " '19': 1702,\n",
       " '20': 1819,\n",
       " '21': 866,\n",
       " '22': 1856,\n",
       " '23': 1526}"
      ]
     },
     "execution_count": 19,
     "metadata": {},
     "output_type": "execute_result"
    }
   ],
   "source": [
    "points_by_hour "
   ]
  },
  {
   "cell_type": "markdown",
   "metadata": {},
   "source": [
    "### 4.3. Calculating the Average Number of Points for Show HN Posts by Hour"
   ]
  },
  {
   "cell_type": "code",
   "execution_count": 20,
   "metadata": {
    "collapsed": false
   },
   "outputs": [
    {
     "data": {
      "text/plain": [
       "[['07', 19.0],\n",
       " ['21', 18.425531914893618],\n",
       " ['18', 36.31147540983606],\n",
       " ['20', 30.316666666666666],\n",
       " ['22', 40.34782608695652],\n",
       " ['15', 28.564102564102566],\n",
       " ['08', 15.264705882352942],\n",
       " ['09', 18.433333333333334],\n",
       " ['23', 42.388888888888886],\n",
       " ['06', 23.4375],\n",
       " ['05', 5.473684210526316],\n",
       " ['17', 27.107526881720432],\n",
       " ['13', 24.626262626262626],\n",
       " ['14', 25.430232558139537],\n",
       " ['03', 25.14814814814815],\n",
       " ['12', 41.68852459016394],\n",
       " ['01', 25.0],\n",
       " ['04', 14.846153846153847],\n",
       " ['19', 30.945454545454545],\n",
       " ['16', 28.322580645161292],\n",
       " ['10', 18.916666666666668],\n",
       " ['02', 11.333333333333334],\n",
       " ['00', 37.83870967741935],\n",
       " ['11', 33.63636363636363]]"
      ]
     },
     "execution_count": 20,
     "metadata": {},
     "output_type": "execute_result"
    }
   ],
   "source": [
    "avg_by_hour = []\n",
    "\n",
    "for hour in points_by_hour:\n",
    "    avg_by_hour.append([hour, points_by_hour[hour] / counts_by_hour[hour]])\n",
    "    \n",
    "avg_by_hour"
   ]
  },
  {
   "cell_type": "markdown",
   "metadata": {},
   "source": [
    "Let's sort the list of lists and print the 5 highest values."
   ]
  },
  {
   "cell_type": "code",
   "execution_count": 21,
   "metadata": {
    "collapsed": false
   },
   "outputs": [
    {
     "name": "stdout",
     "output_type": "stream",
     "text": [
      "[[42.388888888888886, '23'], [41.68852459016394, '12'], [40.34782608695652, '22'], [37.83870967741935, '00'], [36.31147540983606, '18'], [33.63636363636363, '11'], [30.945454545454545, '19'], [30.316666666666666, '20'], [28.564102564102566, '15'], [28.322580645161292, '16'], [27.107526881720432, '17'], [25.430232558139537, '14'], [25.14814814814815, '03'], [25.0, '01'], [24.626262626262626, '13'], [23.4375, '06'], [19.0, '07'], [18.916666666666668, '10'], [18.433333333333334, '09'], [18.425531914893618, '21'], [15.264705882352942, '08'], [14.846153846153847, '04'], [11.333333333333334, '02'], [5.473684210526316, '05']]\n"
     ]
    }
   ],
   "source": [
    "# Swapping the list\n",
    "swap_avg_by_hour = []\n",
    "for row in avg_by_hour:\n",
    "    swap_avg_by_hour.append([row[1], row[0]])\n",
    "    \n",
    "# Sorting  the list    \n",
    "sorted_swap = sorted(swap_avg_by_hour, reverse = True)\n",
    "print(sorted_swap)"
   ]
  },
  {
   "cell_type": "code",
   "execution_count": 22,
   "metadata": {
    "collapsed": false
   },
   "outputs": [
    {
     "name": "stdout",
     "output_type": "stream",
     "text": [
      "Top 5 Hours for Show HN Points\n",
      "23:00: 42.39 average points per post\n",
      "12:00: 41.69 average points per post\n",
      "22:00: 40.35 average points per post\n",
      "00:00: 37.84 average points per post\n",
      "18:00: 36.31 average points per post\n"
     ]
    }
   ],
   "source": [
    "print(\"Top 5 Hours for Show HN Points\")\n",
    "\n",
    "# Finding the 5 highest values\n",
    "for row[0], row[1] in sorted_swap[:5]:\n",
    "    hour = dt.datetime.strptime(row[1], \"%H\").strftime(\"%H:%M\")\n",
    "    average = row[0]\n",
    "    print(\"{}: {:.2f} average points per post\".format(hour, average))"
   ]
  },
  {
   "cell_type": "markdown",
   "metadata": {},
   "source": [
    "We see that from all show posts that received comments the biggest number of points got those created in the following time ranges (Eastern Time): 22.00-1.00, 12.00-13.00, 18.00-19.00. The most favorable time range is from 23.00 till the midnight, which for our time zone is 6.00-7.00. However, since for many people an early morning doesn't seem to be a convenient time to write posts, and since the difference between the first and the second highest values is not significant, the time range 19.00-20.00 is also perfect for having a higher chance of receiving points on our *Show HN* post.\n",
    "## Conclusions\n",
    "All in all, ask posts stimulate more discussions and receive on average more comments than show posts, while show posts, being somehow innovative, receive on average more points. To have a higher chance to receive comments on our ask post, we should submit it between the midnight and 1.00. For our show post to receive more points, the best time to submit it is from 6.00 til 7.00 or from 19.00 till 20.00 (Europe/Rome time zone)."
   ]
  }
 ],
 "metadata": {
  "kernelspec": {
   "display_name": "Python 3",
   "language": "python",
   "name": "python3"
  },
  "language_info": {
   "codemirror_mode": {
    "name": "ipython",
    "version": 3
   },
   "file_extension": ".py",
   "mimetype": "text/x-python",
   "name": "python",
   "nbconvert_exporter": "python",
   "pygments_lexer": "ipython3",
   "version": "3.4.3"
  }
 },
 "nbformat": 4,
 "nbformat_minor": 2
}
